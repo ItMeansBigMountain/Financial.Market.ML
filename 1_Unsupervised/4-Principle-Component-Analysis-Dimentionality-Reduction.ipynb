{
 "cells": [
  {
   "cell_type": "code",
   "execution_count": null,
   "metadata": {},
   "outputs": [],
   "source": [
    "# Data Management\n",
    "import pandas as pd\n",
    "import numpy as np\n",
    "from ta import add_all_ta_features\n",
    "from pandas_datareader.data import DataReader\n",
    "import yfinance as yf\n",
    "\n",
    "# Statistics\n",
    "from statsmodels.tsa.stattools import adfuller\n",
    "\n",
    "# Unsupervised Machine Learning\n",
    "from sklearn.decomposition import PCA\n",
    "\n",
    "# Supervised Machine Learning\n",
    "from sklearn.preprocessing import StandardScaler\n",
    "from sklearn.model_selection import train_test_split\n",
    "from sklearn.ensemble import RandomForestClassifier\n",
    "from sklearn.metrics import accuracy_score\n",
    "from sklearn.metrics import precision_score\n",
    "\n",
    "# Graphing\n",
    "import matplotlib.pyplot as plt"
   ]
  },
  {
   "cell_type": "code",
   "execution_count": null,
   "metadata": {},
   "outputs": [],
   "source": [
    "# Remove Unwanted Warnings\n",
    "import warnings\n",
    "warnings.simplefilter(action=\"ignore\", category=FutureWarning)\n",
    "warnings.simplefilter(action=\"ignore\", category=RuntimeWarning)\n",
    "pd.options.mode.chained_assignment = None  # ignore column assingment tecnique warning (wants to use .iloc)"
   ]
  },
  {
   "attachments": {},
   "cell_type": "markdown",
   "metadata": {},
   "source": [
    "### Initial Data Extraction\n"
   ]
  },
  {
   "cell_type": "code",
   "execution_count": null,
   "metadata": {},
   "outputs": [],
   "source": [
    "# TIMEFRAME\n",
    "start_date = \"2017-01-01\"\n",
    "end_date = \"2022-06-01\"\n",
    "symbol = \"^VIX\"\n",
    "\n",
    "\n",
    "\n",
    "\n",
    "# FETCH USING YAHOO FINANCE \n",
    "# df = yf.download(symbol ,  start_date , end_date )\n",
    "\n",
    "\n",
    "tickerData = yf.Ticker(symbol)\n",
    "df = tickerData.history(period='1d', start=start_date, end=end_date)\n",
    "\n",
    "\n",
    "# REFINE COLUMNS\n",
    "df = df[[\"High\" , \"Low\" ,  \"Open\", \"Close\" , \"Volume\"]]\n"
   ]
  },
  {
   "attachments": {},
   "cell_type": "markdown",
   "metadata": {},
   "source": [
    "## Feature Engineering"
   ]
  },
  {
   "cell_type": "code",
   "execution_count": null,
   "metadata": {},
   "outputs": [],
   "source": [
    "# Add Technical Analysis Columns\n",
    "df = add_all_ta_features( \n",
    "    df , open=\"Open\", high=\"High\", low=\"Low\", close=\"Close\", volume=\"Volume\" , fillna=True\n",
    " )\n",
    "\n",
    "print(f\"Rows (dates): {df.shape[0]}\\nColumns (technical analysis): {df.shape[1]}\")"
   ]
  },
  {
   "cell_type": "code",
   "execution_count": null,
   "metadata": {},
   "outputs": [],
   "source": [
    "non_stationaries = []\n",
    "columns_with_constants = []\n",
    "\n",
    "for col in df.columns:\n",
    "    # Check if column values are all the same\n",
    "    if df[col].nunique() <= 1:\n",
    "        columns_with_constants.append(col)\n",
    "        print(f\"Skipping constant column: {col}\")\n",
    "        continue\n",
    "\n",
    "    # Find variance in column numbers\n",
    "    dftest = adfuller(df[col].values)\n",
    "    \n",
    "    # Get p-value\n",
    "    p_value = dftest[1]\n",
    "    \n",
    "    # Perform t-test\n",
    "    t_test = dftest[0] < dftest[4][\"1%\"]\n",
    "    \n",
    "    # Check if non stationary\n",
    "    if p_value > 0.05  or not t_test:\n",
    "        non_stationaries.append(col)\n",
    "\n",
    "print(f\"Non-Stationaries found:  {len(non_stationaries)}\")\n"
   ]
  },
  {
   "cell_type": "code",
   "execution_count": null,
   "metadata": {},
   "outputs": [],
   "source": [
    "# Convert Non-Stationaries into Stationaries\n",
    "df_stationary = df.copy()\n",
    "\n",
    "\n",
    "# Find all Nonstationaries  &  Turn them into percent change instead\n",
    "df_stationary[non_stationaries] = df_stationary[non_stationaries].pct_change()  \n",
    "\n",
    "\n",
    "#Remove because First column is the names thus [0,0,0,0...] \n",
    "df_stationary = df_stationary.iloc[1:]"
   ]
  },
  {
   "cell_type": "code",
   "execution_count": null,
   "metadata": {},
   "outputs": [],
   "source": [
    "# Remove if Column has any NaN Rows\n",
    "na_list = df_stationary.columns[df_stationary.isna().any().tolist()]\n",
    "df_stationary.drop(columns=na_list , inplace=True)"
   ]
  },
  {
   "cell_type": "code",
   "execution_count": null,
   "metadata": {},
   "outputs": [],
   "source": [
    "# Handle Infinity Values\n",
    "df_stationary = df_stationary.replace( [np.inf , -np.inf] , 0 )\n",
    "\n",
    "print(df_stationary.shape)\n",
    "df_stationary"
   ]
  }
 ],
 "metadata": {
  "kernelspec": {
   "display_name": "ML-finance",
   "language": "python",
   "name": "python3"
  },
  "language_info": {
   "codemirror_mode": {
    "name": "ipython",
    "version": 3
   },
   "file_extension": ".py",
   "mimetype": "text/x-python",
   "name": "python",
   "nbconvert_exporter": "python",
   "pygments_lexer": "ipython3",
   "version": "3.9.15"
  },
  "orig_nbformat": 4
 },
 "nbformat": 4,
 "nbformat_minor": 2
}
