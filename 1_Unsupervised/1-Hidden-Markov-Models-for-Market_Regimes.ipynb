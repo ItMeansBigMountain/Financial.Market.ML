{
 "cells": [
  {
   "cell_type": "code",
   "execution_count": null,
   "metadata": {},
   "outputs": [],
   "source": [
    "import pandas as pd\n",
    "import numpy as np \n",
    "\n",
    "from pyhhmm.gaussian import GaussianHMM\n",
    "\n",
    "import yfinance as yf\n",
    "\n",
    "import matplotlib.pyplot as plt"
   ]
  },
  {
   "attachments": {},
   "cell_type": "markdown",
   "metadata": {},
   "source": [
    "# Data Management"
   ]
  },
  {
   "cell_type": "code",
   "execution_count": null,
   "metadata": {},
   "outputs": [],
   "source": [
    "# Data Extraction\n",
    "start_date = \"2020-01-01\"\n",
    "end_date = \"2023-03-01\"\n",
    "symbol = \"SPY\"\n",
    "\n",
    "# USE YAHOO FINANCE \n",
    "data = yf.download(symbol ,  start_date , end_date )\n",
    "data = data[[\"Open\" , \"High\" , \"Low\" , \"Close\" , \"Volume\"]]"
   ]
  },
  {
   "cell_type": "code",
   "execution_count": null,
   "metadata": {},
   "outputs": [],
   "source": [
    "# Add Returns and Range    \n",
    "# Returns = (todays price divided by yesterdays)     # ROI\n",
    "# Range   = (todays high price divided todays low)   # volitility\n",
    "\n",
    "df = data.copy()\n",
    "df[\"Returns\"] = (df[\"Close\"] / df[\"Close\"].shift(1)) - 1\n",
    "df[\"Range\"]   = (df[\"High\"] / df[\"Low\"]) - 1\n",
    "df.dropna(inplace=True)\n",
    "\n",
    "df\n"
   ]
  },
  {
   "cell_type": "code",
   "execution_count": null,
   "metadata": {},
   "outputs": [],
   "source": [
    "# Structure Data\n",
    "x_train = df[[ \"Returns\" , \"Range\" ]]\n",
    "x_train"
   ]
  }
 ],
 "metadata": {
  "kernelspec": {
   "display_name": "ML-finance",
   "language": "python",
   "name": "python3"
  },
  "language_info": {
   "codemirror_mode": {
    "name": "ipython",
    "version": 3
   },
   "file_extension": ".py",
   "mimetype": "text/x-python",
   "name": "python",
   "nbconvert_exporter": "python",
   "pygments_lexer": "ipython3",
   "version": "3.9.15"
  },
  "orig_nbformat": 4,
  "vscode": {
   "interpreter": {
    "hash": "2af72ad46257abaa44082eb9124a91966a02956c580b48ea461be11e2a82173e"
   }
  }
 },
 "nbformat": 4,
 "nbformat_minor": 2
}
