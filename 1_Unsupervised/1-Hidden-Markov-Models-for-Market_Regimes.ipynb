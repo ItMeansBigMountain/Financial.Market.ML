{
 "cells": [
  {
   "cell_type": "code",
   "execution_count": null,
   "metadata": {},
   "outputs": [],
   "source": [
    "import pandas as pd\n",
    "import numpy as np \n",
    "\n",
    "from pyhhmm.gaussian import GaussianHMM\n",
    "\n",
    "import yfinance as yf\n",
    "\n",
    "import matplotlib.pyplot as plt"
   ]
  },
  {
   "attachments": {},
   "cell_type": "markdown",
   "metadata": {},
   "source": [
    "# Data Management"
   ]
  },
  {
   "cell_type": "code",
   "execution_count": null,
   "metadata": {},
   "outputs": [],
   "source": [
    "# Data Extraction\n",
    "start_date = \"2020-01-01\"\n",
    "end_date = \"2023-05-29\"\n",
    "symbol = \"SPY\"\n",
    "\n",
    "# USE YAHOO FINANCE \n",
    "data = yf.download(symbol ,  start_date , end_date )\n",
    "data = data[[\"Open\" , \"High\" , \"Low\" , \"Close\" , \"Volume\"]]"
   ]
  },
  {
   "cell_type": "code",
   "execution_count": null,
   "metadata": {},
   "outputs": [],
   "source": [
    "# Add Returns and Range    \n",
    "# Returns = (todays price divided by yesterdays)     # ROI since Yesterday\n",
    "# Range   = (todays high price divided todays low)   # volitility from highest point to lowest within day\n",
    "\n",
    "df = data.copy()\n",
    "df[\"Returns\"] = (df[\"Close\"] / df[\"Close\"].shift(1)) - 1\n",
    "df[\"Range\"]   = (df[\"High\"] / df[\"Low\"]) - 1\n",
    "df.dropna(inplace=True)\n",
    "\n",
    "df\n"
   ]
  },
  {
   "attachments": {},
   "cell_type": "markdown",
   "metadata": {},
   "source": [
    "# HMM - Hidden States\n",
    "- HMM is a model that looks for hidden states in the market\n",
    "- states\n",
    "    -  (upward) , (downward) , (sidways), and many more"
   ]
  },
  {
   "cell_type": "code",
   "execution_count": null,
   "metadata": {},
   "outputs": [],
   "source": [
    "# Structure Data (create a new dataframe using the returns and range)\n",
    "x_train = df[[ \"Returns\" , \"Range\" ]]\n",
    "x_train"
   ]
  },
  {
   "attachments": {},
   "cell_type": "markdown",
   "metadata": {},
   "source": [
    "# HMM - Learning & Output\n",
    "- Covarience Types\n",
    "    - <b>Full</b> means the components may independently adopt any position and shape.\n",
    "\n",
    "    - <b>Tied</b> means they have the same shape, but the shape may be anything.\n",
    "\n",
    "    - <b>Diagonal</b> means the contour axes are oriented along the coordinate axes, but otherwise the eccentricities may vary between components.\n",
    "\n",
    "    - <b>Tied Diagonal</b> is a \"tied\" situation where the contour axes are oriented along the coordinate axes. (I have added this because initially it was how I misinterpreted \"diagonal.\")\n",
    "\n",
    "    - <b>Spherical</b> is a \"diagonal\" situation with circular contours (spherical in higher dimensions, whence the name)."
   ]
  },
  {
   "cell_type": "code",
   "execution_count": null,
   "metadata": {},
   "outputs": [],
   "source": [
    "# Train Model\n",
    "model = GaussianHMM(n_states=4, covariance_type=\"full\" , n_emissions=2)\n",
    "model.train([np.array(x_train.values)])\n",
    "\n",
    "model.__dir__()"
   ]
  },
  {
   "cell_type": "code",
   "execution_count": null,
   "metadata": {},
   "outputs": [],
   "source": [
    "# Check State Categorization\n",
    "hidden_states = model.predict([x_train.values])[0]\n",
    "hidden_states"
   ]
  },
  {
   "cell_type": "code",
   "execution_count": null,
   "metadata": {},
   "outputs": [],
   "source": [
    "# State Result Means for Each State \n",
    "print(f\"[Returns avg , Range avg ]\")\n",
    "model.means"
   ]
  },
  {
   "cell_type": "code",
   "execution_count": null,
   "metadata": {},
   "outputs": [],
   "source": [
    "# State Result Covariations for Each State \n",
    "print(f\"[Returns avg , Range avg ]\")\n",
    "model.covars"
   ]
  },
  {
   "attachments": {},
   "cell_type": "markdown",
   "metadata": {},
   "source": [
    "# Data Visualization"
   ]
  },
  {
   "cell_type": "code",
   "execution_count": null,
   "metadata": {},
   "outputs": [],
   "source": [
    "labels_0 = []\n",
    "labels_1 = []\n",
    "labels_2 = []\n",
    "labels_3 = []\n",
    "\n",
    "\n",
    "prices = df[\"Close\"].values.astype(float)\n",
    "\n",
    "\n",
    "print(\"Check pass length of Close matches Hidden states array: \" , len(prices)  ==  len(hidden_states)  )\n",
    "\n",
    "\n",
    "for s in range(0,len(hidden_states), 1):\n",
    "    if hidden_states[s] == 0:\n",
    "        labels_0.append(prices[s])\n",
    "        labels_1.append(float('nan'))\n",
    "        labels_2.append(float('nan'))\n",
    "        labels_3.append(float('nan'))\n",
    "    elif hidden_states[s]  == 1:\n",
    "        labels_0.append(float('nan'))\n",
    "        labels_1.append(prices[s])\n",
    "        labels_2.append(float('nan'))\n",
    "        labels_3.append(float('nan'))\n",
    "    elif hidden_states[s]  == 2:\n",
    "        labels_0.append(float('nan'))\n",
    "        labels_1.append(float('nan'))\n",
    "        labels_2.append(prices[s])\n",
    "        labels_3.append(float('nan'))\n",
    "    elif hidden_states[s]  == 3:\n",
    "        labels_0.append(float('nan'))\n",
    "        labels_1.append(float('nan'))\n",
    "        labels_2.append(float('nan'))\n",
    "        labels_3.append(prices[s])\n",
    "\n",
    "\n",
    "labels_0"
   ]
  },
  {
   "cell_type": "code",
   "execution_count": null,
   "metadata": {},
   "outputs": [],
   "source": [
    "# Plot Chart\n",
    "figure = plt.figure(figsize=(18,8))\n",
    "\n",
    "plt.plot(labels_0,color=\"red\")\n",
    "plt.plot(labels_1,color=\"green\")\n",
    "plt.plot(labels_2,color=\"orange\")\n",
    "plt.plot(labels_3,color=\"black\")\n",
    "plt.show()"
   ]
  }
 ],
 "metadata": {
  "kernelspec": {
   "display_name": "Python 3.9.15 ('ML-finance')",
   "language": "python",
   "name": "python3"
  },
  "language_info": {
   "codemirror_mode": {
    "name": "ipython",
    "version": 3
   },
   "file_extension": ".py",
   "mimetype": "text/x-python",
   "name": "python",
   "nbconvert_exporter": "python",
   "pygments_lexer": "ipython3",
   "version": "3.9.15"
  },
  "orig_nbformat": 4,
  "vscode": {
   "interpreter": {
    "hash": "3926d90eaceffbec1c4388df34ea3cab12d1b58eed22ee276a6bb0c6ad052f56"
   }
  }
 },
 "nbformat": 4,
 "nbformat_minor": 2
}
