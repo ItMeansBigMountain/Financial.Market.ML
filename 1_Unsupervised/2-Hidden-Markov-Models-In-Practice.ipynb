{
 "cells": [
  {
   "attachments": {},
   "cell_type": "markdown",
   "metadata": {},
   "source": [
    "# Imports"
   ]
  },
  {
   "cell_type": "code",
   "execution_count": 19,
   "metadata": {},
   "outputs": [],
   "source": [
    "import pandas as pd\n",
    "import numpy as np \n",
    "\n",
    "from pyhhmm.gaussian import GaussianHMM\n",
    "\n",
    "import yfinance as yf\n",
    "\n",
    "import matplotlib.pyplot as plt"
   ]
  },
  {
   "attachments": {},
   "cell_type": "markdown",
   "metadata": {},
   "source": [
    "# Fetch Data"
   ]
  },
  {
   "cell_type": "code",
   "execution_count": 20,
   "metadata": {},
   "outputs": [
    {
     "name": "stdout",
     "output_type": "stream",
     "text": [
      "[*********************100%***********************]  1 of 1 completed\n"
     ]
    }
   ],
   "source": [
    "# Data Extraction\n",
    "start_date = \"2020-01-01\"\n",
    "end_date = \"2023-06-01\"\n",
    "symbol = \"SPY\"\n",
    "\n",
    "# USE YAHOO FINANCE \n",
    "data = yf.download(symbol ,  start_date , end_date )\n",
    "data = data[[\"Open\" , \"High\" , \"Low\" , \"Close\" ]]"
   ]
  },
  {
   "cell_type": "code",
   "execution_count": 21,
   "metadata": {},
   "outputs": [
    {
     "name": "stdout",
     "output_type": "stream",
     "text": [
      "Length:  858\n"
     ]
    }
   ],
   "source": [
    "# Add Returns and Range    \n",
    "# Returns = (todays price divided by yesterdays)     # ROI since Yesterday\n",
    "# Range   = (todays high price divided todays low)   # volitility from highest point to lowest within day\n",
    "\n",
    "df = data.copy()\n",
    "df[\"Returns\"] = (df[\"Close\"] / df[\"Close\"].shift(1)) - 1\n",
    "df[\"Range\"]   = (df[\"High\"] / df[\"Low\"]) - 1\n",
    "df.dropna(inplace=True)\n",
    "\n",
    "print(\"Length: \", len(df))"
   ]
  },
  {
   "attachments": {},
   "cell_type": "markdown",
   "metadata": {},
   "source": [
    "# Add Moving Average"
   ]
  },
  {
   "cell_type": "code",
   "execution_count": 22,
   "metadata": {},
   "outputs": [],
   "source": [
    "df[\"12_MA\"] = df[\"Close\"].rolling(window=12).mean()\n",
    "df[\"21_MA\"] = df[\"Close\"].rolling(window=21).mean()"
   ]
  },
  {
   "attachments": {},
   "cell_type": "markdown",
   "metadata": {},
   "source": [
    "# Train/Test Split Data"
   ]
  },
  {
   "cell_type": "code",
   "execution_count": 23,
   "metadata": {},
   "outputs": [
    {
     "name": "stdout",
     "output_type": "stream",
     "text": [
      "Train Data Length: 500\n",
      "Test Data Length: 358\n"
     ]
    }
   ],
   "source": [
    "x_train = df[[\"Returns\" , \"Range\"]].iloc[:500]\n",
    "x_test = df[[\"Returns\" , \"Range\"]].iloc[500:]\n",
    "save_df = df.iloc[500:]\n",
    "\n",
    "\n",
    "\n",
    "print(f\"Train Data Length: {len(x_train)}\")\n",
    "print(f\"Test Data Length: {len(x_test)}\")"
   ]
  },
  {
   "attachments": {},
   "cell_type": "markdown",
   "metadata": {},
   "source": [
    "# Train HMM"
   ]
  },
  {
   "cell_type": "code",
   "execution_count": 24,
   "metadata": {},
   "outputs": [
    {
     "name": "stderr",
     "output_type": "stream",
     "text": [
      "d:\\Programs\\Anaconda\\envs\\ML-finance\\lib\\site-packages\\sklearn\\cluster\\_kmeans.py:870: FutureWarning: The default value of `n_init` will change from 10 to 'auto' in 1.4. Set the value of `n_init` explicitly to suppress the warning\n",
      "  warnings.warn(\n"
     ]
    }
   ],
   "source": [
    "# Train Hidden Markov Model\n",
    "model = GaussianHMM(n_states=4, covariance_type=\"full\" , n_emissions=2)\n",
    "train = model.train([np.array(x_train.values)])"
   ]
  },
  {
   "attachments": {},
   "cell_type": "markdown",
   "metadata": {},
   "source": [
    "# Test HMM"
   ]
  },
  {
   "cell_type": "code",
   "execution_count": 25,
   "metadata": {},
   "outputs": [],
   "source": [
    "# Test Hidden Markov Model\n",
    "test = model.predict([x_train.values])[0]"
   ]
  },
  {
   "attachments": {},
   "cell_type": "markdown",
   "metadata": {},
   "source": [
    "# Test Predictions"
   ]
  },
  {
   "cell_type": "code",
   "execution_count": 26,
   "metadata": {},
   "outputs": [],
   "source": [
    "df_main = save_df.copy()\n",
    "df_main.drop(columns = [\"High\" , \"Low\"], inplace = True)\n",
    "\n",
    "hmm_results = model.predict([x_test.values])[0]\n",
    "df_main[\"HMM\"] = hmm_results"
   ]
  },
  {
   "attachments": {},
   "cell_type": "markdown",
   "metadata": {},
   "source": [
    "# Run BackTest\n",
    "- if the 12 day moving average is greater than the 21 day moving average, place signal\n",
    "    -  1 : go long\n",
    "    -  0 : do nothing\n",
    "    - -1 : go short"
   ]
  },
  {
   "cell_type": "code",
   "execution_count": 27,
   "metadata": {},
   "outputs": [],
   "source": [
    "# Signals\n",
    "df_main.loc[df_main[\"12_MA\"] > df_main[\"21_MA\"] , \"MA_Signal\" ] = int(1)\n",
    "df_main.loc[df_main[\"12_MA\"] <= df_main[\"21_MA\"] , \"MA_Signal\" ] = 0"
   ]
  },
  {
   "cell_type": "code",
   "execution_count": 28,
   "metadata": {},
   "outputs": [],
   "source": [
    "# Check Each row to see if within positive signals from HMM    \n",
    "favorable_states = [0 , 1 , 2 , 3]\n",
    "hmm_values = df_main[\"HMM\"].values\n",
    "\n",
    "# 0 if no   ||   1 if yes\n",
    "hmm_values = [1 if x in favorable_states else 0 for x in hmm_values]\n",
    "\n",
    "\n",
    "df_main[\"HMM_Signal\"] = hmm_values"
   ]
  },
  {
   "cell_type": "code",
   "execution_count": 29,
   "metadata": {},
   "outputs": [],
   "source": [
    "# Add Combined \"Main\" Signal   (if moving average and HMM signals are green)\n",
    "df_main[\"Main_Signal\"] = 0\n",
    "df_main.loc[   (df_main[\"MA_Signal\"] == 1) &  (df_main[\"HMM_Signal\"] == 1 ), \"Main_Signal\" ] = int(1)\n",
    "\n",
    "\n",
    "df_main[\"Main_Signal\"] = df_main[\"Main_Signal\"].shift(1)"
   ]
  },
  {
   "cell_type": "code",
   "execution_count": 30,
   "metadata": {},
   "outputs": [],
   "source": [
    "# Benchmmark Returns\n",
    "df_main[\"lrets_bench\"] = np.log(df_main[\"Close\"] / df_main[\"Close\"].shift(1))\n",
    "df_main[\"bench_prod\"] = df_main[\"lrets_bench\"].cumsum()\n",
    "df_main[\"bench_prod_exponent\"] = np.exp(df_main[\"bench_prod\"]) - 1"
   ]
  },
  {
   "cell_type": "code",
   "execution_count": 31,
   "metadata": {},
   "outputs": [],
   "source": [
    "# Strategy Returns\n",
    "df_main[\"lrets_strat\"] = np.log(df_main[\"Open\"].shift(1) / df_main[\"Open\"]) * df_main[\"Main_Signal\"]\n",
    "df_main[\"lrets_prod\"] = df_main[\"lrets_strat\"].cumsum()\n",
    "df_main[\"strat_prod_exponent\"] = np.exp(df_main[\"lrets_prod\"]) - 1"
   ]
  },
  {
   "attachments": {},
   "cell_type": "markdown",
   "metadata": {},
   "source": [
    "# Review Results\n"
   ]
  },
  {
   "cell_type": "code",
   "execution_count": 32,
   "metadata": {},
   "outputs": [
    {
     "data": {
      "text/html": [
       "<div>\n",
       "<style scoped>\n",
       "    .dataframe tbody tr th:only-of-type {\n",
       "        vertical-align: middle;\n",
       "    }\n",
       "\n",
       "    .dataframe tbody tr th {\n",
       "        vertical-align: top;\n",
       "    }\n",
       "\n",
       "    .dataframe thead th {\n",
       "        text-align: right;\n",
       "    }\n",
       "</style>\n",
       "<table border=\"1\" class=\"dataframe\">\n",
       "  <thead>\n",
       "    <tr style=\"text-align: right;\">\n",
       "      <th></th>\n",
       "      <th>Open</th>\n",
       "      <th>Close</th>\n",
       "      <th>Returns</th>\n",
       "      <th>Range</th>\n",
       "      <th>12_MA</th>\n",
       "      <th>21_MA</th>\n",
       "      <th>HMM</th>\n",
       "      <th>MA_Signal</th>\n",
       "      <th>HMM_Signal</th>\n",
       "      <th>Main_Signal</th>\n",
       "      <th>lrets_bench</th>\n",
       "      <th>bench_prod</th>\n",
       "      <th>bench_prod_exponent</th>\n",
       "      <th>lrets_strat</th>\n",
       "      <th>lrets_prod</th>\n",
       "      <th>strat_prod_exponent</th>\n",
       "    </tr>\n",
       "    <tr>\n",
       "      <th>Date</th>\n",
       "      <th></th>\n",
       "      <th></th>\n",
       "      <th></th>\n",
       "      <th></th>\n",
       "      <th></th>\n",
       "      <th></th>\n",
       "      <th></th>\n",
       "      <th></th>\n",
       "      <th></th>\n",
       "      <th></th>\n",
       "      <th></th>\n",
       "      <th></th>\n",
       "      <th></th>\n",
       "      <th></th>\n",
       "      <th></th>\n",
       "      <th></th>\n",
       "    </tr>\n",
       "  </thead>\n",
       "  <tbody>\n",
       "    <tr>\n",
       "      <th>2023-05-24</th>\n",
       "      <td>412.420013</td>\n",
       "      <td>411.089996</td>\n",
       "      <td>-0.007245</td>\n",
       "      <td>0.007173</td>\n",
       "      <td>413.984169</td>\n",
       "      <td>412.637143</td>\n",
       "      <td>1</td>\n",
       "      <td>1.0</td>\n",
       "      <td>1</td>\n",
       "      <td>1.0</td>\n",
       "      <td>-0.007271</td>\n",
       "      <td>-0.148432</td>\n",
       "      <td>-0.137941</td>\n",
       "      <td>0.011236</td>\n",
       "      <td>0.147764</td>\n",
       "      <td>0.159239</td>\n",
       "    </tr>\n",
       "    <tr>\n",
       "      <th>2023-05-25</th>\n",
       "      <td>414.739990</td>\n",
       "      <td>414.649994</td>\n",
       "      <td>0.008660</td>\n",
       "      <td>0.009093</td>\n",
       "      <td>414.294169</td>\n",
       "      <td>413.127143</td>\n",
       "      <td>1</td>\n",
       "      <td>1.0</td>\n",
       "      <td>1</td>\n",
       "      <td>1.0</td>\n",
       "      <td>0.008623</td>\n",
       "      <td>-0.139809</td>\n",
       "      <td>-0.130476</td>\n",
       "      <td>-0.005610</td>\n",
       "      <td>0.142155</td>\n",
       "      <td>0.152755</td>\n",
       "    </tr>\n",
       "    <tr>\n",
       "      <th>2023-05-26</th>\n",
       "      <td>415.329987</td>\n",
       "      <td>420.019989</td>\n",
       "      <td>0.012951</td>\n",
       "      <td>0.013293</td>\n",
       "      <td>414.891668</td>\n",
       "      <td>413.489524</td>\n",
       "      <td>1</td>\n",
       "      <td>1.0</td>\n",
       "      <td>1</td>\n",
       "      <td>1.0</td>\n",
       "      <td>0.012868</td>\n",
       "      <td>-0.126942</td>\n",
       "      <td>-0.119215</td>\n",
       "      <td>-0.001422</td>\n",
       "      <td>0.140733</td>\n",
       "      <td>0.151117</td>\n",
       "    </tr>\n",
       "    <tr>\n",
       "      <th>2023-05-30</th>\n",
       "      <td>422.029999</td>\n",
       "      <td>420.179993</td>\n",
       "      <td>0.000381</td>\n",
       "      <td>0.009170</td>\n",
       "      <td>415.562500</td>\n",
       "      <td>413.691905</td>\n",
       "      <td>1</td>\n",
       "      <td>1.0</td>\n",
       "      <td>1</td>\n",
       "      <td>1.0</td>\n",
       "      <td>0.000381</td>\n",
       "      <td>-0.126561</td>\n",
       "      <td>-0.118879</td>\n",
       "      <td>-0.016003</td>\n",
       "      <td>0.124730</td>\n",
       "      <td>0.132842</td>\n",
       "    </tr>\n",
       "    <tr>\n",
       "      <th>2023-05-31</th>\n",
       "      <td>418.279999</td>\n",
       "      <td>417.850006</td>\n",
       "      <td>-0.005545</td>\n",
       "      <td>0.007208</td>\n",
       "      <td>416.084167</td>\n",
       "      <td>413.803333</td>\n",
       "      <td>1</td>\n",
       "      <td>1.0</td>\n",
       "      <td>1</td>\n",
       "      <td>1.0</td>\n",
       "      <td>-0.005561</td>\n",
       "      <td>-0.132121</td>\n",
       "      <td>-0.123765</td>\n",
       "      <td>0.008925</td>\n",
       "      <td>0.133655</td>\n",
       "      <td>0.142999</td>\n",
       "    </tr>\n",
       "  </tbody>\n",
       "</table>\n",
       "</div>"
      ],
      "text/plain": [
       "                  Open       Close   Returns     Range       12_MA  \\\n",
       "Date                                                                 \n",
       "2023-05-24  412.420013  411.089996 -0.007245  0.007173  413.984169   \n",
       "2023-05-25  414.739990  414.649994  0.008660  0.009093  414.294169   \n",
       "2023-05-26  415.329987  420.019989  0.012951  0.013293  414.891668   \n",
       "2023-05-30  422.029999  420.179993  0.000381  0.009170  415.562500   \n",
       "2023-05-31  418.279999  417.850006 -0.005545  0.007208  416.084167   \n",
       "\n",
       "                 21_MA  HMM  MA_Signal  HMM_Signal  Main_Signal  lrets_bench  \\\n",
       "Date                                                                           \n",
       "2023-05-24  412.637143    1        1.0           1          1.0    -0.007271   \n",
       "2023-05-25  413.127143    1        1.0           1          1.0     0.008623   \n",
       "2023-05-26  413.489524    1        1.0           1          1.0     0.012868   \n",
       "2023-05-30  413.691905    1        1.0           1          1.0     0.000381   \n",
       "2023-05-31  413.803333    1        1.0           1          1.0    -0.005561   \n",
       "\n",
       "            bench_prod  bench_prod_exponent  lrets_strat  lrets_prod  \\\n",
       "Date                                                                   \n",
       "2023-05-24   -0.148432            -0.137941     0.011236    0.147764   \n",
       "2023-05-25   -0.139809            -0.130476    -0.005610    0.142155   \n",
       "2023-05-26   -0.126942            -0.119215    -0.001422    0.140733   \n",
       "2023-05-30   -0.126561            -0.118879    -0.016003    0.124730   \n",
       "2023-05-31   -0.132121            -0.123765     0.008925    0.133655   \n",
       "\n",
       "            strat_prod_exponent  \n",
       "Date                             \n",
       "2023-05-24             0.159239  \n",
       "2023-05-25             0.152755  \n",
       "2023-05-26             0.151117  \n",
       "2023-05-30             0.132842  \n",
       "2023-05-31             0.142999  "
      ]
     },
     "execution_count": 32,
     "metadata": {},
     "output_type": "execute_result"
    }
   ],
   "source": [
    "df_main.dropna(inplace=True)\n",
    "\n",
    "\n",
    "df_main.tail(5)"
   ]
  },
  {
   "attachments": {},
   "cell_type": "markdown",
   "metadata": {},
   "source": [
    "# Calculate Metrics"
   ]
  },
  {
   "cell_type": "code",
   "execution_count": 39,
   "metadata": {},
   "outputs": [],
   "source": [
    "# Sharpe Ratio Function\n",
    "def sharpe_ratio_calc(returns_series):\n",
    "    TradingDays = 255\n",
    "    TradingDays_SQRT = np.sqrt(TradingDays)\n",
    "    risk_free_rate = 0.01\n",
    "    mean = returns_series.mean() * TradingDays\n",
    "    sigma = returns_series.std() * TradingDays_SQRT\n",
    "    sharpe_ratio = round((mean - risk_free_rate) / sigma , 2 )\n",
    "    return sharpe_ratio"
   ]
  },
  {
   "cell_type": "code",
   "execution_count": 40,
   "metadata": {},
   "outputs": [],
   "source": [
    "# Metrics\n",
    "bench_returns = round(df_main[\"bench_prod_exponent\"].values[-1] * 100 , 1)\n",
    "strategy_returns = round(df_main[\"strat_prod_exponent\"].values[-1] * 100 , 1)\n",
    "\n",
    "\n",
    "bench_sharpe = sharpe_ratio_calc(df_main[\"lrets_bench\"].values)\n",
    "strat_sharpe = sharpe_ratio_calc(df_main[\"lrets_strat\"].values)"
   ]
  },
  {
   "cell_type": "code",
   "execution_count": 43,
   "metadata": {},
   "outputs": [
    {
     "name": "stdout",
     "output_type": "stream",
     "text": [
      "Returns Benchmark: -12.4%\n",
      "Returns Strategy: 14.3%\n",
      "-------------------\n",
      "Sharpe Benchmark: -0.47%\n",
      "Sharpe Strategy: 0.61%\n",
      "\n",
      "\n",
      " Sharpe ratio is saying 'for every dollar of reward, how mmuch risk am i taking?'\n"
     ]
    }
   ],
   "source": [
    "# Print metrics\n",
    "print(f\"Returns Benchmark: {bench_returns}%\")\n",
    "print(f\"Returns Strategy: {strategy_returns}%\")\n",
    "\n",
    "print(\"-------------------\")\n",
    "\n",
    "print(f\"Sharpe Benchmark: {bench_sharpe}%\")\n",
    "print(f\"Sharpe Strategy: {strat_sharpe}%\")\n",
    "\n",
    "\n",
    "\n",
    "print(\"\\n\\n Sharpe ratio is saying 'for every dollar of reward, how mmuch risk am i taking?'\")"
   ]
  },
  {
   "attachments": {},
   "cell_type": "markdown",
   "metadata": {},
   "source": [
    "# Plot Results"
   ]
  },
  {
   "cell_type": "code",
   "execution_count": 46,
   "metadata": {},
   "outputs": [
    {
     "data": {
      "image/png": "[encoded data removed]",
      "text/plain": [
       "<Figure size 640x480 with 1 Axes>"
      ]
     },
     "metadata": {},
     "output_type": "display_data"
    }
   ],
   "source": [
    "# Plot Equity Curves\n",
    "fig = plt.Figure(figsize=(18,10))\n",
    "plt.plot(df_main[\"bench_prod_exponent\"], color=\"green\" )\n",
    "plt.plot(df_main[\"strat_prod_exponent\"])\n",
    "\n",
    "plt.show()"
   ]
  }
 ],
 "metadata": {
  "kernelspec": {
   "display_name": "ML-finance",
   "language": "python",
   "name": "python3"
  },
  "language_info": {
   "codemirror_mode": {
    "name": "ipython",
    "version": 3
   },
   "file_extension": ".py",
   "mimetype": "text/x-python",
   "name": "python",
   "nbconvert_exporter": "python",
   "pygments_lexer": "ipython3",
   "version": "3.9.15"
  },
  "orig_nbformat": 4
 },
 "nbformat": 4,
 "nbformat_minor": 2
}
