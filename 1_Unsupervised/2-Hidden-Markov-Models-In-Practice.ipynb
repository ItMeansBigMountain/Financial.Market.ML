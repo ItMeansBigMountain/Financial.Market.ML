{
 "cells": [
  {
   "attachments": {},
   "cell_type": "markdown",
   "metadata": {},
   "source": [
    "# Imports"
   ]
  },
  {
   "cell_type": "code",
   "execution_count": null,
   "metadata": {},
   "outputs": [],
   "source": [
    "import pandas as pd\n",
    "import numpy as np \n",
    "\n",
    "from pyhhmm.gaussian import GaussianHMM\n",
    "\n",
    "import yfinance as yf\n",
    "\n",
    "import matplotlib.pyplot as plt"
   ]
  },
  {
   "attachments": {},
   "cell_type": "markdown",
   "metadata": {},
   "source": [
    "# Fetch Data"
   ]
  },
  {
   "cell_type": "code",
   "execution_count": null,
   "metadata": {},
   "outputs": [],
   "source": [
    "# Data Extraction\n",
    "start_date = \"2020-01-01\"\n",
    "end_date = \"2023-06-01\"\n",
    "symbol = \"SPY\"\n",
    "\n",
    "# USE YAHOO FINANCE \n",
    "data = yf.download(symbol ,  start_date , end_date )\n",
    "data = data[[\"Open\" , \"High\" , \"Low\" , \"Close\" ]]"
   ]
  },
  {
   "cell_type": "code",
   "execution_count": null,
   "metadata": {},
   "outputs": [],
   "source": [
    "# Add Returns and Range    \n",
    "# Returns = (todays price divided by yesterdays)     # ROI since Yesterday\n",
    "# Range   = (todays high price divided todays low)   # volitility from highest point to lowest within day\n",
    "\n",
    "df = data.copy()\n",
    "df[\"Returns\"] = (df[\"Close\"] / df[\"Close\"].shift(1)) - 1\n",
    "df[\"Range\"]   = (df[\"High\"] / df[\"Low\"]) - 1\n",
    "df.dropna(inplace=True)\n",
    "\n",
    "print(\"Length: \", len(df))"
   ]
  },
  {
   "attachments": {},
   "cell_type": "markdown",
   "metadata": {},
   "source": [
    "# Add Moving Average"
   ]
  },
  {
   "cell_type": "code",
   "execution_count": null,
   "metadata": {},
   "outputs": [],
   "source": [
    "df[\"12_MA\"] = df[\"Close\"].rolling(window=12).mean()\n",
    "df[\"21_MA\"] = df[\"Close\"].rolling(window=21).mean()"
   ]
  },
  {
   "attachments": {},
   "cell_type": "markdown",
   "metadata": {},
   "source": [
    "# Train/Test Split Data"
   ]
  },
  {
   "cell_type": "code",
   "execution_count": null,
   "metadata": {},
   "outputs": [],
   "source": [
    "x_train = df[[\"Returns\" , \"Range\"]].iloc[:500]\n",
    "x_test = df[[\"Returns\" , \"Range\"]].iloc[500:]\n",
    "save_df = df.iloc[500:]\n",
    "\n",
    "\n",
    "\n",
    "print(f\"Train Data Length: {len(x_train)}\")\n",
    "print(f\"Test Data Length: {len(x_test)}\")"
   ]
  },
  {
   "attachments": {},
   "cell_type": "markdown",
   "metadata": {},
   "source": [
    "# Train HMM"
   ]
  },
  {
   "cell_type": "code",
   "execution_count": null,
   "metadata": {},
   "outputs": [],
   "source": [
    "# Train Hidden Markov Model\n",
    "model = GaussianHMM(n_states=4, covariance_type=\"full\" , n_emissions=2)\n",
    "train = model.train([np.array(x_train.values)])"
   ]
  },
  {
   "attachments": {},
   "cell_type": "markdown",
   "metadata": {},
   "source": [
    "# Test HMM"
   ]
  },
  {
   "cell_type": "code",
   "execution_count": null,
   "metadata": {},
   "outputs": [],
   "source": [
    "# Test Hidden Markov Model\n",
    "test = model.predict([x_train.values])[0]"
   ]
  },
  {
   "attachments": {},
   "cell_type": "markdown",
   "metadata": {},
   "source": [
    "# Make Predictions"
   ]
  },
  {
   "cell_type": "code",
   "execution_count": 62,
   "metadata": {},
   "outputs": [],
   "source": [
    "df_main = save_df.copy()\n",
    "df_main.drop(columns = [\"High\" , \"Low\"], inplace = True)\n",
    "\n",
    "hmm_results = model.predict([x_test.values])[0]\n",
    "df_main[\"HMM\"] = hmm_results"
   ]
  },
  {
   "attachments": {},
   "cell_type": "markdown",
   "metadata": {},
   "source": [
    "# Run BackTest\n",
    "- if the 12 day moving average is greater than the 21 day moving average, place signal\n",
    "    -  1 : go long\n",
    "    -  0 : do nothing\n",
    "    - -1 : go short"
   ]
  },
  {
   "cell_type": "code",
   "execution_count": null,
   "metadata": {},
   "outputs": [],
   "source": [
    "# Signals\n",
    "df_main.loc[df_main[\"12_MA\"] > df_main[\"21_MA\"] , \"MA_Signal\" ] = int(1)\n",
    "df_main.loc[df_main[\"12_MA\"] <= df_main[\"21_MA\"] , \"MA_Signal\" ] = 0"
   ]
  },
  {
   "cell_type": "code",
   "execution_count": 63,
   "metadata": {},
   "outputs": [
    {
     "data": {
      "text/html": [
       "<div>\n",
       "<style scoped>\n",
       "    .dataframe tbody tr th:only-of-type {\n",
       "        vertical-align: middle;\n",
       "    }\n",
       "\n",
       "    .dataframe tbody tr th {\n",
       "        vertical-align: top;\n",
       "    }\n",
       "\n",
       "    .dataframe thead th {\n",
       "        text-align: right;\n",
       "    }\n",
       "</style>\n",
       "<table border=\"1\" class=\"dataframe\">\n",
       "  <thead>\n",
       "    <tr style=\"text-align: right;\">\n",
       "      <th></th>\n",
       "      <th>Open</th>\n",
       "      <th>Close</th>\n",
       "      <th>Returns</th>\n",
       "      <th>Range</th>\n",
       "      <th>12_MA</th>\n",
       "      <th>21_MA</th>\n",
       "      <th>HMM</th>\n",
       "      <th>HMM_Signal</th>\n",
       "    </tr>\n",
       "    <tr>\n",
       "      <th>Date</th>\n",
       "      <th></th>\n",
       "      <th></th>\n",
       "      <th></th>\n",
       "      <th></th>\n",
       "      <th></th>\n",
       "      <th></th>\n",
       "      <th></th>\n",
       "      <th></th>\n",
       "    </tr>\n",
       "  </thead>\n",
       "  <tbody>\n",
       "    <tr>\n",
       "      <th>2021-12-28</th>\n",
       "      <td>477.720001</td>\n",
       "      <td>476.869995</td>\n",
       "      <td>-0.000817</td>\n",
       "      <td>0.005777</td>\n",
       "      <td>467.337502</td>\n",
       "      <td>464.403335</td>\n",
       "      <td>3</td>\n",
       "      <td>1</td>\n",
       "    </tr>\n",
       "    <tr>\n",
       "      <th>2021-12-29</th>\n",
       "      <td>476.980011</td>\n",
       "      <td>477.480011</td>\n",
       "      <td>0.001279</td>\n",
       "      <td>0.005547</td>\n",
       "      <td>467.899170</td>\n",
       "      <td>465.016668</td>\n",
       "      <td>0</td>\n",
       "      <td>1</td>\n",
       "    </tr>\n",
       "    <tr>\n",
       "      <th>2021-12-30</th>\n",
       "      <td>477.929993</td>\n",
       "      <td>476.160004</td>\n",
       "      <td>-0.002765</td>\n",
       "      <td>0.007001</td>\n",
       "      <td>468.698336</td>\n",
       "      <td>465.997621</td>\n",
       "      <td>3</td>\n",
       "      <td>1</td>\n",
       "    </tr>\n",
       "    <tr>\n",
       "      <th>2021-12-31</th>\n",
       "      <td>475.640015</td>\n",
       "      <td>474.959991</td>\n",
       "      <td>-0.002520</td>\n",
       "      <td>0.004614</td>\n",
       "      <td>469.665003</td>\n",
       "      <td>467.162383</td>\n",
       "      <td>3</td>\n",
       "      <td>1</td>\n",
       "    </tr>\n",
       "    <tr>\n",
       "      <th>2022-01-03</th>\n",
       "      <td>476.299988</td>\n",
       "      <td>477.709991</td>\n",
       "      <td>0.005790</td>\n",
       "      <td>0.008441</td>\n",
       "      <td>470.257502</td>\n",
       "      <td>468.129525</td>\n",
       "      <td>0</td>\n",
       "      <td>1</td>\n",
       "    </tr>\n",
       "    <tr>\n",
       "      <th>...</th>\n",
       "      <td>...</td>\n",
       "      <td>...</td>\n",
       "      <td>...</td>\n",
       "      <td>...</td>\n",
       "      <td>...</td>\n",
       "      <td>...</td>\n",
       "      <td>...</td>\n",
       "      <td>...</td>\n",
       "    </tr>\n",
       "    <tr>\n",
       "      <th>2023-05-24</th>\n",
       "      <td>412.420013</td>\n",
       "      <td>411.089996</td>\n",
       "      <td>-0.007245</td>\n",
       "      <td>0.007173</td>\n",
       "      <td>413.984169</td>\n",
       "      <td>412.637143</td>\n",
       "      <td>3</td>\n",
       "      <td>1</td>\n",
       "    </tr>\n",
       "    <tr>\n",
       "      <th>2023-05-25</th>\n",
       "      <td>414.739990</td>\n",
       "      <td>414.649994</td>\n",
       "      <td>0.008660</td>\n",
       "      <td>0.009093</td>\n",
       "      <td>414.294169</td>\n",
       "      <td>413.127143</td>\n",
       "      <td>3</td>\n",
       "      <td>1</td>\n",
       "    </tr>\n",
       "    <tr>\n",
       "      <th>2023-05-26</th>\n",
       "      <td>415.329987</td>\n",
       "      <td>420.019989</td>\n",
       "      <td>0.012951</td>\n",
       "      <td>0.013293</td>\n",
       "      <td>414.891668</td>\n",
       "      <td>413.489524</td>\n",
       "      <td>0</td>\n",
       "      <td>1</td>\n",
       "    </tr>\n",
       "    <tr>\n",
       "      <th>2023-05-30</th>\n",
       "      <td>422.029999</td>\n",
       "      <td>420.179993</td>\n",
       "      <td>0.000381</td>\n",
       "      <td>0.009170</td>\n",
       "      <td>415.562500</td>\n",
       "      <td>413.691905</td>\n",
       "      <td>3</td>\n",
       "      <td>1</td>\n",
       "    </tr>\n",
       "    <tr>\n",
       "      <th>2023-05-31</th>\n",
       "      <td>418.279999</td>\n",
       "      <td>417.850006</td>\n",
       "      <td>-0.005545</td>\n",
       "      <td>0.007208</td>\n",
       "      <td>416.084167</td>\n",
       "      <td>413.803333</td>\n",
       "      <td>3</td>\n",
       "      <td>1</td>\n",
       "    </tr>\n",
       "  </tbody>\n",
       "</table>\n",
       "<p>358 rows × 8 columns</p>\n",
       "</div>"
      ],
      "text/plain": [
       "                  Open       Close   Returns     Range       12_MA  \\\n",
       "Date                                                                 \n",
       "2021-12-28  477.720001  476.869995 -0.000817  0.005777  467.337502   \n",
       "2021-12-29  476.980011  477.480011  0.001279  0.005547  467.899170   \n",
       "2021-12-30  477.929993  476.160004 -0.002765  0.007001  468.698336   \n",
       "2021-12-31  475.640015  474.959991 -0.002520  0.004614  469.665003   \n",
       "2022-01-03  476.299988  477.709991  0.005790  0.008441  470.257502   \n",
       "...                ...         ...       ...       ...         ...   \n",
       "2023-05-24  412.420013  411.089996 -0.007245  0.007173  413.984169   \n",
       "2023-05-25  414.739990  414.649994  0.008660  0.009093  414.294169   \n",
       "2023-05-26  415.329987  420.019989  0.012951  0.013293  414.891668   \n",
       "2023-05-30  422.029999  420.179993  0.000381  0.009170  415.562500   \n",
       "2023-05-31  418.279999  417.850006 -0.005545  0.007208  416.084167   \n",
       "\n",
       "                 21_MA  HMM  HMM_Signal  \n",
       "Date                                     \n",
       "2021-12-28  464.403335    3           1  \n",
       "2021-12-29  465.016668    0           1  \n",
       "2021-12-30  465.997621    3           1  \n",
       "2021-12-31  467.162383    3           1  \n",
       "2022-01-03  468.129525    0           1  \n",
       "...                ...  ...         ...  \n",
       "2023-05-24  412.637143    3           1  \n",
       "2023-05-25  413.127143    3           1  \n",
       "2023-05-26  413.489524    0           1  \n",
       "2023-05-30  413.691905    3           1  \n",
       "2023-05-31  413.803333    3           1  \n",
       "\n",
       "[358 rows x 8 columns]"
      ]
     },
     "execution_count": 63,
     "metadata": {},
     "output_type": "execute_result"
    }
   ],
   "source": [
    "# Check Each row to see if within positive signals from HMM    [ 0 if no   ||   1 if yes]\n",
    "favorable_states = [0 , 1 , 2 , 3]\n",
    "hmm_values = df_main[\"HMM\"].values\n",
    "hmm_values = [1 if x in favorable_states else 0 for x in hmm_values]\n",
    "\n",
    "\n",
    "df_main[\"HMM_Signal\"] = hmm_values"
   ]
  },
  {
   "cell_type": "code",
   "execution_count": null,
   "metadata": {},
   "outputs": [],
   "source": [
    "# Add Combined \"Main\" Signal   (if moving average and HMM signals are green)\n",
    "df_main[\"Main_Signal\"] = 0\n",
    "df_main.loc[   (df_main[\"MA_Signal\"] == 1) &  (df_main[\"HMM_Signal\"] == 1 ), \"Main_Signal\" ] = int(1)\n",
    "\n",
    "\n",
    "df_main[\"Main_Signal\"] = df_main[\"Main_Signal\"].shift(1)"
   ]
  },
  {
   "cell_type": "code",
   "execution_count": null,
   "metadata": {},
   "outputs": [],
   "source": [
    "# Benchmark Returns\n",
    "df_main[\"lrets_strat\"] = np.log(df_main[\"Open\"].shift(1) / df_main[\"Open\"]) * df_main[\"Main_Signal\"]\n",
    "df_main[\"lrets_prod\"] = df_main[\"lrets_strat\"].cumsum()\n",
    "df_main[\"strat_prod_exp\"] = np.exp(df_main[\"lrets_prod\"]) - 1"
   ]
  },
  {
   "attachments": {},
   "cell_type": "markdown",
   "metadata": {},
   "source": [
    "# Review Results"
   ]
  },
  {
   "cell_type": "code",
   "execution_count": null,
   "metadata": {},
   "outputs": [],
   "source": [
    "df_main.dropna(inplace=True)\n",
    "df_main.tail(40)"
   ]
  }
 ],
 "metadata": {
  "kernelspec": {
   "display_name": "ML-finance",
   "language": "python",
   "name": "python3"
  },
  "language_info": {
   "codemirror_mode": {
    "name": "ipython",
    "version": 3
   },
   "file_extension": ".py",
   "mimetype": "text/x-python",
   "name": "python",
   "nbconvert_exporter": "python",
   "pygments_lexer": "ipython3",
   "version": "3.9.15"
  },
  "orig_nbformat": 4
 },
 "nbformat": 4,
 "nbformat_minor": 2
}
