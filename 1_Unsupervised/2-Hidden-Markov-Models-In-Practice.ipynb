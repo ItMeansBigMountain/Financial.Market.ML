{
 "cells": [
  {
   "attachments": {},
   "cell_type": "markdown",
   "metadata": {},
   "source": [
    "# Imports"
   ]
  },
  {
   "cell_type": "code",
   "execution_count": 26,
   "metadata": {},
   "outputs": [],
   "source": [
    "import pandas as pd\n",
    "import numpy as np \n",
    "\n",
    "from pyhhmm.gaussian import GaussianHMM\n",
    "\n",
    "import yfinance as yf\n",
    "\n",
    "import matplotlib.pyplot as plt\n",
    "\n",
    "from datetime import datetime"
   ]
  },
  {
   "attachments": {},
   "cell_type": "markdown",
   "metadata": {},
   "source": [
    "# Fetch Data"
   ]
  },
  {
   "cell_type": "code",
   "execution_count": 27,
   "metadata": {},
   "outputs": [
    {
     "name": "stdout",
     "output_type": "stream",
     "text": [
      "[*********************100%***********************]  1 of 1 completed\n"
     ]
    }
   ],
   "source": [
    "# Data Extraction\n",
    "start_date = \"2020-01-01\"\n",
    "end_date = datetime.now().strftime(\"%Y-%m-%d\")\n",
    "symbol = \"SPY\"\n",
    "\n",
    "# USE YAHOO FINANCE \n",
    "data = yf.download(symbol ,  start_date , end_date )\n",
    "data = data[[\"Open\" , \"High\" , \"Low\" , \"Close\" , \"Volume\"]]"
   ]
  },
  {
   "cell_type": "code",
   "execution_count": 28,
   "metadata": {},
   "outputs": [
    {
     "name": "stdout",
     "output_type": "stream",
     "text": [
      "Length:  991\n"
     ]
    }
   ],
   "source": [
    "# Add Returns and Range    \n",
    "# Returns = (todays price divided by yesterdays)     # ROI since Yesterday\n",
    "# Range   = (todays high price divided todays low)   # volitility from highest point to lowest within day\n",
    "\n",
    "df = data.copy()\n",
    "df[\"Returns\"] = (df[\"Close\"] / df[\"Close\"].shift(1)) - 1\n",
    "df[\"Range\"]   = (df[\"High\"] / df[\"Low\"]) - 1\n",
    "df.dropna(inplace=True)\n",
    "\n",
    "print(\"Length: \", len(df))"
   ]
  },
  {
   "attachments": {},
   "cell_type": "markdown",
   "metadata": {},
   "source": [
    "# Add Moving Average"
   ]
  },
  {
   "cell_type": "code",
   "execution_count": 29,
   "metadata": {},
   "outputs": [],
   "source": [
    "df[\"12_MA\"] = df[\"Close\"].rolling(window=12).mean()\n",
    "df[\"21_MA\"] = df[\"Close\"].rolling(window=21).mean()"
   ]
  },
  {
   "attachments": {},
   "cell_type": "markdown",
   "metadata": {},
   "source": [
    "# Train/Test Split Data"
   ]
  },
  {
   "cell_type": "code",
   "execution_count": 30,
   "metadata": {},
   "outputs": [
    {
     "name": "stdout",
     "output_type": "stream",
     "text": [
      "Train Data Length: 485\n",
      "Test Data Length: 485\n"
     ]
    }
   ],
   "source": [
    "# Drop NA\n",
    "df = df.dropna()\n",
    "\n",
    "# Split Data into Two sets\n",
    "train_amount = len(df)//2\n",
    "test_amount = len(df) - train_amount\n",
    "\n",
    "x_train = df[[\"Returns\" , \"Range\"]].iloc[:train_amount]\n",
    "x_test = df[[\"Returns\" , \"Range\"]].iloc[test_amount:]\n",
    "save_df = df.iloc[test_amount:]\n",
    "\n",
    "\n",
    "\n",
    "print(f\"Train Data Length: {len(x_train)}\")\n",
    "print(f\"Test Data Length: {len(x_test)}\")"
   ]
  },
  {
   "attachments": {},
   "cell_type": "markdown",
   "metadata": {},
   "source": [
    "# Train HMM"
   ]
  },
  {
   "cell_type": "code",
   "execution_count": 31,
   "metadata": {},
   "outputs": [
    {
     "name": "stderr",
     "output_type": "stream",
     "text": [
      "d:\\Programs\\Anaconda\\envs\\ML-finance\\lib\\site-packages\\sklearn\\cluster\\_kmeans.py:1412: FutureWarning: The default value of `n_init` will change from 10 to 'auto' in 1.4. Set the value of `n_init` explicitly to suppress the warning\n",
      "  super()._check_params_vs_input(X, default_n_init=10)\n",
      "d:\\Programs\\Anaconda\\envs\\ML-finance\\lib\\site-packages\\sklearn\\cluster\\_kmeans.py:1436: UserWarning: KMeans is known to have a memory leak on Windows with MKL, when there are less chunks than available threads. You can avoid it by setting the environment variable OMP_NUM_THREADS=2.\n",
      "  warnings.warn(\n"
     ]
    }
   ],
   "source": [
    "# Train Hidden Markov Model\n",
    "model = GaussianHMM(n_states=4, covariance_type=\"full\" , n_emissions=2)\n",
    "train = model.train([np.array(x_train.values)])"
   ]
  },
  {
   "attachments": {},
   "cell_type": "markdown",
   "metadata": {},
   "source": [
    "# Test HMM"
   ]
  },
  {
   "cell_type": "code",
   "execution_count": 32,
   "metadata": {},
   "outputs": [],
   "source": [
    "# Test Hidden Markov Model\n",
    "test = model.predict([x_train.values])[0]"
   ]
  },
  {
   "attachments": {},
   "cell_type": "markdown",
   "metadata": {},
   "source": [
    "# Test Predictions"
   ]
  },
  {
   "cell_type": "code",
   "execution_count": 33,
   "metadata": {},
   "outputs": [],
   "source": [
    "df_main = save_df.copy()\n",
    "df_main.drop(columns = [\"High\" , \"Low\"], inplace = True)\n",
    "\n",
    "hmm_results = model.predict([x_train.values])[0]\n",
    "df_main[\"HMM\"] = hmm_results"
   ]
  },
  {
   "attachments": {},
   "cell_type": "markdown",
   "metadata": {},
   "source": [
    "# Run BackTest\n",
    "- if the 12 day moving average is greater than the 21 day moving average, place signal\n",
    "    -  1 : go long\n",
    "    -  0 : do nothing\n",
    "    - -1 : go short"
   ]
  },
  {
   "cell_type": "code",
   "execution_count": 34,
   "metadata": {},
   "outputs": [],
   "source": [
    "# Signals\n",
    "df_main.loc[df_main[\"12_MA\"] > df_main[\"21_MA\"] , \"MA_Signal\" ] = 1\n",
    "df_main.loc[df_main[\"12_MA\"] <= df_main[\"21_MA\"] , \"MA_Signal\" ] = 0"
   ]
  },
  {
   "attachments": {},
   "cell_type": "markdown",
   "metadata": {},
   "source": [
    "# Decide Favorable States"
   ]
  },
  {
   "cell_type": "code",
   "execution_count": 35,
   "metadata": {},
   "outputs": [],
   "source": [
    "# Check Each row to see if within positive signals from HMM    \n",
    "\n",
    "# HARDCODED FAVORABLE STATES \n",
    "favorable_states = [0,3]\n",
    "\n",
    "\n",
    "hmm_values = df_main[\"HMM\"].values\n",
    "\n",
    "# 0 if no   ||   1 if yes\n",
    "hmm_values = [1 if x in favorable_states else 0 for x in hmm_values]\n",
    "\n",
    "\n",
    "df_main[\"HMM_Signal\"] = hmm_values"
   ]
  },
  {
   "cell_type": "code",
   "execution_count": 36,
   "metadata": {},
   "outputs": [],
   "source": [
    "# Add Combined \"Main\" Signal   (if moving average and HMM signals are green)\n",
    "df_main[\"Main_Signal\"] = 0\n",
    "df_main.loc[   (df_main[\"MA_Signal\"] == 1) &  (df_main[\"HMM_Signal\"] == 1 ), \"Main_Signal\" ] = 1\n",
    "\n",
    "df_main[\"Main_Signal\"] = df_main[\"Main_Signal\"].shift(1)"
   ]
  },
  {
   "cell_type": "code",
   "execution_count": 37,
   "metadata": {},
   "outputs": [],
   "source": [
    "# Benchmmark Returns\n",
    "df_main[\"lrets_bench\"] = np.log(df_main[\"Close\"] / df_main[\"Close\"].shift(1))\n",
    "df_main[\"bench_prod\"] = df_main[\"lrets_bench\"].cumsum()\n",
    "df_main[\"bench_prod_exponent\"] = np.exp(df_main[\"bench_prod\"]) - 1"
   ]
  },
  {
   "cell_type": "code",
   "execution_count": 38,
   "metadata": {},
   "outputs": [],
   "source": [
    "# Strategy Returns\n",
    "df_main[\"lrets_strat\"] = np.log(df_main[\"Open\"].shift(-1) / df_main[\"Open\"]) * df_main[\"Main_Signal\"]\n",
    "df_main[\"lrets_prod\"] = df_main[\"lrets_strat\"].cumsum()\n",
    "df_main[\"strat_prod_exponent\"] = np.exp(df_main[\"lrets_prod\"]) - 1\n"
   ]
  },
  {
   "attachments": {},
   "cell_type": "markdown",
   "metadata": {},
   "source": [
    "# Review Results\n"
   ]
  },
  {
   "cell_type": "code",
   "execution_count": 39,
   "metadata": {},
   "outputs": [
    {
     "data": {
      "text/html": [
       "<div>\n",
       "<style scoped>\n",
       "    .dataframe tbody tr th:only-of-type {\n",
       "        vertical-align: middle;\n",
       "    }\n",
       "\n",
       "    .dataframe tbody tr th {\n",
       "        vertical-align: top;\n",
       "    }\n",
       "\n",
       "    .dataframe thead th {\n",
       "        text-align: right;\n",
       "    }\n",
       "</style>\n",
       "<table border=\"1\" class=\"dataframe\">\n",
       "  <thead>\n",
       "    <tr style=\"text-align: right;\">\n",
       "      <th></th>\n",
       "      <th>Open</th>\n",
       "      <th>Close</th>\n",
       "      <th>Volume</th>\n",
       "      <th>Returns</th>\n",
       "      <th>Range</th>\n",
       "      <th>12_MA</th>\n",
       "      <th>21_MA</th>\n",
       "      <th>HMM</th>\n",
       "      <th>MA_Signal</th>\n",
       "      <th>HMM_Signal</th>\n",
       "      <th>Main_Signal</th>\n",
       "      <th>lrets_bench</th>\n",
       "      <th>bench_prod</th>\n",
       "      <th>bench_prod_exponent</th>\n",
       "      <th>lrets_strat</th>\n",
       "      <th>lrets_prod</th>\n",
       "      <th>strat_prod_exponent</th>\n",
       "    </tr>\n",
       "    <tr>\n",
       "      <th>Date</th>\n",
       "      <th></th>\n",
       "      <th></th>\n",
       "      <th></th>\n",
       "      <th></th>\n",
       "      <th></th>\n",
       "      <th></th>\n",
       "      <th></th>\n",
       "      <th></th>\n",
       "      <th></th>\n",
       "      <th></th>\n",
       "      <th></th>\n",
       "      <th></th>\n",
       "      <th></th>\n",
       "      <th></th>\n",
       "      <th></th>\n",
       "      <th></th>\n",
       "      <th></th>\n",
       "    </tr>\n",
       "  </thead>\n",
       "  <tbody>\n",
       "    <tr>\n",
       "      <th>2023-11-24</th>\n",
       "      <td>455.070007</td>\n",
       "      <td>455.299988</td>\n",
       "      <td>29737400</td>\n",
       "      <td>0.000615</td>\n",
       "      <td>0.001693</td>\n",
       "      <td>447.430832</td>\n",
       "      <td>437.472380</td>\n",
       "      <td>1</td>\n",
       "      <td>1.0</td>\n",
       "      <td>0</td>\n",
       "      <td>0.0</td>\n",
       "      <td>0.000615</td>\n",
       "      <td>-0.028323</td>\n",
       "      <td>-0.027926</td>\n",
       "      <td>-0.000000</td>\n",
       "      <td>-0.017054</td>\n",
       "      <td>-0.016910</td>\n",
       "    </tr>\n",
       "    <tr>\n",
       "      <th>2023-11-27</th>\n",
       "      <td>454.649994</td>\n",
       "      <td>454.480011</td>\n",
       "      <td>50506000</td>\n",
       "      <td>-0.001801</td>\n",
       "      <td>0.003105</td>\n",
       "      <td>448.866666</td>\n",
       "      <td>439.469048</td>\n",
       "      <td>1</td>\n",
       "      <td>1.0</td>\n",
       "      <td>0</td>\n",
       "      <td>0.0</td>\n",
       "      <td>-0.001803</td>\n",
       "      <td>-0.030126</td>\n",
       "      <td>-0.029677</td>\n",
       "      <td>-0.000000</td>\n",
       "      <td>-0.017054</td>\n",
       "      <td>-0.016910</td>\n",
       "    </tr>\n",
       "    <tr>\n",
       "      <th>2023-11-28</th>\n",
       "      <td>454.079987</td>\n",
       "      <td>454.929993</td>\n",
       "      <td>62115000</td>\n",
       "      <td>0.000990</td>\n",
       "      <td>0.006108</td>\n",
       "      <td>450.624166</td>\n",
       "      <td>441.576191</td>\n",
       "      <td>0</td>\n",
       "      <td>1.0</td>\n",
       "      <td>1</td>\n",
       "      <td>0.0</td>\n",
       "      <td>0.000990</td>\n",
       "      <td>-0.029136</td>\n",
       "      <td>-0.028716</td>\n",
       "      <td>0.000000</td>\n",
       "      <td>-0.017054</td>\n",
       "      <td>-0.016910</td>\n",
       "    </tr>\n",
       "    <tr>\n",
       "      <th>2023-11-29</th>\n",
       "      <td>457.149994</td>\n",
       "      <td>454.609985</td>\n",
       "      <td>63146000</td>\n",
       "      <td>-0.000703</td>\n",
       "      <td>0.009071</td>\n",
       "      <td>451.790833</td>\n",
       "      <td>443.434285</td>\n",
       "      <td>0</td>\n",
       "      <td>1.0</td>\n",
       "      <td>1</td>\n",
       "      <td>1.0</td>\n",
       "      <td>-0.000704</td>\n",
       "      <td>-0.029840</td>\n",
       "      <td>-0.029399</td>\n",
       "      <td>-0.003660</td>\n",
       "      <td>-0.020714</td>\n",
       "      <td>-0.020501</td>\n",
       "    </tr>\n",
       "    <tr>\n",
       "      <th>2023-11-30</th>\n",
       "      <td>455.480011</td>\n",
       "      <td>456.399994</td>\n",
       "      <td>79752700</td>\n",
       "      <td>0.003937</td>\n",
       "      <td>0.007544</td>\n",
       "      <td>453.141665</td>\n",
       "      <td>445.253332</td>\n",
       "      <td>0</td>\n",
       "      <td>1.0</td>\n",
       "      <td>1</td>\n",
       "      <td>1.0</td>\n",
       "      <td>0.003930</td>\n",
       "      <td>-0.025910</td>\n",
       "      <td>-0.025578</td>\n",
       "      <td>0.000636</td>\n",
       "      <td>-0.020078</td>\n",
       "      <td>-0.019878</td>\n",
       "    </tr>\n",
       "    <tr>\n",
       "      <th>2023-12-01</th>\n",
       "      <td>455.769989</td>\n",
       "      <td>459.100006</td>\n",
       "      <td>89097900</td>\n",
       "      <td>0.005916</td>\n",
       "      <td>0.009865</td>\n",
       "      <td>454.005831</td>\n",
       "      <td>446.988570</td>\n",
       "      <td>0</td>\n",
       "      <td>1.0</td>\n",
       "      <td>1</td>\n",
       "      <td>1.0</td>\n",
       "      <td>0.005898</td>\n",
       "      <td>-0.020012</td>\n",
       "      <td>-0.019813</td>\n",
       "      <td>-0.000373</td>\n",
       "      <td>-0.020451</td>\n",
       "      <td>-0.020243</td>\n",
       "    </tr>\n",
       "    <tr>\n",
       "      <th>2023-12-04</th>\n",
       "      <td>455.600006</td>\n",
       "      <td>456.690002</td>\n",
       "      <td>72430900</td>\n",
       "      <td>-0.005249</td>\n",
       "      <td>0.010521</td>\n",
       "      <td>454.589999</td>\n",
       "      <td>448.223332</td>\n",
       "      <td>0</td>\n",
       "      <td>1.0</td>\n",
       "      <td>1</td>\n",
       "      <td>1.0</td>\n",
       "      <td>-0.005263</td>\n",
       "      <td>-0.025275</td>\n",
       "      <td>-0.024958</td>\n",
       "      <td>-0.000747</td>\n",
       "      <td>-0.021197</td>\n",
       "      <td>-0.020974</td>\n",
       "    </tr>\n",
       "    <tr>\n",
       "      <th>2023-12-05</th>\n",
       "      <td>455.260010</td>\n",
       "      <td>456.600006</td>\n",
       "      <td>69793500</td>\n",
       "      <td>-0.000197</td>\n",
       "      <td>0.005980</td>\n",
       "      <td>455.120832</td>\n",
       "      <td>449.266666</td>\n",
       "      <td>0</td>\n",
       "      <td>1.0</td>\n",
       "      <td>1</td>\n",
       "      <td>1.0</td>\n",
       "      <td>-0.000197</td>\n",
       "      <td>-0.025472</td>\n",
       "      <td>-0.025151</td>\n",
       "      <td>0.007767</td>\n",
       "      <td>-0.013430</td>\n",
       "      <td>-0.013340</td>\n",
       "    </tr>\n",
       "    <tr>\n",
       "      <th>2023-12-06</th>\n",
       "      <td>458.809998</td>\n",
       "      <td>454.760010</td>\n",
       "      <td>69124700</td>\n",
       "      <td>-0.004030</td>\n",
       "      <td>0.009971</td>\n",
       "      <td>455.451665</td>\n",
       "      <td>450.174761</td>\n",
       "      <td>0</td>\n",
       "      <td>1.0</td>\n",
       "      <td>1</td>\n",
       "      <td>1.0</td>\n",
       "      <td>-0.004038</td>\n",
       "      <td>-0.029510</td>\n",
       "      <td>-0.029079</td>\n",
       "      <td>-0.004150</td>\n",
       "      <td>-0.017580</td>\n",
       "      <td>-0.017426</td>\n",
       "    </tr>\n",
       "    <tr>\n",
       "      <th>2023-12-07</th>\n",
       "      <td>456.910004</td>\n",
       "      <td>458.230011</td>\n",
       "      <td>66995400</td>\n",
       "      <td>0.007630</td>\n",
       "      <td>0.005720</td>\n",
       "      <td>455.782499</td>\n",
       "      <td>451.189048</td>\n",
       "      <td>0</td>\n",
       "      <td>1.0</td>\n",
       "      <td>1</td>\n",
       "      <td>1.0</td>\n",
       "      <td>0.007601</td>\n",
       "      <td>-0.021909</td>\n",
       "      <td>-0.021670</td>\n",
       "      <td>0.001203</td>\n",
       "      <td>-0.016377</td>\n",
       "      <td>-0.016243</td>\n",
       "    </tr>\n",
       "  </tbody>\n",
       "</table>\n",
       "</div>"
      ],
      "text/plain": [
       "                  Open       Close    Volume   Returns     Range       12_MA  \\\n",
       "Date                                                                           \n",
       "2023-11-24  455.070007  455.299988  29737400  0.000615  0.001693  447.430832   \n",
       "2023-11-27  454.649994  454.480011  50506000 -0.001801  0.003105  448.866666   \n",
       "2023-11-28  454.079987  454.929993  62115000  0.000990  0.006108  450.624166   \n",
       "2023-11-29  457.149994  454.609985  63146000 -0.000703  0.009071  451.790833   \n",
       "2023-11-30  455.480011  456.399994  79752700  0.003937  0.007544  453.141665   \n",
       "2023-12-01  455.769989  459.100006  89097900  0.005916  0.009865  454.005831   \n",
       "2023-12-04  455.600006  456.690002  72430900 -0.005249  0.010521  454.589999   \n",
       "2023-12-05  455.260010  456.600006  69793500 -0.000197  0.005980  455.120832   \n",
       "2023-12-06  458.809998  454.760010  69124700 -0.004030  0.009971  455.451665   \n",
       "2023-12-07  456.910004  458.230011  66995400  0.007630  0.005720  455.782499   \n",
       "\n",
       "                 21_MA  HMM  MA_Signal  HMM_Signal  Main_Signal  lrets_bench  \\\n",
       "Date                                                                           \n",
       "2023-11-24  437.472380    1        1.0           0          0.0     0.000615   \n",
       "2023-11-27  439.469048    1        1.0           0          0.0    -0.001803   \n",
       "2023-11-28  441.576191    0        1.0           1          0.0     0.000990   \n",
       "2023-11-29  443.434285    0        1.0           1          1.0    -0.000704   \n",
       "2023-11-30  445.253332    0        1.0           1          1.0     0.003930   \n",
       "2023-12-01  446.988570    0        1.0           1          1.0     0.005898   \n",
       "2023-12-04  448.223332    0        1.0           1          1.0    -0.005263   \n",
       "2023-12-05  449.266666    0        1.0           1          1.0    -0.000197   \n",
       "2023-12-06  450.174761    0        1.0           1          1.0    -0.004038   \n",
       "2023-12-07  451.189048    0        1.0           1          1.0     0.007601   \n",
       "\n",
       "            bench_prod  bench_prod_exponent  lrets_strat  lrets_prod  \\\n",
       "Date                                                                   \n",
       "2023-11-24   -0.028323            -0.027926    -0.000000   -0.017054   \n",
       "2023-11-27   -0.030126            -0.029677    -0.000000   -0.017054   \n",
       "2023-11-28   -0.029136            -0.028716     0.000000   -0.017054   \n",
       "2023-11-29   -0.029840            -0.029399    -0.003660   -0.020714   \n",
       "2023-11-30   -0.025910            -0.025578     0.000636   -0.020078   \n",
       "2023-12-01   -0.020012            -0.019813    -0.000373   -0.020451   \n",
       "2023-12-04   -0.025275            -0.024958    -0.000747   -0.021197   \n",
       "2023-12-05   -0.025472            -0.025151     0.007767   -0.013430   \n",
       "2023-12-06   -0.029510            -0.029079    -0.004150   -0.017580   \n",
       "2023-12-07   -0.021909            -0.021670     0.001203   -0.016377   \n",
       "\n",
       "            strat_prod_exponent  \n",
       "Date                             \n",
       "2023-11-24            -0.016910  \n",
       "2023-11-27            -0.016910  \n",
       "2023-11-28            -0.016910  \n",
       "2023-11-29            -0.020501  \n",
       "2023-11-30            -0.019878  \n",
       "2023-12-01            -0.020243  \n",
       "2023-12-04            -0.020974  \n",
       "2023-12-05            -0.013340  \n",
       "2023-12-06            -0.017426  \n",
       "2023-12-07            -0.016243  "
      ]
     },
     "execution_count": 39,
     "metadata": {},
     "output_type": "execute_result"
    }
   ],
   "source": [
    "df_main.dropna(inplace=True)\n",
    "\n",
    "\n",
    "df_main.tail(10)"
   ]
  },
  {
   "attachments": {},
   "cell_type": "markdown",
   "metadata": {},
   "source": [
    "# Calculate Metrics"
   ]
  },
  {
   "cell_type": "code",
   "execution_count": 40,
   "metadata": {},
   "outputs": [],
   "source": [
    "# Sharpe Ratio Function\n",
    "def sharpe_ratio_calc(returns_series):\n",
    "    TradingDays = 255\n",
    "    TradingDays_SQRT = np.sqrt(TradingDays)\n",
    "    risk_free_rate = 0.01\n",
    "    mean = returns_series.mean() * TradingDays\n",
    "    sigma = returns_series.std() * TradingDays_SQRT\n",
    "    sharpe_ratio = round((mean - risk_free_rate) / sigma , 2 )\n",
    "    return sharpe_ratio"
   ]
  },
  {
   "cell_type": "code",
   "execution_count": 41,
   "metadata": {},
   "outputs": [],
   "source": [
    "# Metrics\n",
    "bench_returns = round(df_main[\"bench_prod_exponent\"].values[-1] * 100 , 1)\n",
    "strategy_returns = round(df_main[\"strat_prod_exponent\"].values[-1] * 100 , 1)\n",
    "\n",
    "\n",
    "bench_sharpe = sharpe_ratio_calc(df_main[\"lrets_bench\"].values)\n",
    "strat_sharpe = sharpe_ratio_calc(df_main[\"lrets_strat\"].values)"
   ]
  },
  {
   "cell_type": "code",
   "execution_count": 42,
   "metadata": {},
   "outputs": [
    {
     "name": "stdout",
     "output_type": "stream",
     "text": [
      "Returns Benchmark: -2.2%\n",
      "Returns Strategy: -1.6%\n",
      "-------------------\n",
      "Sharpe Benchmark: -0.11\n",
      "Sharpe Strategy: -0.18\n",
      "\n",
      "\n",
      " Sharpe ratio is saying 'for every dollar of risk, how many dollars am i getting back?'\n"
     ]
    }
   ],
   "source": [
    "# Print metrics\n",
    "print(f\"Returns Benchmark: {bench_returns}%\")\n",
    "print(f\"Returns Strategy: {strategy_returns}%\")\n",
    "\n",
    "print(\"-------------------\")\n",
    "\n",
    "print(f\"Sharpe Benchmark: {bench_sharpe}\")\n",
    "print(f\"Sharpe Strategy: {strat_sharpe}\")\n",
    "\n",
    "\n",
    "\n",
    "print(\"\\n\\n Sharpe ratio is saying 'for every dollar of risk, how many dollars am i getting back?'\")"
   ]
  },
  {
   "attachments": {},
   "cell_type": "markdown",
   "metadata": {},
   "source": [
    "# Plot Results"
   ]
  },
  {
   "cell_type": "code",
   "execution_count": 43,
   "metadata": {},
   "outputs": [
    {
     "data": {
      "image/png": "[encoded data removed]",
      "text/plain": [
       "<Figure size 640x480 with 1 Axes>"
      ]
     },
     "metadata": {},
     "output_type": "display_data"
    }
   ],
   "source": [
    "# Plot Equity Curves\n",
    "fig = plt.Figure(figsize=(18,10))\n",
    "plt.plot(df_main[\"bench_prod_exponent\"], color=\"green\" )\n",
    "plt.plot(df_main[\"strat_prod_exponent\"] , color=\"blue\")\n",
    "\n",
    "plt.show()"
   ]
  },
  {
   "cell_type": "code",
   "execution_count": 44,
   "metadata": {},
   "outputs": [
    {
     "name": "stdout",
     "output_type": "stream",
     "text": [
      "Check pass length of Close matches Hidden states array:  False\n"
     ]
    },
    {
     "data": {
      "image/png": "[encoded data removed]",
      "text/plain": [
       "<Figure size 1800x800 with 1 Axes>"
      ]
     },
     "metadata": {},
     "output_type": "display_data"
    }
   ],
   "source": [
    "labels_0 = []\n",
    "labels_1 = []\n",
    "labels_2 = []\n",
    "labels_3 = []\n",
    "\n",
    "\n",
    "prices = df[\"Close\"].values.astype(float)\n",
    "\n",
    "\n",
    "print(\"Check pass length of Close matches Hidden states array: \" , len(prices)  ==  len(hmm_results)  )\n",
    "\n",
    "\n",
    "for s in range(0,len(hmm_results), 1):\n",
    "    if hmm_results[s] == 0:\n",
    "        labels_0.append(prices[s])\n",
    "        labels_1.append(float('nan'))\n",
    "        labels_2.append(float('nan'))\n",
    "        labels_3.append(float('nan'))\n",
    "    elif hmm_results[s]  == 1:\n",
    "        labels_0.append(float('nan'))\n",
    "        labels_1.append(prices[s])\n",
    "        labels_2.append(float('nan'))\n",
    "        labels_3.append(float('nan'))\n",
    "    elif hmm_results[s]  == 2:\n",
    "        labels_0.append(float('nan'))\n",
    "        labels_1.append(float('nan'))\n",
    "        labels_2.append(prices[s])\n",
    "        labels_3.append(float('nan'))\n",
    "    elif hmm_results[s]  == 3:\n",
    "        labels_0.append(float('nan'))\n",
    "        labels_1.append(float('nan'))\n",
    "        labels_2.append(float('nan'))\n",
    "        labels_3.append(prices[s])\n",
    "\n",
    "\n",
    "# Plot Chart\n",
    "figure = plt.figure(figsize=(18,8))\n",
    "\n",
    "plt.plot(labels_0,color=\"red\")\n",
    "plt.plot(labels_1,color=\"green\")\n",
    "plt.plot(labels_2,color=\"orange\")\n",
    "plt.plot(labels_3,color=\"black\")\n",
    "plt.show()"
   ]
  },
  {
   "attachments": {},
   "cell_type": "markdown",
   "metadata": {},
   "source": [
    "# SAVE DATA"
   ]
  },
  {
   "cell_type": "code",
   "execution_count": 45,
   "metadata": {},
   "outputs": [],
   "source": [
    "df_main.to_csv(f\"data-storage/HMM-{symbol}.csv\")\n",
    "df_main.to_csv(f\"../3_Deep-Learning/data-storage/HMM-{symbol}.csv\")"
   ]
  }
 ],
 "metadata": {
  "kernelspec": {
   "display_name": "ML-finance",
   "language": "python",
   "name": "python3"
  },
  "language_info": {
   "codemirror_mode": {
    "name": "ipython",
    "version": 3
   },
   "file_extension": ".py",
   "mimetype": "text/x-python",
   "name": "python",
   "nbconvert_exporter": "python",
   "pygments_lexer": "ipython3",
   "version": "3.9.17"
  },
  "orig_nbformat": 4
 },
 "nbformat": 4,
 "nbformat_minor": 2
}
