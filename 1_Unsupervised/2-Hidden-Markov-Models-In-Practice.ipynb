{
 "cells": [
  {
   "attachments": {},
   "cell_type": "markdown",
   "metadata": {},
   "source": [
    "# Imports"
   ]
  },
  {
   "cell_type": "code",
   "execution_count": 237,
   "metadata": {},
   "outputs": [],
   "source": [
    "import pandas as pd\n",
    "import numpy as np \n",
    "\n",
    "from pyhhmm.gaussian import GaussianHMM\n",
    "\n",
    "import yfinance as yf\n",
    "\n",
    "import matplotlib.pyplot as plt"
   ]
  },
  {
   "attachments": {},
   "cell_type": "markdown",
   "metadata": {},
   "source": [
    "# Fetch Data"
   ]
  },
  {
   "cell_type": "code",
   "execution_count": 238,
   "metadata": {},
   "outputs": [
    {
     "name": "stdout",
     "output_type": "stream",
     "text": [
      "[*********************100%***********************]  1 of 1 completed\n"
     ]
    }
   ],
   "source": [
    "# Data Extraction\n",
    "start_date = \"2020-06-11\"\n",
    "end_date = \"2023-06-11\"\n",
    "symbol = \"SPY\"\n",
    "\n",
    "# USE YAHOO FINANCE \n",
    "data = yf.download(symbol ,  start_date , end_date )\n",
    "data = data[[\"Open\" , \"High\" , \"Low\" , \"Close\" ]]"
   ]
  },
  {
   "cell_type": "code",
   "execution_count": 239,
   "metadata": {},
   "outputs": [
    {
     "name": "stdout",
     "output_type": "stream",
     "text": [
      "Length:  754\n"
     ]
    }
   ],
   "source": [
    "# Add Returns and Range    \n",
    "# Returns = (todays price divided by yesterdays)     # ROI since Yesterday\n",
    "# Range   = (todays high price divided todays low)   # volitility from highest point to lowest within day\n",
    "\n",
    "df = data.copy()\n",
    "df[\"Returns\"] = (df[\"Close\"] / df[\"Close\"].shift(1)) - 1\n",
    "df[\"Range\"]   = (df[\"High\"] / df[\"Low\"]) - 1\n",
    "df.dropna(inplace=True)\n",
    "\n",
    "print(\"Length: \", len(df))"
   ]
  },
  {
   "attachments": {},
   "cell_type": "markdown",
   "metadata": {},
   "source": [
    "# Add Moving Average"
   ]
  },
  {
   "cell_type": "code",
   "execution_count": 240,
   "metadata": {},
   "outputs": [],
   "source": [
    "df[\"12_MA\"] = df[\"Close\"].rolling(window=12).mean()\n",
    "df[\"21_MA\"] = df[\"Close\"].rolling(window=21).mean()"
   ]
  },
  {
   "attachments": {},
   "cell_type": "markdown",
   "metadata": {},
   "source": [
    "# Train/Test Split Data"
   ]
  },
  {
   "cell_type": "code",
   "execution_count": 241,
   "metadata": {},
   "outputs": [
    {
     "name": "stdout",
     "output_type": "stream",
     "text": [
      "Train Data Length: 367\n",
      "Test Data Length: 367\n"
     ]
    }
   ],
   "source": [
    "# Drop NA\n",
    "df = df.dropna()\n",
    "\n",
    "# Split Data into Two sets\n",
    "train_amount = len(df)//2\n",
    "test_amount = len(df) - train_amount\n",
    "\n",
    "x_train = df[[\"Returns\" , \"Range\"]].iloc[:train_amount]\n",
    "x_test = df[[\"Returns\" , \"Range\"]].iloc[test_amount:]\n",
    "save_df = df.iloc[test_amount:]\n",
    "\n",
    "\n",
    "\n",
    "print(f\"Train Data Length: {len(x_train)}\")\n",
    "print(f\"Test Data Length: {len(x_test)}\")"
   ]
  },
  {
   "attachments": {},
   "cell_type": "markdown",
   "metadata": {},
   "source": [
    "# Train HMM"
   ]
  },
  {
   "cell_type": "code",
   "execution_count": 242,
   "metadata": {},
   "outputs": [
    {
     "name": "stderr",
     "output_type": "stream",
     "text": [
      "d:\\Programs\\Anaconda\\envs\\ML-finance\\lib\\site-packages\\sklearn\\cluster\\_kmeans.py:870: FutureWarning: The default value of `n_init` will change from 10 to 'auto' in 1.4. Set the value of `n_init` explicitly to suppress the warning\n",
      "  warnings.warn(\n"
     ]
    }
   ],
   "source": [
    "# Train Hidden Markov Model\n",
    "model = GaussianHMM(n_states=4, covariance_type=\"full\" , n_emissions=2)\n",
    "train = model.train([np.array(x_train.values)])"
   ]
  },
  {
   "attachments": {},
   "cell_type": "markdown",
   "metadata": {},
   "source": [
    "# Test HMM"
   ]
  },
  {
   "cell_type": "code",
   "execution_count": 243,
   "metadata": {},
   "outputs": [],
   "source": [
    "# Test Hidden Markov Model\n",
    "test = model.predict([x_train.values])[0]"
   ]
  },
  {
   "attachments": {},
   "cell_type": "markdown",
   "metadata": {},
   "source": [
    "# Test Predictions"
   ]
  },
  {
   "cell_type": "code",
   "execution_count": 244,
   "metadata": {},
   "outputs": [],
   "source": [
    "df_main = save_df.copy()\n",
    "df_main.drop(columns = [\"High\" , \"Low\"], inplace = True)\n",
    "\n",
    "hmm_results = model.predict([x_train.values])[0]\n",
    "df_main[\"HMM\"] = hmm_results"
   ]
  },
  {
   "attachments": {},
   "cell_type": "markdown",
   "metadata": {},
   "source": [
    "# Run BackTest\n",
    "- if the 12 day moving average is greater than the 21 day moving average, place signal\n",
    "    -  1 : go long\n",
    "    -  0 : do nothing\n",
    "    - -1 : go short"
   ]
  },
  {
   "cell_type": "code",
   "execution_count": 245,
   "metadata": {},
   "outputs": [],
   "source": [
    "# Signals\n",
    "df_main.loc[df_main[\"12_MA\"] > df_main[\"21_MA\"] , \"MA_Signal\" ] = 1\n",
    "df_main.loc[df_main[\"12_MA\"] <= df_main[\"21_MA\"] , \"MA_Signal\" ] = 0"
   ]
  },
  {
   "attachments": {},
   "cell_type": "markdown",
   "metadata": {},
   "source": [
    "# Decide Favorable States"
   ]
  },
  {
   "cell_type": "code",
   "execution_count": 336,
   "metadata": {},
   "outputs": [],
   "source": [
    "# Check Each row to see if within positive signals from HMM    \n",
    "\n",
    "# HARDCODED FAVORABLE STATES \n",
    "favorable_states = [0,3]\n",
    "\n",
    "\n",
    "hmm_values = df_main[\"HMM\"].values\n",
    "\n",
    "# 0 if no   ||   1 if yes\n",
    "hmm_values = [1 if x in favorable_states else 0 for x in hmm_values]\n",
    "\n",
    "\n",
    "df_main[\"HMM_Signal\"] = hmm_values"
   ]
  },
  {
   "cell_type": "code",
   "execution_count": 337,
   "metadata": {},
   "outputs": [],
   "source": [
    "# Add Combined \"Main\" Signal   (if moving average and HMM signals are green)\n",
    "df_main[\"Main_Signal\"] = 0\n",
    "df_main.loc[   (df_main[\"MA_Signal\"] == 1) &  (df_main[\"HMM_Signal\"] == 1 ), \"Main_Signal\" ] = 1\n",
    "\n",
    "df_main[\"Main_Signal\"] = df_main[\"Main_Signal\"].shift(1)"
   ]
  },
  {
   "cell_type": "code",
   "execution_count": 338,
   "metadata": {},
   "outputs": [],
   "source": [
    "# Benchmmark Returns\n",
    "df_main[\"lrets_bench\"] = np.log(df_main[\"Close\"] / df_main[\"Close\"].shift(1))\n",
    "df_main[\"bench_prod\"] = df_main[\"lrets_bench\"].cumsum()\n",
    "df_main[\"bench_prod_exponent\"] = np.exp(df_main[\"bench_prod\"]) - 1"
   ]
  },
  {
   "cell_type": "code",
   "execution_count": 339,
   "metadata": {},
   "outputs": [],
   "source": [
    "# Strategy Returns\n",
    "df_main[\"lrets_strat\"] = np.log(df_main[\"Open\"].shift(-1) / df_main[\"Open\"]) * df_main[\"Main_Signal\"]\n",
    "df_main[\"lrets_prod\"] = df_main[\"lrets_strat\"].cumsum()\n",
    "df_main[\"strat_prod_exponent\"] = np.exp(df_main[\"lrets_prod\"]) - 1\n"
   ]
  },
  {
   "attachments": {},
   "cell_type": "markdown",
   "metadata": {},
   "source": [
    "# Review Results\n"
   ]
  },
  {
   "cell_type": "code",
   "execution_count": 340,
   "metadata": {},
   "outputs": [
    {
     "data": {
      "text/html": [
       "<div>\n",
       "<style scoped>\n",
       "    .dataframe tbody tr th:only-of-type {\n",
       "        vertical-align: middle;\n",
       "    }\n",
       "\n",
       "    .dataframe tbody tr th {\n",
       "        vertical-align: top;\n",
       "    }\n",
       "\n",
       "    .dataframe thead th {\n",
       "        text-align: right;\n",
       "    }\n",
       "</style>\n",
       "<table border=\"1\" class=\"dataframe\">\n",
       "  <thead>\n",
       "    <tr style=\"text-align: right;\">\n",
       "      <th></th>\n",
       "      <th>Open</th>\n",
       "      <th>Close</th>\n",
       "      <th>Returns</th>\n",
       "      <th>Range</th>\n",
       "      <th>12_MA</th>\n",
       "      <th>21_MA</th>\n",
       "      <th>HMM</th>\n",
       "      <th>MA_Signal</th>\n",
       "      <th>HMM_Signal</th>\n",
       "      <th>Main_Signal</th>\n",
       "      <th>lrets_bench</th>\n",
       "      <th>bench_prod</th>\n",
       "      <th>bench_prod_exponent</th>\n",
       "      <th>lrets_strat</th>\n",
       "      <th>lrets_prod</th>\n",
       "      <th>strat_prod_exponent</th>\n",
       "    </tr>\n",
       "    <tr>\n",
       "      <th>Date</th>\n",
       "      <th></th>\n",
       "      <th></th>\n",
       "      <th></th>\n",
       "      <th></th>\n",
       "      <th></th>\n",
       "      <th></th>\n",
       "      <th></th>\n",
       "      <th></th>\n",
       "      <th></th>\n",
       "      <th></th>\n",
       "      <th></th>\n",
       "      <th></th>\n",
       "      <th></th>\n",
       "      <th></th>\n",
       "      <th></th>\n",
       "      <th></th>\n",
       "    </tr>\n",
       "  </thead>\n",
       "  <tbody>\n",
       "    <tr>\n",
       "      <th>2023-05-12</th>\n",
       "      <td>413.420013</td>\n",
       "      <td>411.589996</td>\n",
       "      <td>-0.001310</td>\n",
       "      <td>0.011172</td>\n",
       "      <td>411.725833</td>\n",
       "      <td>411.552856</td>\n",
       "      <td>1</td>\n",
       "      <td>1.0</td>\n",
       "      <td>0</td>\n",
       "      <td>0.0</td>\n",
       "      <td>-0.001311</td>\n",
       "      <td>-0.128312</td>\n",
       "      <td>-0.120421</td>\n",
       "      <td>-0.000000</td>\n",
       "      <td>0.032172</td>\n",
       "      <td>0.032695</td>\n",
       "    </tr>\n",
       "    <tr>\n",
       "      <th>2023-05-15</th>\n",
       "      <td>412.220001</td>\n",
       "      <td>413.010010</td>\n",
       "      <td>0.003450</td>\n",
       "      <td>0.007800</td>\n",
       "      <td>411.775833</td>\n",
       "      <td>411.579048</td>\n",
       "      <td>2</td>\n",
       "      <td>1.0</td>\n",
       "      <td>0</td>\n",
       "      <td>0.0</td>\n",
       "      <td>0.003444</td>\n",
       "      <td>-0.124868</td>\n",
       "      <td>-0.117387</td>\n",
       "      <td>-0.000000</td>\n",
       "      <td>0.032172</td>\n",
       "      <td>0.032695</td>\n",
       "    </tr>\n",
       "    <tr>\n",
       "      <th>2023-05-16</th>\n",
       "      <td>411.859985</td>\n",
       "      <td>410.250000</td>\n",
       "      <td>-0.006683</td>\n",
       "      <td>0.006289</td>\n",
       "      <td>411.302500</td>\n",
       "      <td>411.403333</td>\n",
       "      <td>0</td>\n",
       "      <td>0.0</td>\n",
       "      <td>1</td>\n",
       "      <td>0.0</td>\n",
       "      <td>-0.006705</td>\n",
       "      <td>-0.131573</td>\n",
       "      <td>-0.123285</td>\n",
       "      <td>0.000000</td>\n",
       "      <td>0.032172</td>\n",
       "      <td>0.032695</td>\n",
       "    </tr>\n",
       "    <tr>\n",
       "      <th>2023-05-17</th>\n",
       "      <td>412.350006</td>\n",
       "      <td>415.230011</td>\n",
       "      <td>0.012139</td>\n",
       "      <td>0.012712</td>\n",
       "      <td>411.279167</td>\n",
       "      <td>411.451906</td>\n",
       "      <td>2</td>\n",
       "      <td>0.0</td>\n",
       "      <td>0</td>\n",
       "      <td>0.0</td>\n",
       "      <td>0.012066</td>\n",
       "      <td>-0.119507</td>\n",
       "      <td>-0.112643</td>\n",
       "      <td>0.000000</td>\n",
       "      <td>0.032172</td>\n",
       "      <td>0.032695</td>\n",
       "    </tr>\n",
       "    <tr>\n",
       "      <th>2023-05-18</th>\n",
       "      <td>414.899994</td>\n",
       "      <td>419.230011</td>\n",
       "      <td>0.009633</td>\n",
       "      <td>0.012058</td>\n",
       "      <td>411.978335</td>\n",
       "      <td>411.694287</td>\n",
       "      <td>2</td>\n",
       "      <td>1.0</td>\n",
       "      <td>0</td>\n",
       "      <td>0.0</td>\n",
       "      <td>0.009587</td>\n",
       "      <td>-0.109920</td>\n",
       "      <td>-0.104095</td>\n",
       "      <td>0.000000</td>\n",
       "      <td>0.032172</td>\n",
       "      <td>0.032695</td>\n",
       "    </tr>\n",
       "    <tr>\n",
       "      <th>2023-05-19</th>\n",
       "      <td>420.170013</td>\n",
       "      <td>418.619995</td>\n",
       "      <td>-0.001455</td>\n",
       "      <td>0.008075</td>\n",
       "      <td>412.861669</td>\n",
       "      <td>412.015238</td>\n",
       "      <td>0</td>\n",
       "      <td>1.0</td>\n",
       "      <td>1</td>\n",
       "      <td>0.0</td>\n",
       "      <td>-0.001456</td>\n",
       "      <td>-0.111377</td>\n",
       "      <td>-0.105398</td>\n",
       "      <td>-0.000000</td>\n",
       "      <td>0.032172</td>\n",
       "      <td>0.032695</td>\n",
       "    </tr>\n",
       "    <tr>\n",
       "      <th>2023-05-22</th>\n",
       "      <td>418.640015</td>\n",
       "      <td>418.790009</td>\n",
       "      <td>0.000406</td>\n",
       "      <td>0.007284</td>\n",
       "      <td>414.000003</td>\n",
       "      <td>412.329048</td>\n",
       "      <td>2</td>\n",
       "      <td>1.0</td>\n",
       "      <td>0</td>\n",
       "      <td>1.0</td>\n",
       "      <td>0.000406</td>\n",
       "      <td>-0.110970</td>\n",
       "      <td>-0.105035</td>\n",
       "      <td>-0.003733</td>\n",
       "      <td>0.028439</td>\n",
       "      <td>0.028847</td>\n",
       "    </tr>\n",
       "    <tr>\n",
       "      <th>2023-05-23</th>\n",
       "      <td>417.079987</td>\n",
       "      <td>414.089996</td>\n",
       "      <td>-0.011223</td>\n",
       "      <td>0.012183</td>\n",
       "      <td>414.121668</td>\n",
       "      <td>412.398571</td>\n",
       "      <td>1</td>\n",
       "      <td>1.0</td>\n",
       "      <td>0</td>\n",
       "      <td>0.0</td>\n",
       "      <td>-0.011286</td>\n",
       "      <td>-0.122257</td>\n",
       "      <td>-0.115079</td>\n",
       "      <td>-0.000000</td>\n",
       "      <td>0.028439</td>\n",
       "      <td>0.028847</td>\n",
       "    </tr>\n",
       "    <tr>\n",
       "      <th>2023-05-24</th>\n",
       "      <td>412.420013</td>\n",
       "      <td>411.089996</td>\n",
       "      <td>-0.007245</td>\n",
       "      <td>0.007173</td>\n",
       "      <td>413.984169</td>\n",
       "      <td>412.637143</td>\n",
       "      <td>1</td>\n",
       "      <td>1.0</td>\n",
       "      <td>0</td>\n",
       "      <td>0.0</td>\n",
       "      <td>-0.007271</td>\n",
       "      <td>-0.129528</td>\n",
       "      <td>-0.121490</td>\n",
       "      <td>0.000000</td>\n",
       "      <td>0.028439</td>\n",
       "      <td>0.028847</td>\n",
       "    </tr>\n",
       "    <tr>\n",
       "      <th>2023-05-25</th>\n",
       "      <td>414.739990</td>\n",
       "      <td>414.649994</td>\n",
       "      <td>0.008660</td>\n",
       "      <td>0.009093</td>\n",
       "      <td>414.294169</td>\n",
       "      <td>413.127143</td>\n",
       "      <td>1</td>\n",
       "      <td>1.0</td>\n",
       "      <td>0</td>\n",
       "      <td>0.0</td>\n",
       "      <td>0.008623</td>\n",
       "      <td>-0.120905</td>\n",
       "      <td>-0.113882</td>\n",
       "      <td>0.000000</td>\n",
       "      <td>0.028439</td>\n",
       "      <td>0.028847</td>\n",
       "    </tr>\n",
       "  </tbody>\n",
       "</table>\n",
       "</div>"
      ],
      "text/plain": [
       "                  Open       Close   Returns     Range       12_MA  \\\n",
       "Date                                                                 \n",
       "2023-05-12  413.420013  411.589996 -0.001310  0.011172  411.725833   \n",
       "2023-05-15  412.220001  413.010010  0.003450  0.007800  411.775833   \n",
       "2023-05-16  411.859985  410.250000 -0.006683  0.006289  411.302500   \n",
       "2023-05-17  412.350006  415.230011  0.012139  0.012712  411.279167   \n",
       "2023-05-18  414.899994  419.230011  0.009633  0.012058  411.978335   \n",
       "2023-05-19  420.170013  418.619995 -0.001455  0.008075  412.861669   \n",
       "2023-05-22  418.640015  418.790009  0.000406  0.007284  414.000003   \n",
       "2023-05-23  417.079987  414.089996 -0.011223  0.012183  414.121668   \n",
       "2023-05-24  412.420013  411.089996 -0.007245  0.007173  413.984169   \n",
       "2023-05-25  414.739990  414.649994  0.008660  0.009093  414.294169   \n",
       "\n",
       "                 21_MA  HMM  MA_Signal  HMM_Signal  Main_Signal  lrets_bench  \\\n",
       "Date                                                                           \n",
       "2023-05-12  411.552856    1        1.0           0          0.0    -0.001311   \n",
       "2023-05-15  411.579048    2        1.0           0          0.0     0.003444   \n",
       "2023-05-16  411.403333    0        0.0           1          0.0    -0.006705   \n",
       "2023-05-17  411.451906    2        0.0           0          0.0     0.012066   \n",
       "2023-05-18  411.694287    2        1.0           0          0.0     0.009587   \n",
       "2023-05-19  412.015238    0        1.0           1          0.0    -0.001456   \n",
       "2023-05-22  412.329048    2        1.0           0          1.0     0.000406   \n",
       "2023-05-23  412.398571    1        1.0           0          0.0    -0.011286   \n",
       "2023-05-24  412.637143    1        1.0           0          0.0    -0.007271   \n",
       "2023-05-25  413.127143    1        1.0           0          0.0     0.008623   \n",
       "\n",
       "            bench_prod  bench_prod_exponent  lrets_strat  lrets_prod  \\\n",
       "Date                                                                   \n",
       "2023-05-12   -0.128312            -0.120421    -0.000000    0.032172   \n",
       "2023-05-15   -0.124868            -0.117387    -0.000000    0.032172   \n",
       "2023-05-16   -0.131573            -0.123285     0.000000    0.032172   \n",
       "2023-05-17   -0.119507            -0.112643     0.000000    0.032172   \n",
       "2023-05-18   -0.109920            -0.104095     0.000000    0.032172   \n",
       "2023-05-19   -0.111377            -0.105398    -0.000000    0.032172   \n",
       "2023-05-22   -0.110970            -0.105035    -0.003733    0.028439   \n",
       "2023-05-23   -0.122257            -0.115079    -0.000000    0.028439   \n",
       "2023-05-24   -0.129528            -0.121490     0.000000    0.028439   \n",
       "2023-05-25   -0.120905            -0.113882     0.000000    0.028439   \n",
       "\n",
       "            strat_prod_exponent  \n",
       "Date                             \n",
       "2023-05-12             0.032695  \n",
       "2023-05-15             0.032695  \n",
       "2023-05-16             0.032695  \n",
       "2023-05-17             0.032695  \n",
       "2023-05-18             0.032695  \n",
       "2023-05-19             0.032695  \n",
       "2023-05-22             0.028847  \n",
       "2023-05-23             0.028847  \n",
       "2023-05-24             0.028847  \n",
       "2023-05-25             0.028847  "
      ]
     },
     "execution_count": 340,
     "metadata": {},
     "output_type": "execute_result"
    }
   ],
   "source": [
    "df_main.dropna(inplace=True)\n",
    "\n",
    "\n",
    "df_main.tail(10)"
   ]
  },
  {
   "attachments": {},
   "cell_type": "markdown",
   "metadata": {},
   "source": [
    "# Calculate Metrics"
   ]
  },
  {
   "cell_type": "code",
   "execution_count": 341,
   "metadata": {},
   "outputs": [],
   "source": [
    "# Sharpe Ratio Function\n",
    "def sharpe_ratio_calc(returns_series):\n",
    "    TradingDays = 255\n",
    "    TradingDays_SQRT = np.sqrt(TradingDays)\n",
    "    risk_free_rate = 0.01\n",
    "    mean = returns_series.mean() * TradingDays\n",
    "    sigma = returns_series.std() * TradingDays_SQRT\n",
    "    sharpe_ratio = round((mean - risk_free_rate) / sigma , 2 )\n",
    "    return sharpe_ratio"
   ]
  },
  {
   "cell_type": "code",
   "execution_count": 342,
   "metadata": {},
   "outputs": [],
   "source": [
    "# Metrics\n",
    "bench_returns = round(df_main[\"bench_prod_exponent\"].values[-1] * 100 , 1)\n",
    "strategy_returns = round(df_main[\"strat_prod_exponent\"].values[-1] * 100 , 1)\n",
    "\n",
    "\n",
    "bench_sharpe = sharpe_ratio_calc(df_main[\"lrets_bench\"].values)\n",
    "strat_sharpe = sharpe_ratio_calc(df_main[\"lrets_strat\"].values)"
   ]
  },
  {
   "cell_type": "code",
   "execution_count": 343,
   "metadata": {},
   "outputs": [
    {
     "name": "stdout",
     "output_type": "stream",
     "text": [
      "Returns Benchmark: -11.4%\n",
      "Returns Strategy: 2.9%\n",
      "-------------------\n",
      "Sharpe Benchmark: -0.44\n",
      "Sharpe Strategy: 0.39\n",
      "\n",
      "\n",
      " Sharpe ratio is saying 'for every dollar of risk, how many dollars am i getting back?'\n"
     ]
    }
   ],
   "source": [
    "# Print metrics\n",
    "print(f\"Returns Benchmark: {bench_returns}%\")\n",
    "print(f\"Returns Strategy: {strategy_returns}%\")\n",
    "\n",
    "print(\"-------------------\")\n",
    "\n",
    "print(f\"Sharpe Benchmark: {bench_sharpe}\")\n",
    "print(f\"Sharpe Strategy: {strat_sharpe}\")\n",
    "\n",
    "\n",
    "\n",
    "print(\"\\n\\n Sharpe ratio is saying 'for every dollar of risk, how many dollars am i getting back?'\")"
   ]
  },
  {
   "attachments": {},
   "cell_type": "markdown",
   "metadata": {},
   "source": [
    "# Plot Results"
   ]
  },
  {
   "cell_type": "code",
   "execution_count": 344,
   "metadata": {},
   "outputs": [
    {
     "data": {
      "image/png": "[encoded data removed]",
      "text/plain": [
       "<Figure size 640x480 with 1 Axes>"
      ]
     },
     "metadata": {},
     "output_type": "display_data"
    }
   ],
   "source": [
    "# Plot Equity Curves\n",
    "fig = plt.Figure(figsize=(18,10))\n",
    "plt.plot(df_main[\"bench_prod_exponent\"], color=\"green\" )\n",
    "plt.plot(df_main[\"strat_prod_exponent\"] , color=\"blue\")\n",
    "\n",
    "plt.show()"
   ]
  },
  {
   "attachments": {},
   "cell_type": "markdown",
   "metadata": {},
   "source": [
    "# SAVE DATA"
   ]
  },
  {
   "cell_type": "code",
   "execution_count": 345,
   "metadata": {},
   "outputs": [],
   "source": [
    "df_main.to_csv(f\"data-storage/HMM-{symbol}.csv\")"
   ]
  }
 ],
 "metadata": {
  "kernelspec": {
   "display_name": "ML-finance",
   "language": "python",
   "name": "python3"
  },
  "language_info": {
   "codemirror_mode": {
    "name": "ipython",
    "version": 3
   },
   "file_extension": ".py",
   "mimetype": "text/x-python",
   "name": "python",
   "nbconvert_exporter": "python",
   "pygments_lexer": "ipython3",
   "version": "3.9.15"
  },
  "orig_nbformat": 4
 },
 "nbformat": 4,
 "nbformat_minor": 2
}
