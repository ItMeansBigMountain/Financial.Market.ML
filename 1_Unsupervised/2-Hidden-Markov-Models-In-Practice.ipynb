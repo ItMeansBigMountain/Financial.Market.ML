{
 "cells": [
  {
   "attachments": {},
   "cell_type": "markdown",
   "metadata": {},
   "source": [
    "# Imports"
   ]
  },
  {
   "cell_type": "code",
   "execution_count": 46,
   "metadata": {},
   "outputs": [],
   "source": [
    "import pandas as pd\n",
    "import numpy as np \n",
    "\n",
    "from pyhhmm.gaussian import GaussianHMM\n",
    "\n",
    "import yfinance as yf\n",
    "\n",
    "import matplotlib.pyplot as plt"
   ]
  },
  {
   "attachments": {},
   "cell_type": "markdown",
   "metadata": {},
   "source": [
    "# Fetch Data"
   ]
  },
  {
   "cell_type": "code",
   "execution_count": 47,
   "metadata": {},
   "outputs": [
    {
     "name": "stdout",
     "output_type": "stream",
     "text": [
      "[*********************100%***********************]  1 of 1 completed\n"
     ]
    }
   ],
   "source": [
    "# Data Extraction\n",
    "start_date = \"2020-01-01\"\n",
    "end_date = \"2023-06-11\"\n",
    "symbol = \"SPY\"\n",
    "\n",
    "# USE YAHOO FINANCE \n",
    "data = yf.download(symbol ,  start_date , end_date )\n",
    "data = data[[\"Open\" , \"High\" , \"Low\" , \"Close\" ]]"
   ]
  },
  {
   "cell_type": "code",
   "execution_count": 48,
   "metadata": {},
   "outputs": [
    {
     "name": "stdout",
     "output_type": "stream",
     "text": [
      "Length:  865\n"
     ]
    }
   ],
   "source": [
    "# Add Returns and Range    \n",
    "# Returns = (todays price divided by yesterdays)     # ROI since Yesterday\n",
    "# Range   = (todays high price divided todays low)   # volitility from highest point to lowest within day\n",
    "\n",
    "df = data.copy()\n",
    "df[\"Returns\"] = (df[\"Close\"] / df[\"Close\"].shift(1)) - 1\n",
    "df[\"Range\"]   = (df[\"High\"] / df[\"Low\"]) - 1\n",
    "df.dropna(inplace=True)\n",
    "\n",
    "print(\"Length: \", len(df))"
   ]
  },
  {
   "attachments": {},
   "cell_type": "markdown",
   "metadata": {},
   "source": [
    "# Add Moving Average"
   ]
  },
  {
   "cell_type": "code",
   "execution_count": 49,
   "metadata": {},
   "outputs": [],
   "source": [
    "df[\"12_MA\"] = df[\"Close\"].rolling(window=12).mean()\n",
    "df[\"21_MA\"] = df[\"Close\"].rolling(window=21).mean()"
   ]
  },
  {
   "attachments": {},
   "cell_type": "markdown",
   "metadata": {},
   "source": [
    "# Train/Test Split Data"
   ]
  },
  {
   "cell_type": "code",
   "execution_count": 50,
   "metadata": {},
   "outputs": [
    {
     "name": "stdout",
     "output_type": "stream",
     "text": [
      "Train Data Length: 500\n",
      "Test Data Length: 365\n"
     ]
    }
   ],
   "source": [
    "x_train = df[[\"Returns\" , \"Range\"]].iloc[:500]\n",
    "x_test = df[[\"Returns\" , \"Range\"]].iloc[500:]\n",
    "save_df = df.iloc[500:]\n",
    "\n",
    "\n",
    "\n",
    "print(f\"Train Data Length: {len(x_train)}\")\n",
    "print(f\"Test Data Length: {len(x_test)}\")"
   ]
  },
  {
   "attachments": {},
   "cell_type": "markdown",
   "metadata": {},
   "source": [
    "# Train HMM"
   ]
  },
  {
   "cell_type": "code",
   "execution_count": 51,
   "metadata": {},
   "outputs": [
    {
     "name": "stderr",
     "output_type": "stream",
     "text": [
      "d:\\Programs\\Anaconda\\envs\\ML-finance\\lib\\site-packages\\sklearn\\cluster\\_kmeans.py:870: FutureWarning: The default value of `n_init` will change from 10 to 'auto' in 1.4. Set the value of `n_init` explicitly to suppress the warning\n",
      "  warnings.warn(\n"
     ]
    }
   ],
   "source": [
    "# Train Hidden Markov Model\n",
    "model = GaussianHMM(n_states=4, covariance_type=\"full\" , n_emissions=2)\n",
    "train = model.train([np.array(x_train.values)])"
   ]
  },
  {
   "attachments": {},
   "cell_type": "markdown",
   "metadata": {},
   "source": [
    "# Test HMM"
   ]
  },
  {
   "cell_type": "code",
   "execution_count": 52,
   "metadata": {},
   "outputs": [],
   "source": [
    "# Test Hidden Markov Model\n",
    "test = model.predict([x_train.values])[0]"
   ]
  },
  {
   "attachments": {},
   "cell_type": "markdown",
   "metadata": {},
   "source": [
    "# Test Predictions"
   ]
  },
  {
   "cell_type": "code",
   "execution_count": 53,
   "metadata": {},
   "outputs": [],
   "source": [
    "df_main = save_df.copy()\n",
    "df_main.drop(columns = [\"High\" , \"Low\"], inplace = True)\n",
    "\n",
    "hmm_results = model.predict([x_test.values])[0]\n",
    "df_main[\"HMM\"] = hmm_results"
   ]
  },
  {
   "attachments": {},
   "cell_type": "markdown",
   "metadata": {},
   "source": [
    "# Run BackTest\n",
    "- if the 12 day moving average is greater than the 21 day moving average, place signal\n",
    "    -  1 : go long\n",
    "    -  0 : do nothing\n",
    "    - -1 : go short"
   ]
  },
  {
   "cell_type": "code",
   "execution_count": 54,
   "metadata": {},
   "outputs": [],
   "source": [
    "# Signals\n",
    "df_main.loc[df_main[\"12_MA\"] > df_main[\"21_MA\"] , \"MA_Signal\" ] = int(1)\n",
    "df_main.loc[df_main[\"12_MA\"] <= df_main[\"21_MA\"] , \"MA_Signal\" ] = 0"
   ]
  },
  {
   "attachments": {},
   "cell_type": "markdown",
   "metadata": {},
   "source": [
    "# Decide Favorable States"
   ]
  },
  {
   "cell_type": "code",
   "execution_count": 55,
   "metadata": {},
   "outputs": [],
   "source": [
    "# Check Each row to see if within positive signals from HMM    \n",
    "\n",
    "# HARDCODED FAVORABLE STATES \n",
    "# favorable_states = [0,3]\n",
    "\n",
    "\n",
    "\n",
    "# AUTO GENERATED FAVORABLE STATES\n",
    "    # Calculate state probabilities using HMM for the training data\n",
    "state_probabilities = model.predict_proba([x_train.values])[0]\n",
    "    # Identify favorable states where the maximum probability is above 0.2\n",
    "favorable_states = np.where(state_probabilities.max(axis=0) > 0.2)[0]\n",
    "\n",
    "\n",
    "\n",
    "\n",
    "\n",
    "hmm_values = df_main[\"HMM\"].values\n",
    "\n",
    "# 0 if no   ||   1 if yes\n",
    "hmm_values = [1 if x in favorable_states else 0 for x in hmm_values]\n",
    "\n",
    "\n",
    "df_main[\"HMM_Signal\"] = hmm_values"
   ]
  },
  {
   "cell_type": "code",
   "execution_count": 56,
   "metadata": {},
   "outputs": [],
   "source": [
    "# Add Combined \"Main\" Signal   (if moving average and HMM signals are green)\n",
    "df_main[\"Main_Signal\"] = 0\n",
    "df_main.loc[   (df_main[\"MA_Signal\"] == 1) &  (df_main[\"HMM_Signal\"] == 1 ), \"Main_Signal\" ] = 1\n",
    "\n",
    "df_main[\"Main_Signal\"] = df_main[\"Main_Signal\"].shift(1)"
   ]
  },
  {
   "cell_type": "code",
   "execution_count": 57,
   "metadata": {},
   "outputs": [],
   "source": [
    "# Benchmmark Returns\n",
    "df_main[\"lrets_bench\"] = np.log(df_main[\"Close\"] / df_main[\"Close\"].shift(1))\n",
    "df_main[\"bench_prod\"] = df_main[\"lrets_bench\"].cumsum()\n",
    "df_main[\"bench_prod_exponent\"] = np.exp(df_main[\"bench_prod\"]) - 1"
   ]
  },
  {
   "cell_type": "code",
   "execution_count": 58,
   "metadata": {},
   "outputs": [],
   "source": [
    "# Strategy Returns\n",
    "df_main[\"lrets_strat\"] = np.log(df_main[\"Open\"].shift(-1) / df_main[\"Open\"]) * df_main[\"Main_Signal\"]\n",
    "df_main[\"lrets_prod\"] = df_main[\"lrets_strat\"].cumsum()\n",
    "df_main[\"strat_prod_exponent\"] = np.exp(df_main[\"lrets_prod\"]) - 1\n"
   ]
  },
  {
   "attachments": {},
   "cell_type": "markdown",
   "metadata": {},
   "source": [
    "# Review Results\n"
   ]
  },
  {
   "cell_type": "code",
   "execution_count": 59,
   "metadata": {},
   "outputs": [
    {
     "data": {
      "text/html": [
       "<div>\n",
       "<style scoped>\n",
       "    .dataframe tbody tr th:only-of-type {\n",
       "        vertical-align: middle;\n",
       "    }\n",
       "\n",
       "    .dataframe tbody tr th {\n",
       "        vertical-align: top;\n",
       "    }\n",
       "\n",
       "    .dataframe thead th {\n",
       "        text-align: right;\n",
       "    }\n",
       "</style>\n",
       "<table border=\"1\" class=\"dataframe\">\n",
       "  <thead>\n",
       "    <tr style=\"text-align: right;\">\n",
       "      <th></th>\n",
       "      <th>Open</th>\n",
       "      <th>Close</th>\n",
       "      <th>Returns</th>\n",
       "      <th>Range</th>\n",
       "      <th>12_MA</th>\n",
       "      <th>21_MA</th>\n",
       "      <th>HMM</th>\n",
       "      <th>MA_Signal</th>\n",
       "      <th>HMM_Signal</th>\n",
       "      <th>Main_Signal</th>\n",
       "      <th>lrets_bench</th>\n",
       "      <th>bench_prod</th>\n",
       "      <th>bench_prod_exponent</th>\n",
       "      <th>lrets_strat</th>\n",
       "      <th>lrets_prod</th>\n",
       "      <th>strat_prod_exponent</th>\n",
       "    </tr>\n",
       "    <tr>\n",
       "      <th>Date</th>\n",
       "      <th></th>\n",
       "      <th></th>\n",
       "      <th></th>\n",
       "      <th></th>\n",
       "      <th></th>\n",
       "      <th></th>\n",
       "      <th></th>\n",
       "      <th></th>\n",
       "      <th></th>\n",
       "      <th></th>\n",
       "      <th></th>\n",
       "      <th></th>\n",
       "      <th></th>\n",
       "      <th></th>\n",
       "      <th></th>\n",
       "      <th></th>\n",
       "    </tr>\n",
       "  </thead>\n",
       "  <tbody>\n",
       "    <tr>\n",
       "      <th>2023-06-02</th>\n",
       "      <td>424.500000</td>\n",
       "      <td>427.920013</td>\n",
       "      <td>0.014461</td>\n",
       "      <td>0.011298</td>\n",
       "      <td>418.290835</td>\n",
       "      <td>415.273811</td>\n",
       "      <td>0</td>\n",
       "      <td>1.0</td>\n",
       "      <td>1</td>\n",
       "      <td>1.0</td>\n",
       "      <td>0.014358</td>\n",
       "      <td>-0.108308</td>\n",
       "      <td>-0.102648</td>\n",
       "      <td>0.008865</td>\n",
       "      <td>-0.202926</td>\n",
       "      <td>-0.183661</td>\n",
       "    </tr>\n",
       "    <tr>\n",
       "      <th>2023-06-05</th>\n",
       "      <td>428.279999</td>\n",
       "      <td>427.100006</td>\n",
       "      <td>-0.001916</td>\n",
       "      <td>0.007622</td>\n",
       "      <td>419.280001</td>\n",
       "      <td>416.320002</td>\n",
       "      <td>1</td>\n",
       "      <td>1.0</td>\n",
       "      <td>1</td>\n",
       "      <td>1.0</td>\n",
       "      <td>-0.001918</td>\n",
       "      <td>-0.110226</td>\n",
       "      <td>-0.104368</td>\n",
       "      <td>-0.003766</td>\n",
       "      <td>-0.206692</td>\n",
       "      <td>-0.186730</td>\n",
       "    </tr>\n",
       "    <tr>\n",
       "      <th>2023-06-06</th>\n",
       "      <td>426.670013</td>\n",
       "      <td>428.029999</td>\n",
       "      <td>0.002177</td>\n",
       "      <td>0.006080</td>\n",
       "      <td>420.013334</td>\n",
       "      <td>417.053335</td>\n",
       "      <td>0</td>\n",
       "      <td>1.0</td>\n",
       "      <td>1</td>\n",
       "      <td>1.0</td>\n",
       "      <td>0.002175</td>\n",
       "      <td>-0.108051</td>\n",
       "      <td>-0.102418</td>\n",
       "      <td>0.004140</td>\n",
       "      <td>-0.202552</td>\n",
       "      <td>-0.183356</td>\n",
       "    </tr>\n",
       "    <tr>\n",
       "      <th>2023-06-07</th>\n",
       "      <td>428.440002</td>\n",
       "      <td>426.549988</td>\n",
       "      <td>-0.003458</td>\n",
       "      <td>0.008237</td>\n",
       "      <td>420.674166</td>\n",
       "      <td>417.710953</td>\n",
       "      <td>1</td>\n",
       "      <td>1.0</td>\n",
       "      <td>1</td>\n",
       "      <td>1.0</td>\n",
       "      <td>-0.003464</td>\n",
       "      <td>-0.111514</td>\n",
       "      <td>-0.105521</td>\n",
       "      <td>-0.004257</td>\n",
       "      <td>-0.206809</td>\n",
       "      <td>-0.186825</td>\n",
       "    </tr>\n",
       "    <tr>\n",
       "      <th>2023-06-08</th>\n",
       "      <td>426.619995</td>\n",
       "      <td>429.130005</td>\n",
       "      <td>0.006049</td>\n",
       "      <td>0.008877</td>\n",
       "      <td>421.535833</td>\n",
       "      <td>418.577621</td>\n",
       "      <td>0</td>\n",
       "      <td>1.0</td>\n",
       "      <td>1</td>\n",
       "      <td>1.0</td>\n",
       "      <td>0.006030</td>\n",
       "      <td>-0.105484</td>\n",
       "      <td>-0.100111</td>\n",
       "      <td>0.007798</td>\n",
       "      <td>-0.199011</td>\n",
       "      <td>-0.180459</td>\n",
       "    </tr>\n",
       "  </tbody>\n",
       "</table>\n",
       "</div>"
      ],
      "text/plain": [
       "                  Open       Close   Returns     Range       12_MA  \\\n",
       "Date                                                                 \n",
       "2023-06-02  424.500000  427.920013  0.014461  0.011298  418.290835   \n",
       "2023-06-05  428.279999  427.100006 -0.001916  0.007622  419.280001   \n",
       "2023-06-06  426.670013  428.029999  0.002177  0.006080  420.013334   \n",
       "2023-06-07  428.440002  426.549988 -0.003458  0.008237  420.674166   \n",
       "2023-06-08  426.619995  429.130005  0.006049  0.008877  421.535833   \n",
       "\n",
       "                 21_MA  HMM  MA_Signal  HMM_Signal  Main_Signal  lrets_bench  \\\n",
       "Date                                                                           \n",
       "2023-06-02  415.273811    0        1.0           1          1.0     0.014358   \n",
       "2023-06-05  416.320002    1        1.0           1          1.0    -0.001918   \n",
       "2023-06-06  417.053335    0        1.0           1          1.0     0.002175   \n",
       "2023-06-07  417.710953    1        1.0           1          1.0    -0.003464   \n",
       "2023-06-08  418.577621    0        1.0           1          1.0     0.006030   \n",
       "\n",
       "            bench_prod  bench_prod_exponent  lrets_strat  lrets_prod  \\\n",
       "Date                                                                   \n",
       "2023-06-02   -0.108308            -0.102648     0.008865   -0.202926   \n",
       "2023-06-05   -0.110226            -0.104368    -0.003766   -0.206692   \n",
       "2023-06-06   -0.108051            -0.102418     0.004140   -0.202552   \n",
       "2023-06-07   -0.111514            -0.105521    -0.004257   -0.206809   \n",
       "2023-06-08   -0.105484            -0.100111     0.007798   -0.199011   \n",
       "\n",
       "            strat_prod_exponent  \n",
       "Date                             \n",
       "2023-06-02            -0.183661  \n",
       "2023-06-05            -0.186730  \n",
       "2023-06-06            -0.183356  \n",
       "2023-06-07            -0.186825  \n",
       "2023-06-08            -0.180459  "
      ]
     },
     "execution_count": 59,
     "metadata": {},
     "output_type": "execute_result"
    }
   ],
   "source": [
    "df_main.dropna(inplace=True)\n",
    "\n",
    "\n",
    "df_main.tail(5)"
   ]
  },
  {
   "attachments": {},
   "cell_type": "markdown",
   "metadata": {},
   "source": [
    "# Calculate Metrics"
   ]
  },
  {
   "cell_type": "code",
   "execution_count": 60,
   "metadata": {},
   "outputs": [],
   "source": [
    "# Sharpe Ratio Function\n",
    "def sharpe_ratio_calc(returns_series):\n",
    "    TradingDays = 255\n",
    "    TradingDays_SQRT = np.sqrt(TradingDays)\n",
    "    risk_free_rate = 0.01\n",
    "    mean = returns_series.mean() * TradingDays\n",
    "    sigma = returns_series.std() * TradingDays_SQRT\n",
    "    sharpe_ratio = round((mean - risk_free_rate) / sigma , 2 )\n",
    "    return sharpe_ratio"
   ]
  },
  {
   "cell_type": "code",
   "execution_count": 61,
   "metadata": {},
   "outputs": [],
   "source": [
    "# Metrics\n",
    "bench_returns = round(df_main[\"bench_prod_exponent\"].values[-1] * 100 , 1)\n",
    "strategy_returns = round(df_main[\"strat_prod_exponent\"].values[-1] * 100 , 1)\n",
    "\n",
    "\n",
    "bench_sharpe = sharpe_ratio_calc(df_main[\"lrets_bench\"].values)\n",
    "strat_sharpe = sharpe_ratio_calc(df_main[\"lrets_strat\"].values)"
   ]
  },
  {
   "cell_type": "code",
   "execution_count": 62,
   "metadata": {},
   "outputs": [
    {
     "name": "stdout",
     "output_type": "stream",
     "text": [
      "Returns Benchmark: -10.0%\n",
      "Returns Strategy: -18.0%\n",
      "-------------------\n",
      "Sharpe Benchmark: -0.38\n",
      "Sharpe Strategy: -1.03\n",
      "\n",
      "\n",
      " Sharpe ratio is saying 'for every dollar of risk, how many dollars am i getting back?'\n"
     ]
    }
   ],
   "source": [
    "# Print metrics\n",
    "print(f\"Returns Benchmark: {bench_returns}%\")\n",
    "print(f\"Returns Strategy: {strategy_returns}%\")\n",
    "\n",
    "print(\"-------------------\")\n",
    "\n",
    "print(f\"Sharpe Benchmark: {bench_sharpe}\")\n",
    "print(f\"Sharpe Strategy: {strat_sharpe}\")\n",
    "\n",
    "\n",
    "\n",
    "print(\"\\n\\n Sharpe ratio is saying 'for every dollar of risk, how many dollars am i getting back?'\")"
   ]
  },
  {
   "attachments": {},
   "cell_type": "markdown",
   "metadata": {},
   "source": [
    "# Plot Results"
   ]
  },
  {
   "cell_type": "code",
   "execution_count": 63,
   "metadata": {},
   "outputs": [
    {
     "data": {
      "image/png": "[encoded data removed]",
      "text/plain": [
       "<Figure size 640x480 with 1 Axes>"
      ]
     },
     "metadata": {},
     "output_type": "display_data"
    }
   ],
   "source": [
    "# Plot Equity Curves\n",
    "fig = plt.Figure(figsize=(18,10))\n",
    "plt.plot(df_main[\"bench_prod_exponent\"], color=\"green\" )\n",
    "plt.plot(df_main[\"strat_prod_exponent\"] , color=\"blue\")\n",
    "\n",
    "plt.show()"
   ]
  },
  {
   "attachments": {},
   "cell_type": "markdown",
   "metadata": {},
   "source": [
    "# SAVE DATA"
   ]
  },
  {
   "cell_type": "code",
   "execution_count": 64,
   "metadata": {},
   "outputs": [],
   "source": [
    "df_main.to_csv(f\"../data-storage/HMM-{symbol}.csv\")"
   ]
  }
 ],
 "metadata": {
  "kernelspec": {
   "display_name": "ML-finance",
   "language": "python",
   "name": "python3"
  },
  "language_info": {
   "codemirror_mode": {
    "name": "ipython",
    "version": 3
   },
   "file_extension": ".py",
   "mimetype": "text/x-python",
   "name": "python",
   "nbconvert_exporter": "python",
   "pygments_lexer": "ipython3",
   "version": "3.9.15"
  },
  "orig_nbformat": 4
 },
 "nbformat": 4,
 "nbformat_minor": 2
}
