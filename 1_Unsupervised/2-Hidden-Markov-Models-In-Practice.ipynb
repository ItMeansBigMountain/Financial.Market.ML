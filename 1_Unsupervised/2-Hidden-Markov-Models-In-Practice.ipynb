{
 "cells": [
  {
   "attachments": {},
   "cell_type": "markdown",
   "metadata": {},
   "source": [
    "# Imports"
   ]
  },
  {
   "cell_type": "code",
   "execution_count": 1,
   "metadata": {},
   "outputs": [],
   "source": [
    "import pandas as pd\n",
    "import numpy as np \n",
    "\n",
    "from pyhhmm.gaussian import GaussianHMM\n",
    "\n",
    "import yfinance as yf\n",
    "\n",
    "import matplotlib.pyplot as plt"
   ]
  },
  {
   "attachments": {},
   "cell_type": "markdown",
   "metadata": {},
   "source": [
    "# Fetch Data"
   ]
  },
  {
   "cell_type": "code",
   "execution_count": 2,
   "metadata": {},
   "outputs": [
    {
     "name": "stdout",
     "output_type": "stream",
     "text": [
      "[*********************100%***********************]  1 of 1 completed\n"
     ]
    }
   ],
   "source": [
    "# Data Extraction\n",
    "start_date = \"2020-06-11\"\n",
    "end_date = \"2023-06-11\"\n",
    "symbol = \"SPY\"\n",
    "\n",
    "# USE YAHOO FINANCE \n",
    "data = yf.download(symbol ,  start_date , end_date )\n",
    "data = data[[\"Open\" , \"High\" , \"Low\" , \"Close\" ]]"
   ]
  },
  {
   "cell_type": "code",
   "execution_count": 3,
   "metadata": {},
   "outputs": [
    {
     "name": "stdout",
     "output_type": "stream",
     "text": [
      "Length:  754\n"
     ]
    }
   ],
   "source": [
    "# Add Returns and Range    \n",
    "# Returns = (todays price divided by yesterdays)     # ROI since Yesterday\n",
    "# Range   = (todays high price divided todays low)   # volitility from highest point to lowest within day\n",
    "\n",
    "df = data.copy()\n",
    "df[\"Returns\"] = (df[\"Close\"] / df[\"Close\"].shift(1)) - 1\n",
    "df[\"Range\"]   = (df[\"High\"] / df[\"Low\"]) - 1\n",
    "df.dropna(inplace=True)\n",
    "\n",
    "print(\"Length: \", len(df))"
   ]
  },
  {
   "attachments": {},
   "cell_type": "markdown",
   "metadata": {},
   "source": [
    "# Add Moving Average"
   ]
  },
  {
   "cell_type": "code",
   "execution_count": 4,
   "metadata": {},
   "outputs": [],
   "source": [
    "df[\"12_MA\"] = df[\"Close\"].rolling(window=12).mean()\n",
    "df[\"21_MA\"] = df[\"Close\"].rolling(window=21).mean()"
   ]
  },
  {
   "attachments": {},
   "cell_type": "markdown",
   "metadata": {},
   "source": [
    "# Train/Test Split Data"
   ]
  },
  {
   "cell_type": "code",
   "execution_count": 5,
   "metadata": {},
   "outputs": [
    {
     "name": "stdout",
     "output_type": "stream",
     "text": [
      "Train Data Length: 367\n",
      "Test Data Length: 367\n"
     ]
    }
   ],
   "source": [
    "# Drop NA\n",
    "df = df.dropna()\n",
    "\n",
    "# Split Data into Two sets\n",
    "train_amount = len(df)//2\n",
    "test_amount = len(df) - train_amount\n",
    "\n",
    "x_train = df[[\"Returns\" , \"Range\"]].iloc[:train_amount]\n",
    "x_test = df[[\"Returns\" , \"Range\"]].iloc[test_amount:]\n",
    "save_df = df.iloc[test_amount:]\n",
    "\n",
    "\n",
    "\n",
    "print(f\"Train Data Length: {len(x_train)}\")\n",
    "print(f\"Test Data Length: {len(x_test)}\")"
   ]
  },
  {
   "attachments": {},
   "cell_type": "markdown",
   "metadata": {},
   "source": [
    "# Train HMM"
   ]
  },
  {
   "cell_type": "code",
   "execution_count": 6,
   "metadata": {},
   "outputs": [
    {
     "name": "stderr",
     "output_type": "stream",
     "text": [
      "d:\\Programs\\Anaconda\\envs\\ML-finance\\lib\\site-packages\\sklearn\\cluster\\_kmeans.py:1412: FutureWarning: The default value of `n_init` will change from 10 to 'auto' in 1.4. Set the value of `n_init` explicitly to suppress the warning\n",
      "  super()._check_params_vs_input(X, default_n_init=10)\n",
      "d:\\Programs\\Anaconda\\envs\\ML-finance\\lib\\site-packages\\sklearn\\cluster\\_kmeans.py:1436: UserWarning: KMeans is known to have a memory leak on Windows with MKL, when there are less chunks than available threads. You can avoid it by setting the environment variable OMP_NUM_THREADS=2.\n",
      "  warnings.warn(\n"
     ]
    }
   ],
   "source": [
    "# Train Hidden Markov Model\n",
    "model = GaussianHMM(n_states=4, covariance_type=\"full\" , n_emissions=2)\n",
    "train = model.train([np.array(x_train.values)])"
   ]
  },
  {
   "attachments": {},
   "cell_type": "markdown",
   "metadata": {},
   "source": [
    "# Test HMM"
   ]
  },
  {
   "cell_type": "code",
   "execution_count": 7,
   "metadata": {},
   "outputs": [],
   "source": [
    "# Test Hidden Markov Model\n",
    "test = model.predict([x_train.values])[0]"
   ]
  },
  {
   "attachments": {},
   "cell_type": "markdown",
   "metadata": {},
   "source": [
    "# Test Predictions"
   ]
  },
  {
   "cell_type": "code",
   "execution_count": 8,
   "metadata": {},
   "outputs": [],
   "source": [
    "df_main = save_df.copy()\n",
    "df_main.drop(columns = [\"High\" , \"Low\"], inplace = True)\n",
    "\n",
    "hmm_results = model.predict([x_train.values])[0]\n",
    "df_main[\"HMM\"] = hmm_results"
   ]
  },
  {
   "attachments": {},
   "cell_type": "markdown",
   "metadata": {},
   "source": [
    "# Run BackTest\n",
    "- if the 12 day moving average is greater than the 21 day moving average, place signal\n",
    "    -  1 : go long\n",
    "    -  0 : do nothing\n",
    "    - -1 : go short"
   ]
  },
  {
   "cell_type": "code",
   "execution_count": 9,
   "metadata": {},
   "outputs": [],
   "source": [
    "# Signals\n",
    "df_main.loc[df_main[\"12_MA\"] > df_main[\"21_MA\"] , \"MA_Signal\" ] = 1\n",
    "df_main.loc[df_main[\"12_MA\"] <= df_main[\"21_MA\"] , \"MA_Signal\" ] = 0"
   ]
  },
  {
   "attachments": {},
   "cell_type": "markdown",
   "metadata": {},
   "source": [
    "# Decide Favorable States"
   ]
  },
  {
   "cell_type": "code",
   "execution_count": 10,
   "metadata": {},
   "outputs": [],
   "source": [
    "# Check Each row to see if within positive signals from HMM    \n",
    "\n",
    "# HARDCODED FAVORABLE STATES \n",
    "favorable_states = [0,3]\n",
    "\n",
    "\n",
    "hmm_values = df_main[\"HMM\"].values\n",
    "\n",
    "# 0 if no   ||   1 if yes\n",
    "hmm_values = [1 if x in favorable_states else 0 for x in hmm_values]\n",
    "\n",
    "\n",
    "df_main[\"HMM_Signal\"] = hmm_values"
   ]
  },
  {
   "cell_type": "code",
   "execution_count": 11,
   "metadata": {},
   "outputs": [],
   "source": [
    "# Add Combined \"Main\" Signal   (if moving average and HMM signals are green)\n",
    "df_main[\"Main_Signal\"] = 0\n",
    "df_main.loc[   (df_main[\"MA_Signal\"] == 1) &  (df_main[\"HMM_Signal\"] == 1 ), \"Main_Signal\" ] = 1\n",
    "\n",
    "df_main[\"Main_Signal\"] = df_main[\"Main_Signal\"].shift(1)"
   ]
  },
  {
   "cell_type": "code",
   "execution_count": 12,
   "metadata": {},
   "outputs": [],
   "source": [
    "# Benchmmark Returns\n",
    "df_main[\"lrets_bench\"] = np.log(df_main[\"Close\"] / df_main[\"Close\"].shift(1))\n",
    "df_main[\"bench_prod\"] = df_main[\"lrets_bench\"].cumsum()\n",
    "df_main[\"bench_prod_exponent\"] = np.exp(df_main[\"bench_prod\"]) - 1"
   ]
  },
  {
   "cell_type": "code",
   "execution_count": 13,
   "metadata": {},
   "outputs": [],
   "source": [
    "# Strategy Returns\n",
    "df_main[\"lrets_strat\"] = np.log(df_main[\"Open\"].shift(-1) / df_main[\"Open\"]) * df_main[\"Main_Signal\"]\n",
    "df_main[\"lrets_prod\"] = df_main[\"lrets_strat\"].cumsum()\n",
    "df_main[\"strat_prod_exponent\"] = np.exp(df_main[\"lrets_prod\"]) - 1\n"
   ]
  },
  {
   "attachments": {},
   "cell_type": "markdown",
   "metadata": {},
   "source": [
    "# Review Results\n"
   ]
  },
  {
   "cell_type": "code",
   "execution_count": 14,
   "metadata": {},
   "outputs": [
    {
     "data": {
      "text/html": [
       "<div>\n",
       "<style scoped>\n",
       "    .dataframe tbody tr th:only-of-type {\n",
       "        vertical-align: middle;\n",
       "    }\n",
       "\n",
       "    .dataframe tbody tr th {\n",
       "        vertical-align: top;\n",
       "    }\n",
       "\n",
       "    .dataframe thead th {\n",
       "        text-align: right;\n",
       "    }\n",
       "</style>\n",
       "<table border=\"1\" class=\"dataframe\">\n",
       "  <thead>\n",
       "    <tr style=\"text-align: right;\">\n",
       "      <th></th>\n",
       "      <th>Open</th>\n",
       "      <th>Close</th>\n",
       "      <th>Returns</th>\n",
       "      <th>Range</th>\n",
       "      <th>12_MA</th>\n",
       "      <th>21_MA</th>\n",
       "      <th>HMM</th>\n",
       "      <th>MA_Signal</th>\n",
       "      <th>HMM_Signal</th>\n",
       "      <th>Main_Signal</th>\n",
       "      <th>lrets_bench</th>\n",
       "      <th>bench_prod</th>\n",
       "      <th>bench_prod_exponent</th>\n",
       "      <th>lrets_strat</th>\n",
       "      <th>lrets_prod</th>\n",
       "      <th>strat_prod_exponent</th>\n",
       "    </tr>\n",
       "    <tr>\n",
       "      <th>Date</th>\n",
       "      <th></th>\n",
       "      <th></th>\n",
       "      <th></th>\n",
       "      <th></th>\n",
       "      <th></th>\n",
       "      <th></th>\n",
       "      <th></th>\n",
       "      <th></th>\n",
       "      <th></th>\n",
       "      <th></th>\n",
       "      <th></th>\n",
       "      <th></th>\n",
       "      <th></th>\n",
       "      <th></th>\n",
       "      <th></th>\n",
       "      <th></th>\n",
       "    </tr>\n",
       "  </thead>\n",
       "  <tbody>\n",
       "    <tr>\n",
       "      <th>2023-05-25</th>\n",
       "      <td>414.739990</td>\n",
       "      <td>414.649994</td>\n",
       "      <td>0.008660</td>\n",
       "      <td>0.009093</td>\n",
       "      <td>414.294169</td>\n",
       "      <td>413.127143</td>\n",
       "      <td>0</td>\n",
       "      <td>1.0</td>\n",
       "      <td>1</td>\n",
       "      <td>1.0</td>\n",
       "      <td>0.008623</td>\n",
       "      <td>-0.126574</td>\n",
       "      <td>-0.118891</td>\n",
       "      <td>0.001422</td>\n",
       "      <td>-0.093858</td>\n",
       "      <td>-0.089588</td>\n",
       "    </tr>\n",
       "    <tr>\n",
       "      <th>2023-05-26</th>\n",
       "      <td>415.329987</td>\n",
       "      <td>420.019989</td>\n",
       "      <td>0.012951</td>\n",
       "      <td>0.013293</td>\n",
       "      <td>414.891668</td>\n",
       "      <td>413.489524</td>\n",
       "      <td>0</td>\n",
       "      <td>1.0</td>\n",
       "      <td>1</td>\n",
       "      <td>1.0</td>\n",
       "      <td>0.012868</td>\n",
       "      <td>-0.113706</td>\n",
       "      <td>-0.107480</td>\n",
       "      <td>0.016003</td>\n",
       "      <td>-0.077855</td>\n",
       "      <td>-0.074901</td>\n",
       "    </tr>\n",
       "    <tr>\n",
       "      <th>2023-05-30</th>\n",
       "      <td>422.029999</td>\n",
       "      <td>420.179993</td>\n",
       "      <td>0.000381</td>\n",
       "      <td>0.009170</td>\n",
       "      <td>415.562500</td>\n",
       "      <td>413.691905</td>\n",
       "      <td>0</td>\n",
       "      <td>1.0</td>\n",
       "      <td>1</td>\n",
       "      <td>1.0</td>\n",
       "      <td>0.000381</td>\n",
       "      <td>-0.113325</td>\n",
       "      <td>-0.107140</td>\n",
       "      <td>-0.008925</td>\n",
       "      <td>-0.086780</td>\n",
       "      <td>-0.083121</td>\n",
       "    </tr>\n",
       "    <tr>\n",
       "      <th>2023-05-31</th>\n",
       "      <td>418.279999</td>\n",
       "      <td>417.850006</td>\n",
       "      <td>-0.005545</td>\n",
       "      <td>0.007208</td>\n",
       "      <td>416.084167</td>\n",
       "      <td>413.803333</td>\n",
       "      <td>3</td>\n",
       "      <td>1.0</td>\n",
       "      <td>1</td>\n",
       "      <td>1.0</td>\n",
       "      <td>-0.005561</td>\n",
       "      <td>-0.118886</td>\n",
       "      <td>-0.112091</td>\n",
       "      <td>-0.000454</td>\n",
       "      <td>-0.087235</td>\n",
       "      <td>-0.083538</td>\n",
       "    </tr>\n",
       "    <tr>\n",
       "      <th>2023-06-01</th>\n",
       "      <td>418.089996</td>\n",
       "      <td>421.820007</td>\n",
       "      <td>0.009501</td>\n",
       "      <td>0.014708</td>\n",
       "      <td>416.818334</td>\n",
       "      <td>414.326191</td>\n",
       "      <td>1</td>\n",
       "      <td>1.0</td>\n",
       "      <td>0</td>\n",
       "      <td>1.0</td>\n",
       "      <td>0.009456</td>\n",
       "      <td>-0.109430</td>\n",
       "      <td>-0.103655</td>\n",
       "      <td>0.015215</td>\n",
       "      <td>-0.072019</td>\n",
       "      <td>-0.069487</td>\n",
       "    </tr>\n",
       "    <tr>\n",
       "      <th>2023-06-02</th>\n",
       "      <td>424.500000</td>\n",
       "      <td>427.920013</td>\n",
       "      <td>0.014461</td>\n",
       "      <td>0.011298</td>\n",
       "      <td>418.290835</td>\n",
       "      <td>415.273811</td>\n",
       "      <td>3</td>\n",
       "      <td>1.0</td>\n",
       "      <td>1</td>\n",
       "      <td>0.0</td>\n",
       "      <td>0.014358</td>\n",
       "      <td>-0.095072</td>\n",
       "      <td>-0.090693</td>\n",
       "      <td>0.000000</td>\n",
       "      <td>-0.072019</td>\n",
       "      <td>-0.069487</td>\n",
       "    </tr>\n",
       "    <tr>\n",
       "      <th>2023-06-05</th>\n",
       "      <td>428.279999</td>\n",
       "      <td>427.100006</td>\n",
       "      <td>-0.001916</td>\n",
       "      <td>0.007622</td>\n",
       "      <td>419.280001</td>\n",
       "      <td>416.320002</td>\n",
       "      <td>1</td>\n",
       "      <td>1.0</td>\n",
       "      <td>0</td>\n",
       "      <td>1.0</td>\n",
       "      <td>-0.001918</td>\n",
       "      <td>-0.096990</td>\n",
       "      <td>-0.092435</td>\n",
       "      <td>-0.003766</td>\n",
       "      <td>-0.075786</td>\n",
       "      <td>-0.072985</td>\n",
       "    </tr>\n",
       "    <tr>\n",
       "      <th>2023-06-06</th>\n",
       "      <td>426.670013</td>\n",
       "      <td>428.029999</td>\n",
       "      <td>0.002177</td>\n",
       "      <td>0.006080</td>\n",
       "      <td>420.013334</td>\n",
       "      <td>417.053335</td>\n",
       "      <td>1</td>\n",
       "      <td>1.0</td>\n",
       "      <td>0</td>\n",
       "      <td>0.0</td>\n",
       "      <td>0.002175</td>\n",
       "      <td>-0.094815</td>\n",
       "      <td>-0.090459</td>\n",
       "      <td>0.000000</td>\n",
       "      <td>-0.075786</td>\n",
       "      <td>-0.072985</td>\n",
       "    </tr>\n",
       "    <tr>\n",
       "      <th>2023-06-07</th>\n",
       "      <td>428.440002</td>\n",
       "      <td>426.549988</td>\n",
       "      <td>-0.003458</td>\n",
       "      <td>0.008237</td>\n",
       "      <td>420.674166</td>\n",
       "      <td>417.710953</td>\n",
       "      <td>3</td>\n",
       "      <td>1.0</td>\n",
       "      <td>1</td>\n",
       "      <td>0.0</td>\n",
       "      <td>-0.003464</td>\n",
       "      <td>-0.098279</td>\n",
       "      <td>-0.093604</td>\n",
       "      <td>-0.000000</td>\n",
       "      <td>-0.075786</td>\n",
       "      <td>-0.072985</td>\n",
       "    </tr>\n",
       "    <tr>\n",
       "      <th>2023-06-08</th>\n",
       "      <td>426.619995</td>\n",
       "      <td>429.130005</td>\n",
       "      <td>0.006049</td>\n",
       "      <td>0.008877</td>\n",
       "      <td>421.535833</td>\n",
       "      <td>418.577621</td>\n",
       "      <td>0</td>\n",
       "      <td>1.0</td>\n",
       "      <td>1</td>\n",
       "      <td>1.0</td>\n",
       "      <td>0.006030</td>\n",
       "      <td>-0.092249</td>\n",
       "      <td>-0.088122</td>\n",
       "      <td>0.007798</td>\n",
       "      <td>-0.067987</td>\n",
       "      <td>-0.065727</td>\n",
       "    </tr>\n",
       "  </tbody>\n",
       "</table>\n",
       "</div>"
      ],
      "text/plain": [
       "                  Open       Close   Returns     Range       12_MA  \\\n",
       "Date                                                                 \n",
       "2023-05-25  414.739990  414.649994  0.008660  0.009093  414.294169   \n",
       "2023-05-26  415.329987  420.019989  0.012951  0.013293  414.891668   \n",
       "2023-05-30  422.029999  420.179993  0.000381  0.009170  415.562500   \n",
       "2023-05-31  418.279999  417.850006 -0.005545  0.007208  416.084167   \n",
       "2023-06-01  418.089996  421.820007  0.009501  0.014708  416.818334   \n",
       "2023-06-02  424.500000  427.920013  0.014461  0.011298  418.290835   \n",
       "2023-06-05  428.279999  427.100006 -0.001916  0.007622  419.280001   \n",
       "2023-06-06  426.670013  428.029999  0.002177  0.006080  420.013334   \n",
       "2023-06-07  428.440002  426.549988 -0.003458  0.008237  420.674166   \n",
       "2023-06-08  426.619995  429.130005  0.006049  0.008877  421.535833   \n",
       "\n",
       "                 21_MA  HMM  MA_Signal  HMM_Signal  Main_Signal  lrets_bench  \\\n",
       "Date                                                                           \n",
       "2023-05-25  413.127143    0        1.0           1          1.0     0.008623   \n",
       "2023-05-26  413.489524    0        1.0           1          1.0     0.012868   \n",
       "2023-05-30  413.691905    0        1.0           1          1.0     0.000381   \n",
       "2023-05-31  413.803333    3        1.0           1          1.0    -0.005561   \n",
       "2023-06-01  414.326191    1        1.0           0          1.0     0.009456   \n",
       "2023-06-02  415.273811    3        1.0           1          0.0     0.014358   \n",
       "2023-06-05  416.320002    1        1.0           0          1.0    -0.001918   \n",
       "2023-06-06  417.053335    1        1.0           0          0.0     0.002175   \n",
       "2023-06-07  417.710953    3        1.0           1          0.0    -0.003464   \n",
       "2023-06-08  418.577621    0        1.0           1          1.0     0.006030   \n",
       "\n",
       "            bench_prod  bench_prod_exponent  lrets_strat  lrets_prod  \\\n",
       "Date                                                                   \n",
       "2023-05-25   -0.126574            -0.118891     0.001422   -0.093858   \n",
       "2023-05-26   -0.113706            -0.107480     0.016003   -0.077855   \n",
       "2023-05-30   -0.113325            -0.107140    -0.008925   -0.086780   \n",
       "2023-05-31   -0.118886            -0.112091    -0.000454   -0.087235   \n",
       "2023-06-01   -0.109430            -0.103655     0.015215   -0.072019   \n",
       "2023-06-02   -0.095072            -0.090693     0.000000   -0.072019   \n",
       "2023-06-05   -0.096990            -0.092435    -0.003766   -0.075786   \n",
       "2023-06-06   -0.094815            -0.090459     0.000000   -0.075786   \n",
       "2023-06-07   -0.098279            -0.093604    -0.000000   -0.075786   \n",
       "2023-06-08   -0.092249            -0.088122     0.007798   -0.067987   \n",
       "\n",
       "            strat_prod_exponent  \n",
       "Date                             \n",
       "2023-05-25            -0.089588  \n",
       "2023-05-26            -0.074901  \n",
       "2023-05-30            -0.083121  \n",
       "2023-05-31            -0.083538  \n",
       "2023-06-01            -0.069487  \n",
       "2023-06-02            -0.069487  \n",
       "2023-06-05            -0.072985  \n",
       "2023-06-06            -0.072985  \n",
       "2023-06-07            -0.072985  \n",
       "2023-06-08            -0.065727  "
      ]
     },
     "execution_count": 14,
     "metadata": {},
     "output_type": "execute_result"
    }
   ],
   "source": [
    "df_main.dropna(inplace=True)\n",
    "\n",
    "\n",
    "df_main.tail(10)"
   ]
  },
  {
   "attachments": {},
   "cell_type": "markdown",
   "metadata": {},
   "source": [
    "# Calculate Metrics"
   ]
  },
  {
   "cell_type": "code",
   "execution_count": 15,
   "metadata": {},
   "outputs": [],
   "source": [
    "# Sharpe Ratio Function\n",
    "def sharpe_ratio_calc(returns_series):\n",
    "    TradingDays = 255\n",
    "    TradingDays_SQRT = np.sqrt(TradingDays)\n",
    "    risk_free_rate = 0.01\n",
    "    mean = returns_series.mean() * TradingDays\n",
    "    sigma = returns_series.std() * TradingDays_SQRT\n",
    "    sharpe_ratio = round((mean - risk_free_rate) / sigma , 2 )\n",
    "    return sharpe_ratio"
   ]
  },
  {
   "cell_type": "code",
   "execution_count": 16,
   "metadata": {},
   "outputs": [],
   "source": [
    "# Metrics\n",
    "bench_returns = round(df_main[\"bench_prod_exponent\"].values[-1] * 100 , 1)\n",
    "strategy_returns = round(df_main[\"strat_prod_exponent\"].values[-1] * 100 , 1)\n",
    "\n",
    "\n",
    "bench_sharpe = sharpe_ratio_calc(df_main[\"lrets_bench\"].values)\n",
    "strat_sharpe = sharpe_ratio_calc(df_main[\"lrets_strat\"].values)"
   ]
  },
  {
   "cell_type": "code",
   "execution_count": 17,
   "metadata": {},
   "outputs": [
    {
     "name": "stdout",
     "output_type": "stream",
     "text": [
      "Returns Benchmark: -8.8%\n",
      "Returns Strategy: -6.6%\n",
      "-------------------\n",
      "Sharpe Benchmark: -0.34\n",
      "Sharpe Strategy: -0.43\n",
      "\n",
      "\n",
      " Sharpe ratio is saying 'for every dollar of risk, how many dollars am i getting back?'\n"
     ]
    }
   ],
   "source": [
    "# Print metrics\n",
    "print(f\"Returns Benchmark: {bench_returns}%\")\n",
    "print(f\"Returns Strategy: {strategy_returns}%\")\n",
    "\n",
    "print(\"-------------------\")\n",
    "\n",
    "print(f\"Sharpe Benchmark: {bench_sharpe}\")\n",
    "print(f\"Sharpe Strategy: {strat_sharpe}\")\n",
    "\n",
    "\n",
    "\n",
    "print(\"\\n\\n Sharpe ratio is saying 'for every dollar of risk, how many dollars am i getting back?'\")"
   ]
  },
  {
   "attachments": {},
   "cell_type": "markdown",
   "metadata": {},
   "source": [
    "# Plot Results"
   ]
  },
  {
   "cell_type": "code",
   "execution_count": 18,
   "metadata": {},
   "outputs": [
    {
     "data": {
      "image/png": "[encoded data removed]",
      "text/plain": [
       "<Figure size 640x480 with 1 Axes>"
      ]
     },
     "metadata": {},
     "output_type": "display_data"
    }
   ],
   "source": [
    "# Plot Equity Curves\n",
    "fig = plt.Figure(figsize=(18,10))\n",
    "plt.plot(df_main[\"bench_prod_exponent\"], color=\"green\" )\n",
    "plt.plot(df_main[\"strat_prod_exponent\"] , color=\"blue\")\n",
    "\n",
    "plt.show()"
   ]
  },
  {
   "attachments": {},
   "cell_type": "markdown",
   "metadata": {},
   "source": [
    "# SAVE DATA"
   ]
  },
  {
   "cell_type": "code",
   "execution_count": 19,
   "metadata": {},
   "outputs": [],
   "source": [
    "df_main.to_csv(f\"data-storage/HMM-{symbol}.csv\")"
   ]
  }
 ],
 "metadata": {
  "kernelspec": {
   "display_name": "ML-finance",
   "language": "python",
   "name": "python3"
  },
  "language_info": {
   "codemirror_mode": {
    "name": "ipython",
    "version": 3
   },
   "file_extension": ".py",
   "mimetype": "text/x-python",
   "name": "python",
   "nbconvert_exporter": "python",
   "pygments_lexer": "ipython3",
   "version": "3.9.17"
  },
  "orig_nbformat": 4
 },
 "nbformat": 4,
 "nbformat_minor": 2
}
