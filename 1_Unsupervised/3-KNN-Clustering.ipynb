{
 "cells": [
  {
   "attachments": {},
   "cell_type": "markdown",
   "metadata": {},
   "source": [
    "# Group objects that behave in a similar way\n",
    "### Assets that behave/trade in a similar way\n",
    "- Volitility\n",
    "- Price Return Behavior"
   ]
  },
  {
   "cell_type": "code",
   "execution_count": null,
   "metadata": {},
   "outputs": [],
   "source": [
    "# Silence Warnings\n",
    "import warnings \n",
    "warnings.simplefilter(action=\"ignore\" , category=FutureWarning)"
   ]
  },
  {
   "cell_type": "code",
   "execution_count": null,
   "metadata": {},
   "outputs": [],
   "source": [
    "# Fetch/Structure Data\n",
    "import numpy as np \n",
    "import pandas as pd\n",
    "import yfinance as yf\n",
    "import pandas_datareader.nasdaq_trader as pdr\n",
    "\n",
    "\n",
    "# Feature Engineering\n",
    "from sklearn.preprocessing import  StandardScaler\n",
    "\n",
    "# Machine Learning\n",
    "from sklearn.cluster import  KMeans\n",
    "from sklearn import metrics\n",
    "\n",
    "# The knee point is the point of maximum curvature.\n",
    "from kneed import KneeLocator\n",
    "\n",
    "# Co-Integration and Statistics\n",
    "from statsmodels.tsa.stattools import coint\n",
    "import statsmodels.api as sm\n",
    "\n",
    "# Reporting Visualization\n",
    "from sklearn.manifold import TSNE\n",
    "import matplotlib.pyplot as plt\n",
    "import matplotlib.cm as cm"
   ]
  },
  {
   "attachments": {},
   "cell_type": "markdown",
   "metadata": {},
   "source": [
    "# Data Extraction"
   ]
  },
  {
   "cell_type": "code",
   "execution_count": null,
   "metadata": {},
   "outputs": [],
   "source": [
    "# Data Storage\n",
    "filename = \"data-storage/raw_data_etf.csv\"\n",
    "filename_co_integration = \"data-storage/raw_data_conint_pairs.csv\""
   ]
  },
  {
   "cell_type": "code",
   "execution_count": null,
   "metadata": {},
   "outputs": [],
   "source": [
    "# Load Saved Data or Fetch\n",
    "load_existing = True\n",
    "load_coint_pairs = False"
   ]
  },
  {
   "cell_type": "code",
   "execution_count": null,
   "metadata": {},
   "outputs": [],
   "source": [
    "# Time Range\n",
    "start_date = \"2020-01-01\"\n",
    "end_date = \"2023-06-11\""
   ]
  },
  {
   "attachments": {},
   "cell_type": "markdown",
   "metadata": {},
   "source": [
    "### Fetch Data"
   ]
  },
  {
   "cell_type": "code",
   "execution_count": null,
   "metadata": {},
   "outputs": [],
   "source": [
    "#  Get New Data\n",
    "if not load_existing:\n",
    "    symbols = pdr.get_nasdaq_symbols()\n",
    "    symbols = symbols[(symbols[\"ETF\"] == True)  &  (symbols[\"Market Category\"] == \"G\")]\n",
    "    symbols = list(symbols.index.values)\n",
    "    \n",
    "    # # create dataframe with all etf stocks data\n",
    "    fetched_stocks = []\n",
    "    for symbol in symbols:\n",
    "        data = yf.download(symbol ,  start_date , end_date )\n",
    "        data = data[[\"Open\" , \"High\" , \"Low\" , \"Close\" ]].copy()\n",
    "        data[\"Symbol\"] = symbol\n",
    "        fetched_stocks.append(data)\n",
    "    \n",
    "    # Save Data\n",
    "    df = pd.concat(fetched_stocks)\n",
    "    df.reset_index(inplace=True)\n",
    "    df = df.pivot(index='Date', columns='Symbol', values='Close')\n",
    "    df.to_csv(filename)\n",
    "\n",
    "\n",
    "\n",
    "\n",
    "# READ FILE\n",
    "else:\n",
    "    df = pd.read_csv(filename)"
   ]
  },
  {
   "attachments": {},
   "cell_type": "markdown",
   "metadata": {},
   "source": [
    "# Condition Data"
   ]
  },
  {
   "cell_type": "code",
   "execution_count": null,
   "metadata": {},
   "outputs": [],
   "source": [
    "\n",
    "# Drop Null Values\n",
    "if df.isnull().values.any():\n",
    "    df = df.dropna(axis=1)\n",
    "\n",
    "print(df.shape)\n",
    "df"
   ]
  }
 ],
 "metadata": {
  "kernelspec": {
   "display_name": "ML-finance",
   "language": "python",
   "name": "python3"
  },
  "language_info": {
   "codemirror_mode": {
    "name": "ipython",
    "version": 3
   },
   "file_extension": ".py",
   "mimetype": "text/x-python",
   "name": "python",
   "nbconvert_exporter": "python",
   "pygments_lexer": "ipython3",
   "version": "3.9.15"
  },
  "orig_nbformat": 4
 },
 "nbformat": 4,
 "nbformat_minor": 2
}
