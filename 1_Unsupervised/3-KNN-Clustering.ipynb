{
 "cells": [
  {
   "attachments": {},
   "cell_type": "markdown",
   "metadata": {},
   "source": [
    "# Group objects that behave in a similar way\n",
    "### Assets that behave/trade in a similar way\n",
    "- Volitility\n",
    "- Price Return Behavior"
   ]
  },
  {
   "cell_type": "code",
   "execution_count": 40,
   "metadata": {},
   "outputs": [],
   "source": [
    "# Silence Warnings\n",
    "import warnings \n",
    "warnings.simplefilter(action=\"ignore\" , category=FutureWarning)"
   ]
  },
  {
   "cell_type": "code",
   "execution_count": 41,
   "metadata": {},
   "outputs": [],
   "source": [
    "# Fetch/Structure Data\n",
    "import numpy as np \n",
    "import pandas as pd\n",
    "import yfinance as yf\n",
    "import pandas_datareader.nasdaq_trader as pdr\n",
    "\n",
    "\n",
    "# Feature Engineering\n",
    "from sklearn.preprocessing import  StandardScaler\n",
    "\n",
    "# Machine Learning\n",
    "from sklearn.cluster import  KMeans\n",
    "from sklearn import metrics\n",
    "\n",
    "# The knee point is the point of maximum curvature.\n",
    "from kneed import KneeLocator\n",
    "\n",
    "# Co-Integration and Statistics\n",
    "from statsmodels.tsa.stattools import coint\n",
    "import statsmodels.api as sm\n",
    "\n",
    "# Reporting Visualization\n",
    "from sklearn.manifold import TSNE\n",
    "import matplotlib.pyplot as plt\n",
    "import matplotlib.cm as cm"
   ]
  },
  {
   "attachments": {},
   "cell_type": "markdown",
   "metadata": {},
   "source": [
    "# Data Extraction"
   ]
  },
  {
   "cell_type": "code",
   "execution_count": 42,
   "metadata": {},
   "outputs": [],
   "source": [
    "# Data Storage\n",
    "filename = \"data-storage/raw_data_etf.csv\"\n",
    "filename_co_integration = \"data-storage/raw_data_conint_pairs.csv\""
   ]
  },
  {
   "cell_type": "code",
   "execution_count": 43,
   "metadata": {},
   "outputs": [],
   "source": [
    "# Load Saved Data or Fetch\n",
    "load_existing = True\n",
    "load_coint_pairs = False"
   ]
  },
  {
   "cell_type": "code",
   "execution_count": 44,
   "metadata": {},
   "outputs": [],
   "source": [
    "# Time Range\n",
    "start_date = \"2023-01-01\"\n",
    "end_date = \"2023-06-17\""
   ]
  },
  {
   "attachments": {},
   "cell_type": "markdown",
   "metadata": {},
   "source": [
    "### Fetch Data"
   ]
  },
  {
   "cell_type": "code",
   "execution_count": 45,
   "metadata": {},
   "outputs": [],
   "source": [
    "#  Get New Data\n",
    "if not load_existing:\n",
    "    symbols = pdr.get_nasdaq_symbols()\n",
    "    symbols = symbols[(symbols[\"ETF\"] == True)  &  (symbols[\"Market Category\"] == \"G\")] #global markets\n",
    "    symbols = list(symbols.index.values)\n",
    "    \n",
    "    # # create dataframe with all etf stocks data\n",
    "    fetched_stocks = []\n",
    "    for symbol in symbols:\n",
    "        data = yf.download(symbol ,  start_date , end_date )\n",
    "        data = data[[\"Open\" , \"High\" , \"Low\" , \"Close\" ]].copy()\n",
    "        data[\"Symbol\"] = symbol\n",
    "        fetched_stocks.append(data)\n",
    "    \n",
    "    # Save Data\n",
    "    df = pd.concat(fetched_stocks)\n",
    "    df.reset_index(inplace=True)\n",
    "    df = df.pivot(index='Date', columns='Symbol', values='Close')\n",
    "    df.to_csv(filename)\n",
    "\n",
    "\n",
    "\n",
    "\n",
    "# READ FILE\n",
    "else:\n",
    "    df = pd.read_csv(filename)"
   ]
  },
  {
   "attachments": {},
   "cell_type": "markdown",
   "metadata": {},
   "source": [
    "# Condition Data"
   ]
  },
  {
   "cell_type": "code",
   "execution_count": 46,
   "metadata": {},
   "outputs": [
    {
     "name": "stdout",
     "output_type": "stream",
     "text": [
      "Shape:  (866, 343)\n"
     ]
    },
    {
     "data": {
      "text/html": [
       "<div>\n",
       "<style scoped>\n",
       "    .dataframe tbody tr th:only-of-type {\n",
       "        vertical-align: middle;\n",
       "    }\n",
       "\n",
       "    .dataframe tbody tr th {\n",
       "        vertical-align: top;\n",
       "    }\n",
       "\n",
       "    .dataframe thead th {\n",
       "        text-align: right;\n",
       "    }\n",
       "</style>\n",
       "<table border=\"1\" class=\"dataframe\">\n",
       "  <thead>\n",
       "    <tr style=\"text-align: right;\">\n",
       "      <th></th>\n",
       "      <th>AADR</th>\n",
       "      <th>AAXJ</th>\n",
       "      <th>ACWI</th>\n",
       "      <th>ACWX</th>\n",
       "      <th>AGNG</th>\n",
       "      <th>AGZD</th>\n",
       "      <th>AIA</th>\n",
       "      <th>AIQ</th>\n",
       "      <th>AIRR</th>\n",
       "      <th>ALTY</th>\n",
       "      <th>...</th>\n",
       "      <th>VWOB</th>\n",
       "      <th>VXUS</th>\n",
       "      <th>VYMI</th>\n",
       "      <th>WBND</th>\n",
       "      <th>WCLD</th>\n",
       "      <th>WINC</th>\n",
       "      <th>WIZ</th>\n",
       "      <th>WOOD</th>\n",
       "      <th>XT</th>\n",
       "      <th>YLDE</th>\n",
       "    </tr>\n",
       "    <tr>\n",
       "      <th>Date</th>\n",
       "      <th></th>\n",
       "      <th></th>\n",
       "      <th></th>\n",
       "      <th></th>\n",
       "      <th></th>\n",
       "      <th></th>\n",
       "      <th></th>\n",
       "      <th></th>\n",
       "      <th></th>\n",
       "      <th></th>\n",
       "      <th></th>\n",
       "      <th></th>\n",
       "      <th></th>\n",
       "      <th></th>\n",
       "      <th></th>\n",
       "      <th></th>\n",
       "      <th></th>\n",
       "      <th></th>\n",
       "      <th></th>\n",
       "      <th></th>\n",
       "      <th></th>\n",
       "    </tr>\n",
       "  </thead>\n",
       "  <tbody>\n",
       "    <tr>\n",
       "      <th>2020-01-02</th>\n",
       "      <td>54.860001</td>\n",
       "      <td>74.910004</td>\n",
       "      <td>80.070000</td>\n",
       "      <td>49.720001</td>\n",
       "      <td>23.665001</td>\n",
       "      <td>48.119999</td>\n",
       "      <td>67.459999</td>\n",
       "      <td>18.298000</td>\n",
       "      <td>28.822001</td>\n",
       "      <td>14.799</td>\n",
       "      <td>...</td>\n",
       "      <td>81.510002</td>\n",
       "      <td>56.310001</td>\n",
       "      <td>64.699997</td>\n",
       "      <td>94.771927</td>\n",
       "      <td>26.111000</td>\n",
       "      <td>25.834999</td>\n",
       "      <td>27.160000</td>\n",
       "      <td>66.820000</td>\n",
       "      <td>43.259998</td>\n",
       "      <td>33.209999</td>\n",
       "    </tr>\n",
       "    <tr>\n",
       "      <th>2020-01-03</th>\n",
       "      <td>54.570000</td>\n",
       "      <td>73.720001</td>\n",
       "      <td>79.379997</td>\n",
       "      <td>49.080002</td>\n",
       "      <td>23.555000</td>\n",
       "      <td>48.130001</td>\n",
       "      <td>66.209999</td>\n",
       "      <td>18.190001</td>\n",
       "      <td>29.115000</td>\n",
       "      <td>14.830</td>\n",
       "      <td>...</td>\n",
       "      <td>81.320000</td>\n",
       "      <td>55.619999</td>\n",
       "      <td>63.779999</td>\n",
       "      <td>94.912277</td>\n",
       "      <td>26.120001</td>\n",
       "      <td>25.834999</td>\n",
       "      <td>27.100000</td>\n",
       "      <td>66.269997</td>\n",
       "      <td>42.750000</td>\n",
       "      <td>32.930000</td>\n",
       "    </tr>\n",
       "    <tr>\n",
       "      <th>2020-01-06</th>\n",
       "      <td>54.349998</td>\n",
       "      <td>73.419998</td>\n",
       "      <td>79.559998</td>\n",
       "      <td>49.200001</td>\n",
       "      <td>23.565001</td>\n",
       "      <td>48.119999</td>\n",
       "      <td>66.230003</td>\n",
       "      <td>18.230000</td>\n",
       "      <td>29.013000</td>\n",
       "      <td>14.870</td>\n",
       "      <td>...</td>\n",
       "      <td>81.190002</td>\n",
       "      <td>55.700001</td>\n",
       "      <td>63.900002</td>\n",
       "      <td>94.912277</td>\n",
       "      <td>26.586000</td>\n",
       "      <td>25.879999</td>\n",
       "      <td>26.980000</td>\n",
       "      <td>66.150002</td>\n",
       "      <td>42.810001</td>\n",
       "      <td>32.856998</td>\n",
       "    </tr>\n",
       "    <tr>\n",
       "      <th>2020-01-07</th>\n",
       "      <td>54.430000</td>\n",
       "      <td>73.680000</td>\n",
       "      <td>79.360001</td>\n",
       "      <td>49.099998</td>\n",
       "      <td>23.650999</td>\n",
       "      <td>48.119999</td>\n",
       "      <td>66.430000</td>\n",
       "      <td>18.340000</td>\n",
       "      <td>28.969999</td>\n",
       "      <td>14.870</td>\n",
       "      <td>...</td>\n",
       "      <td>81.320000</td>\n",
       "      <td>55.599998</td>\n",
       "      <td>63.720001</td>\n",
       "      <td>94.666664</td>\n",
       "      <td>26.620001</td>\n",
       "      <td>25.879999</td>\n",
       "      <td>27.115000</td>\n",
       "      <td>66.120003</td>\n",
       "      <td>42.939999</td>\n",
       "      <td>32.759998</td>\n",
       "    </tr>\n",
       "    <tr>\n",
       "      <th>2020-01-08</th>\n",
       "      <td>54.480000</td>\n",
       "      <td>73.839996</td>\n",
       "      <td>79.750000</td>\n",
       "      <td>49.230000</td>\n",
       "      <td>23.763000</td>\n",
       "      <td>48.119999</td>\n",
       "      <td>66.830002</td>\n",
       "      <td>18.430000</td>\n",
       "      <td>28.945000</td>\n",
       "      <td>14.850</td>\n",
       "      <td>...</td>\n",
       "      <td>81.580002</td>\n",
       "      <td>55.700001</td>\n",
       "      <td>63.790001</td>\n",
       "      <td>94.701752</td>\n",
       "      <td>26.941000</td>\n",
       "      <td>25.879999</td>\n",
       "      <td>27.200001</td>\n",
       "      <td>66.120003</td>\n",
       "      <td>43.230000</td>\n",
       "      <td>32.939999</td>\n",
       "    </tr>\n",
       "  </tbody>\n",
       "</table>\n",
       "<p>5 rows × 343 columns</p>\n",
       "</div>"
      ],
      "text/plain": [
       "                 AADR       AAXJ       ACWI       ACWX       AGNG       AGZD  \\\n",
       "Date                                                                           \n",
       "2020-01-02  54.860001  74.910004  80.070000  49.720001  23.665001  48.119999   \n",
       "2020-01-03  54.570000  73.720001  79.379997  49.080002  23.555000  48.130001   \n",
       "2020-01-06  54.349998  73.419998  79.559998  49.200001  23.565001  48.119999   \n",
       "2020-01-07  54.430000  73.680000  79.360001  49.099998  23.650999  48.119999   \n",
       "2020-01-08  54.480000  73.839996  79.750000  49.230000  23.763000  48.119999   \n",
       "\n",
       "                  AIA        AIQ       AIRR    ALTY  ...       VWOB  \\\n",
       "Date                                                 ...              \n",
       "2020-01-02  67.459999  18.298000  28.822001  14.799  ...  81.510002   \n",
       "2020-01-03  66.209999  18.190001  29.115000  14.830  ...  81.320000   \n",
       "2020-01-06  66.230003  18.230000  29.013000  14.870  ...  81.190002   \n",
       "2020-01-07  66.430000  18.340000  28.969999  14.870  ...  81.320000   \n",
       "2020-01-08  66.830002  18.430000  28.945000  14.850  ...  81.580002   \n",
       "\n",
       "                 VXUS       VYMI       WBND       WCLD       WINC        WIZ  \\\n",
       "Date                                                                           \n",
       "2020-01-02  56.310001  64.699997  94.771927  26.111000  25.834999  27.160000   \n",
       "2020-01-03  55.619999  63.779999  94.912277  26.120001  25.834999  27.100000   \n",
       "2020-01-06  55.700001  63.900002  94.912277  26.586000  25.879999  26.980000   \n",
       "2020-01-07  55.599998  63.720001  94.666664  26.620001  25.879999  27.115000   \n",
       "2020-01-08  55.700001  63.790001  94.701752  26.941000  25.879999  27.200001   \n",
       "\n",
       "                 WOOD         XT       YLDE  \n",
       "Date                                         \n",
       "2020-01-02  66.820000  43.259998  33.209999  \n",
       "2020-01-03  66.269997  42.750000  32.930000  \n",
       "2020-01-06  66.150002  42.810001  32.856998  \n",
       "2020-01-07  66.120003  42.939999  32.759998  \n",
       "2020-01-08  66.120003  43.230000  32.939999  \n",
       "\n",
       "[5 rows x 343 columns]"
      ]
     },
     "execution_count": 46,
     "metadata": {},
     "output_type": "execute_result"
    }
   ],
   "source": [
    "\n",
    "# Drop Null Values\n",
    "if df.isnull().values.any():\n",
    "    df = df.dropna(axis=1)\n",
    "    df = df.set_index(\"Date\")\n",
    "\n",
    "print(\"Shape: \" , df.shape)\n",
    "df.head()"
   ]
  },
  {
   "attachments": {},
   "cell_type": "markdown",
   "metadata": {},
   "source": [
    "# Feature Engineering\n",
    "- For Each ETF stock\n",
    "    - average returns\n",
    "    - average volitility\n"
   ]
  },
  {
   "cell_type": "code",
   "execution_count": 47,
   "metadata": {},
   "outputs": [
    {
     "data": {
      "text/html": [
       "<div>\n",
       "<style scoped>\n",
       "    .dataframe tbody tr th:only-of-type {\n",
       "        vertical-align: middle;\n",
       "    }\n",
       "\n",
       "    .dataframe tbody tr th {\n",
       "        vertical-align: top;\n",
       "    }\n",
       "\n",
       "    .dataframe thead th {\n",
       "        text-align: right;\n",
       "    }\n",
       "</style>\n",
       "<table border=\"1\" class=\"dataframe\">\n",
       "  <thead>\n",
       "    <tr style=\"text-align: right;\">\n",
       "      <th></th>\n",
       "      <th>Returns</th>\n",
       "      <th>Volitility</th>\n",
       "    </tr>\n",
       "  </thead>\n",
       "  <tbody>\n",
       "    <tr>\n",
       "      <th>AADR</th>\n",
       "      <td>0.004054</td>\n",
       "      <td>0.270357</td>\n",
       "    </tr>\n",
       "    <tr>\n",
       "      <th>AAXJ</th>\n",
       "      <td>-0.001299</td>\n",
       "      <td>0.246897</td>\n",
       "    </tr>\n",
       "    <tr>\n",
       "      <th>ACWI</th>\n",
       "      <td>0.072782</td>\n",
       "      <td>0.229947</td>\n",
       "    </tr>\n",
       "    <tr>\n",
       "      <th>ACWX</th>\n",
       "      <td>0.020862</td>\n",
       "      <td>0.227489</td>\n",
       "    </tr>\n",
       "    <tr>\n",
       "      <th>AGNG</th>\n",
       "      <td>0.068536</td>\n",
       "      <td>0.209420</td>\n",
       "    </tr>\n",
       "    <tr>\n",
       "      <th>...</th>\n",
       "      <td>...</td>\n",
       "      <td>...</td>\n",
       "    </tr>\n",
       "    <tr>\n",
       "      <th>WINC</th>\n",
       "      <td>-0.027021</td>\n",
       "      <td>0.064515</td>\n",
       "    </tr>\n",
       "    <tr>\n",
       "      <th>WIZ</th>\n",
       "      <td>0.034050</td>\n",
       "      <td>0.221509</td>\n",
       "    </tr>\n",
       "    <tr>\n",
       "      <th>WOOD</th>\n",
       "      <td>0.063746</td>\n",
       "      <td>0.293513</td>\n",
       "    </tr>\n",
       "    <tr>\n",
       "      <th>XT</th>\n",
       "      <td>0.100530</td>\n",
       "      <td>0.258418</td>\n",
       "    </tr>\n",
       "    <tr>\n",
       "      <th>YLDE</th>\n",
       "      <td>0.086507</td>\n",
       "      <td>0.214518</td>\n",
       "    </tr>\n",
       "  </tbody>\n",
       "</table>\n",
       "<p>343 rows × 2 columns</p>\n",
       "</div>"
      ],
      "text/plain": [
       "       Returns  Volitility\n",
       "AADR  0.004054    0.270357\n",
       "AAXJ -0.001299    0.246897\n",
       "ACWI  0.072782    0.229947\n",
       "ACWX  0.020862    0.227489\n",
       "AGNG  0.068536    0.209420\n",
       "...        ...         ...\n",
       "WINC -0.027021    0.064515\n",
       "WIZ   0.034050    0.221509\n",
       "WOOD  0.063746    0.293513\n",
       "XT    0.100530    0.258418\n",
       "YLDE  0.086507    0.214518\n",
       "\n",
       "[343 rows x 2 columns]"
      ]
     },
     "execution_count": 47,
     "metadata": {},
     "output_type": "execute_result"
    }
   ],
   "source": [
    "# Create Dataframe with Returns and Volitility for each stock\n",
    "\n",
    "df_returns = pd.DataFrame(df.pct_change().mean() * 255 , columns=[\"Returns\"])\n",
    "df_returns[\"Volitility\"] = df.pct_change().std() * np.sqrt(255)\n",
    "\n",
    "\n",
    "df_returns"
   ]
  },
  {
   "attachments": {},
   "cell_type": "markdown",
   "metadata": {},
   "source": [
    "### Scaling Dataframe\n",
    "- To make sure if one column ranges from 1 to 10 and another column ranges from 1000 to 10000"
   ]
  },
  {
   "cell_type": "code",
   "execution_count": 48,
   "metadata": {},
   "outputs": [
    {
     "data": {
      "text/html": [
       "<div>\n",
       "<style scoped>\n",
       "    .dataframe tbody tr th:only-of-type {\n",
       "        vertical-align: middle;\n",
       "    }\n",
       "\n",
       "    .dataframe tbody tr th {\n",
       "        vertical-align: top;\n",
       "    }\n",
       "\n",
       "    .dataframe thead th {\n",
       "        text-align: right;\n",
       "    }\n",
       "</style>\n",
       "<table border=\"1\" class=\"dataframe\">\n",
       "  <thead>\n",
       "    <tr style=\"text-align: right;\">\n",
       "      <th></th>\n",
       "      <th>Returns</th>\n",
       "      <th>Volitility</th>\n",
       "    </tr>\n",
       "  </thead>\n",
       "  <tbody>\n",
       "    <tr>\n",
       "      <th>AADR</th>\n",
       "      <td>-0.387812</td>\n",
       "      <td>0.218875</td>\n",
       "    </tr>\n",
       "    <tr>\n",
       "      <th>AAXJ</th>\n",
       "      <td>-0.444363</td>\n",
       "      <td>0.020691</td>\n",
       "    </tr>\n",
       "    <tr>\n",
       "      <th>ACWI</th>\n",
       "      <td>0.338223</td>\n",
       "      <td>-0.122491</td>\n",
       "    </tr>\n",
       "    <tr>\n",
       "      <th>ACWX</th>\n",
       "      <td>-0.210261</td>\n",
       "      <td>-0.143257</td>\n",
       "    </tr>\n",
       "    <tr>\n",
       "      <th>AGNG</th>\n",
       "      <td>0.293370</td>\n",
       "      <td>-0.295897</td>\n",
       "    </tr>\n",
       "    <tr>\n",
       "      <th>...</th>\n",
       "      <td>...</td>\n",
       "      <td>...</td>\n",
       "    </tr>\n",
       "    <tr>\n",
       "      <th>WINC</th>\n",
       "      <td>-0.716086</td>\n",
       "      <td>-1.520005</td>\n",
       "    </tr>\n",
       "    <tr>\n",
       "      <th>WIZ</th>\n",
       "      <td>-0.070943</td>\n",
       "      <td>-0.193777</td>\n",
       "    </tr>\n",
       "    <tr>\n",
       "      <th>WOOD</th>\n",
       "      <td>0.242765</td>\n",
       "      <td>0.414491</td>\n",
       "    </tr>\n",
       "    <tr>\n",
       "      <th>XT</th>\n",
       "      <td>0.631349</td>\n",
       "      <td>0.118019</td>\n",
       "    </tr>\n",
       "    <tr>\n",
       "      <th>YLDE</th>\n",
       "      <td>0.483209</td>\n",
       "      <td>-0.252830</td>\n",
       "    </tr>\n",
       "  </tbody>\n",
       "</table>\n",
       "<p>343 rows × 2 columns</p>\n",
       "</div>"
      ],
      "text/plain": [
       "       Returns  Volitility\n",
       "AADR -0.387812    0.218875\n",
       "AAXJ -0.444363    0.020691\n",
       "ACWI  0.338223   -0.122491\n",
       "ACWX -0.210261   -0.143257\n",
       "AGNG  0.293370   -0.295897\n",
       "...        ...         ...\n",
       "WINC -0.716086   -1.520005\n",
       "WIZ  -0.070943   -0.193777\n",
       "WOOD  0.242765    0.414491\n",
       "XT    0.631349    0.118019\n",
       "YLDE  0.483209   -0.252830\n",
       "\n",
       "[343 rows x 2 columns]"
      ]
     },
     "execution_count": 48,
     "metadata": {},
     "output_type": "execute_result"
    }
   ],
   "source": [
    "# Scaling Features\n",
    "scaler = StandardScaler()\n",
    "\n",
    "# Transform Values to propper scale size\n",
    "scaler = scaler.fit_transform(df_returns)\n",
    "\n",
    "# make a new dataframe using the scaled values\n",
    "scaled_data = pd.DataFrame(scaler , columns=df_returns.columns , index=df_returns.index)\n",
    "df_scaled = scaled_data\n",
    "\n",
    "\n",
    "df_scaled"
   ]
  },
  {
   "attachments": {},
   "cell_type": "markdown",
   "metadata": {},
   "source": [
    "# K MEANS CLUSTERING"
   ]
  },
  {
   "attachments": {},
   "cell_type": "markdown",
   "metadata": {},
   "source": [
    "### Obtain Optimal Amount of Clusters\n",
    "- how many clusters until the inertia dramatically decreases?"
   ]
  },
  {
   "cell_type": "code",
   "execution_count": 49,
   "metadata": {},
   "outputs": [
    {
     "name": "stdout",
     "output_type": "stream",
     "text": [
      "Optimum Clusters 5\n"
     ]
    }
   ],
   "source": [
    "# Make a copy of your scaled dataframe\n",
    "x = df_scaled.copy()\n",
    "\n",
    "# Define amount of clusters\n",
    "k = range(1,16,1)\n",
    "\n",
    "# Create an empty list where we'll store the sum of squared distances\n",
    "# (known as inertia) for each number of clusters\n",
    "distortions = []\n",
    "\n",
    "# Loop through each number of clusters in our range\n",
    "for calc in k:\n",
    "    # Create a KMeans model with the current number of clusters\n",
    "    kmeans = KMeans(n_clusters=calc)\n",
    "    \n",
    "    # Fit the KMeans model to our data\n",
    "    kmeans.fit(x)\n",
    "    \n",
    "    # Calculate the model's inertia (sum of squared distances to closest cluster)\n",
    "    distortions.append(kmeans.inertia_)\n",
    "\n",
    "# Use the KneeLocator function to find the \"elbow point\" in our range of clusters\n",
    "# The elbow point is the number of clusters at which adding more clusters \n",
    "# does not significantly decrease the inertia (sum of squared distances).\n",
    "# In this case, the function is looking for a point where the curve of the \n",
    "# distortions plot is convex and decreasing.\n",
    "k1 = KneeLocator(k , distortions , curve=\"convex\" , direction=\"decreasing\")\n",
    "\n",
    "# The elbow point (optimum number of clusters) is stored in `c`\n",
    "Optimal_Amount_Clusters = k1.elbow\n",
    "\n",
    "# Print out the optimum number of clusters\n",
    "print(\"Optimum Clusters\" , Optimal_Amount_Clusters)\n"
   ]
  },
  {
   "attachments": {},
   "cell_type": "markdown",
   "metadata": {},
   "source": [
    "### Fit AI knn Model"
   ]
  },
  {
   "cell_type": "code",
   "execution_count": 50,
   "metadata": {},
   "outputs": [
    {
     "data": {
      "text/html": [
       "<style>#sk-container-id-3 {color: black;background-color: white;}#sk-container-id-3 pre{padding: 0;}#sk-container-id-3 div.sk-toggleable {background-color: white;}#sk-container-id-3 label.sk-toggleable__label {cursor: pointer;display: block;width: 100%;margin-bottom: 0;padding: 0.3em;box-sizing: border-box;text-align: center;}#sk-container-id-3 label.sk-toggleable__label-arrow:before {content: \"▸\";float: left;margin-right: 0.25em;color: #696969;}#sk-container-id-3 label.sk-toggleable__label-arrow:hover:before {color: black;}#sk-container-id-3 div.sk-estimator:hover label.sk-toggleable__label-arrow:before {color: black;}#sk-container-id-3 div.sk-toggleable__content {max-height: 0;max-width: 0;overflow: hidden;text-align: left;background-color: #f0f8ff;}#sk-container-id-3 div.sk-toggleable__content pre {margin: 0.2em;color: black;border-radius: 0.25em;background-color: #f0f8ff;}#sk-container-id-3 input.sk-toggleable__control:checked~div.sk-toggleable__content {max-height: 200px;max-width: 100%;overflow: auto;}#sk-container-id-3 input.sk-toggleable__control:checked~label.sk-toggleable__label-arrow:before {content: \"▾\";}#sk-container-id-3 div.sk-estimator input.sk-toggleable__control:checked~label.sk-toggleable__label {background-color: #d4ebff;}#sk-container-id-3 div.sk-label input.sk-toggleable__control:checked~label.sk-toggleable__label {background-color: #d4ebff;}#sk-container-id-3 input.sk-hidden--visually {border: 0;clip: rect(1px 1px 1px 1px);clip: rect(1px, 1px, 1px, 1px);height: 1px;margin: -1px;overflow: hidden;padding: 0;position: absolute;width: 1px;}#sk-container-id-3 div.sk-estimator {font-family: monospace;background-color: #f0f8ff;border: 1px dotted black;border-radius: 0.25em;box-sizing: border-box;margin-bottom: 0.5em;}#sk-container-id-3 div.sk-estimator:hover {background-color: #d4ebff;}#sk-container-id-3 div.sk-parallel-item::after {content: \"\";width: 100%;border-bottom: 1px solid gray;flex-grow: 1;}#sk-container-id-3 div.sk-label:hover label.sk-toggleable__label {background-color: #d4ebff;}#sk-container-id-3 div.sk-serial::before {content: \"\";position: absolute;border-left: 1px solid gray;box-sizing: border-box;top: 0;bottom: 0;left: 50%;z-index: 0;}#sk-container-id-3 div.sk-serial {display: flex;flex-direction: column;align-items: center;background-color: white;padding-right: 0.2em;padding-left: 0.2em;position: relative;}#sk-container-id-3 div.sk-item {position: relative;z-index: 1;}#sk-container-id-3 div.sk-parallel {display: flex;align-items: stretch;justify-content: center;background-color: white;position: relative;}#sk-container-id-3 div.sk-item::before, #sk-container-id-3 div.sk-parallel-item::before {content: \"\";position: absolute;border-left: 1px solid gray;box-sizing: border-box;top: 0;bottom: 0;left: 50%;z-index: -1;}#sk-container-id-3 div.sk-parallel-item {display: flex;flex-direction: column;z-index: 1;position: relative;background-color: white;}#sk-container-id-3 div.sk-parallel-item:first-child::after {align-self: flex-end;width: 50%;}#sk-container-id-3 div.sk-parallel-item:last-child::after {align-self: flex-start;width: 50%;}#sk-container-id-3 div.sk-parallel-item:only-child::after {width: 0;}#sk-container-id-3 div.sk-dashed-wrapped {border: 1px dashed gray;margin: 0 0.4em 0.5em 0.4em;box-sizing: border-box;padding-bottom: 0.4em;background-color: white;}#sk-container-id-3 div.sk-label label {font-family: monospace;font-weight: bold;display: inline-block;line-height: 1.2em;}#sk-container-id-3 div.sk-label-container {text-align: center;}#sk-container-id-3 div.sk-container {/* jupyter's `normalize.less` sets `[hidden] { display: none; }` but bootstrap.min.css set `[hidden] { display: none !important; }` so we also need the `!important` here to be able to override the default hidden behavior on the sphinx rendered scikit-learn.org. See: https://github.com/scikit-learn/scikit-learn/issues/21755 */display: inline-block !important;position: relative;}#sk-container-id-3 div.sk-text-repr-fallback {display: none;}</style><div id=\"sk-container-id-3\" class=\"sk-top-container\"><div class=\"sk-text-repr-fallback\"><pre>KMeans(n_clusters=5)</pre><b>In a Jupyter environment, please rerun this cell to show the HTML representation or trust the notebook. <br />On GitHub, the HTML representation is unable to render, please try loading this page with nbviewer.org.</b></div><div class=\"sk-container\" hidden><div class=\"sk-item\"><div class=\"sk-estimator sk-toggleable\"><input class=\"sk-toggleable__control sk-hidden--visually\" id=\"sk-estimator-id-3\" type=\"checkbox\" checked><label for=\"sk-estimator-id-3\" class=\"sk-toggleable__label sk-toggleable__label-arrow\">KMeans</label><div class=\"sk-toggleable__content\"><pre>KMeans(n_clusters=5)</pre></div></div></div></div></div>"
      ],
      "text/plain": [
       "KMeans(n_clusters=5)"
      ]
     },
     "execution_count": 50,
     "metadata": {},
     "output_type": "execute_result"
    }
   ],
   "source": [
    "# fit\n",
    "k_means = KMeans(n_clusters=Optimal_Amount_Clusters)\n",
    "k_means.fit(x)"
   ]
  },
  {
   "cell_type": "code",
   "execution_count": 51,
   "metadata": {},
   "outputs": [],
   "source": [
    "# predict\n",
    "prediction = k_means.predict(df_scaled)"
   ]
  },
  {
   "attachments": {},
   "cell_type": "markdown",
   "metadata": {},
   "source": [
    "# Display Results"
   ]
  },
  {
   "cell_type": "code",
   "execution_count": 52,
   "metadata": {},
   "outputs": [
    {
     "data": {
      "text/plain": [
       "<function matplotlib.pyplot.show(close=None, block=None)>"
      ]
     },
     "execution_count": 52,
     "metadata": {},
     "output_type": "execute_result"
    },
    {
     "data": {
      "image/png": "[encoded data removed]",
      "text/plain": [
       "<Figure size 1800x1000 with 2 Axes>"
      ]
     },
     "metadata": {},
     "output_type": "display_data"
    }
   ],
   "source": [
    "# Obtain the centroids of the clusters from the trained KMeans model.\n",
    "centroids = k_means.cluster_centers_\n",
    "\n",
    "# Create a figure to host the plot, with size 18x10.\n",
    "fig = plt.figure(figsize=(18,10))\n",
    "\n",
    "# Add a subplot to the figure.\n",
    "Graphic = fig.add_subplot(111)\n",
    "\n",
    "# Scatter plot of the data, colored by cluster label.\n",
    "scatter = Graphic.scatter(x.iloc[:,0], x.iloc[:,1] , c = k_means.labels_, cmap=\"rainbow\" , label=x.index)\n",
    "\n",
    "# Set the title and labels for the axes of the plot.\n",
    "Graphic.set_title(\"KNN Cluster Results\")\n",
    "Graphic.set_xlabel(\"Mean Return\")\n",
    "Graphic.set_ylabel(\"Volatility\")\n",
    "\n",
    "# Display a color bar to illustrate which color corresponds to which cluster.\n",
    "plt.colorbar(scatter)\n",
    "\n",
    "# Plot the centroids of each cluster as green squares.\n",
    "plt.plot(centroids[:,0] , centroids[:,1] , \"sg\" , markersize = 10)\n",
    "plt.show\n"
   ]
  },
  {
   "cell_type": "code",
   "execution_count": 53,
   "metadata": {},
   "outputs": [
    {
     "data": {
      "text/plain": [
       "AADR    0\n",
       "AAXJ    0\n",
       "ACWI    2\n",
       "ACWX    0\n",
       "AGNG    2\n",
       "AGZD    1\n",
       "AIA     0\n",
       "AIQ     2\n",
       "AIRR    4\n",
       "ALTY    0\n",
       "ANGL    1\n",
       "ASET    0\n",
       "BBH     2\n",
       "BFIT    0\n",
       "BGRN    1\n",
       "dtype: int32"
      ]
     },
     "execution_count": 53,
     "metadata": {},
     "output_type": "execute_result"
    }
   ],
   "source": [
    "# Return Series\n",
    "clustered_series = pd.Series(index=x.index , data=k_means.labels_.flatten())\n",
    "clustered_series_all = pd.Series(index=x.index , data=k_means.labels_.flatten())\n",
    "\n",
    "# Remove outliers, denoted by -1, from the series\n",
    "clustered_series = clustered_series[clustered_series != -1]\n",
    "\n",
    "\n",
    "clustered_series[:15]"
   ]
  },
  {
   "cell_type": "code",
   "execution_count": 54,
   "metadata": {},
   "outputs": [
    {
     "data": {
      "text/plain": [
       "Text(0.5, 0, 'Cluster')"
      ]
     },
     "execution_count": 54,
     "metadata": {},
     "output_type": "execute_result"
    },
    {
     "data": {
      "image/png": "[encoded data removed]",
      "text/plain": [
       "<Figure size 1000x500 with 1 Axes>"
      ]
     },
     "metadata": {},
     "output_type": "display_data"
    }
   ],
   "source": [
    "# view number by cluser\n",
    "plt.figure(figsize=(10,5))\n",
    "\n",
    "# Generate a bar chart. X-axis is the range of the number of unique clusters. Y-axis is the count of items in each cluster.\n",
    "plt.bar(range(len(clustered_series.value_counts())) , clustered_series.value_counts())\n",
    "\n",
    "# Labels\n",
    "plt.title(\"Clusters\")\n",
    "plt.xlabel(\"Cluster\")"
   ]
  },
  {
   "cell_type": "code",
   "execution_count": 55,
   "metadata": {},
   "outputs": [
    {
     "name": "stdout",
     "output_type": "stream",
     "text": [
      "Current Clusters: 343\n",
      "Cleaned Clusters: 327\n"
     ]
    }
   ],
   "source": [
    "# Remove Clusters if preferred\n",
    "clusters_clean = clustered_series[clustered_series < 3]\n",
    "\n",
    "print(f\"Current Clusters: {len(clustered_series)}\")\n",
    "print(f\"Cleaned Clusters: {len(clusters_clean)}\")"
   ]
  }
 ],
 "metadata": {
  "kernelspec": {
   "display_name": "ML-finance",
   "language": "python",
   "name": "python3"
  },
  "language_info": {
   "codemirror_mode": {
    "name": "ipython",
    "version": 3
   },
   "file_extension": ".py",
   "mimetype": "text/x-python",
   "name": "python",
   "nbconvert_exporter": "python",
   "pygments_lexer": "ipython3",
   "version": "3.9.15"
  },
  "orig_nbformat": 4
 },
 "nbformat": 4,
 "nbformat_minor": 2
}
