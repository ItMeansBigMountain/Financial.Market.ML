{
 "cells": [
  {
   "cell_type": "code",
   "execution_count": null,
   "metadata": {},
   "outputs": [],
   "source": [
    "# Data Management\n",
    "import pandas as pd\n",
    "import numpy as np\n",
    "# from pandas_datareader.data import DataReader\n",
    "# from ta import  add_all_ta_features\n",
    "\n",
    "\n",
    "# Statistics\n",
    "from statsmodels.tsa.stattools import adfuller\n",
    "\n",
    "# Data Preproccessing\n",
    "from sklearn.preprocessing import LabelEncoder\n",
    "from sklearn.preprocessing import OneHotEncoder\n",
    "from sklearn.preprocessing import StandardScaler\n",
    "from sklearn.preprocessing import MinMaxScaler\n",
    "\n",
    "# Supervised Machine Learning\n",
    "from sklearn.model_selection import train_test_split\n",
    "from sklearn.model_selection import cross_val_score\n",
    "from sklearn.model_selection import RepeatedKFold\n",
    "from sklearn.ensemble import RandomForestRegressor\n",
    "\n",
    "# Graphing\n",
    "import matplotlib.pyplot as plt"
   ]
  },
  {
   "attachments": {},
   "cell_type": "markdown",
   "metadata": {},
   "source": [
    "## Data Ingestions\n"
   ]
  },
  {
   "cell_type": "code",
   "execution_count": null,
   "metadata": {},
   "outputs": [],
   "source": [
    "df = pd.read_csv(\"SydneyHousePrices.csv\")\n",
    "\n",
    "\n",
    "print(f\"Length of data: {len(df)}\" )\n",
    "df"
   ]
  },
  {
   "cell_type": "code",
   "execution_count": null,
   "metadata": {},
   "outputs": [],
   "source": [
    "# Interpertate Data\n",
    "df.info()"
   ]
  },
  {
   "attachments": {},
   "cell_type": "markdown",
   "metadata": {},
   "source": [
    "# Feature Engineering"
   ]
  },
  {
   "attachments": {},
   "cell_type": "markdown",
   "metadata": {},
   "source": [
    "##### handle Non-Numerical Data\n",
    "\n",
    "- Label Encoding\n",
    "    - assigning each worded item in a column into a number that the ml algo can comprehend\n",
    "\n",
    "- OneHot Encoding\n",
    "    - get all unique values then make a chart of 0's and 1's wherever it showed"
   ]
  },
  {
   "cell_type": "code",
   "execution_count": null,
   "metadata": {},
   "outputs": [],
   "source": [
    "# unique suburbs\n",
    "suburbs_test_unique = df[\"suburb\"].unique()\n",
    "\n",
    "print(\"Unique Suburbs Length: \" , len(suburbs_test_unique))\n",
    "print(\"Preform Label Encoding\")\n",
    "\n",
    "# Label Encoding\n",
    "labelencoder = LabelEncoder()\n",
    "encoded_suburbs = labelencoder.fit_transform(df[\"suburb\"])\n",
    "df[\"suburbs_encoded\"] = encoded_suburbs\n",
    "\n",
    "df"
   ]
  },
  {
   "cell_type": "code",
   "execution_count": null,
   "metadata": {},
   "outputs": [],
   "source": [
    "# Property Type\n",
    "suburbs_test_unique = df[\"propType\"].unique()\n",
    "\n",
    "print(\"Unique Property Types Length: \" , len(suburbs_test_unique))\n",
    "print(\"Preform OneHot Encoding\")\n",
    "\n",
    "\n",
    "# OneHot Encoding\n",
    "onehot_encoded = pd.get_dummies(df[\"propType\"], prefix=\"pt\", drop_first=True)\n",
    "df = df.join(onehot_encoded)\n",
    "df"
   ]
  }
 ],
 "metadata": {
  "kernelspec": {
   "display_name": "ML-finance",
   "language": "python",
   "name": "python3"
  },
  "language_info": {
   "codemirror_mode": {
    "name": "ipython",
    "version": 3
   },
   "file_extension": ".py",
   "mimetype": "text/x-python",
   "name": "python",
   "nbconvert_exporter": "python",
   "pygments_lexer": "ipython3",
   "version": "3.9.15"
  },
  "orig_nbformat": 4,
  "vscode": {
   "interpreter": {
    "hash": "2af72ad46257abaa44082eb9124a91966a02956c580b48ea461be11e2a82173e"
   }
  }
 },
 "nbformat": 4,
 "nbformat_minor": 2
}
