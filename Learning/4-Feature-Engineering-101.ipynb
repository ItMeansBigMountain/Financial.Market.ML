{
 "cells": [
  {
   "cell_type": "code",
   "execution_count": null,
   "metadata": {},
   "outputs": [],
   "source": [
    "# Data Management\n",
    "import pandas as pd\n",
    "import numpy as np\n",
    "# from pandas_datareader.data import DataReader\n",
    "# from ta import  add_all_ta_features\n",
    "\n",
    "\n",
    "# Statistics\n",
    "from statsmodels.tsa.stattools import adfuller\n",
    "\n",
    "# Data Preproccessing\n",
    "from sklearn.preprocessing import LabelEncoder\n",
    "from sklearn.preprocessing import OneHotEncoder\n",
    "from sklearn.preprocessing import StandardScaler\n",
    "from sklearn.preprocessing import MinMaxScaler\n",
    "\n",
    "# Supervised Machine Learning\n",
    "from sklearn.model_selection import train_test_split as sk_learn_train_test_split\n",
    "from sklearn.model_selection import cross_val_score\n",
    "from sklearn.model_selection import RepeatedKFold\n",
    "from sklearn.ensemble import RandomForestRegressor\n",
    "\n",
    "# Graphing\n",
    "import matplotlib.pyplot as plt"
   ]
  },
  {
   "attachments": {},
   "cell_type": "markdown",
   "metadata": {},
   "source": [
    "## Data Ingestions\n"
   ]
  },
  {
   "cell_type": "code",
   "execution_count": null,
   "metadata": {},
   "outputs": [],
   "source": [
    "df = pd.read_csv(\"SydneyHousePrices.csv\")\n",
    "\n",
    "\n",
    "print(f\"Length of data: {len(df)}\" )\n",
    "df"
   ]
  },
  {
   "cell_type": "code",
   "execution_count": null,
   "metadata": {},
   "outputs": [],
   "source": [
    "# Interpertate Data\n",
    "df.info()"
   ]
  },
  {
   "attachments": {},
   "cell_type": "markdown",
   "metadata": {},
   "source": [
    "# Feature Engineering"
   ]
  },
  {
   "attachments": {},
   "cell_type": "markdown",
   "metadata": {},
   "source": [
    "##### handle Non-Numerical Data\n",
    "\n",
    "- Label Encoding\n",
    "    - assigning each worded item in a column into a number that the ml algo can comprehend\n",
    "\n",
    "- OneHot Encoding\n",
    "    - get all unique values then make a chart of 0's and 1's wherever it showed"
   ]
  },
  {
   "cell_type": "code",
   "execution_count": null,
   "metadata": {},
   "outputs": [],
   "source": [
    "# unique suburbs\n",
    "suburbs_test_unique = df[\"suburb\"].unique()\n",
    "\n",
    "print(\"Unique Suburbs Length: \" , len(suburbs_test_unique))\n",
    "print(\"Preform Label Encoding\")\n",
    "\n",
    "# Label Encoding\n",
    "labelencoder = LabelEncoder()\n",
    "encoded_suburbs = labelencoder.fit_transform(df[\"suburb\"])\n",
    "df[\"suburbs_encoded\"] = encoded_suburbs\n",
    "\n",
    "\n",
    "\n",
    "all_codes = pd.unique(df[\"suburbs_encoded\"])\n",
    "\n",
    "for x in range(len(all_codes[-10:])):\n",
    "    print(suburbs_test_unique[x] , all_codes[x])\n",
    "df"
   ]
  },
  {
   "cell_type": "code",
   "execution_count": null,
   "metadata": {},
   "outputs": [],
   "source": [
    "# Property Type\n",
    "suburbs_test_unique = df[\"propType\"].unique()\n",
    "\n",
    "print(\"Unique Property Types Length: \" , len(suburbs_test_unique))\n",
    "print(\"Preform OneHot Encoding\")\n",
    "\n",
    "\n",
    "# OneHot Encoding\n",
    "onehot_encoded = pd.get_dummies(df[\"propType\"], prefix=\"pt\", drop_first=True)\n",
    "df = df.join(onehot_encoded)\n",
    "\n",
    "df"
   ]
  },
  {
   "attachments": {},
   "cell_type": "markdown",
   "metadata": {},
   "source": [
    "## Set Target\n",
    "- Targets are what the computer should predict"
   ]
  },
  {
   "cell_type": "code",
   "execution_count": null,
   "metadata": {},
   "outputs": [],
   "source": [
    "# setting target\n",
    "df[\"TARGET\"] = df[\"sellPrice\"]\n",
    "\n",
    "df"
   ]
  },
  {
   "attachments": {},
   "cell_type": "markdown",
   "metadata": {},
   "source": [
    "## Remove Redundant Columns (features)"
   ]
  },
  {
   "cell_type": "code",
   "execution_count": null,
   "metadata": {},
   "outputs": [],
   "source": [
    "clean_df = df.copy() \n",
    "clean_df.drop(columns=[\"Date\" , \"Id\" , \"suburb\", \"propType\" , \"sellPrice\"], inplace=True)\n",
    "\n",
    "clean_df"
   ]
  },
  {
   "attachments": {},
   "cell_type": "markdown",
   "metadata": {},
   "source": [
    "# Check for NaN or Inf Values"
   ]
  },
  {
   "cell_type": "code",
   "execution_count": null,
   "metadata": {},
   "outputs": [],
   "source": [
    "# Check for Null & Inf\n",
    "is_null = clean_df.isnull().values.any()\n",
    "is_inf = clean_df.isin([np.inf,-np.inf]).values.any()\n",
    "\n",
    "print(f\"{is_null =  }\")\n",
    "print(f\"{is_inf  =  }\")"
   ]
  },
  {
   "cell_type": "code",
   "execution_count": null,
   "metadata": {},
   "outputs": [],
   "source": [
    "# Fill NaN variables\n",
    "clean_df = clean_df.fillna(clean_df.mean())\n",
    "clean_df.isnull().values.any()\n"
   ]
  },
  {
   "attachments": {},
   "cell_type": "markdown",
   "metadata": {},
   "source": [
    "# Min Max Scaling\n",
    "- In other words. Feature Scaling"
   ]
  },
  {
   "cell_type": "code",
   "execution_count": null,
   "metadata": {},
   "outputs": [],
   "source": [
    "df_scaling = clean_df.copy()\n",
    "mms = MinMaxScaler()\n",
    "df_scaling[df_scaling.columns]= mms.fit_transform(df_scaling)\n",
    "\n",
    "df_scaling.head()\n"
   ]
  },
  {
   "attachments": {},
   "cell_type": "markdown",
   "metadata": {},
   "source": [
    "# Train Test Split"
   ]
  },
  {
   "cell_type": "code",
   "execution_count": null,
   "metadata": {},
   "outputs": [],
   "source": [
    "is_deep_learning = False\n",
    "df_tts = df_scaling.copy() if is_deep_learning else clean_df.copy()\n",
    "\n",
    "df_tts"
   ]
  },
  {
   "attachments": {},
   "cell_type": "markdown",
   "metadata": {},
   "source": [
    "# X is all the data ML Algo is working with\n",
    "# Y is the data we are trying to predict"
   ]
  },
  {
   "cell_type": "code",
   "execution_count": null,
   "metadata": {},
   "outputs": [],
   "source": [
    "# Split X & Y data\n",
    "X_data = df_tts.iloc[:, : -1].values\n",
    "y_data = df_tts.iloc[:,  -1].values\n",
    "\n",
    "print(f\"X first value: \\n{X_data[0]}\")\n",
    "print(f\"y first value: \\n{y_data[0]}\")"
   ]
  },
  {
   "cell_type": "code",
   "execution_count": null,
   "metadata": {},
   "outputs": [],
   "source": [
    "# Train Test Split  (test on 10% )\n",
    "x_train , x_test , y_train , y_test = sk_learn_train_test_split(\n",
    "    X_data,\n",
    "    y_data,\n",
    "    test_size = 0.1,\n",
    "    random_state = 1,\n",
    "    shuffle = True\n",
    ")\n",
    "\n",
    "print(f\"X Train Shape: {x_train.shape}\")\n",
    "print(f\"X Test Shape: {x_test.shape}\")\n",
    "print(f\"y Train Shape: {y_train.shape}\")\n",
    "print(f\"y Test Shape: {y_test.shape}\")"
   ]
  },
  {
   "attachments": {},
   "cell_type": "markdown",
   "metadata": {},
   "source": [
    "# MACHINE LEARNING\n",
    "- HYPER PARAMETER TUNING DOCUMENTATION\n",
    "    - https://scikit-learn.org/stable/modules/generated/sklearn.ensemble.RandomForestRegressor.html\n"
   ]
  },
  {
   "cell_type": "code",
   "execution_count": null,
   "metadata": {},
   "outputs": [],
   "source": [
    "# Train Regressor\n",
    "regressor = RandomForestRegressor(n_estimators=100 , max_depth=10, random_state=0)"
   ]
  },
  {
   "cell_type": "code",
   "execution_count": null,
   "metadata": {},
   "outputs": [],
   "source": [
    "# TRAINING ML \n",
    "regressor.fit(x_train, y_train)"
   ]
  },
  {
   "cell_type": "code",
   "execution_count": null,
   "metadata": {},
   "outputs": [],
   "source": [
    "# Prediction - Use X Testing set to predict Y axis... then test for confidence on Y_test data set for accuracy\n",
    "y_prediction = regressor.predict(x_test)\n",
    "y_prediction = [round(y,0) for y in y_prediction  ]\n",
    "\n",
    "print(\"y_prediction:   \", y_prediction[:5])\n",
    "print(\"y_test: \\t\", y_test[:5])"
   ]
  },
  {
   "cell_type": "code",
   "execution_count": 32,
   "metadata": {},
   "outputs": [],
   "source": [
    "# Check Accuracy using K-Cross_Validation\n",
    "CrossValidation = RepeatedKFold(n_repeats=3, n_splits=5, random_state=1)\n",
    "\n",
    "\n",
    "n_scores = cross_val_score(\n",
    "    regressor ,\n",
    "    x_train,\n",
    "    y_train,\n",
    "    scoring=\"neg_mean_absolute_error\" ,\n",
    "    cv=CrossValidation,\n",
    "    n_jobs = -1,\n",
    "    error_score=\"raise\"\n",
    ")"
   ]
  },
  {
   "cell_type": "code",
   "execution_count": 33,
   "metadata": {},
   "outputs": [
    {
     "name": "stdout",
     "output_type": "stream",
     "text": [
      "ML Avg:  389118.30686148786\n",
      "ML Std:  20152.482105475094\n"
     ]
    }
   ],
   "source": [
    "# Report Preformance\n",
    "print(\"ML Avg: \" , abs(n_scores.mean()))\n",
    "print(\"ML Std: \" , abs(n_scores.std()))"
   ]
  }
 ],
 "metadata": {
  "kernelspec": {
   "display_name": "ML-finance",
   "language": "python",
   "name": "python3"
  },
  "language_info": {
   "codemirror_mode": {
    "name": "ipython",
    "version": 3
   },
   "file_extension": ".py",
   "mimetype": "text/x-python",
   "name": "python",
   "nbconvert_exporter": "python",
   "pygments_lexer": "ipython3",
   "version": "3.9.15"
  },
  "orig_nbformat": 4,
  "vscode": {
   "interpreter": {
    "hash": "2af72ad46257abaa44082eb9124a91966a02956c580b48ea461be11e2a82173e"
   }
  }
 },
 "nbformat": 4,
 "nbformat_minor": 2
}
