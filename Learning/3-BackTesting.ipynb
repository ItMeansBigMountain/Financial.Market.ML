{
 "cells": [
  {
   "cell_type": "code",
   "execution_count": null,
   "metadata": {},
   "outputs": [],
   "source": [
    "import pandas as pd\n",
    "import numpy as np\n",
    "\n",
    "from pandas_datareader import DataReader\n",
    "import yfinance as yf\n",
    "import requests\n",
    "\n",
    "import matplotlib.pyplot as plt"
   ]
  },
  {
   "attachments": {},
   "cell_type": "markdown",
   "metadata": {},
   "source": [
    "#### Data Extraction"
   ]
  },
  {
   "cell_type": "code",
   "execution_count": null,
   "metadata": {},
   "outputs": [],
   "source": [
    "# data init\n",
    "start_date = \"2017-01-01\"\n",
    "end_date = \"2022-01-01\"\n",
    "symbol = \"AAPL\"\n",
    "\n",
    "\n",
    "# CREATING DATAFRAME\n",
    "# df = DataReader(name=symbol, data_source=\"yahoo\", start=start_date , end=end_date )\n",
    "\n",
    "stock = yf.Ticker(symbol)\n",
    "df = stock.history(start=start_date, end=end_date)\n",
    "\n",
    "\n",
    "df.head()\n",
    "\n",
    "\n",
    "# display ethereums ticker price from 2017 - 2022\n",
    "df.tail()"
   ]
  },
  {
   "attachments": {},
   "cell_type": "markdown",
   "metadata": {},
   "source": [
    "#### Feature Adjustment\n",
    "\n",
    "- average moving crossover"
   ]
  },
  {
   "cell_type": "code",
   "execution_count": null,
   "metadata": {},
   "outputs": [],
   "source": [
    "# find moving averages\n",
    "df[\"moving-avg-12\"] = df[\"Close\"].rolling(window=12).mean()\n",
    "df[\"moving-avg-21\"] = df[\"Close\"].rolling(window=21).mean()\n",
    "\n",
    "\n",
    "# check if rolling avrage for 12 days is more than 21 days average \n",
    "df.loc[df[\"moving-avg-12\"] > df['moving-avg-21'] , \"Signal\"] = 1\n",
    "df.loc[df[\"moving-avg-12\"] <= df['moving-avg-21'] , \"Signal\"] = 0\n",
    "\n",
    "# Move outputs to future dates analysis\n",
    "df[\"Signal\"] = df[\"Signal\"].shift(1)\n",
    "\n",
    "df"
   ]
  },
  {
   "cell_type": "code",
   "execution_count": null,
   "metadata": {},
   "outputs": [],
   "source": [
    "# Add Returns\n",
    "# NOTE: checking close price divided by yesterdays price\n",
    "df[\"log-returns-benchmak\"] = np.log(df[\"Close\"] / df['Close'].shift(1))\n",
    "df[\"log-returns-product-benchmak\"] = df[\"log-returns-benchmak\"].cumsum()  # \n",
    "df[\"product-bench\"] = np.exp(df[\"log-returns-product-benchmak\"]) - 1\n",
    "df"
   ]
  },
  {
   "cell_type": "code",
   "execution_count": null,
   "metadata": {},
   "outputs": [],
   "source": [
    "# Add Strategy Returns\n",
    "# NOTE: takes open of the following day divided by the current open\n",
    "df[\"log-returns-strategy\"] = np.log(df[\"Open\"].shift(-1) / df['Open']) * df[\"Signal\"]\n",
    "df[\"log-returns-product-strategy\"] = df[\"log-returns-strategy\"].cumsum()\n",
    "df[\"product-strategy\"] = np.exp(df[\"log-returns-product-strategy\"]) - 1\n",
    "df.tail()"
   ]
  },
  {
   "cell_type": "code",
   "execution_count": null,
   "metadata": {},
   "outputs": [],
   "source": [
    "# removing NaN\n",
    "df.dropna(inplace=True)\n",
    "\n",
    "df"
   ]
  },
  {
   "attachments": {},
   "cell_type": "markdown",
   "metadata": {},
   "source": [
    "# Plot Results\n"
   ]
  },
  {
   "cell_type": "code",
   "execution_count": null,
   "metadata": {},
   "outputs": [],
   "source": [
    "# show graph\n",
    "fig = plt.Figure(figsize=(15,8))\n",
    "plt.plot(df[\"product-bench\"])\n",
    "plt.plot(df[\"product-strategy\"])\n",
    "plt.show"
   ]
  },
  {
   "attachments": {},
   "cell_type": "markdown",
   "metadata": {},
   "source": [
    "## metrics"
   ]
  },
  {
   "cell_type": "code",
   "execution_count": null,
   "metadata": {},
   "outputs": [],
   "source": [
    "# calculate returns\n",
    "print(\"Benchmark Returns: \" , df[\"product-bench\"].iloc[-1])\n",
    "print(\"Strategy Returns: \" , df[\"product-strategy\"].iloc[-1])"
   ]
  },
  {
   "attachments": {},
   "cell_type": "markdown",
   "metadata": {},
   "source": [
    "### calculate sharpe\n",
    "- input all the log returns\n",
    "- find its average\n",
    "- divide the <strong>Average</strong> by the <strong>Standard Deviation</strong>\n",
    "\n",
    "#### Per dollar of risk... How Much Reward?  \n",
    "- Avewrage spent / Risk\n",
    "- <strong>Standard Deviation is risk</strong>\n",
    "- <strong>Average is reward</strong>\n",
    "\n",
    "\n",
    "# IMPORTANT: Finding a sharpe ratio above 1.15 is doing very well. \n",
    "\n"
   ]
  },
  {
   "cell_type": "code",
   "execution_count": null,
   "metadata": {},
   "outputs": [],
   "source": [
    "# calculate sharpe\n",
    "def calculate_sharpe(log_returns):\n",
    "    days = 255\n",
    "    risk_free_rate = 0.01\n",
    "    sqrt_days = np.sqrt(days)\n",
    "    mean = log_returns.mean() * days \n",
    "    sigma = log_returns.std() * sqrt_days\n",
    "    sharpe = round( (mean - risk_free_rate) / sigma , 3)\n",
    "    return sharpe"
   ]
  },
  {
   "cell_type": "code",
   "execution_count": null,
   "metadata": {},
   "outputs": [],
   "source": [
    "# show sharpe\n",
    "bench_sharpe    = calculate_sharpe(df[\"log-returns-benchmak\"])\n",
    "strategy_sharpe =  calculate_sharpe(df[\"log-returns-strategy\"])\n",
    "print(\"Benchmark Sharpe: \" , bench_sharpe)\n",
    "print(\"Strategy Sharpe: \" , strategy_sharpe)"
   ]
  }
 ],
 "metadata": {
  "kernelspec": {
   "display_name": "ML-finance",
   "language": "python",
   "name": "python3"
  },
  "language_info": {
   "codemirror_mode": {
    "name": "ipython",
    "version": 3
   },
   "file_extension": ".py",
   "mimetype": "text/x-python",
   "name": "python",
   "nbconvert_exporter": "python",
   "pygments_lexer": "ipython3",
   "version": "3.9.15 (main, Nov 24 2022, 14:39:17) [MSC v.1916 64 bit (AMD64)]"
  },
  "orig_nbformat": 4,
  "vscode": {
   "interpreter": {
    "hash": "2af72ad46257abaa44082eb9124a91966a02956c580b48ea461be11e2a82173e"
   }
  }
 },
 "nbformat": 4,
 "nbformat_minor": 2
}
