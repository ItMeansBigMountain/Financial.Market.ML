{
 "cells": [
  {
   "cell_type": "code",
   "execution_count": null,
   "metadata": {},
   "outputs": [],
   "source": [
    "import pandas as pd\n",
    "import numpy as np\n",
    "\n",
    "from pandas_datareader import DataReader\n",
    "\n",
    "import matplotlib.pyplot as plt"
   ]
  },
  {
   "attachments": {},
   "cell_type": "markdown",
   "metadata": {},
   "source": [
    "#### Data Extraction"
   ]
  },
  {
   "cell_type": "code",
   "execution_count": null,
   "metadata": {},
   "outputs": [],
   "source": [
    "# data init\n",
    "start_date = \"2017-01-01\"\n",
    "end_date = \"2022-12-01\"\n",
    "symbol = \"SPY\"\n",
    "\n",
    "\n",
    "# CREATING DATAFRAME\n",
    "df = DataReader(name=symbol, data_source=\"yahoo\", start=start_date , end=end_date )\n",
    "\n",
    "\n",
    "# display ethereums ticker price from 2017 - 2022\n",
    "df.tail(3)"
   ]
  },
  {
   "attachments": {},
   "cell_type": "markdown",
   "metadata": {},
   "source": [
    "#### Feature Adjustment\n",
    "\n",
    "- average moving crossover"
   ]
  },
  {
   "cell_type": "code",
   "execution_count": null,
   "metadata": {},
   "outputs": [],
   "source": [
    "# find moving averages\n",
    "df[\"moving-avg-12\"] = df[\"Adj Close\"].rolling(window=12).mean()\n",
    "df[\"moving-avg-21\"] = df[\"Adj Close\"].rolling(window=21).mean()\n",
    "\n",
    "\n",
    "# check if rolling avrage for 12 days is more than 21 days average \n",
    "df.loc[df[\"moving-avg-12\"] > df['moving-avg-21'] , \"Signal\"] = 1\n",
    "df.loc[df[\"moving-avg-12\"] <= df['moving-avg-21'] , \"Signal\"] = 0\n",
    "\n",
    "# Move outputs to future dates analysis\n",
    "df[\"Signal\"] = df[\"Signal\"].shift(1)\n",
    "\n",
    "df"
   ]
  },
  {
   "cell_type": "code",
   "execution_count": null,
   "metadata": {},
   "outputs": [],
   "source": [
    "# Add Returns\n",
    "df[\"log-returns-benchmak\"] = np.log(df[\"Adj Close\"] / df['Adj Close'].shift(1))\n",
    "df[\"log-returns-product-benchmak\"] = df[\"log-returns-benchmak\"].cumsum()\n",
    "df[\"product-bench\"] = np.exp(df[\"log-returns-product-benchmak\"]) - 1\n",
    "df.head()"
   ]
  },
  {
   "cell_type": "code",
   "execution_count": null,
   "metadata": {},
   "outputs": [],
   "source": [
    "# Add Strategy Returns\n",
    "df[\"log-returns-strategy\"] = np.log(df[\"Open\"].shift(-1) / df['Open']) * df[\"Signal\"]\n",
    "df[\"log-returns-product-strategy\"] = df[\"log-returns-strategy\"].cumsum()\n",
    "df[\"product-strategy\"] = np.exp(df[\"log-returns-product-strategy\"]) - 1\n",
    "df.tail()"
   ]
  }
 ],
 "metadata": {
  "kernelspec": {
   "display_name": "ML-finance",
   "language": "python",
   "name": "python3"
  },
  "language_info": {
   "codemirror_mode": {
    "name": "ipython",
    "version": 3
   },
   "file_extension": ".py",
   "mimetype": "text/x-python",
   "name": "python",
   "nbconvert_exporter": "python",
   "pygments_lexer": "ipython3",
   "version": "3.9.15"
  },
  "orig_nbformat": 4,
  "vscode": {
   "interpreter": {
    "hash": "2af72ad46257abaa44082eb9124a91966a02956c580b48ea461be11e2a82173e"
   }
  }
 },
 "nbformat": 4,
 "nbformat_minor": 2
}
