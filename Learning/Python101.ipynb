{
 "cells": [
  {
   "cell_type": "markdown",
   "metadata": {},
   "source": [
    "# PYTHON 101"
   ]
  },
  {
   "cell_type": "code",
   "execution_count": null,
   "metadata": {},
   "outputs": [],
   "source": [
    "from random import random\n",
    "import numpy as np\n",
    "import torch"
   ]
  },
  {
   "cell_type": "markdown",
   "metadata": {},
   "source": [
    "# PYTHON LIST vs. NUMPY ARRAY vs. PYTORCH TENSOR"
   ]
  },
  {
   "cell_type": "code",
   "execution_count": null,
   "metadata": {},
   "outputs": [],
   "source": [
    "# LIST\n",
    "prices = [4.56, 5.96, 3.55 , 9.99] \n",
    "print(f\"REGULAR LIST: {prices}\")\n",
    "\n",
    "# NUMPY\n",
    "prices = np.array( [4.56, 5.96, 3.55 , 9.99] )\n",
    "print(f\"NUMPY ARRAY: {prices}\")\n",
    "\n",
    "# TENSOR\n",
    "prices = torch.Tensor( [4.56, 5.96, 3.55 , 9.99] )\n",
    "print(f\"PYTORCH TENSOR: {prices}\")\n"
   ]
  },
  {
   "cell_type": "markdown",
   "metadata": {},
   "source": [
    "### NUMPY ARRAY SHAPES\n",
    "- RETURNS DIMENTIONS OF THE NESTED ARRAY MATRIX\n",
    "\n",
    "- nested arrays must be same length (parallel)\n",
    "- Reshaping will change the x,y lengths of the matrix "
   ]
  },
  {
   "cell_type": "code",
   "execution_count": null,
   "metadata": {},
   "outputs": [],
   "source": [
    "# SHAPE\n",
    "Narr = np.array([\n",
    "    [4.56, 5.96, 3.55 , 9.99],\n",
    "    [3.54, 3.77, 9.55 , 5.01]\n",
    "])\n",
    "\n",
    "print(Narr)\n",
    "print(f\"Numpy Array Shape: {Narr.shape}\")"
   ]
  },
  {
   "cell_type": "code",
   "execution_count": null,
   "metadata": {},
   "outputs": [],
   "source": [
    "# RE-SHAPE\n",
    "reshaped = Narr.reshape(4,2)\n",
    "print(reshaped)\n",
    "print(f\"Numpy Array RE-Shape: {reshaped.shape}\")"
   ]
  },
  {
   "cell_type": "code",
   "execution_count": null,
   "metadata": {},
   "outputs": [],
   "source": [
    "# FLATTEN\n",
    "flatten = Narr.reshape(1,8)\n",
    "print(flatten)\n",
    "print(f\"Numpy Array Flatten: {flatten.shape}\")"
   ]
  }
 ],
 "metadata": {
  "kernelspec": {
   "display_name": "Python 3.9.15 ('ML-finance')",
   "language": "python",
   "name": "python3"
  },
  "language_info": {
   "codemirror_mode": {
    "name": "ipython",
    "version": 3
   },
   "file_extension": ".py",
   "mimetype": "text/x-python",
   "name": "python",
   "nbconvert_exporter": "python",
   "pygments_lexer": "ipython3",
   "version": "3.9.15"
  },
  "orig_nbformat": 4,
  "vscode": {
   "interpreter": {
    "hash": "3926d90eaceffbec1c4388df34ea3cab12d1b58eed22ee276a6bb0c6ad052f56"
   }
  }
 },
 "nbformat": 4,
 "nbformat_minor": 2
}
