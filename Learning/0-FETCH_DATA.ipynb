{
 "cells": [
  {
   "cell_type": "markdown",
   "metadata": {},
   "source": [
    "# FETCH DATA"
   ]
  },
  {
   "cell_type": "code",
   "execution_count": null,
   "metadata": {},
   "outputs": [],
   "source": [
    "# 1\n",
    "import yfinance as yf\n",
    "\n",
    "# 2\n",
    "import pandas as pd\n",
    "from pandas_datareader.data import  DataReader\n",
    "\n",
    "# 3\n",
    "import requests\n",
    "import json\n"
   ]
  },
  {
   "cell_type": "code",
   "execution_count": null,
   "metadata": {},
   "outputs": [],
   "source": [
    "\n",
    "# USE YAHOO FINANCE (RELIABLE)\n",
    "data = yf.download(\"AAPL\" , \"2017-01-01\" , \"2022-01-01\" )\n",
    "data.head()"
   ]
  },
  {
   "cell_type": "code",
   "execution_count": null,
   "metadata": {},
   "outputs": [],
   "source": [
    "# USE PANDAS DATAFRAMES  (NOT RELIABLE)\n",
    "data = DataReader(name=\"TSLA\", data_source=\"yahoo\", start=\"2017-01-01\", end=\"2022-01-01\")\n",
    "data.head()"
   ]
  },
  {
   "cell_type": "code",
   "execution_count": null,
   "metadata": {},
   "outputs": [],
   "source": [
    "# USE REQUESTS JSON   (RELIABLE w/Proper URL)\n",
    "url = \"https://api.poloniex.com/markets/BTC_USDT/prices\"\n",
    "r = requests.get(url)\n",
    "\n",
    "df = pd.DataFrame( r.json(), index=[0] )\n",
    "df"
   ]
  },
  {
   "cell_type": "code",
   "execution_count": 28,
   "metadata": {},
   "outputs": [],
   "source": [
    "# SAVE DATA\n",
    "df.to_csv(\"test.csv\")\n",
    "\n",
    "new_df = df.read_csv(\"test.csv\")\n",
    "new_df"
   ]
  }
 ],
 "metadata": {
  "kernelspec": {
   "display_name": "Python 3",
   "language": "python",
   "name": "python3"
  },
  "language_info": {
   "codemirror_mode": {
    "name": "ipython",
    "version": 3
   },
   "file_extension": ".py",
   "mimetype": "text/x-python",
   "name": "python",
   "nbconvert_exporter": "python",
   "pygments_lexer": "ipython3",
   "version": "3.11.1"
  },
  "orig_nbformat": 4,
  "vscode": {
   "interpreter": {
    "hash": "7ab43e4f0e01e0af1bf044e858e066f4e522177b3d0ca20b891aaea49d6755d6"
   }
  }
 },
 "nbformat": 4,
 "nbformat_minor": 2
}
