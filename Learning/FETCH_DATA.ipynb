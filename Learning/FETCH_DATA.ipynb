{
 "cells": [
  {
   "cell_type": "markdown",
   "metadata": {},
   "source": [
    "# FETCH DATA"
   ]
  },
  {
   "cell_type": "code",
   "execution_count": null,
   "metadata": {},
   "outputs": [],
   "source": [
    "import yfinance as yf\n",
    "\n",
    "import pandas as pd\n",
    "from pandas_datareader.data import  DataReader\n",
    "\n",
    "import requests\n",
    "import json\n"
   ]
  },
  {
   "cell_type": "code",
   "execution_count": null,
   "metadata": {},
   "outputs": [],
   "source": [
    "\n",
    "# USE YAHOO FINANCE\n",
    "data = yf.download(\"AAPL\" , \"2017-01-01\" , \"2022-01-01\" )\n",
    "data.head()"
   ]
  },
  {
   "cell_type": "code",
   "execution_count": null,
   "metadata": {},
   "outputs": [],
   "source": [
    "# USE PANDAS DATAFRAMES\n",
    "data = DataReader(name=\"TSLA\", data_source=\"yahoo\", start=\"2017-01-01\", end=\"2022-01-01\")\n",
    "data.head()"
   ]
  },
  {
   "cell_type": "code",
   "execution_count": null,
   "metadata": {},
   "outputs": [],
   "source": [
    "# USE REQUESTS JSON\n",
    "url = \"https://api.poloniex.com/markets/BTC_USDT/prices\"\n",
    "r = requests.get(url)\n",
    "\n",
    "df = pd.DataFrame( r.json(), index=[0] )\n",
    "df"
   ]
  },
  {
   "cell_type": "code",
   "execution_count": 28,
   "metadata": {},
   "outputs": [],
   "source": [
    "# SAVE DATA\n",
    "df.to_csv(\"test.csv\")\n",
    "\n",
    "new_df = df.read_csv(\"test.csv\")\n",
    "new_df"
   ]
  }
 ],
 "metadata": {
  "kernelspec": {
   "display_name": "Python 3.9.15 ('ML-finance')",
   "language": "python",
   "name": "python3"
  },
  "language_info": {
   "codemirror_mode": {
    "name": "ipython",
    "version": 3
   },
   "file_extension": ".py",
   "mimetype": "text/x-python",
   "name": "python",
   "nbconvert_exporter": "python",
   "pygments_lexer": "ipython3",
   "version": "3.9.15"
  },
  "orig_nbformat": 4,
  "vscode": {
   "interpreter": {
    "hash": "3926d90eaceffbec1c4388df34ea3cab12d1b58eed22ee276a6bb0c6ad052f56"
   }
  }
 },
 "nbformat": 4,
 "nbformat_minor": 2
}
