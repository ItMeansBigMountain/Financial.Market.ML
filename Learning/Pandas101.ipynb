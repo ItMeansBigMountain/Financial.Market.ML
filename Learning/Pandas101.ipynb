{
 "cells": [
  {
   "cell_type": "markdown",
   "metadata": {},
   "source": [
    "# PANDAS 101 \n",
    "- Like having excel as a python library\n"
   ]
  },
  {
   "cell_type": "code",
   "execution_count": null,
   "metadata": {},
   "outputs": [],
   "source": [
    "import pandas as pd\n",
    "import numpy as np\n",
    "\n",
    "from pandas_datareader.data import  DataReader\n",
    "\n",
    "import matplotlib.pyplot as plt"
   ]
  },
  {
   "cell_type": "code",
   "execution_count": null,
   "metadata": {},
   "outputs": [],
   "source": [
    "# data init\n",
    "start_date = \"2017-01-01\"\n",
    "end_date = \"2022-12-01\"\n",
    "symbol = \"ETH-USD\"\n",
    "\n",
    "\n",
    "# CREATING DATAFRAME\n",
    "df = DataReader(name=symbol, data_source=\"yahoo\", start=start_date , end=end_date )\n",
    "\n",
    "\n",
    "# display ethereums ticker price from 2017 - 2022\n",
    "df"
   ]
  },
  {
   "cell_type": "markdown",
   "metadata": {},
   "source": [
    "# Working with Returns\n",
    "- find a percentage that the neural network can replicate,  reguadless of what the price is, in order to find patterns within the positive/negative price difference"
   ]
  },
  {
   "cell_type": "code",
   "execution_count": null,
   "metadata": {},
   "outputs": [],
   "source": [
    "# create column that finds percent change from previous row\n",
    "df[\"Returns\"] = df[\"Close\"].pct_change()\n",
    "\n",
    "print(df)"
   ]
  },
  {
   "cell_type": "markdown",
   "metadata": {},
   "source": [
    "drop rows with non available values"
   ]
  },
  {
   "cell_type": "code",
   "execution_count": null,
   "metadata": {},
   "outputs": [],
   "source": [
    "df.dropna(inplace=True)\n",
    "\n",
    "print(df)"
   ]
  },
  {
   "cell_type": "markdown",
   "metadata": {},
   "source": [
    "# Logging Returns"
   ]
  },
  {
   "cell_type": "code",
   "execution_count": null,
   "metadata": {},
   "outputs": [],
   "source": [
    "df['Log-Returns'] = np.log(df[\"Close\"] / df[\"Close\"].shift(1))\n",
    "\n",
    "print(df)"
   ]
  }
 ],
 "metadata": {
  "kernelspec": {
   "display_name": "Python 3.9.15 ('ML-finance')",
   "language": "python",
   "name": "python3"
  },
  "language_info": {
   "codemirror_mode": {
    "name": "ipython",
    "version": 3
   },
   "file_extension": ".py",
   "mimetype": "text/x-python",
   "name": "python",
   "nbconvert_exporter": "python",
   "pygments_lexer": "ipython3",
   "version": "3.9.15"
  },
  "orig_nbformat": 4,
  "vscode": {
   "interpreter": {
    "hash": "3926d90eaceffbec1c4388df34ea3cab12d1b58eed22ee276a6bb0c6ad052f56"
   }
  }
 },
 "nbformat": 4,
 "nbformat_minor": 2
}
