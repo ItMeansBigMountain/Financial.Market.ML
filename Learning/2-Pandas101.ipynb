{
 "cells": [
  {
   "cell_type": "markdown",
   "metadata": {},
   "source": [
    "# PANDAS 101 \n",
    "- Like having excel as a python library\n"
   ]
  },
  {
   "cell_type": "code",
   "execution_count": null,
   "metadata": {},
   "outputs": [],
   "source": [
    "import pandas as pd\n",
    "import numpy as np\n",
    "\n",
    "from pandas_datareader.data import  DataReader\n",
    "\n",
    "import matplotlib.pyplot as plt"
   ]
  },
  {
   "cell_type": "code",
   "execution_count": null,
   "metadata": {},
   "outputs": [],
   "source": [
    "# data init\n",
    "start_date = \"2017-01-01\"\n",
    "end_date = \"2022-12-01\"\n",
    "symbol = \"ETH-USD\"\n",
    "\n",
    "\n",
    "# CREATING DATAFRAME\n",
    "df = DataReader(name=symbol, data_source=\"yahoo\", start=start_date , end=end_date )\n",
    "\n",
    "\n",
    "# display ethereums ticker price from 2017 - 2022\n",
    "df"
   ]
  },
  {
   "cell_type": "markdown",
   "metadata": {},
   "source": [
    "# Working with Returns\n",
    "- find a percentage that the neural network can replicate,  reguadless of what the price is, in order to find patterns within the positive/negative price difference"
   ]
  },
  {
   "cell_type": "code",
   "execution_count": null,
   "metadata": {},
   "outputs": [],
   "source": [
    "# create column that finds percent change from previous row\n",
    "df[\"Returns\"] = df[\"Close\"].pct_change()\n",
    "\n",
    "print(df)"
   ]
  },
  {
   "cell_type": "markdown",
   "metadata": {},
   "source": [
    "drop rows with non available values"
   ]
  },
  {
   "cell_type": "code",
   "execution_count": null,
   "metadata": {},
   "outputs": [],
   "source": [
    "df.dropna(inplace=True)\n",
    "\n",
    "print(df)"
   ]
  },
  {
   "cell_type": "markdown",
   "metadata": {},
   "source": [
    "# Logging Returns"
   ]
  },
  {
   "cell_type": "code",
   "execution_count": null,
   "metadata": {},
   "outputs": [],
   "source": [
    "df['Log-Returns'] = np.log(df[\"Close\"] / df[\"Close\"].shift(1))\n",
    "\n",
    "df"
   ]
  },
  {
   "cell_type": "code",
   "execution_count": null,
   "metadata": {},
   "outputs": [],
   "source": [
    "# Sum returns\n",
    "df[\"Log-Returns-cumaltive-sum\"] = df['Log-Returns'].cumsum()\n",
    "\n",
    "df"
   ]
  },
  {
   "cell_type": "code",
   "execution_count": null,
   "metadata": {},
   "outputs": [],
   "source": [
    "# Normalize Log Returns\n",
    "\n",
    "df[\"Log-Return-normal\"] = np.exp(df[\"Log-Returns-cumaltive-sum\"]) - 1\n",
    "\n",
    "df"
   ]
  },
  {
   "attachments": {},
   "cell_type": "markdown",
   "metadata": {},
   "source": [
    "# Filling NaN values"
   ]
  },
  {
   "cell_type": "code",
   "execution_count": null,
   "metadata": {},
   "outputs": [],
   "source": [
    "df.fillna(0,inplace=True)\n",
    "\n",
    "df"
   ]
  },
  {
   "attachments": {},
   "cell_type": "markdown",
   "metadata": {},
   "source": [
    "# Creating Copies of DataFrame"
   ]
  },
  {
   "cell_type": "code",
   "execution_count": null,
   "metadata": {},
   "outputs": [],
   "source": [
    "df_new = df.copy()\n",
    "\n",
    "\n",
    "df_new.tail(3)"
   ]
  },
  {
   "attachments": {},
   "cell_type": "markdown",
   "metadata": {},
   "source": [
    "# DROP COLUMNS"
   ]
  },
  {
   "cell_type": "code",
   "execution_count": null,
   "metadata": {},
   "outputs": [],
   "source": [
    "df_new.drop(columns=[\"High\", \"Low\", \"Adj Close\"], inplace=True)\n",
    "\n",
    "df_new"
   ]
  },
  {
   "attachments": {},
   "cell_type": "markdown",
   "metadata": {},
   "source": [
    "# Work with certain rows & columns\n",
    "- df_new.iloc[ rows , columns ]"
   ]
  },
  {
   "cell_type": "code",
   "execution_count": null,
   "metadata": {},
   "outputs": [],
   "source": [
    "print(df_new.columns)\n",
    "\n",
    "# select certain rows and columns\n",
    "df_new.iloc[ 1:5 , 2:-1 ]"
   ]
  },
  {
   "attachments": {},
   "cell_type": "markdown",
   "metadata": {},
   "source": [
    "# CONDITIONALS\n",
    "- query rows using conditional statemetns\n",
    "- df.loc[CONDITIONAL STATEMENT]"
   ]
  },
  {
   "cell_type": "code",
   "execution_count": null,
   "metadata": {},
   "outputs": [],
   "source": [
    "# check if price in the future is greater/lesser than current... then create column callled target \n",
    "df_new.loc[df['Close'].shift(-1) > df['Close'] , \"TARGET\"] = 1\n",
    "df_new.loc[df['Close'].shift(-1) < df['Close'] , \"TARGET\"] = -1\n",
    "\n",
    "\n",
    "df_new"
   ]
  },
  {
   "attachments": {},
   "cell_type": "markdown",
   "metadata": {},
   "source": [
    "# ITERATIONS"
   ]
  },
  {
   "cell_type": "code",
   "execution_count": null,
   "metadata": {},
   "outputs": [],
   "source": [
    "i = 1\n",
    "stop = 2\n",
    "\n",
    "# loop through a dataframe\n",
    "for index , row in df_new.iterrows():\n",
    "    print(f\"{index} : ${row['Close']}\")\n",
    "    \n",
    "    if i >= stop:\n",
    "        break\n",
    "    i+=1"
   ]
  },
  {
   "attachments": {},
   "cell_type": "markdown",
   "metadata": {},
   "source": [
    "# Extract Arrays & Values From DataFrame"
   ]
  },
  {
   "cell_type": "code",
   "execution_count": null,
   "metadata": {},
   "outputs": [],
   "source": [
    "df_example = df_new.copy()\n",
    "close_prices = df_example['Close'].values\n",
    "\n",
    "\n",
    "# List of all items in column \n",
    "list(close_prices) "
   ]
  },
  {
   "cell_type": "code",
   "execution_count": null,
   "metadata": {},
   "outputs": [],
   "source": [
    "# divide each number in array by 2\n",
    "modify_close_prices = close_prices / 2\n",
    "\n",
    "list(modify_close_prices) "
   ]
  },
  {
   "cell_type": "code",
   "execution_count": null,
   "metadata": {},
   "outputs": [],
   "source": [
    "# add back to dataframe\n",
    "df_example[\"mod_closed\"] = modify_close_prices\n",
    "\n",
    "df_example"
   ]
  },
  {
   "attachments": {},
   "cell_type": "markdown",
   "metadata": {},
   "source": [
    "# Fetch One Item\n",
    "- df_example[\"COLUMN\"].iloc[INDEX:INDEX++].item()"
   ]
  },
  {
   "cell_type": "code",
   "execution_count": null,
   "metadata": {},
   "outputs": [],
   "source": [
    "price = df_example[\"Close\"].iloc[1:2].item()\n",
    "\n",
    "price"
   ]
  },
  {
   "attachments": {},
   "cell_type": "markdown",
   "metadata": {},
   "source": [
    "# Multiple Adjustments"
   ]
  },
  {
   "cell_type": "code",
   "execution_count": null,
   "metadata": {},
   "outputs": [],
   "source": [
    "# change close , volume , and open columns\n",
    "df_example[[\"Open\", 'Close', 'Volume']] = df_example[[\"Open\", 'Close', 'Volume']] / df_example[[\"Open\", 'Close', 'Volume']].max()\n",
    "\n",
    "df_example.tail(3)\n",
    "df_example['Close']"
   ]
  },
  {
   "attachments": {},
   "cell_type": "markdown",
   "metadata": {},
   "source": [
    "# Create Series & DataFrame\n",
    "- series are columns \n",
    "    - each item is a row\n"
   ]
  },
  {
   "cell_type": "code",
   "execution_count": null,
   "metadata": {},
   "outputs": [],
   "source": [
    "# Create Series\n",
    "series_1_list = [1,3,8,4,3]\n",
    "series_1 = pd.Series(series_1_list)\n",
    "\n",
    "series_1"
   ]
  },
  {
   "cell_type": "code",
   "execution_count": null,
   "metadata": {},
   "outputs": [],
   "source": [
    "#  Crreate DataFrame\n",
    "df_created = pd.DataFrame(series_1, columns=[\"SERIES\"])\n",
    "df_created"
   ]
  },
  {
   "attachments": {},
   "cell_type": "markdown",
   "metadata": {},
   "source": [
    "# Save and Load DataFrame as File"
   ]
  },
  {
   "cell_type": "code",
   "execution_count": null,
   "metadata": {},
   "outputs": [],
   "source": [
    "# Save DF\n",
    "df_example.to_csv(\"PandasDemo.csv\")"
   ]
  },
  {
   "cell_type": "code",
   "execution_count": null,
   "metadata": {},
   "outputs": [],
   "source": [
    "# Load DF\n",
    "read_df = pd.read_csv(\"PandasDemo.csv\")\n",
    "read_df"
   ]
  }
 ],
 "metadata": {
  "kernelspec": {
   "display_name": "ML-finance",
   "language": "python",
   "name": "python3"
  },
  "language_info": {
   "codemirror_mode": {
    "name": "ipython",
    "version": 3
   },
   "file_extension": ".py",
   "mimetype": "text/x-python",
   "name": "python",
   "nbconvert_exporter": "python",
   "pygments_lexer": "ipython3",
   "version": "3.9.15"
  },
  "orig_nbformat": 4,
  "vscode": {
   "interpreter": {
    "hash": "2af72ad46257abaa44082eb9124a91966a02956c580b48ea461be11e2a82173e"
   }
  }
 },
 "nbformat": 4,
 "nbformat_minor": 2
}
