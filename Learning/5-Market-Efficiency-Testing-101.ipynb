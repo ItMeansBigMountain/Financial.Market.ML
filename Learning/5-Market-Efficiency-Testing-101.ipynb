{
 "cells": [
  {
   "cell_type": "markdown",
   "id": "ecc77eb2",
   "metadata": {},
   "source": [
    "### Imports"
   ]
  },
  {
   "cell_type": "code",
   "execution_count": 91,
   "id": "0110bcc8",
   "metadata": {},
   "outputs": [],
   "source": [
    "# DATA FORMATION\n",
    "import pandas as pd\n",
    "import numpy as np\n",
    "from numpy import cumsum, log, polyfit, sqrt, std, subtract\n",
    "import matplotlib.pyplot as plt\n",
    "\n",
    "\n",
    "# ML ALGO\n",
    "import sklearn.mixture as mix\n",
    "\n",
    "# FETCHING DATA\n",
    "import yfinance as yf\n",
    "# from pandas_datareader.data import DataReader\n",
    "\n",
    "\n",
    "\n",
    "# Efficiency Testing Libraries\n",
    "from statsmodels.tsa.stattools import bds\n",
    "from statsmodels.sandbox.stats.runs import runstest_1samp\n",
    "from statsmodels.tsa.stattools import adfuller\n",
    "import scipy.stats as sps"
   ]
  },
  {
   "cell_type": "markdown",
   "id": "f060f645",
   "metadata": {},
   "source": [
    "### Data Extraction"
   ]
  },
  {
   "cell_type": "code",
   "execution_count": 92,
   "id": "00861d85",
   "metadata": {},
   "outputs": [
    {
     "name": "stdout",
     "output_type": "stream",
     "text": [
      "[*********************100%***********************]  1 of 1 completed\n"
     ]
    },
    {
     "data": {
      "text/html": [
       "<div>\n",
       "<style scoped>\n",
       "    .dataframe tbody tr th:only-of-type {\n",
       "        vertical-align: middle;\n",
       "    }\n",
       "\n",
       "    .dataframe tbody tr th {\n",
       "        vertical-align: top;\n",
       "    }\n",
       "\n",
       "    .dataframe thead th {\n",
       "        text-align: right;\n",
       "    }\n",
       "</style>\n",
       "<table border=\"1\" class=\"dataframe\">\n",
       "  <thead>\n",
       "    <tr style=\"text-align: right;\">\n",
       "      <th></th>\n",
       "      <th>Open</th>\n",
       "      <th>High</th>\n",
       "      <th>Low</th>\n",
       "      <th>Close</th>\n",
       "      <th>Adj Close</th>\n",
       "      <th>Volume</th>\n",
       "      <th>Returns</th>\n",
       "    </tr>\n",
       "    <tr>\n",
       "      <th>Date</th>\n",
       "      <th></th>\n",
       "      <th></th>\n",
       "      <th></th>\n",
       "      <th></th>\n",
       "      <th></th>\n",
       "      <th></th>\n",
       "      <th></th>\n",
       "    </tr>\n",
       "  </thead>\n",
       "  <tbody>\n",
       "    <tr>\n",
       "      <th>2022-01-03</th>\n",
       "      <td>476.299988</td>\n",
       "      <td>477.850006</td>\n",
       "      <td>473.850006</td>\n",
       "      <td>477.709991</td>\n",
       "      <td>470.083679</td>\n",
       "      <td>72668200</td>\n",
       "      <td>0.005790</td>\n",
       "    </tr>\n",
       "    <tr>\n",
       "      <th>2022-01-04</th>\n",
       "      <td>479.220001</td>\n",
       "      <td>479.980011</td>\n",
       "      <td>475.579987</td>\n",
       "      <td>477.549988</td>\n",
       "      <td>469.926239</td>\n",
       "      <td>71178700</td>\n",
       "      <td>-0.000335</td>\n",
       "    </tr>\n",
       "    <tr>\n",
       "      <th>2022-01-05</th>\n",
       "      <td>477.160004</td>\n",
       "      <td>477.980011</td>\n",
       "      <td>468.279999</td>\n",
       "      <td>468.380005</td>\n",
       "      <td>460.902618</td>\n",
       "      <td>104538900</td>\n",
       "      <td>-0.019202</td>\n",
       "    </tr>\n",
       "    <tr>\n",
       "      <th>2022-01-06</th>\n",
       "      <td>467.890015</td>\n",
       "      <td>470.820007</td>\n",
       "      <td>465.429993</td>\n",
       "      <td>467.940002</td>\n",
       "      <td>460.469635</td>\n",
       "      <td>86858900</td>\n",
       "      <td>-0.000939</td>\n",
       "    </tr>\n",
       "    <tr>\n",
       "      <th>2022-01-07</th>\n",
       "      <td>467.950012</td>\n",
       "      <td>469.200012</td>\n",
       "      <td>464.649994</td>\n",
       "      <td>466.089996</td>\n",
       "      <td>458.649200</td>\n",
       "      <td>85111600</td>\n",
       "      <td>-0.003954</td>\n",
       "    </tr>\n",
       "    <tr>\n",
       "      <th>...</th>\n",
       "      <td>...</td>\n",
       "      <td>...</td>\n",
       "      <td>...</td>\n",
       "      <td>...</td>\n",
       "      <td>...</td>\n",
       "      <td>...</td>\n",
       "      <td>...</td>\n",
       "    </tr>\n",
       "    <tr>\n",
       "      <th>2023-02-13</th>\n",
       "      <td>408.720001</td>\n",
       "      <td>412.970001</td>\n",
       "      <td>408.239990</td>\n",
       "      <td>412.829987</td>\n",
       "      <td>412.829987</td>\n",
       "      <td>64913500</td>\n",
       "      <td>0.011739</td>\n",
       "    </tr>\n",
       "    <tr>\n",
       "      <th>2023-02-14</th>\n",
       "      <td>411.239990</td>\n",
       "      <td>415.049988</td>\n",
       "      <td>408.510010</td>\n",
       "      <td>412.640015</td>\n",
       "      <td>412.640015</td>\n",
       "      <td>88389300</td>\n",
       "      <td>-0.000460</td>\n",
       "    </tr>\n",
       "    <tr>\n",
       "      <th>2023-02-15</th>\n",
       "      <td>410.350006</td>\n",
       "      <td>414.059998</td>\n",
       "      <td>409.470001</td>\n",
       "      <td>413.980011</td>\n",
       "      <td>413.980011</td>\n",
       "      <td>61685300</td>\n",
       "      <td>0.003247</td>\n",
       "    </tr>\n",
       "    <tr>\n",
       "      <th>2023-02-16</th>\n",
       "      <td>408.790009</td>\n",
       "      <td>412.910004</td>\n",
       "      <td>408.140015</td>\n",
       "      <td>408.279999</td>\n",
       "      <td>408.279999</td>\n",
       "      <td>76431500</td>\n",
       "      <td>-0.013769</td>\n",
       "    </tr>\n",
       "    <tr>\n",
       "      <th>2023-02-17</th>\n",
       "      <td>406.059998</td>\n",
       "      <td>407.510010</td>\n",
       "      <td>404.049988</td>\n",
       "      <td>407.260010</td>\n",
       "      <td>407.260010</td>\n",
       "      <td>89169100</td>\n",
       "      <td>-0.002498</td>\n",
       "    </tr>\n",
       "  </tbody>\n",
       "</table>\n",
       "<p>284 rows × 7 columns</p>\n",
       "</div>"
      ],
      "text/plain": [
       "                  Open        High         Low       Close   Adj Close  \\\n",
       "Date                                                                     \n",
       "2022-01-03  476.299988  477.850006  473.850006  477.709991  470.083679   \n",
       "2022-01-04  479.220001  479.980011  475.579987  477.549988  469.926239   \n",
       "2022-01-05  477.160004  477.980011  468.279999  468.380005  460.902618   \n",
       "2022-01-06  467.890015  470.820007  465.429993  467.940002  460.469635   \n",
       "2022-01-07  467.950012  469.200012  464.649994  466.089996  458.649200   \n",
       "...                ...         ...         ...         ...         ...   \n",
       "2023-02-13  408.720001  412.970001  408.239990  412.829987  412.829987   \n",
       "2023-02-14  411.239990  415.049988  408.510010  412.640015  412.640015   \n",
       "2023-02-15  410.350006  414.059998  409.470001  413.980011  413.980011   \n",
       "2023-02-16  408.790009  412.910004  408.140015  408.279999  408.279999   \n",
       "2023-02-17  406.059998  407.510010  404.049988  407.260010  407.260010   \n",
       "\n",
       "               Volume   Returns  \n",
       "Date                             \n",
       "2022-01-03   72668200  0.005790  \n",
       "2022-01-04   71178700 -0.000335  \n",
       "2022-01-05  104538900 -0.019202  \n",
       "2022-01-06   86858900 -0.000939  \n",
       "2022-01-07   85111600 -0.003954  \n",
       "...               ...       ...  \n",
       "2023-02-13   64913500  0.011739  \n",
       "2023-02-14   88389300 -0.000460  \n",
       "2023-02-15   61685300  0.003247  \n",
       "2023-02-16   76431500 -0.013769  \n",
       "2023-02-17   89169100 -0.002498  \n",
       "\n",
       "[284 rows x 7 columns]"
      ]
     },
     "execution_count": 92,
     "metadata": {},
     "output_type": "execute_result"
    }
   ],
   "source": [
    "# Data Extraction\n",
    "start_date = \"2021-12-31\"\n",
    "end_date = \"2023-02-21\"\n",
    "symbol = \"SPY\"\n",
    "# symbol = \"ETH-USD\"\n",
    "\n",
    "yf.pdr_override()\n",
    "df = yf.download(symbol , start_date , end_date )\n",
    "\n",
    "df[\"Returns\"] = df[\"Close\"] / df[\"Close\"].shift(1) - 1\n",
    "df.dropna(inplace=True)\n",
    "df"
   ]
  },
  {
   "cell_type": "code",
   "execution_count": 93,
   "id": "2d129007",
   "metadata": {},
   "outputs": [],
   "source": [
    "# Returns extraction\n",
    "returns = df[\"Returns\"].values.astype(float)"
   ]
  },
  {
   "cell_type": "markdown",
   "id": "286fc3e6",
   "metadata": {},
   "source": [
    "### Runs Test"
   ]
  },
  {
   "cell_type": "markdown",
   "id": "7ef83799",
   "metadata": {},
   "source": [
    "Base standard test for randomness based on linearity  \n",
    "\n",
    "- CHECKING RANDOMNESS OF STOCK"
   ]
  },
  {
   "cell_type": "code",
   "execution_count": 94,
   "id": "34881200",
   "metadata": {},
   "outputs": [],
   "source": [
    "# Convert Returns into binary outcomes\n",
    "# if return is positive return 1 : else return 0\n",
    "returns_binary = [ 1 if x >= 0 else 0 for x in returns]"
   ]
  },
  {
   "cell_type": "code",
   "execution_count": 95,
   "id": "377ed416",
   "metadata": {},
   "outputs": [
    {
     "name": "stdout",
     "output_type": "stream",
     "text": [
      "Z-Statistic: -0.562\n",
      "P-Value: 0.574\n",
      "Reject Null: False\n",
      "Observable Runs Exceeds Excpected Runs by: -0.562 Standard Deviations\n",
      "\n",
      "------------\n",
      "OUTCOME: Random\n",
      "------------\n"
     ]
    }
   ],
   "source": [
    "(z_stat, p_value) = runstest_1samp(returns_binary[:10], correction=False)\n",
    "z_stat = round(z_stat, 3)\n",
    "p_value = round(p_value, 3)\n",
    "is_reject_runs = True if p_value < 0.05 else False\n",
    "\n",
    "\n",
    "print(f\"Z-Statistic: {z_stat}\")\n",
    "print(f\"P-Value: {p_value}\")\n",
    "print(f\"Reject Null: {is_reject_runs}\")\n",
    "print(f\"Observable Runs Exceeds Excpected Runs by: {z_stat} Standard Deviations\")\n",
    "\n",
    "# OUTCOME\n",
    "print('\\n------------')\n",
    "print(\"OUTCOME: Not Random\") if is_reject_runs else print(\"OUTCOME: Random\")\n",
    "print('------------')"
   ]
  },
  {
   "cell_type": "markdown",
   "id": "0a84e097",
   "metadata": {},
   "source": [
    "### BDS Test"
   ]
  },
  {
   "cell_type": "markdown",
   "id": "44d016c6",
   "metadata": {},
   "source": [
    "Testing for chaos and nonlinearity. Considered as your last line of defence as takes into account non-linear dependancies after running other efficiency tests."
   ]
  },
  {
   "cell_type": "code",
   "execution_count": 100,
   "id": "fdaccb67",
   "metadata": {},
   "outputs": [
    {
     "name": "stdout",
     "output_type": "stream",
     "text": [
      "BDS Test Statistic:  -0.334\n",
      "BDS P-Value:  0.738\n",
      "\n",
      "------------\n",
      "OUTCOME: Random\n",
      "------------\n"
     ]
    }
   ],
   "source": [
    "bds_test = bds(returns[-500:], distance=2)\n",
    "bds_stat = float(bds_test[0])\n",
    "pvalue = float(bds_test[1])\n",
    "print(\"BDS Test Statistic: \", round(bds_stat, 3))\n",
    "print(\"BDS P-Value: \", round(pvalue, 3))\n",
    "\n",
    "\n",
    "# OUTCOME\n",
    "print('\\n------------')\n",
    "print(\"OUTCOME: Not Random\") if pvalue < 0.05 else print(\"OUTCOME: Random\")\n",
    "print('------------')"
   ]
  },
  {
   "attachments": {},
   "cell_type": "markdown",
   "id": "0d7dfaca",
   "metadata": {},
   "source": [
    "### Hurst Exponent  (sample size greater than 1 year)"
   ]
  },
  {
   "cell_type": "markdown",
   "id": "5593b9ea",
   "metadata": {},
   "source": [
    "\"Whether a market tends to trend, mean revert, or is just random is valuable information for a trader. While the Hurst exponent isn't an entry signal in and of itself, it can serve as a filter on top of a system. Given that market regimes can shift over time to favor one approach or the other, overlaying your model with a Hurst filter could help prevent your algorithm from buying a breakout in a mean reverting market or shorting ahead of a pullback when the market is moving to new highs.\" - *Find Your Best Market to Trade With the Hurst Exponent (referenced below)*\n",
    "\n",
    "If Hurst = 0.5, then the market is random.\n",
    "\n",
    "If Hurst > 0.5, then there is evidence of a trending market.\n",
    "\n",
    "If Hurst < 0.5, then there is evidence of a mean reverting market."
   ]
  },
  {
   "cell_type": "code",
   "execution_count": 97,
   "id": "52a60fc4",
   "metadata": {},
   "outputs": [],
   "source": [
    "def hurst(ts, min_lag=1, max_lag=100):\n",
    "    lags = range(min_lag, max_lag)\n",
    "    tau = [sqrt(std(subtract(ts[lag:], ts[:-lag]))) for lag in lags]\n",
    "    poly = polyfit(log(lags), log(tau), 1)\n",
    "    return poly[0]*2.0"
   ]
  },
  {
   "cell_type": "code",
   "execution_count": 98,
   "id": "d8ad3dfa",
   "metadata": {},
   "outputs": [
    {
     "data": {
      "text/plain": [
       "0.29174206144409603"
      ]
     },
     "execution_count": 98,
     "metadata": {},
     "output_type": "execute_result"
    }
   ],
   "source": [
    "prices = df[\"Close\"].values\n",
    "hurst_res = hurst(prices)\n",
    "hurst_res"
   ]
  },
  {
   "cell_type": "markdown",
   "id": "348942b8",
   "metadata": {},
   "source": [
    "### AD Fuller Test for Stationarity"
   ]
  },
  {
   "cell_type": "code",
   "execution_count": 99,
   "id": "73bf2d87",
   "metadata": {},
   "outputs": [
    {
     "name": "stdout",
     "output_type": "stream",
     "text": [
      "If < 0.05 and True then we can reject the null hypothesis and conclude that the index is stationary\n",
      "\n",
      "This means that if the test is statistically significant, we can assume that the data is not random and has some structure that can be used to make predictions.\n",
      "\n",
      "1.6704741112257375e-29 True\n"
     ]
    }
   ],
   "source": [
    "dftest = adfuller(returns)\n",
    "p_value = dftest[1]\n",
    "t_test = dftest[0] < dftest[4][\"1%\"]\n",
    "print(\"If < 0.05 and True then we can reject the null hypothesis and conclude that the index is stationary\")\n",
    "print(\"\\nThis means that if the test is statistically significant, we can assume that the data is not random and has some structure that can be used to make predictions.\\n\")\n",
    "print(p_value, t_test)"
   ]
  },
  {
   "cell_type": "markdown",
   "id": "c54a40d3",
   "metadata": {},
   "source": [
    "### Resources and Useful References"
   ]
  },
  {
   "cell_type": "markdown",
   "id": "6a07acbd",
   "metadata": {},
   "source": [
    "NEDL YouTube Channel - Hurst Exponent: https://www.youtube.com/watch?v=l08LICz8Ink\n",
    "\n",
    "NEDL YouTube Channel - Dynamic Hurst Exponent: https://www.youtube.com/watch?v=v0sivj2wGcA\n",
    "\n",
    "Hurst Exponent Coding: https://raposa.trade/blog/find-your-best-market-to-trade-with-the-hurst-exponent/\n",
    "\n",
    "More Hurst Exponent Coding: https://www.quantstart.com/articles/Basics-of-Statistical-Mean-Reversion-Testing/"
   ]
  }
 ],
 "metadata": {
  "kernelspec": {
   "display_name": "ML-finance",
   "language": "python",
   "name": "python3"
  },
  "language_info": {
   "codemirror_mode": {
    "name": "ipython",
    "version": 3
   },
   "file_extension": ".py",
   "mimetype": "text/x-python",
   "name": "python",
   "nbconvert_exporter": "python",
   "pygments_lexer": "ipython3",
   "version": "3.9.15"
  },
  "vscode": {
   "interpreter": {
    "hash": "2af72ad46257abaa44082eb9124a91966a02956c580b48ea461be11e2a82173e"
   }
  }
 },
 "nbformat": 4,
 "nbformat_minor": 5
}
