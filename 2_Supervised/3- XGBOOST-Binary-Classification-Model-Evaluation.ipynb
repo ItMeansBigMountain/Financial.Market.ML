{
 "cells": [
  {
   "cell_type": "markdown",
   "metadata": {},
   "source": [
    "# Feature Selecection"
   ]
  },
  {
   "cell_type": "code",
   "execution_count": 161,
   "metadata": {},
   "outputs": [],
   "source": [
    "import json\n",
    "\n",
    "\n",
    "# Remove Future Warnings\n",
    "import warnings\n",
    "warnings.simplefilter(action='ignore', category=FutureWarning)\n",
    "\n",
    "\n",
    "# General\n",
    "import numpy as np\n",
    "\n",
    "\n",
    "# Data Management\n",
    "import pandas as pd\n",
    "from sklearn.model_selection import train_test_split\n",
    "\n",
    "\n",
    "# Machine Learning\n",
    "from xgboost import XGBClassifier\n",
    "from sklearn.model_selection import RandomizedSearchCV, cross_val_score\n",
    "from sklearn.model_selection import RepeatedStratifiedKFold\n",
    "\n",
    "\n",
    "# BINARY CLASSIFICATION METRICS\n",
    "from sklearn.metrics import RocCurveDisplay\n",
    "\n",
    "\n",
    "# Evaluation\n",
    "from sklearn.metrics import accuracy_score\n",
    "from sklearn.metrics import classification_report\n",
    "from sklearn.metrics import precision_score\n",
    "from sklearn.metrics import confusion_matrix\n",
    "from sklearn.metrics import ConfusionMatrixDisplay\n",
    "\n",
    "\n",
    "# Reporting\n",
    "import matplotlib.pyplot as plt\n",
    "from matplotlib.pylab import rcParams\n",
    "from xgboost import plot_tree"
   ]
  },
  {
   "cell_type": "markdown",
   "metadata": {},
   "source": [
    "# Import Processed Data"
   ]
  },
  {
   "cell_type": "code",
   "execution_count": 162,
   "metadata": {},
   "outputs": [],
   "source": [
    "# FETCH DATA\n",
    "df = pd.read_csv(\"data/BTC-USD.csv\")\n",
    "df.set_index(\"Date\" , inplace=True)"
   ]
  },
  {
   "cell_type": "markdown",
   "metadata": {},
   "source": [
    "# Specify Prediction Target"
   ]
  },
  {
   "cell_type": "code",
   "execution_count": 163,
   "metadata": {},
   "outputs": [
    {
     "data": {
      "text/html": [
       "<div>\n",
       "<style scoped>\n",
       "    .dataframe tbody tr th:only-of-type {\n",
       "        vertical-align: middle;\n",
       "    }\n",
       "\n",
       "    .dataframe tbody tr th {\n",
       "        vertical-align: top;\n",
       "    }\n",
       "\n",
       "    .dataframe thead th {\n",
       "        text-align: right;\n",
       "    }\n",
       "</style>\n",
       "<table border=\"1\" class=\"dataframe\">\n",
       "  <thead>\n",
       "    <tr style=\"text-align: right;\">\n",
       "      <th></th>\n",
       "      <th>Open</th>\n",
       "      <th>High</th>\n",
       "      <th>Low</th>\n",
       "      <th>Close</th>\n",
       "      <th>Volume</th>\n",
       "      <th>Returns</th>\n",
       "      <th>Range</th>\n",
       "      <th>Bench_C_Rets</th>\n",
       "      <th>RSI</th>\n",
       "      <th>RSI_Return</th>\n",
       "      <th>...</th>\n",
       "      <th>DOW</th>\n",
       "      <th>Rolling_rets</th>\n",
       "      <th>AVG_Range</th>\n",
       "      <th>Returns_T1</th>\n",
       "      <th>Range_T1</th>\n",
       "      <th>Rolling_rets_T1</th>\n",
       "      <th>Returns_T2</th>\n",
       "      <th>Range_T2</th>\n",
       "      <th>Rolling_rets_T2</th>\n",
       "      <th>TARGET</th>\n",
       "    </tr>\n",
       "    <tr>\n",
       "      <th>Date</th>\n",
       "      <th></th>\n",
       "      <th></th>\n",
       "      <th></th>\n",
       "      <th></th>\n",
       "      <th></th>\n",
       "      <th></th>\n",
       "      <th></th>\n",
       "      <th></th>\n",
       "      <th></th>\n",
       "      <th></th>\n",
       "      <th></th>\n",
       "      <th></th>\n",
       "      <th></th>\n",
       "      <th></th>\n",
       "      <th></th>\n",
       "      <th></th>\n",
       "      <th></th>\n",
       "      <th></th>\n",
       "      <th></th>\n",
       "      <th></th>\n",
       "      <th></th>\n",
       "    </tr>\n",
       "  </thead>\n",
       "  <tbody>\n",
       "    <tr>\n",
       "      <th>2023-10-09</th>\n",
       "      <td>-0.001330</td>\n",
       "      <td>-0.004010</td>\n",
       "      <td>-0.015793</td>\n",
       "      <td>27583.677734</td>\n",
       "      <td>0.516718</td>\n",
       "      <td>-0.012580</td>\n",
       "      <td>0.025159</td>\n",
       "      <td>3.185758</td>\n",
       "      <td>55.925229</td>\n",
       "      <td>0.910373</td>\n",
       "      <td>...</td>\n",
       "      <td>0</td>\n",
       "      <td>0.066139</td>\n",
       "      <td>0.022740</td>\n",
       "      <td>-0.001207</td>\n",
       "      <td>0.013032</td>\n",
       "      <td>0.078333</td>\n",
       "      <td>0.000796</td>\n",
       "      <td>0.005657</td>\n",
       "      <td>0.066791</td>\n",
       "      <td>0.0</td>\n",
       "    </tr>\n",
       "    <tr>\n",
       "      <th>2023-10-10</th>\n",
       "      <td>-0.012360</td>\n",
       "      <td>-0.009776</td>\n",
       "      <td>-0.000033</td>\n",
       "      <td>27391.019531</td>\n",
       "      <td>-0.169418</td>\n",
       "      <td>-0.006985</td>\n",
       "      <td>0.015171</td>\n",
       "      <td>3.156683</td>\n",
       "      <td>53.114576</td>\n",
       "      <td>0.949743</td>\n",
       "      <td>...</td>\n",
       "      <td>1</td>\n",
       "      <td>0.061605</td>\n",
       "      <td>0.022806</td>\n",
       "      <td>-0.012580</td>\n",
       "      <td>0.025159</td>\n",
       "      <td>0.066139</td>\n",
       "      <td>-0.001207</td>\n",
       "      <td>0.013032</td>\n",
       "      <td>0.078333</td>\n",
       "      <td>1.0</td>\n",
       "    </tr>\n",
       "    <tr>\n",
       "      <th>2023-10-11</th>\n",
       "      <td>-0.007145</td>\n",
       "      <td>-0.008722</td>\n",
       "      <td>-0.027125</td>\n",
       "      <td>26873.320312</td>\n",
       "      <td>0.368456</td>\n",
       "      <td>-0.018900</td>\n",
       "      <td>0.034374</td>\n",
       "      <td>3.078116</td>\n",
       "      <td>46.370587</td>\n",
       "      <td>0.873029</td>\n",
       "      <td>...</td>\n",
       "      <td>2</td>\n",
       "      <td>0.068624</td>\n",
       "      <td>0.022677</td>\n",
       "      <td>-0.006985</td>\n",
       "      <td>0.015171</td>\n",
       "      <td>0.061605</td>\n",
       "      <td>-0.012580</td>\n",
       "      <td>0.025159</td>\n",
       "      <td>0.066139</td>\n",
       "      <td>0.0</td>\n",
       "    </tr>\n",
       "    <tr>\n",
       "      <th>2023-10-12</th>\n",
       "      <td>-0.018939</td>\n",
       "      <td>-0.020116</td>\n",
       "      <td>-0.000105</td>\n",
       "      <td>26756.798828</td>\n",
       "      <td>-0.311779</td>\n",
       "      <td>-0.004336</td>\n",
       "      <td>0.013673</td>\n",
       "      <td>3.059839</td>\n",
       "      <td>44.986082</td>\n",
       "      <td>0.970143</td>\n",
       "      <td>...</td>\n",
       "      <td>3</td>\n",
       "      <td>0.037634</td>\n",
       "      <td>0.021383</td>\n",
       "      <td>-0.018900</td>\n",
       "      <td>0.034374</td>\n",
       "      <td>0.068624</td>\n",
       "      <td>-0.006985</td>\n",
       "      <td>0.015171</td>\n",
       "      <td>0.061605</td>\n",
       "      <td>0.0</td>\n",
       "    </tr>\n",
       "    <tr>\n",
       "      <th>2023-10-13</th>\n",
       "      <td>-0.004481</td>\n",
       "      <td>0.006361</td>\n",
       "      <td>0.004820</td>\n",
       "      <td>26862.375000</td>\n",
       "      <td>0.614549</td>\n",
       "      <td>0.003946</td>\n",
       "      <td>0.015228</td>\n",
       "      <td>3.076439</td>\n",
       "      <td>46.543471</td>\n",
       "      <td>1.034619</td>\n",
       "      <td>...</td>\n",
       "      <td>4</td>\n",
       "      <td>0.026290</td>\n",
       "      <td>0.021122</td>\n",
       "      <td>-0.004336</td>\n",
       "      <td>0.013673</td>\n",
       "      <td>0.037634</td>\n",
       "      <td>-0.018900</td>\n",
       "      <td>0.034374</td>\n",
       "      <td>0.068624</td>\n",
       "      <td>0.0</td>\n",
       "    </tr>\n",
       "  </tbody>\n",
       "</table>\n",
       "<p>5 rows × 22 columns</p>\n",
       "</div>"
      ],
      "text/plain": [
       "                Open      High       Low         Close    Volume   Returns  \\\n",
       "Date                                                                         \n",
       "2023-10-09 -0.001330 -0.004010 -0.015793  27583.677734  0.516718 -0.012580   \n",
       "2023-10-10 -0.012360 -0.009776 -0.000033  27391.019531 -0.169418 -0.006985   \n",
       "2023-10-11 -0.007145 -0.008722 -0.027125  26873.320312  0.368456 -0.018900   \n",
       "2023-10-12 -0.018939 -0.020116 -0.000105  26756.798828 -0.311779 -0.004336   \n",
       "2023-10-13 -0.004481  0.006361  0.004820  26862.375000  0.614549  0.003946   \n",
       "\n",
       "               Range  Bench_C_Rets        RSI  RSI_Return  ...  DOW  \\\n",
       "Date                                                       ...        \n",
       "2023-10-09  0.025159      3.185758  55.925229    0.910373  ...    0   \n",
       "2023-10-10  0.015171      3.156683  53.114576    0.949743  ...    1   \n",
       "2023-10-11  0.034374      3.078116  46.370587    0.873029  ...    2   \n",
       "2023-10-12  0.013673      3.059839  44.986082    0.970143  ...    3   \n",
       "2023-10-13  0.015228      3.076439  46.543471    1.034619  ...    4   \n",
       "\n",
       "            Rolling_rets  AVG_Range  Returns_T1  Range_T1  Rolling_rets_T1  \\\n",
       "Date                                                                         \n",
       "2023-10-09      0.066139   0.022740   -0.001207  0.013032         0.078333   \n",
       "2023-10-10      0.061605   0.022806   -0.012580  0.025159         0.066139   \n",
       "2023-10-11      0.068624   0.022677   -0.006985  0.015171         0.061605   \n",
       "2023-10-12      0.037634   0.021383   -0.018900  0.034374         0.068624   \n",
       "2023-10-13      0.026290   0.021122   -0.004336  0.013673         0.037634   \n",
       "\n",
       "            Returns_T2  Range_T2  Rolling_rets_T2  TARGET  \n",
       "Date                                                       \n",
       "2023-10-09    0.000796  0.005657         0.066791     0.0  \n",
       "2023-10-10   -0.001207  0.013032         0.078333     1.0  \n",
       "2023-10-11   -0.012580  0.025159         0.066139     0.0  \n",
       "2023-10-12   -0.006985  0.015171         0.061605     0.0  \n",
       "2023-10-13   -0.018900  0.034374         0.068624     0.0  \n",
       "\n",
       "[5 rows x 22 columns]"
      ]
     },
     "execution_count": 163,
     "metadata": {},
     "output_type": "execute_result"
    }
   ],
   "source": [
    "# Specify Target     (if yesterdays range was greater than the average range)\n",
    "df.loc[df[\"Range\"].shift(-1) > df[\"AVG_Range\"] , \"TARGET\"] = 1\n",
    "df.loc[df[\"Range\"].shift(-1) <= df[\"AVG_Range\"] , \"TARGET\"] = 0\n",
    "\n",
    "# Check for NAN\n",
    "nan_location = np.where(np.isnan(df))\n",
    "\n",
    "# Fill NaNs\n",
    "df[\"TARGET\"].fillna(0,inplace=True)\n",
    "df.tail()"
   ]
  },
  {
   "cell_type": "markdown",
   "metadata": {},
   "source": [
    "# TRAIN TEST SPLIT"
   ]
  },
  {
   "cell_type": "code",
   "execution_count": 164,
   "metadata": {},
   "outputs": [
    {
     "data": {
      "text/plain": [
       "['Low', 'Range', 'RSI', 'RSI_Return', 'DOW', 'AVG_Range', 'TARGET']"
      ]
     },
     "execution_count": 164,
     "metadata": {},
     "output_type": "execute_result"
    }
   ],
   "source": [
    "# FETCH RECOMMENDED FEATURES FROM FEATURE SELECTION\n",
    "with open('./data/feature_selection_output.json', 'r') as f:\n",
    "    recommended_labels = json.load(f)\n",
    "recommended_labels.append(\"TARGET\")\n",
    "recommended_labels"
   ]
  },
  {
   "cell_type": "code",
   "execution_count": 165,
   "metadata": {},
   "outputs": [],
   "source": [
    "# REMOVE UNWANTED COLUMNS (dont put information about the future in your data other than the target)\n",
    "df_tts = df.copy()\n",
    "df_tts = df_tts[recommended_labels]"
   ]
  },
  {
   "cell_type": "code",
   "execution_count": 166,
   "metadata": {},
   "outputs": [
    {
     "data": {
      "text/html": [
       "<div>\n",
       "<style scoped>\n",
       "    .dataframe tbody tr th:only-of-type {\n",
       "        vertical-align: middle;\n",
       "    }\n",
       "\n",
       "    .dataframe tbody tr th {\n",
       "        vertical-align: top;\n",
       "    }\n",
       "\n",
       "    .dataframe thead th {\n",
       "        text-align: right;\n",
       "    }\n",
       "</style>\n",
       "<table border=\"1\" class=\"dataframe\">\n",
       "  <thead>\n",
       "    <tr style=\"text-align: right;\">\n",
       "      <th></th>\n",
       "      <th>Low</th>\n",
       "      <th>Range</th>\n",
       "      <th>RSI</th>\n",
       "      <th>RSI_Return</th>\n",
       "      <th>DOW</th>\n",
       "      <th>AVG_Range</th>\n",
       "      <th>TARGET</th>\n",
       "    </tr>\n",
       "    <tr>\n",
       "      <th>Date</th>\n",
       "      <th></th>\n",
       "      <th></th>\n",
       "      <th></th>\n",
       "      <th></th>\n",
       "      <th></th>\n",
       "      <th></th>\n",
       "      <th></th>\n",
       "    </tr>\n",
       "  </thead>\n",
       "  <tbody>\n",
       "    <tr>\n",
       "      <th>2020-02-02</th>\n",
       "      <td>-0.010245</td>\n",
       "      <td>0.027227</td>\n",
       "      <td>68.352715</td>\n",
       "      <td>0.975766</td>\n",
       "      <td>6</td>\n",
       "      <td>0.033705</td>\n",
       "      <td>0.0</td>\n",
       "    </tr>\n",
       "    <tr>\n",
       "      <th>2020-02-03</th>\n",
       "      <td>0.003342</td>\n",
       "      <td>0.031544</td>\n",
       "      <td>66.532818</td>\n",
       "      <td>0.973375</td>\n",
       "      <td>0</td>\n",
       "      <td>0.034219</td>\n",
       "      <td>0.0</td>\n",
       "    </tr>\n",
       "    <tr>\n",
       "      <th>2020-02-04</th>\n",
       "      <td>-0.014686</td>\n",
       "      <td>0.023972</td>\n",
       "      <td>62.561591</td>\n",
       "      <td>0.940312</td>\n",
       "      <td>1</td>\n",
       "      <td>0.034370</td>\n",
       "      <td>1.0</td>\n",
       "    </tr>\n",
       "    <tr>\n",
       "      <th>2020-02-05</th>\n",
       "      <td>0.005585</td>\n",
       "      <td>0.058666</td>\n",
       "      <td>69.976461</td>\n",
       "      <td>1.118521</td>\n",
       "      <td>2</td>\n",
       "      <td>0.034649</td>\n",
       "      <td>0.0</td>\n",
       "    </tr>\n",
       "    <tr>\n",
       "      <th>2020-02-06</th>\n",
       "      <td>0.041044</td>\n",
       "      <td>0.029854</td>\n",
       "      <td>71.606200</td>\n",
       "      <td>1.023290</td>\n",
       "      <td>3</td>\n",
       "      <td>0.033885</td>\n",
       "      <td>0.0</td>\n",
       "    </tr>\n",
       "    <tr>\n",
       "      <th>...</th>\n",
       "      <td>...</td>\n",
       "      <td>...</td>\n",
       "      <td>...</td>\n",
       "      <td>...</td>\n",
       "      <td>...</td>\n",
       "      <td>...</td>\n",
       "      <td>...</td>\n",
       "    </tr>\n",
       "    <tr>\n",
       "      <th>2023-10-09</th>\n",
       "      <td>-0.015793</td>\n",
       "      <td>0.025159</td>\n",
       "      <td>55.925229</td>\n",
       "      <td>0.910373</td>\n",
       "      <td>0</td>\n",
       "      <td>0.022740</td>\n",
       "      <td>0.0</td>\n",
       "    </tr>\n",
       "    <tr>\n",
       "      <th>2023-10-10</th>\n",
       "      <td>-0.000033</td>\n",
       "      <td>0.015171</td>\n",
       "      <td>53.114576</td>\n",
       "      <td>0.949743</td>\n",
       "      <td>1</td>\n",
       "      <td>0.022806</td>\n",
       "      <td>1.0</td>\n",
       "    </tr>\n",
       "    <tr>\n",
       "      <th>2023-10-11</th>\n",
       "      <td>-0.027125</td>\n",
       "      <td>0.034374</td>\n",
       "      <td>46.370587</td>\n",
       "      <td>0.873029</td>\n",
       "      <td>2</td>\n",
       "      <td>0.022677</td>\n",
       "      <td>0.0</td>\n",
       "    </tr>\n",
       "    <tr>\n",
       "      <th>2023-10-12</th>\n",
       "      <td>-0.000105</td>\n",
       "      <td>0.013673</td>\n",
       "      <td>44.986082</td>\n",
       "      <td>0.970143</td>\n",
       "      <td>3</td>\n",
       "      <td>0.021383</td>\n",
       "      <td>0.0</td>\n",
       "    </tr>\n",
       "    <tr>\n",
       "      <th>2023-10-13</th>\n",
       "      <td>0.004820</td>\n",
       "      <td>0.015228</td>\n",
       "      <td>46.543471</td>\n",
       "      <td>1.034619</td>\n",
       "      <td>4</td>\n",
       "      <td>0.021122</td>\n",
       "      <td>0.0</td>\n",
       "    </tr>\n",
       "  </tbody>\n",
       "</table>\n",
       "<p>1350 rows × 7 columns</p>\n",
       "</div>"
      ],
      "text/plain": [
       "                 Low     Range        RSI  RSI_Return  DOW  AVG_Range  TARGET\n",
       "Date                                                                         \n",
       "2020-02-02 -0.010245  0.027227  68.352715    0.975766    6   0.033705     0.0\n",
       "2020-02-03  0.003342  0.031544  66.532818    0.973375    0   0.034219     0.0\n",
       "2020-02-04 -0.014686  0.023972  62.561591    0.940312    1   0.034370     1.0\n",
       "2020-02-05  0.005585  0.058666  69.976461    1.118521    2   0.034649     0.0\n",
       "2020-02-06  0.041044  0.029854  71.606200    1.023290    3   0.033885     0.0\n",
       "...              ...       ...        ...         ...  ...        ...     ...\n",
       "2023-10-09 -0.015793  0.025159  55.925229    0.910373    0   0.022740     0.0\n",
       "2023-10-10 -0.000033  0.015171  53.114576    0.949743    1   0.022806     1.0\n",
       "2023-10-11 -0.027125  0.034374  46.370587    0.873029    2   0.022677     0.0\n",
       "2023-10-12 -0.000105  0.013673  44.986082    0.970143    3   0.021383     0.0\n",
       "2023-10-13  0.004820  0.015228  46.543471    1.034619    4   0.021122     0.0\n",
       "\n",
       "[1350 rows x 7 columns]"
      ]
     },
     "execution_count": 166,
     "metadata": {},
     "output_type": "execute_result"
    }
   ],
   "source": [
    "# EVERYTHING EXCEPT TARGET (x)\n",
    "X = df_tts.iloc[: , : -1]\n",
    "\n",
    "# TARGET (y)\n",
    "y = df_tts.iloc[: , -1]\n",
    "df_tts "
   ]
  },
  {
   "cell_type": "code",
   "execution_count": 167,
   "metadata": {},
   "outputs": [],
   "source": [
    "# TRAIN TEST SPLIT (time series)\n",
    "\n",
    "\n",
    "# 70% OF THE HISTORICAL DATA GOES TO TRAINING THE MODEL\n",
    "train_amount_percent = 0.7\n",
    "train_size = int(len(X) * train_amount_percent)\n",
    "X_train = X.head(train_size)\n",
    "y_train = y.head(train_size)\n",
    "\n",
    "\n",
    "# THE REST GOES TO TESTING THE MODEL FOR ACCURACY\n",
    "test_size = len(X) - train_size\n",
    "X_test = X.tail(test_size)\n",
    "y_test = y.tail(test_size)"
   ]
  },
  {
   "cell_type": "code",
   "execution_count": 168,
   "metadata": {},
   "outputs": [
    {
     "name": "stdout",
     "output_type": "stream",
     "text": [
      "Shape of X_train: (944, 6)\n",
      "Shape of y_train: (944,)\n",
      "\n",
      "Shape of X_test: (406, 6)\n",
      "Shape of y_test: (406,)\n",
      "\n",
      "Testing data size check: True\n"
     ]
    }
   ],
   "source": [
    "size_check = len(y_test) + len(y_train) == len(X)\n",
    "print(f\"Shape of X_train: {X_train.shape}\")\n",
    "print(f\"Shape of y_train: {y_train.shape}\")\n",
    "print()\n",
    "print(f\"Shape of X_test: {X_test.shape}\")\n",
    "print(f\"Shape of y_test: {y_test.shape}\")\n",
    "print()\n",
    "print(f\"Testing data size check: {size_check}\")"
   ]
  },
  {
   "cell_type": "markdown",
   "metadata": {},
   "source": [
    "# BUILD MODEL"
   ]
  },
  {
   "cell_type": "code",
   "execution_count": 169,
   "metadata": {},
   "outputs": [],
   "source": [
    "# Select type of model to optimize for\n",
    "is_binary = True\n",
    "is_optimize_for_precision = True\n"
   ]
  },
  {
   "cell_type": "code",
   "execution_count": 170,
   "metadata": {},
   "outputs": [],
   "source": [
    "# Determine Objective and Eval Metrics\n",
    "if is_binary:\n",
    "    objective = \"binary:logistic\"\n",
    "    eval_metric = \"logloss\"\n",
    "    eval_metric_list = [\"error\",\"logloss\",eval_metric]\n",
    "else:\n",
    "    objective = \"multi:softmax\"\n",
    "    eval_metric = \"mlogloss\"\n",
    "    eval_metric_list = [\"merror\",\"mlogloss\",eval_metric]"
   ]
  },
  {
   "cell_type": "code",
   "execution_count": 171,
   "metadata": {},
   "outputs": [],
   "source": [
    "# Refine Eval Metric\n",
    "if is_binary and is_optimize_for_precision:\n",
    "    eval_metric = \"aucpr\"\n",
    "    scoring = \"precision\"\n",
    "elif is_binary and not is_optimize_for_precision:\n",
    "    eval_metric = \"auc\"\n",
    "    scoring = \"f1\"\n",
    "else:\n",
    "    scoring = \"accuracy\""
   ]
  },
  {
   "cell_type": "code",
   "execution_count": 172,
   "metadata": {},
   "outputs": [],
   "source": [
    "# hyperparameters generated in feature selection\n",
    "\n",
    "\n",
    "with open('./data/hyperparametertuning.json', 'r') as f:\n",
    "    data = json.load(f)\n",
    "    ne = data['ne']\n",
    "    lr = data['lr']\n",
    "    md = data['md']\n",
    "    gm = data['gm']\n",
    "\n",
    "\n",
    "\n",
    "\n",
    "# CUSTOM HYPER PARAM TUNE\n",
    "# ne = 150\n",
    "# lr = 0.01\n",
    "# md = 4\n",
    "# gm = 6\n"
   ]
  },
  {
   "cell_type": "code",
   "execution_count": 173,
   "metadata": {},
   "outputs": [
    {
     "name": "stderr",
     "output_type": "stream",
     "text": [
      "d:\\Programs\\Anaconda\\envs\\ML-finance\\lib\\site-packages\\xgboost\\sklearn.py:1395: UserWarning: `use_label_encoder` is deprecated in 1.7.0.\n",
      "  warnings.warn(\"`use_label_encoder` is deprecated in 1.7.0.\")\n"
     ]
    }
   ],
   "source": [
    "# Build First Classifier Model\n",
    "classifier = XGBClassifier(\n",
    "    objective=objective,\n",
    "    booster=\"gbtree\",\n",
    "    # eval_metric=eval_metric,\n",
    "    subsample = 0.8,\n",
    "    colsample_bytree=1,\n",
    "    random_state=1,\n",
    "    use_label_encoder=False,\n",
    "\n",
    "    n_estimators=ne,\n",
    "    learning_rate=lr,\n",
    "    max_depth=md,\n",
    "    gamma=gm,\n",
    ")"
   ]
  },
  {
   "cell_type": "code",
   "execution_count": 174,
   "metadata": {},
   "outputs": [
    {
     "name": "stderr",
     "output_type": "stream",
     "text": [
      "d:\\Programs\\Anaconda\\envs\\ML-finance\\lib\\site-packages\\xgboost\\sklearn.py:835: UserWarning: `eval_metric` in `fit` method is deprecated for better compatibility with scikit-learn, use `eval_metric` in constructor or`set_params` instead.\n",
      "  warnings.warn(\n"
     ]
    },
    {
     "data": {
      "text/html": [
       "<style>#sk-container-id-6 {color: black;}#sk-container-id-6 pre{padding: 0;}#sk-container-id-6 div.sk-toggleable {background-color: white;}#sk-container-id-6 label.sk-toggleable__label {cursor: pointer;display: block;width: 100%;margin-bottom: 0;padding: 0.3em;box-sizing: border-box;text-align: center;}#sk-container-id-6 label.sk-toggleable__label-arrow:before {content: \"▸\";float: left;margin-right: 0.25em;color: #696969;}#sk-container-id-6 label.sk-toggleable__label-arrow:hover:before {color: black;}#sk-container-id-6 div.sk-estimator:hover label.sk-toggleable__label-arrow:before {color: black;}#sk-container-id-6 div.sk-toggleable__content {max-height: 0;max-width: 0;overflow: hidden;text-align: left;background-color: #f0f8ff;}#sk-container-id-6 div.sk-toggleable__content pre {margin: 0.2em;color: black;border-radius: 0.25em;background-color: #f0f8ff;}#sk-container-id-6 input.sk-toggleable__control:checked~div.sk-toggleable__content {max-height: 200px;max-width: 100%;overflow: auto;}#sk-container-id-6 input.sk-toggleable__control:checked~label.sk-toggleable__label-arrow:before {content: \"▾\";}#sk-container-id-6 div.sk-estimator input.sk-toggleable__control:checked~label.sk-toggleable__label {background-color: #d4ebff;}#sk-container-id-6 div.sk-label input.sk-toggleable__control:checked~label.sk-toggleable__label {background-color: #d4ebff;}#sk-container-id-6 input.sk-hidden--visually {border: 0;clip: rect(1px 1px 1px 1px);clip: rect(1px, 1px, 1px, 1px);height: 1px;margin: -1px;overflow: hidden;padding: 0;position: absolute;width: 1px;}#sk-container-id-6 div.sk-estimator {font-family: monospace;background-color: #f0f8ff;border: 1px dotted black;border-radius: 0.25em;box-sizing: border-box;margin-bottom: 0.5em;}#sk-container-id-6 div.sk-estimator:hover {background-color: #d4ebff;}#sk-container-id-6 div.sk-parallel-item::after {content: \"\";width: 100%;border-bottom: 1px solid gray;flex-grow: 1;}#sk-container-id-6 div.sk-label:hover label.sk-toggleable__label {background-color: #d4ebff;}#sk-container-id-6 div.sk-serial::before {content: \"\";position: absolute;border-left: 1px solid gray;box-sizing: border-box;top: 0;bottom: 0;left: 50%;z-index: 0;}#sk-container-id-6 div.sk-serial {display: flex;flex-direction: column;align-items: center;background-color: white;padding-right: 0.2em;padding-left: 0.2em;position: relative;}#sk-container-id-6 div.sk-item {position: relative;z-index: 1;}#sk-container-id-6 div.sk-parallel {display: flex;align-items: stretch;justify-content: center;background-color: white;position: relative;}#sk-container-id-6 div.sk-item::before, #sk-container-id-6 div.sk-parallel-item::before {content: \"\";position: absolute;border-left: 1px solid gray;box-sizing: border-box;top: 0;bottom: 0;left: 50%;z-index: -1;}#sk-container-id-6 div.sk-parallel-item {display: flex;flex-direction: column;z-index: 1;position: relative;background-color: white;}#sk-container-id-6 div.sk-parallel-item:first-child::after {align-self: flex-end;width: 50%;}#sk-container-id-6 div.sk-parallel-item:last-child::after {align-self: flex-start;width: 50%;}#sk-container-id-6 div.sk-parallel-item:only-child::after {width: 0;}#sk-container-id-6 div.sk-dashed-wrapped {border: 1px dashed gray;margin: 0 0.4em 0.5em 0.4em;box-sizing: border-box;padding-bottom: 0.4em;background-color: white;}#sk-container-id-6 div.sk-label label {font-family: monospace;font-weight: bold;display: inline-block;line-height: 1.2em;}#sk-container-id-6 div.sk-label-container {text-align: center;}#sk-container-id-6 div.sk-container {/* jupyter's `normalize.less` sets `[hidden] { display: none; }` but bootstrap.min.css set `[hidden] { display: none !important; }` so we also need the `!important` here to be able to override the default hidden behavior on the sphinx rendered scikit-learn.org. See: https://github.com/scikit-learn/scikit-learn/issues/21755 */display: inline-block !important;position: relative;}#sk-container-id-6 div.sk-text-repr-fallback {display: none;}</style><div id=\"sk-container-id-6\" class=\"sk-top-container\"><div class=\"sk-text-repr-fallback\"><pre>XGBClassifier(base_score=None, booster=&#x27;gbtree&#x27;, callbacks=None,\n",
       "              colsample_bylevel=None, colsample_bynode=None, colsample_bytree=1,\n",
       "              early_stopping_rounds=None, enable_categorical=False,\n",
       "              eval_metric=None, feature_types=None, gamma=0, gpu_id=None,\n",
       "              grow_policy=None, importance_type=None,\n",
       "              interaction_constraints=None, learning_rate=0.02, max_bin=None,\n",
       "              max_cat_threshold=None, max_cat_to_onehot=None,\n",
       "              max_delta_step=None, max_depth=1, max_leaves=None,\n",
       "              min_child_weight=None, missing=nan, monotone_constraints=None,\n",
       "              n_estimators=100, n_jobs=None, num_parallel_tree=None,\n",
       "              predictor=None, random_state=1, ...)</pre><b>In a Jupyter environment, please rerun this cell to show the HTML representation or trust the notebook. <br />On GitHub, the HTML representation is unable to render, please try loading this page with nbviewer.org.</b></div><div class=\"sk-container\" hidden><div class=\"sk-item\"><div class=\"sk-estimator sk-toggleable\"><input class=\"sk-toggleable__control sk-hidden--visually\" id=\"sk-estimator-id-6\" type=\"checkbox\" checked><label for=\"sk-estimator-id-6\" class=\"sk-toggleable__label sk-toggleable__label-arrow\">XGBClassifier</label><div class=\"sk-toggleable__content\"><pre>XGBClassifier(base_score=None, booster=&#x27;gbtree&#x27;, callbacks=None,\n",
       "              colsample_bylevel=None, colsample_bynode=None, colsample_bytree=1,\n",
       "              early_stopping_rounds=None, enable_categorical=False,\n",
       "              eval_metric=None, feature_types=None, gamma=0, gpu_id=None,\n",
       "              grow_policy=None, importance_type=None,\n",
       "              interaction_constraints=None, learning_rate=0.02, max_bin=None,\n",
       "              max_cat_threshold=None, max_cat_to_onehot=None,\n",
       "              max_delta_step=None, max_depth=1, max_leaves=None,\n",
       "              min_child_weight=None, missing=nan, monotone_constraints=None,\n",
       "              n_estimators=100, n_jobs=None, num_parallel_tree=None,\n",
       "              predictor=None, random_state=1, ...)</pre></div></div></div></div></div>"
      ],
      "text/plain": [
       "XGBClassifier(base_score=None, booster='gbtree', callbacks=None,\n",
       "              colsample_bylevel=None, colsample_bynode=None, colsample_bytree=1,\n",
       "              early_stopping_rounds=None, enable_categorical=False,\n",
       "              eval_metric=None, feature_types=None, gamma=0, gpu_id=None,\n",
       "              grow_policy=None, importance_type=None,\n",
       "              interaction_constraints=None, learning_rate=0.02, max_bin=None,\n",
       "              max_cat_threshold=None, max_cat_to_onehot=None,\n",
       "              max_delta_step=None, max_depth=1, max_leaves=None,\n",
       "              min_child_weight=None, missing=nan, monotone_constraints=None,\n",
       "              n_estimators=100, n_jobs=None, num_parallel_tree=None,\n",
       "              predictor=None, random_state=1, ...)"
      ]
     },
     "execution_count": 174,
     "metadata": {},
     "output_type": "execute_result"
    }
   ],
   "source": [
    "# Fit the model\n",
    "eval_set = [(X_train,y_train) , (X_test,y_test)]\n",
    "\n",
    "classifier.fit(\n",
    "    X_train,\n",
    "    y_train,\n",
    "    eval_metric=eval_metric_list,\n",
    "    eval_set=eval_set,\n",
    "    verbose=False\n",
    ")\n"
   ]
  },
  {
   "cell_type": "markdown",
   "metadata": {},
   "source": [
    "# MAKE PREDICTIONS\n",
    "- binary if the next day will be up (1) or down (0) the next day "
   ]
  },
  {
   "cell_type": "code",
   "execution_count": 175,
   "metadata": {},
   "outputs": [
    {
     "name": "stdout",
     "output_type": "stream",
     "text": [
      "Predcition \t|\t Binary Confidence (zero or one)\n",
      "___________________________________________________\n",
      "\n",
      "0 \t\t|\t [0.56688637 0.43311363]\n",
      "0 \t\t|\t [0.5833398  0.41666016]\n",
      "0 \t\t|\t [0.6138208 0.3861792]\n",
      "0 \t\t|\t [0.5833398  0.41666016]\n",
      "0 \t\t|\t [0.5833398  0.41666016]\n",
      "0 \t\t|\t [0.5999158 0.4000842]\n",
      "0 \t\t|\t [0.5999158 0.4000842]\n",
      "1 \t\t|\t [0.49882233 0.50117767]\n",
      "0 \t\t|\t [0.57195497 0.42804506]\n",
      "0 \t\t|\t [0.5833398  0.41666016]\n"
     ]
    }
   ],
   "source": [
    "# training data\n",
    "next_day_target_predictions = classifier.predict(X_train)\n",
    "train_yhat_probability = classifier.predict_proba(X_train)\n",
    "\n",
    "\n",
    "# OUTPUT\n",
    "prediction_probabilities = zip(next_day_target_predictions , train_yhat_probability)\n",
    "print(\"Predcition \\t|\\t Binary Confidence (zero or one)\")\n",
    "print(\"___________________________________________________\\n\")\n",
    "for prediction , probability_confidence in list(prediction_probabilities)[:10]:\n",
    "    print(prediction, \"\\t\\t|\\t\",  probability_confidence)"
   ]
  },
  {
   "cell_type": "markdown",
   "metadata": {},
   "source": [
    "# TEST MODEL ACCURACY"
   ]
  },
  {
   "cell_type": "code",
   "execution_count": 176,
   "metadata": {},
   "outputs": [
    {
     "name": "stdout",
     "output_type": "stream",
     "text": [
      "Predcition \t|\t Binary Confidence (zero or one)\n",
      "___________________________________________________\n",
      "\n",
      "0 \t\t|\t [0.6332762  0.36672375]\n",
      "0 \t\t|\t [0.6011699  0.39883012]\n",
      "0 \t\t|\t [0.6172005  0.38279954]\n",
      "0 \t\t|\t [0.5111739 0.4888261]\n",
      "0 \t\t|\t [0.6172005  0.38279954]\n",
      "0 \t\t|\t [0.6172005  0.38279954]\n",
      "0 \t\t|\t [0.62051654 0.37948346]\n",
      "0 \t\t|\t [0.6332762  0.36672375]\n",
      "0 \t\t|\t [0.6011699  0.39883012]\n",
      "0 \t\t|\t [0.6172005  0.38279954]\n"
     ]
    }
   ],
   "source": [
    "# TEST Y HAT\n",
    "test_next_day_target_predictions = classifier.predict(X_test)\n",
    "test_yhat_probability = classifier.predict_proba(X_test)\n",
    "\n",
    "\n",
    "# OUTPUT\n",
    "prediction_probabilities = zip(test_next_day_target_predictions , test_yhat_probability)\n",
    "print(\"Predcition \\t|\\t Binary Confidence (zero or one)\")\n",
    "print(\"___________________________________________________\\n\")\n",
    "for prediction , probability_confidence in list(prediction_probabilities)[:10]:\n",
    "    print(prediction, \"\\t\\t|\\t\",  probability_confidence)"
   ]
  },
  {
   "cell_type": "markdown",
   "metadata": {},
   "source": [
    "# K FOLD CROSS VALIDATION"
   ]
  },
  {
   "cell_type": "code",
   "execution_count": 177,
   "metadata": {},
   "outputs": [],
   "source": [
    "# KFOLD CROSS VALIDATION\n",
    "cv = RepeatedStratifiedKFold(n_splits=5 , n_repeats=1, random_state=1)"
   ]
  },
  {
   "cell_type": "code",
   "execution_count": 178,
   "metadata": {},
   "outputs": [
    {
     "name": "stderr",
     "output_type": "stream",
     "text": [
      "d:\\Programs\\Anaconda\\envs\\ML-finance\\lib\\site-packages\\xgboost\\sklearn.py:1395: UserWarning: `use_label_encoder` is deprecated in 1.7.0.\n",
      "  warnings.warn(\"`use_label_encoder` is deprecated in 1.7.0.\")\n",
      "d:\\Programs\\Anaconda\\envs\\ML-finance\\lib\\site-packages\\xgboost\\sklearn.py:1395: UserWarning: `use_label_encoder` is deprecated in 1.7.0.\n",
      "  warnings.warn(\"`use_label_encoder` is deprecated in 1.7.0.\")\n",
      "d:\\Programs\\Anaconda\\envs\\ML-finance\\lib\\site-packages\\xgboost\\sklearn.py:1395: UserWarning: `use_label_encoder` is deprecated in 1.7.0.\n",
      "  warnings.warn(\"`use_label_encoder` is deprecated in 1.7.0.\")\n",
      "d:\\Programs\\Anaconda\\envs\\ML-finance\\lib\\site-packages\\xgboost\\sklearn.py:1395: UserWarning: `use_label_encoder` is deprecated in 1.7.0.\n",
      "  warnings.warn(\"`use_label_encoder` is deprecated in 1.7.0.\")\n",
      "d:\\Programs\\Anaconda\\envs\\ML-finance\\lib\\site-packages\\xgboost\\sklearn.py:1395: UserWarning: `use_label_encoder` is deprecated in 1.7.0.\n",
      "  warnings.warn(\"`use_label_encoder` is deprecated in 1.7.0.\")\n"
     ]
    }
   ],
   "source": [
    "# Training results \n",
    "train_results = cross_val_score(classifier, X_train, y_train , cv=cv , n_jobs=1 )"
   ]
  },
  {
   "cell_type": "markdown",
   "metadata": {},
   "source": [
    "# EVALUTION METRICS - Loss & Overfitting"
   ]
  },
  {
   "cell_type": "code",
   "execution_count": 179,
   "metadata": {},
   "outputs": [],
   "source": [
    "# Retrieve performance metrics\n",
    "results = classifier.evals_result()\n",
    "epochs = len(results[\"validation_0\"][\"error\"])\n",
    "x_axis = range(0,epochs)"
   ]
  },
  {
   "cell_type": "code",
   "execution_count": 180,
   "metadata": {},
   "outputs": [
    {
     "data": {
      "text/plain": [
       "Text(0.5, 1.0, 'XGB LogLoss')"
      ]
     },
     "execution_count": 180,
     "metadata": {},
     "output_type": "execute_result"
    },
    {
     "data": {
      "image/png": "[encoded data removed]",
      "text/plain": [
       "<Figure size 640x480 with 1 Axes>"
      ]
     },
     "metadata": {},
     "output_type": "display_data"
    }
   ],
   "source": [
    "# Plot log loss\n",
    "fig,axis = plt.subplots()\n",
    "axis.plot(x_axis , results[\"validation_0\"][\"logloss\"], label=\"Train\")\n",
    "axis.plot(x_axis , results[\"validation_1\"][\"logloss\"], label=\"Test\")\n",
    "axis.legend()\n",
    "plt.ylabel(\"LogLoss\")\n",
    "plt.title(\"XGB LogLoss\")"
   ]
  },
  {
   "cell_type": "code",
   "execution_count": 181,
   "metadata": {},
   "outputs": [
    {
     "data": {
      "text/plain": [
       "Text(0.5, 1.0, 'XGB Error')"
      ]
     },
     "execution_count": 181,
     "metadata": {},
     "output_type": "execute_result"
    },
    {
     "data": {
      "image/png": "[encoded data removed]",
      "text/plain": [
       "<Figure size 640x480 with 1 Axes>"
      ]
     },
     "metadata": {},
     "output_type": "display_data"
    }
   ],
   "source": [
    "# Plot error\n",
    "fig,axis = plt.subplots()\n",
    "axis.plot(x_axis , results[\"validation_0\"][\"error\"], label=\"Train\")\n",
    "axis.plot(x_axis , results[\"validation_1\"][\"error\"], label=\"Test\")\n",
    "axis.legend()\n",
    "plt.ylabel(\"Error\")\n",
    "plt.title(\"XGB Error\")"
   ]
  },
  {
   "cell_type": "markdown",
   "metadata": {},
   "source": [
    "# Evaluate ROC Curve"
   ]
  },
  {
   "cell_type": "code",
   "execution_count": 182,
   "metadata": {},
   "outputs": [
    {
     "data": {
      "text/plain": [
       "<sklearn.metrics._plot.roc_curve.RocCurveDisplay at 0x1c43c6b14c0>"
      ]
     },
     "execution_count": 182,
     "metadata": {},
     "output_type": "execute_result"
    },
    {
     "data": {
      "image/png": "[encoded data removed]",
      "text/plain": [
       "<Figure size 640x480 with 1 Axes>"
      ]
     },
     "metadata": {},
     "output_type": "display_data"
    }
   ],
   "source": [
    "# Plot Training ROC Curve\n",
    "RocCurveDisplay.from_estimator(classifier, X_train, y_train)"
   ]
  },
  {
   "cell_type": "code",
   "execution_count": 183,
   "metadata": {},
   "outputs": [
    {
     "data": {
      "text/plain": [
       "<sklearn.metrics._plot.roc_curve.RocCurveDisplay at 0x1c43c3f1130>"
      ]
     },
     "execution_count": 183,
     "metadata": {},
     "output_type": "execute_result"
    },
    {
     "data": {
      "image/png": "[encoded data removed]",
      "text/plain": [
       "<Figure size 640x480 with 1 Axes>"
      ]
     },
     "metadata": {},
     "output_type": "display_data"
    }
   ],
   "source": [
    "# Plot Test ROC Curve\n",
    "RocCurveDisplay.from_estimator(classifier, X_test, y_test)"
   ]
  },
  {
   "cell_type": "markdown",
   "metadata": {},
   "source": [
    "# Performance Evaluation Comparison"
   ]
  },
  {
   "cell_type": "code",
   "execution_count": 184,
   "metadata": {},
   "outputs": [],
   "source": [
    "# Set K-Fold cross validation \n",
    "cv = RepeatedStratifiedKFold(n_splits=5 , n_repeats=1, random_state=1)"
   ]
  },
  {
   "cell_type": "code",
   "execution_count": 185,
   "metadata": {},
   "outputs": [
    {
     "name": "stderr",
     "output_type": "stream",
     "text": [
      "d:\\Programs\\Anaconda\\envs\\ML-finance\\lib\\site-packages\\xgboost\\sklearn.py:1395: UserWarning: `use_label_encoder` is deprecated in 1.7.0.\n",
      "  warnings.warn(\"`use_label_encoder` is deprecated in 1.7.0.\")\n",
      "d:\\Programs\\Anaconda\\envs\\ML-finance\\lib\\site-packages\\xgboost\\sklearn.py:1395: UserWarning: `use_label_encoder` is deprecated in 1.7.0.\n",
      "  warnings.warn(\"`use_label_encoder` is deprecated in 1.7.0.\")\n"
     ]
    }
   ],
   "source": [
    "# training results\n",
    "train_results  =  cross_val_score(classifier , X_train, y_train, scoring=scoring, cv=cv , n_jobs=-1)\n",
    "test_results  =  cross_val_score(classifier , X_test, y_test, scoring=scoring, cv=cv , n_jobs=-1)"
   ]
  },
  {
   "cell_type": "code",
   "execution_count": 186,
   "metadata": {},
   "outputs": [
    {
     "name": "stdout",
     "output_type": "stream",
     "text": [
      "TRAIN:\n",
      "\tAverage Accuracy k-Fold 0.65\n",
      "\tStandard Deviation k-Fold 0.12\n",
      "\tPrecision Score 0: 0.649\n",
      "\tPrecision Score 1: 0.857\n",
      "\n",
      "-----------------------------------------------------------------------------\n",
      "\n",
      "TEST:\n",
      "\tAverage Accuracy k-Fold 0.71\n",
      "\tStandard Deviation k-Fold 0.13\n",
      "\tPrecision Score 0: 0.634\n",
      "\tPrecision Score 1: 0.857\n",
      "\n",
      "-----------------------------------------------------------------------------\n",
      "\n"
     ]
    }
   ],
   "source": [
    "# Comparison of results \n",
    "print(\"TRAIN:\", )\n",
    "print(\"\\tAverage Accuracy k-Fold\",round(train_results.mean(),2) )\n",
    "print(\"\\tStandard Deviation k-Fold\",round(train_results.std(),2) )\n",
    "print(\"\\tPrecision Score 0:\", round(precision_score(y_train, next_day_target_predictions, average=None)[0] , 3) )\n",
    "print(\"\\tPrecision Score 1:\", round(precision_score(y_train, next_day_target_predictions, average=None)[1] , 3) )\n",
    "print(\"\\n-----------------------------------------------------------------------------\\n\")\n",
    "print(\"TEST:\", )\n",
    "print(\"\\tAverage Accuracy k-Fold\",round(test_results.mean(),2) )\n",
    "print(\"\\tStandard Deviation k-Fold\",round(test_results.std(),2) )\n",
    "print(\"\\tPrecision Score 0:\", round(precision_score(y_test, test_next_day_target_predictions, average=None)[0] , 3) )\n",
    "print(\"\\tPrecision Score 1:\", round(precision_score(y_test, test_next_day_target_predictions, average=None)[1] , 3) )\n",
    "print(\"\\n-----------------------------------------------------------------------------\\n\")"
   ]
  },
  {
   "cell_type": "markdown",
   "metadata": {},
   "source": [
    "# Evalutation Metrics - Summary Report\n",
    "- looking at  `training` data prediction accuracy"
   ]
  },
  {
   "cell_type": "code",
   "execution_count": 187,
   "metadata": {},
   "outputs": [
    {
     "name": "stdout",
     "output_type": "stream",
     "text": [
      "              precision    recall  f1-score   support\n",
      "\n",
      "         0.0       0.65      0.99      0.78       595\n",
      "         1.0       0.86      0.09      0.16       349\n",
      "\n",
      "    accuracy                           0.66       944\n",
      "   macro avg       0.75      0.54      0.47       944\n",
      "weighted avg       0.73      0.66      0.55       944\n",
      "\n"
     ]
    }
   ],
   "source": [
    "print (classification_report(y_train, next_day_target_predictions))"
   ]
  },
  {
   "cell_type": "markdown",
   "metadata": {},
   "source": [
    "- looking at `testing` data prediction accuracy"
   ]
  },
  {
   "cell_type": "code",
   "execution_count": 188,
   "metadata": {},
   "outputs": [
    {
     "name": "stdout",
     "output_type": "stream",
     "text": [
      "              precision    recall  f1-score   support\n",
      "\n",
      "         0.0       0.63      1.00      0.77       254\n",
      "         1.0       0.86      0.04      0.08       152\n",
      "\n",
      "    accuracy                           0.64       406\n",
      "   macro avg       0.75      0.52      0.43       406\n",
      "weighted avg       0.72      0.64      0.51       406\n",
      "\n"
     ]
    }
   ],
   "source": [
    "print (classification_report(y_test, test_next_day_target_predictions))"
   ]
  },
  {
   "cell_type": "markdown",
   "metadata": {},
   "source": [
    "# Performance Evaluation - Confusion Matrix"
   ]
  },
  {
   "cell_type": "code",
   "execution_count": 189,
   "metadata": {},
   "outputs": [
    {
     "data": {
      "text/plain": [
       "<sklearn.metrics._plot.confusion_matrix.ConfusionMatrixDisplay at 0x1c43c7cdb20>"
      ]
     },
     "execution_count": 189,
     "metadata": {},
     "output_type": "execute_result"
    },
    {
     "data": {
      "image/png": "[encoded data removed]",
      "text/plain": [
       "<Figure size 640x480 with 2 Axes>"
      ]
     },
     "metadata": {},
     "output_type": "display_data"
    }
   ],
   "source": [
    "# Training Confusion Matrix\n",
    "cm_train = confusion_matrix(y_train, next_day_target_predictions)\n",
    "ConfusionMatrixDisplay(cm_train).plot()"
   ]
  },
  {
   "cell_type": "code",
   "execution_count": 190,
   "metadata": {},
   "outputs": [
    {
     "data": {
      "text/plain": [
       "<sklearn.metrics._plot.confusion_matrix.ConfusionMatrixDisplay at 0x1c43f2e40d0>"
      ]
     },
     "execution_count": 190,
     "metadata": {},
     "output_type": "execute_result"
    },
    {
     "data": {
      "image/png": "[encoded data removed]",
      "text/plain": [
       "<Figure size 640x480 with 2 Axes>"
      ]
     },
     "metadata": {},
     "output_type": "display_data"
    }
   ],
   "source": [
    "# Testing Confusion Matrix\n",
    "cm_test = confusion_matrix(y_test, test_next_day_target_predictions)\n",
    "ConfusionMatrixDisplay(cm_test).plot()"
   ]
  },
  {
   "cell_type": "markdown",
   "metadata": {},
   "source": [
    "# Feature Importance\n",
    "- most influential features on decision making"
   ]
  },
  {
   "cell_type": "code",
   "execution_count": 191,
   "metadata": {},
   "outputs": [
    {
     "data": {
      "image/png": "[encoded data removed]",
      "text/plain": [
       "<Figure size 2200x500 with 1 Axes>"
      ]
     },
     "metadata": {},
     "output_type": "display_data"
    }
   ],
   "source": [
    "# Plot Feature Importance \n",
    "fig = plt.figure(figsize=(22,5))\n",
    "importance_labels = X.columns\n",
    "importance_features = classifier.feature_importances_\n",
    "plt.bar(importance_labels, importance_features)\n",
    "plt.show()"
   ]
  },
  {
   "cell_type": "markdown",
   "metadata": {},
   "source": [
    "### XG BOOST TREE"
   ]
  },
  {
   "cell_type": "code",
   "execution_count": 192,
   "metadata": {},
   "outputs": [],
   "source": [
    "# # Plot Decision Tree\n",
    "# import os\n",
    "# os.environ[\"PATH\"] += os.pathsep + 'D:/Program Files (x86)/Graphviz2.38/bin/'\n",
    "# rcParams[\"figure.figsize\"] = 80,50\n",
    "# plot_tree(classifier)"
   ]
  }
 ],
 "metadata": {
  "kernelspec": {
   "display_name": "ML-finance",
   "language": "python",
   "name": "python3"
  },
  "language_info": {
   "codemirror_mode": {
    "name": "ipython",
    "version": 3
   },
   "file_extension": ".py",
   "mimetype": "text/x-python",
   "name": "python",
   "nbconvert_exporter": "python",
   "pygments_lexer": "ipython3",
   "version": "3.9.17"
  },
  "orig_nbformat": 4
 },
 "nbformat": 4,
 "nbformat_minor": 2
}
