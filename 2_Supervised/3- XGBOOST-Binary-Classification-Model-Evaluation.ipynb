{
 "cells": [
  {
   "cell_type": "markdown",
   "metadata": {},
   "source": [
    "# Feature Selecection"
   ]
  },
  {
   "cell_type": "code",
   "execution_count": 1,
   "metadata": {},
   "outputs": [],
   "source": [
    "import json\n",
    "\n",
    "\n",
    "# Remove Future Warnings\n",
    "import warnings\n",
    "warnings.simplefilter(action='ignore', category=FutureWarning)\n",
    "\n",
    "\n",
    "# General\n",
    "import numpy as np\n",
    "\n",
    "\n",
    "# Data Management\n",
    "import pandas as pd\n",
    "from sklearn.model_selection import train_test_split\n",
    "\n",
    "\n",
    "# Machine Learning\n",
    "from xgboost import XGBClassifier\n",
    "from sklearn.model_selection import RandomizedSearchCV, cross_val_score\n",
    "from sklearn.model_selection import RepeatedStratifiedKFold\n",
    "\n",
    "\n",
    "# BINARY CLASSIFICATION METRICS\n",
    "from sklearn.metrics import RocCurveDisplay\n",
    "\n",
    "\n",
    "# Evaluation\n",
    "from sklearn.metrics import accuracy_score\n",
    "from sklearn.metrics import classification_report\n",
    "from sklearn.metrics import precision_score\n",
    "from sklearn.metrics import confusion_matrix\n",
    "from sklearn.metrics import ConfusionMatrixDisplay\n",
    "\n",
    "\n",
    "# Reporting\n",
    "import matplotlib.pyplot as plt\n",
    "from matplotlib.pylab import rcParams\n",
    "from xgboost import plot_tree"
   ]
  },
  {
   "cell_type": "markdown",
   "metadata": {},
   "source": [
    "# Import Processed Data"
   ]
  },
  {
   "cell_type": "code",
   "execution_count": 2,
   "metadata": {},
   "outputs": [],
   "source": [
    "# FETCH DATA\n",
    "df = pd.read_csv(\"data/BTC-USD.csv\")\n",
    "df.set_index(\"Date\" , inplace=True)"
   ]
  },
  {
   "cell_type": "markdown",
   "metadata": {},
   "source": [
    "# Specify Prediction Target"
   ]
  },
  {
   "cell_type": "code",
   "execution_count": 3,
   "metadata": {},
   "outputs": [
    {
     "data": {
      "text/html": [
       "<div>\n",
       "<style scoped>\n",
       "    .dataframe tbody tr th:only-of-type {\n",
       "        vertical-align: middle;\n",
       "    }\n",
       "\n",
       "    .dataframe tbody tr th {\n",
       "        vertical-align: top;\n",
       "    }\n",
       "\n",
       "    .dataframe thead th {\n",
       "        text-align: right;\n",
       "    }\n",
       "</style>\n",
       "<table border=\"1\" class=\"dataframe\">\n",
       "  <thead>\n",
       "    <tr style=\"text-align: right;\">\n",
       "      <th></th>\n",
       "      <th>Open</th>\n",
       "      <th>Close</th>\n",
       "      <th>Volume</th>\n",
       "      <th>Returns</th>\n",
       "      <th>Range</th>\n",
       "      <th>Bench_C_Rets</th>\n",
       "      <th>RSI</th>\n",
       "      <th>RSI_Return</th>\n",
       "      <th>MA_12</th>\n",
       "      <th>MA_21</th>\n",
       "      <th>...</th>\n",
       "      <th>Rolling_rets</th>\n",
       "      <th>AVG_Range</th>\n",
       "      <th>Returns_T1</th>\n",
       "      <th>Range_T1</th>\n",
       "      <th>Rolling_rets_T1</th>\n",
       "      <th>Returns_T2</th>\n",
       "      <th>Range_T2</th>\n",
       "      <th>Rolling_rets_T2</th>\n",
       "      <th>HMM</th>\n",
       "      <th>TARGET</th>\n",
       "    </tr>\n",
       "    <tr>\n",
       "      <th>Date</th>\n",
       "      <th></th>\n",
       "      <th></th>\n",
       "      <th></th>\n",
       "      <th></th>\n",
       "      <th></th>\n",
       "      <th></th>\n",
       "      <th></th>\n",
       "      <th></th>\n",
       "      <th></th>\n",
       "      <th></th>\n",
       "      <th></th>\n",
       "      <th></th>\n",
       "      <th></th>\n",
       "      <th></th>\n",
       "      <th></th>\n",
       "      <th></th>\n",
       "      <th></th>\n",
       "      <th></th>\n",
       "      <th></th>\n",
       "      <th></th>\n",
       "      <th></th>\n",
       "    </tr>\n",
       "  </thead>\n",
       "  <tbody>\n",
       "    <tr>\n",
       "      <th>2023-10-26</th>\n",
       "      <td>0.017344</td>\n",
       "      <td>34156.648438</td>\n",
       "      <td>-0.230738</td>\n",
       "      <td>-0.010033</td>\n",
       "      <td>0.031709</td>\n",
       "      <td>4.212910</td>\n",
       "      <td>83.791364</td>\n",
       "      <td>0.953580</td>\n",
       "      <td>30532.125326</td>\n",
       "      <td>29169.758557</td>\n",
       "      <td>...</td>\n",
       "      <td>0.273831</td>\n",
       "      <td>0.031794</td>\n",
       "      <td>0.017736</td>\n",
       "      <td>0.042263</td>\n",
       "      <td>0.280775</td>\n",
       "      <td>0.024641</td>\n",
       "      <td>0.069027</td>\n",
       "      <td>0.264625</td>\n",
       "      <td>2</td>\n",
       "      <td>0.0</td>\n",
       "    </tr>\n",
       "    <tr>\n",
       "      <th>2023-10-27</th>\n",
       "      <td>-0.010080</td>\n",
       "      <td>33909.800781</td>\n",
       "      <td>-0.154894</td>\n",
       "      <td>-0.007227</td>\n",
       "      <td>0.024578</td>\n",
       "      <td>4.174920</td>\n",
       "      <td>80.907241</td>\n",
       "      <td>0.965580</td>\n",
       "      <td>31094.637695</td>\n",
       "      <td>29453.720610</td>\n",
       "      <td>...</td>\n",
       "      <td>0.261437</td>\n",
       "      <td>0.031711</td>\n",
       "      <td>-0.010033</td>\n",
       "      <td>0.031709</td>\n",
       "      <td>0.273831</td>\n",
       "      <td>0.017736</td>\n",
       "      <td>0.042263</td>\n",
       "      <td>0.280775</td>\n",
       "      <td>2</td>\n",
       "      <td>0.0</td>\n",
       "    </tr>\n",
       "    <tr>\n",
       "      <th>2023-10-28</th>\n",
       "      <td>-0.007283</td>\n",
       "      <td>34089.574219</td>\n",
       "      <td>-0.381148</td>\n",
       "      <td>0.005302</td>\n",
       "      <td>0.015486</td>\n",
       "      <td>4.202323</td>\n",
       "      <td>81.409117</td>\n",
       "      <td>1.006203</td>\n",
       "      <td>31558.813314</td>\n",
       "      <td>29745.184152</td>\n",
       "      <td>...</td>\n",
       "      <td>0.241358</td>\n",
       "      <td>0.031047</td>\n",
       "      <td>-0.007227</td>\n",
       "      <td>0.024578</td>\n",
       "      <td>0.261437</td>\n",
       "      <td>-0.010033</td>\n",
       "      <td>0.031709</td>\n",
       "      <td>0.273831</td>\n",
       "      <td>0</td>\n",
       "      <td>0.0</td>\n",
       "    </tr>\n",
       "    <tr>\n",
       "      <th>2023-10-29</th>\n",
       "      <td>0.005357</td>\n",
       "      <td>34538.480469</td>\n",
       "      <td>0.098421</td>\n",
       "      <td>0.013168</td>\n",
       "      <td>0.023439</td>\n",
       "      <td>4.269802</td>\n",
       "      <td>82.636497</td>\n",
       "      <td>1.015077</td>\n",
       "      <td>32069.041016</td>\n",
       "      <td>30059.631324</td>\n",
       "      <td>...</td>\n",
       "      <td>0.258591</td>\n",
       "      <td>0.031200</td>\n",
       "      <td>0.005302</td>\n",
       "      <td>0.015486</td>\n",
       "      <td>0.241358</td>\n",
       "      <td>-0.007227</td>\n",
       "      <td>0.024578</td>\n",
       "      <td>0.261437</td>\n",
       "      <td>0</td>\n",
       "      <td>0.0</td>\n",
       "    </tr>\n",
       "    <tr>\n",
       "      <th>2023-10-30</th>\n",
       "      <td>0.012977</td>\n",
       "      <td>34502.363281</td>\n",
       "      <td>0.539817</td>\n",
       "      <td>-0.001046</td>\n",
       "      <td>0.021488</td>\n",
       "      <td>4.263942</td>\n",
       "      <td>82.166476</td>\n",
       "      <td>0.994312</td>\n",
       "      <td>32583.542806</td>\n",
       "      <td>30389.092541</td>\n",
       "      <td>...</td>\n",
       "      <td>0.255457</td>\n",
       "      <td>0.031665</td>\n",
       "      <td>0.013168</td>\n",
       "      <td>0.023439</td>\n",
       "      <td>0.258591</td>\n",
       "      <td>0.005302</td>\n",
       "      <td>0.015486</td>\n",
       "      <td>0.241358</td>\n",
       "      <td>2</td>\n",
       "      <td>0.0</td>\n",
       "    </tr>\n",
       "  </tbody>\n",
       "</table>\n",
       "<p>5 rows × 21 columns</p>\n",
       "</div>"
      ],
      "text/plain": [
       "                Open         Close    Volume   Returns     Range  \\\n",
       "Date                                                               \n",
       "2023-10-26  0.017344  34156.648438 -0.230738 -0.010033  0.031709   \n",
       "2023-10-27 -0.010080  33909.800781 -0.154894 -0.007227  0.024578   \n",
       "2023-10-28 -0.007283  34089.574219 -0.381148  0.005302  0.015486   \n",
       "2023-10-29  0.005357  34538.480469  0.098421  0.013168  0.023439   \n",
       "2023-10-30  0.012977  34502.363281  0.539817 -0.001046  0.021488   \n",
       "\n",
       "            Bench_C_Rets        RSI  RSI_Return         MA_12         MA_21  \\\n",
       "Date                                                                          \n",
       "2023-10-26      4.212910  83.791364    0.953580  30532.125326  29169.758557   \n",
       "2023-10-27      4.174920  80.907241    0.965580  31094.637695  29453.720610   \n",
       "2023-10-28      4.202323  81.409117    1.006203  31558.813314  29745.184152   \n",
       "2023-10-29      4.269802  82.636497    1.015077  32069.041016  30059.631324   \n",
       "2023-10-30      4.263942  82.166476    0.994312  32583.542806  30389.092541   \n",
       "\n",
       "            ...  Rolling_rets  AVG_Range  Returns_T1  Range_T1  \\\n",
       "Date        ...                                                  \n",
       "2023-10-26  ...      0.273831   0.031794    0.017736  0.042263   \n",
       "2023-10-27  ...      0.261437   0.031711   -0.010033  0.031709   \n",
       "2023-10-28  ...      0.241358   0.031047   -0.007227  0.024578   \n",
       "2023-10-29  ...      0.258591   0.031200    0.005302  0.015486   \n",
       "2023-10-30  ...      0.255457   0.031665    0.013168  0.023439   \n",
       "\n",
       "            Rolling_rets_T1  Returns_T2  Range_T2  Rolling_rets_T2  HMM  \\\n",
       "Date                                                                      \n",
       "2023-10-26         0.280775    0.024641  0.069027         0.264625    2   \n",
       "2023-10-27         0.273831    0.017736  0.042263         0.280775    2   \n",
       "2023-10-28         0.261437   -0.010033  0.031709         0.273831    0   \n",
       "2023-10-29         0.241358   -0.007227  0.024578         0.261437    0   \n",
       "2023-10-30         0.258591    0.005302  0.015486         0.241358    2   \n",
       "\n",
       "            TARGET  \n",
       "Date                \n",
       "2023-10-26     0.0  \n",
       "2023-10-27     0.0  \n",
       "2023-10-28     0.0  \n",
       "2023-10-29     0.0  \n",
       "2023-10-30     0.0  \n",
       "\n",
       "[5 rows x 21 columns]"
      ]
     },
     "execution_count": 3,
     "metadata": {},
     "output_type": "execute_result"
    }
   ],
   "source": [
    "# Specify Target     (if yesterdays range was greater than the average range)\n",
    "df.loc[df[\"Range\"].shift(-1) > df[\"AVG_Range\"] , \"TARGET\"] = 1\n",
    "df.loc[df[\"Range\"].shift(-1) <= df[\"AVG_Range\"] , \"TARGET\"] = 0\n",
    "\n",
    "# Check for NAN\n",
    "nan_location = np.where(np.isnan(df))\n",
    "\n",
    "# Fill NaNs\n",
    "df[\"TARGET\"].fillna(0,inplace=True)\n",
    "df.tail()"
   ]
  },
  {
   "cell_type": "markdown",
   "metadata": {},
   "source": [
    "# TRAIN TEST SPLIT"
   ]
  },
  {
   "cell_type": "code",
   "execution_count": 4,
   "metadata": {},
   "outputs": [
    {
     "data": {
      "text/plain": [
       "['Returns',\n",
       " 'Range',\n",
       " 'RSI',\n",
       " 'MA_12',\n",
       " 'DOW',\n",
       " 'AVG_Range',\n",
       " 'Range_T1',\n",
       " 'Rolling_rets_T2',\n",
       " 'HMM',\n",
       " 'TARGET']"
      ]
     },
     "execution_count": 4,
     "metadata": {},
     "output_type": "execute_result"
    }
   ],
   "source": [
    "# FETCH RECOMMENDED FEATURES FROM FEATURE SELECTION\n",
    "with open('./data/feature_selection_output.json', 'r') as f:\n",
    "    recommended_labels = json.load(f)\n",
    "recommended_labels.append(\"TARGET\")\n",
    "recommended_labels"
   ]
  },
  {
   "cell_type": "code",
   "execution_count": 5,
   "metadata": {},
   "outputs": [],
   "source": [
    "# REMOVE UNWANTED COLUMNS (dont put information about the future in your data other than the target)\n",
    "df_tts = df.copy()\n",
    "df_tts = df_tts[recommended_labels]"
   ]
  },
  {
   "cell_type": "code",
   "execution_count": 6,
   "metadata": {},
   "outputs": [
    {
     "data": {
      "text/html": [
       "<div>\n",
       "<style scoped>\n",
       "    .dataframe tbody tr th:only-of-type {\n",
       "        vertical-align: middle;\n",
       "    }\n",
       "\n",
       "    .dataframe tbody tr th {\n",
       "        vertical-align: top;\n",
       "    }\n",
       "\n",
       "    .dataframe thead th {\n",
       "        text-align: right;\n",
       "    }\n",
       "</style>\n",
       "<table border=\"1\" class=\"dataframe\">\n",
       "  <thead>\n",
       "    <tr style=\"text-align: right;\">\n",
       "      <th></th>\n",
       "      <th>Returns</th>\n",
       "      <th>Range</th>\n",
       "      <th>RSI</th>\n",
       "      <th>MA_12</th>\n",
       "      <th>DOW</th>\n",
       "      <th>AVG_Range</th>\n",
       "      <th>Range_T1</th>\n",
       "      <th>Rolling_rets_T2</th>\n",
       "      <th>HMM</th>\n",
       "      <th>TARGET</th>\n",
       "    </tr>\n",
       "    <tr>\n",
       "      <th>Date</th>\n",
       "      <th></th>\n",
       "      <th></th>\n",
       "      <th></th>\n",
       "      <th></th>\n",
       "      <th></th>\n",
       "      <th></th>\n",
       "      <th></th>\n",
       "      <th></th>\n",
       "      <th></th>\n",
       "      <th></th>\n",
       "    </tr>\n",
       "  </thead>\n",
       "  <tbody>\n",
       "    <tr>\n",
       "      <th>2022-11-24</th>\n",
       "      <td>-0.000376</td>\n",
       "      <td>0.016344</td>\n",
       "      <td>40.295294</td>\n",
       "      <td>16508.876383</td>\n",
       "      <td>3</td>\n",
       "      <td>0.044158</td>\n",
       "      <td>0.028922</td>\n",
       "      <td>-0.161565</td>\n",
       "      <td>0</td>\n",
       "      <td>0.0</td>\n",
       "    </tr>\n",
       "    <tr>\n",
       "      <th>2022-11-25</th>\n",
       "      <td>-0.004976</td>\n",
       "      <td>0.013114</td>\n",
       "      <td>39.672291</td>\n",
       "      <td>16522.916097</td>\n",
       "      <td>4</td>\n",
       "      <td>0.043164</td>\n",
       "      <td>0.016344</td>\n",
       "      <td>-0.124248</td>\n",
       "      <td>2</td>\n",
       "      <td>0.0</td>\n",
       "    </tr>\n",
       "    <tr>\n",
       "      <th>2022-11-26</th>\n",
       "      <td>-0.003484</td>\n",
       "      <td>0.015267</td>\n",
       "      <td>39.217384</td>\n",
       "      <td>16510.089600</td>\n",
       "      <td>5</td>\n",
       "      <td>0.042688</td>\n",
       "      <td>0.013114</td>\n",
       "      <td>-0.163407</td>\n",
       "      <td>2</td>\n",
       "      <td>0.0</td>\n",
       "    </tr>\n",
       "    <tr>\n",
       "      <th>2022-11-27</th>\n",
       "      <td>-0.001194</td>\n",
       "      <td>0.009575</td>\n",
       "      <td>39.052718</td>\n",
       "      <td>16473.424072</td>\n",
       "      <td>6</td>\n",
       "      <td>0.041947</td>\n",
       "      <td>0.015267</td>\n",
       "      <td>-0.201951</td>\n",
       "      <td>2</td>\n",
       "      <td>0.0</td>\n",
       "    </tr>\n",
       "    <tr>\n",
       "      <th>2022-11-28</th>\n",
       "      <td>-0.013822</td>\n",
       "      <td>0.026684</td>\n",
       "      <td>37.111945</td>\n",
       "      <td>16435.747640</td>\n",
       "      <td>0</td>\n",
       "      <td>0.042153</td>\n",
       "      <td>0.009575</td>\n",
       "      <td>-0.182104</td>\n",
       "      <td>2</td>\n",
       "      <td>0.0</td>\n",
       "    </tr>\n",
       "    <tr>\n",
       "      <th>...</th>\n",
       "      <td>...</td>\n",
       "      <td>...</td>\n",
       "      <td>...</td>\n",
       "      <td>...</td>\n",
       "      <td>...</td>\n",
       "      <td>...</td>\n",
       "      <td>...</td>\n",
       "      <td>...</td>\n",
       "      <td>...</td>\n",
       "      <td>...</td>\n",
       "    </tr>\n",
       "    <tr>\n",
       "      <th>2023-10-26</th>\n",
       "      <td>-0.010033</td>\n",
       "      <td>0.031709</td>\n",
       "      <td>83.791364</td>\n",
       "      <td>30532.125326</td>\n",
       "      <td>3</td>\n",
       "      <td>0.031794</td>\n",
       "      <td>0.042263</td>\n",
       "      <td>0.264625</td>\n",
       "      <td>2</td>\n",
       "      <td>0.0</td>\n",
       "    </tr>\n",
       "    <tr>\n",
       "      <th>2023-10-27</th>\n",
       "      <td>-0.007227</td>\n",
       "      <td>0.024578</td>\n",
       "      <td>80.907241</td>\n",
       "      <td>31094.637695</td>\n",
       "      <td>4</td>\n",
       "      <td>0.031711</td>\n",
       "      <td>0.031709</td>\n",
       "      <td>0.280775</td>\n",
       "      <td>2</td>\n",
       "      <td>0.0</td>\n",
       "    </tr>\n",
       "    <tr>\n",
       "      <th>2023-10-28</th>\n",
       "      <td>0.005302</td>\n",
       "      <td>0.015486</td>\n",
       "      <td>81.409117</td>\n",
       "      <td>31558.813314</td>\n",
       "      <td>5</td>\n",
       "      <td>0.031047</td>\n",
       "      <td>0.024578</td>\n",
       "      <td>0.273831</td>\n",
       "      <td>0</td>\n",
       "      <td>0.0</td>\n",
       "    </tr>\n",
       "    <tr>\n",
       "      <th>2023-10-29</th>\n",
       "      <td>0.013168</td>\n",
       "      <td>0.023439</td>\n",
       "      <td>82.636497</td>\n",
       "      <td>32069.041016</td>\n",
       "      <td>6</td>\n",
       "      <td>0.031200</td>\n",
       "      <td>0.015486</td>\n",
       "      <td>0.261437</td>\n",
       "      <td>0</td>\n",
       "      <td>0.0</td>\n",
       "    </tr>\n",
       "    <tr>\n",
       "      <th>2023-10-30</th>\n",
       "      <td>-0.001046</td>\n",
       "      <td>0.021488</td>\n",
       "      <td>82.166476</td>\n",
       "      <td>32583.542806</td>\n",
       "      <td>0</td>\n",
       "      <td>0.031665</td>\n",
       "      <td>0.023439</td>\n",
       "      <td>0.241358</td>\n",
       "      <td>2</td>\n",
       "      <td>0.0</td>\n",
       "    </tr>\n",
       "  </tbody>\n",
       "</table>\n",
       "<p>341 rows × 10 columns</p>\n",
       "</div>"
      ],
      "text/plain": [
       "             Returns     Range        RSI         MA_12  DOW  AVG_Range  \\\n",
       "Date                                                                      \n",
       "2022-11-24 -0.000376  0.016344  40.295294  16508.876383    3   0.044158   \n",
       "2022-11-25 -0.004976  0.013114  39.672291  16522.916097    4   0.043164   \n",
       "2022-11-26 -0.003484  0.015267  39.217384  16510.089600    5   0.042688   \n",
       "2022-11-27 -0.001194  0.009575  39.052718  16473.424072    6   0.041947   \n",
       "2022-11-28 -0.013822  0.026684  37.111945  16435.747640    0   0.042153   \n",
       "...              ...       ...        ...           ...  ...        ...   \n",
       "2023-10-26 -0.010033  0.031709  83.791364  30532.125326    3   0.031794   \n",
       "2023-10-27 -0.007227  0.024578  80.907241  31094.637695    4   0.031711   \n",
       "2023-10-28  0.005302  0.015486  81.409117  31558.813314    5   0.031047   \n",
       "2023-10-29  0.013168  0.023439  82.636497  32069.041016    6   0.031200   \n",
       "2023-10-30 -0.001046  0.021488  82.166476  32583.542806    0   0.031665   \n",
       "\n",
       "            Range_T1  Rolling_rets_T2  HMM  TARGET  \n",
       "Date                                                \n",
       "2022-11-24  0.028922        -0.161565    0     0.0  \n",
       "2022-11-25  0.016344        -0.124248    2     0.0  \n",
       "2022-11-26  0.013114        -0.163407    2     0.0  \n",
       "2022-11-27  0.015267        -0.201951    2     0.0  \n",
       "2022-11-28  0.009575        -0.182104    2     0.0  \n",
       "...              ...              ...  ...     ...  \n",
       "2023-10-26  0.042263         0.264625    2     0.0  \n",
       "2023-10-27  0.031709         0.280775    2     0.0  \n",
       "2023-10-28  0.024578         0.273831    0     0.0  \n",
       "2023-10-29  0.015486         0.261437    0     0.0  \n",
       "2023-10-30  0.023439         0.241358    2     0.0  \n",
       "\n",
       "[341 rows x 10 columns]"
      ]
     },
     "execution_count": 6,
     "metadata": {},
     "output_type": "execute_result"
    }
   ],
   "source": [
    "# EVERYTHING EXCEPT TARGET (x)\n",
    "X = df_tts.iloc[: , : -1]\n",
    "\n",
    "# TARGET (y)\n",
    "y = df_tts.iloc[: , -1]\n",
    "df_tts "
   ]
  },
  {
   "cell_type": "code",
   "execution_count": 7,
   "metadata": {},
   "outputs": [],
   "source": [
    "# TRAIN TEST SPLIT (time series)\n",
    "\n",
    "\n",
    "# 70% OF THE HISTORICAL DATA GOES TO TRAINING THE MODEL\n",
    "train_amount_percent = 0.7\n",
    "train_size = int(len(X) * train_amount_percent)\n",
    "X_train = X.head(train_size)\n",
    "y_train = y.head(train_size)\n",
    "\n",
    "\n",
    "# THE REST GOES TO TESTING THE MODEL FOR ACCURACY\n",
    "test_size = len(X) - train_size\n",
    "X_test = X.tail(test_size)\n",
    "y_test = y.tail(test_size)"
   ]
  },
  {
   "cell_type": "code",
   "execution_count": 8,
   "metadata": {},
   "outputs": [
    {
     "name": "stdout",
     "output_type": "stream",
     "text": [
      "Shape of X_train: (238, 9)\n",
      "Shape of y_train: (238,)\n",
      "\n",
      "Shape of X_test: (103, 9)\n",
      "Shape of y_test: (103,)\n",
      "\n",
      "Testing data size check: True\n"
     ]
    }
   ],
   "source": [
    "size_check = len(y_test) + len(y_train) == len(X)\n",
    "print(f\"Shape of X_train: {X_train.shape}\")\n",
    "print(f\"Shape of y_train: {y_train.shape}\")\n",
    "print()\n",
    "print(f\"Shape of X_test: {X_test.shape}\")\n",
    "print(f\"Shape of y_test: {y_test.shape}\")\n",
    "print()\n",
    "print(f\"Testing data size check: {size_check}\")"
   ]
  },
  {
   "cell_type": "markdown",
   "metadata": {},
   "source": [
    "# BUILD MODEL"
   ]
  },
  {
   "cell_type": "code",
   "execution_count": 9,
   "metadata": {},
   "outputs": [],
   "source": [
    "# Select type of model to optimize for\n",
    "is_binary = True\n",
    "is_optimize_for_precision = True\n"
   ]
  },
  {
   "cell_type": "code",
   "execution_count": 10,
   "metadata": {},
   "outputs": [],
   "source": [
    "# Determine Objective and Eval Metrics\n",
    "if is_binary:\n",
    "    objective = \"binary:logistic\"\n",
    "    eval_metric = \"logloss\"\n",
    "    eval_metric_list = [\"error\",\"logloss\",eval_metric]\n",
    "else:\n",
    "    objective = \"multi:softmax\"\n",
    "    eval_metric = \"mlogloss\"\n",
    "    eval_metric_list = [\"merror\",\"mlogloss\",eval_metric]"
   ]
  },
  {
   "cell_type": "code",
   "execution_count": 11,
   "metadata": {},
   "outputs": [],
   "source": [
    "# Refine Eval Metric\n",
    "if is_binary and is_optimize_for_precision:\n",
    "    eval_metric = \"aucpr\"\n",
    "    scoring = \"precision\"\n",
    "elif is_binary and not is_optimize_for_precision:\n",
    "    eval_metric = \"auc\"\n",
    "    scoring = \"f1\"\n",
    "else:\n",
    "    scoring = \"accuracy\""
   ]
  },
  {
   "cell_type": "code",
   "execution_count": 12,
   "metadata": {},
   "outputs": [],
   "source": [
    "# hyperparameters generated in feature selection\n",
    "\n",
    "\n",
    "with open('./data/hyperparametertuning.json', 'r') as f:\n",
    "    data = json.load(f)\n",
    "    ne = data['ne']\n",
    "    lr = data['lr']\n",
    "    md = data['md']\n",
    "    gm = data['gm']\n",
    "\n",
    "\n",
    "\n",
    "\n",
    "# CUSTOM HYPER PARAM TUNE\n",
    "# ne = 150\n",
    "# lr = 0.01\n",
    "# md = 4\n",
    "# gm = 6\n"
   ]
  },
  {
   "cell_type": "code",
   "execution_count": 13,
   "metadata": {},
   "outputs": [
    {
     "name": "stderr",
     "output_type": "stream",
     "text": [
      "d:\\Programs\\Anaconda\\envs\\ML-finance\\lib\\site-packages\\xgboost\\sklearn.py:1395: UserWarning: `use_label_encoder` is deprecated in 1.7.0.\n",
      "  warnings.warn(\"`use_label_encoder` is deprecated in 1.7.0.\")\n"
     ]
    }
   ],
   "source": [
    "# Build First Classifier Model\n",
    "classifier = XGBClassifier(\n",
    "    objective=objective,\n",
    "    booster=\"gbtree\",\n",
    "    # eval_metric=eval_metric,\n",
    "    subsample = 0.8,\n",
    "    colsample_bytree=1,\n",
    "    random_state=1,\n",
    "    use_label_encoder=False,\n",
    "\n",
    "    n_estimators=ne,\n",
    "    learning_rate=lr,\n",
    "    max_depth=md,\n",
    "    gamma=gm,\n",
    ")"
   ]
  },
  {
   "cell_type": "code",
   "execution_count": 14,
   "metadata": {},
   "outputs": [
    {
     "name": "stderr",
     "output_type": "stream",
     "text": [
      "d:\\Programs\\Anaconda\\envs\\ML-finance\\lib\\site-packages\\xgboost\\sklearn.py:835: UserWarning: `eval_metric` in `fit` method is deprecated for better compatibility with scikit-learn, use `eval_metric` in constructor or`set_params` instead.\n",
      "  warnings.warn(\n"
     ]
    },
    {
     "data": {
      "text/html": [
       "<style>#sk-container-id-1 {color: black;}#sk-container-id-1 pre{padding: 0;}#sk-container-id-1 div.sk-toggleable {background-color: white;}#sk-container-id-1 label.sk-toggleable__label {cursor: pointer;display: block;width: 100%;margin-bottom: 0;padding: 0.3em;box-sizing: border-box;text-align: center;}#sk-container-id-1 label.sk-toggleable__label-arrow:before {content: \"▸\";float: left;margin-right: 0.25em;color: #696969;}#sk-container-id-1 label.sk-toggleable__label-arrow:hover:before {color: black;}#sk-container-id-1 div.sk-estimator:hover label.sk-toggleable__label-arrow:before {color: black;}#sk-container-id-1 div.sk-toggleable__content {max-height: 0;max-width: 0;overflow: hidden;text-align: left;background-color: #f0f8ff;}#sk-container-id-1 div.sk-toggleable__content pre {margin: 0.2em;color: black;border-radius: 0.25em;background-color: #f0f8ff;}#sk-container-id-1 input.sk-toggleable__control:checked~div.sk-toggleable__content {max-height: 200px;max-width: 100%;overflow: auto;}#sk-container-id-1 input.sk-toggleable__control:checked~label.sk-toggleable__label-arrow:before {content: \"▾\";}#sk-container-id-1 div.sk-estimator input.sk-toggleable__control:checked~label.sk-toggleable__label {background-color: #d4ebff;}#sk-container-id-1 div.sk-label input.sk-toggleable__control:checked~label.sk-toggleable__label {background-color: #d4ebff;}#sk-container-id-1 input.sk-hidden--visually {border: 0;clip: rect(1px 1px 1px 1px);clip: rect(1px, 1px, 1px, 1px);height: 1px;margin: -1px;overflow: hidden;padding: 0;position: absolute;width: 1px;}#sk-container-id-1 div.sk-estimator {font-family: monospace;background-color: #f0f8ff;border: 1px dotted black;border-radius: 0.25em;box-sizing: border-box;margin-bottom: 0.5em;}#sk-container-id-1 div.sk-estimator:hover {background-color: #d4ebff;}#sk-container-id-1 div.sk-parallel-item::after {content: \"\";width: 100%;border-bottom: 1px solid gray;flex-grow: 1;}#sk-container-id-1 div.sk-label:hover label.sk-toggleable__label {background-color: #d4ebff;}#sk-container-id-1 div.sk-serial::before {content: \"\";position: absolute;border-left: 1px solid gray;box-sizing: border-box;top: 0;bottom: 0;left: 50%;z-index: 0;}#sk-container-id-1 div.sk-serial {display: flex;flex-direction: column;align-items: center;background-color: white;padding-right: 0.2em;padding-left: 0.2em;position: relative;}#sk-container-id-1 div.sk-item {position: relative;z-index: 1;}#sk-container-id-1 div.sk-parallel {display: flex;align-items: stretch;justify-content: center;background-color: white;position: relative;}#sk-container-id-1 div.sk-item::before, #sk-container-id-1 div.sk-parallel-item::before {content: \"\";position: absolute;border-left: 1px solid gray;box-sizing: border-box;top: 0;bottom: 0;left: 50%;z-index: -1;}#sk-container-id-1 div.sk-parallel-item {display: flex;flex-direction: column;z-index: 1;position: relative;background-color: white;}#sk-container-id-1 div.sk-parallel-item:first-child::after {align-self: flex-end;width: 50%;}#sk-container-id-1 div.sk-parallel-item:last-child::after {align-self: flex-start;width: 50%;}#sk-container-id-1 div.sk-parallel-item:only-child::after {width: 0;}#sk-container-id-1 div.sk-dashed-wrapped {border: 1px dashed gray;margin: 0 0.4em 0.5em 0.4em;box-sizing: border-box;padding-bottom: 0.4em;background-color: white;}#sk-container-id-1 div.sk-label label {font-family: monospace;font-weight: bold;display: inline-block;line-height: 1.2em;}#sk-container-id-1 div.sk-label-container {text-align: center;}#sk-container-id-1 div.sk-container {/* jupyter's `normalize.less` sets `[hidden] { display: none; }` but bootstrap.min.css set `[hidden] { display: none !important; }` so we also need the `!important` here to be able to override the default hidden behavior on the sphinx rendered scikit-learn.org. See: https://github.com/scikit-learn/scikit-learn/issues/21755 */display: inline-block !important;position: relative;}#sk-container-id-1 div.sk-text-repr-fallback {display: none;}</style><div id=\"sk-container-id-1\" class=\"sk-top-container\"><div class=\"sk-text-repr-fallback\"><pre>XGBClassifier(base_score=None, booster=&#x27;gbtree&#x27;, callbacks=None,\n",
       "              colsample_bylevel=None, colsample_bynode=None, colsample_bytree=1,\n",
       "              early_stopping_rounds=None, enable_categorical=False,\n",
       "              eval_metric=None, feature_types=None, gamma=0.2, gpu_id=None,\n",
       "              grow_policy=None, importance_type=None,\n",
       "              interaction_constraints=None, learning_rate=0.01, max_bin=None,\n",
       "              max_cat_threshold=None, max_cat_to_onehot=None,\n",
       "              max_delta_step=None, max_depth=6, max_leaves=None,\n",
       "              min_child_weight=None, missing=nan, monotone_constraints=None,\n",
       "              n_estimators=200, n_jobs=None, num_parallel_tree=None,\n",
       "              predictor=None, random_state=1, ...)</pre><b>In a Jupyter environment, please rerun this cell to show the HTML representation or trust the notebook. <br />On GitHub, the HTML representation is unable to render, please try loading this page with nbviewer.org.</b></div><div class=\"sk-container\" hidden><div class=\"sk-item\"><div class=\"sk-estimator sk-toggleable\"><input class=\"sk-toggleable__control sk-hidden--visually\" id=\"sk-estimator-id-1\" type=\"checkbox\" checked><label for=\"sk-estimator-id-1\" class=\"sk-toggleable__label sk-toggleable__label-arrow\">XGBClassifier</label><div class=\"sk-toggleable__content\"><pre>XGBClassifier(base_score=None, booster=&#x27;gbtree&#x27;, callbacks=None,\n",
       "              colsample_bylevel=None, colsample_bynode=None, colsample_bytree=1,\n",
       "              early_stopping_rounds=None, enable_categorical=False,\n",
       "              eval_metric=None, feature_types=None, gamma=0.2, gpu_id=None,\n",
       "              grow_policy=None, importance_type=None,\n",
       "              interaction_constraints=None, learning_rate=0.01, max_bin=None,\n",
       "              max_cat_threshold=None, max_cat_to_onehot=None,\n",
       "              max_delta_step=None, max_depth=6, max_leaves=None,\n",
       "              min_child_weight=None, missing=nan, monotone_constraints=None,\n",
       "              n_estimators=200, n_jobs=None, num_parallel_tree=None,\n",
       "              predictor=None, random_state=1, ...)</pre></div></div></div></div></div>"
      ],
      "text/plain": [
       "XGBClassifier(base_score=None, booster='gbtree', callbacks=None,\n",
       "              colsample_bylevel=None, colsample_bynode=None, colsample_bytree=1,\n",
       "              early_stopping_rounds=None, enable_categorical=False,\n",
       "              eval_metric=None, feature_types=None, gamma=0.2, gpu_id=None,\n",
       "              grow_policy=None, importance_type=None,\n",
       "              interaction_constraints=None, learning_rate=0.01, max_bin=None,\n",
       "              max_cat_threshold=None, max_cat_to_onehot=None,\n",
       "              max_delta_step=None, max_depth=6, max_leaves=None,\n",
       "              min_child_weight=None, missing=nan, monotone_constraints=None,\n",
       "              n_estimators=200, n_jobs=None, num_parallel_tree=None,\n",
       "              predictor=None, random_state=1, ...)"
      ]
     },
     "execution_count": 14,
     "metadata": {},
     "output_type": "execute_result"
    }
   ],
   "source": [
    "# Fit the model\n",
    "eval_set = [(X_train,y_train) , (X_test,y_test)]\n",
    "\n",
    "classifier.fit(\n",
    "    X_train,\n",
    "    y_train,\n",
    "    eval_metric=eval_metric_list,\n",
    "    eval_set=eval_set,\n",
    "    verbose=False\n",
    ")\n"
   ]
  },
  {
   "cell_type": "markdown",
   "metadata": {},
   "source": [
    "# MAKE PREDICTIONS\n",
    "- binary if the next day will be up (1) or down (0) the next day "
   ]
  },
  {
   "cell_type": "code",
   "execution_count": 15,
   "metadata": {},
   "outputs": [
    {
     "name": "stdout",
     "output_type": "stream",
     "text": [
      "Predcition \t|\t Binary Confidence (zero or one)\n",
      "___________________________________________________\n",
      "\n",
      "0 \t\t|\t [0.87914276 0.12085721]\n",
      "0 \t\t|\t [0.8940493  0.10595073]\n",
      "0 \t\t|\t [0.8901134 0.1098866]\n",
      "0 \t\t|\t [0.87561905 0.12438096]\n",
      "0 \t\t|\t [0.80160064 0.19839938]\n",
      "1 \t\t|\t [0.4607823 0.5392177]\n",
      "0 \t\t|\t [0.7024163 0.2975837]\n",
      "0 \t\t|\t [0.8631526  0.13684738]\n",
      "0 \t\t|\t [0.89562577 0.10437422]\n",
      "0 \t\t|\t [0.88807964 0.11192034]\n"
     ]
    }
   ],
   "source": [
    "# training data\n",
    "next_day_target_predictions = classifier.predict(X_train)\n",
    "train_yhat_probability = classifier.predict_proba(X_train)\n",
    "\n",
    "\n",
    "# OUTPUT\n",
    "prediction_probabilities = zip(next_day_target_predictions , train_yhat_probability)\n",
    "print(\"Predcition \\t|\\t Binary Confidence (zero or one)\")\n",
    "print(\"___________________________________________________\\n\")\n",
    "for prediction , probability_confidence in list(prediction_probabilities)[:10]:\n",
    "    print(prediction, \"\\t\\t|\\t\",  probability_confidence)"
   ]
  },
  {
   "cell_type": "markdown",
   "metadata": {},
   "source": [
    "# TEST MODEL ACCURACY"
   ]
  },
  {
   "cell_type": "code",
   "execution_count": 16,
   "metadata": {},
   "outputs": [
    {
     "name": "stdout",
     "output_type": "stream",
     "text": [
      "Predcition \t|\t Binary Confidence (zero or one)\n",
      "___________________________________________________\n",
      "\n",
      "0 \t\t|\t [0.6343528  0.36564723]\n",
      "0 \t\t|\t [0.7748464  0.22515363]\n",
      "0 \t\t|\t [0.73928106 0.2607189 ]\n",
      "1 \t\t|\t [0.440845 0.559155]\n",
      "0 \t\t|\t [0.5429249  0.45707512]\n",
      "0 \t\t|\t [0.56365526 0.43634477]\n",
      "0 \t\t|\t [0.58591205 0.41408795]\n",
      "0 \t\t|\t [0.65688956 0.3431104 ]\n",
      "0 \t\t|\t [0.6454186  0.35458142]\n",
      "0 \t\t|\t [0.61960447 0.38039556]\n"
     ]
    }
   ],
   "source": [
    "# TEST Y HAT\n",
    "test_next_day_target_predictions = classifier.predict(X_test)\n",
    "test_yhat_probability = classifier.predict_proba(X_test)\n",
    "\n",
    "\n",
    "# OUTPUT\n",
    "prediction_probabilities = zip(test_next_day_target_predictions , test_yhat_probability)\n",
    "print(\"Predcition \\t|\\t Binary Confidence (zero or one)\")\n",
    "print(\"___________________________________________________\\n\")\n",
    "for prediction , probability_confidence in list(prediction_probabilities)[:10]:\n",
    "    print(prediction, \"\\t\\t|\\t\",  probability_confidence)"
   ]
  },
  {
   "cell_type": "markdown",
   "metadata": {},
   "source": [
    "# K FOLD CROSS VALIDATION"
   ]
  },
  {
   "cell_type": "code",
   "execution_count": 17,
   "metadata": {},
   "outputs": [],
   "source": [
    "# KFOLD CROSS VALIDATION\n",
    "cv = RepeatedStratifiedKFold(n_splits=5 , n_repeats=1, random_state=1)"
   ]
  },
  {
   "cell_type": "code",
   "execution_count": 18,
   "metadata": {},
   "outputs": [
    {
     "name": "stderr",
     "output_type": "stream",
     "text": [
      "d:\\Programs\\Anaconda\\envs\\ML-finance\\lib\\site-packages\\xgboost\\sklearn.py:1395: UserWarning: `use_label_encoder` is deprecated in 1.7.0.\n",
      "  warnings.warn(\"`use_label_encoder` is deprecated in 1.7.0.\")\n",
      "d:\\Programs\\Anaconda\\envs\\ML-finance\\lib\\site-packages\\xgboost\\sklearn.py:1395: UserWarning: `use_label_encoder` is deprecated in 1.7.0.\n",
      "  warnings.warn(\"`use_label_encoder` is deprecated in 1.7.0.\")\n"
     ]
    },
    {
     "name": "stderr",
     "output_type": "stream",
     "text": [
      "d:\\Programs\\Anaconda\\envs\\ML-finance\\lib\\site-packages\\xgboost\\sklearn.py:1395: UserWarning: `use_label_encoder` is deprecated in 1.7.0.\n",
      "  warnings.warn(\"`use_label_encoder` is deprecated in 1.7.0.\")\n",
      "d:\\Programs\\Anaconda\\envs\\ML-finance\\lib\\site-packages\\xgboost\\sklearn.py:1395: UserWarning: `use_label_encoder` is deprecated in 1.7.0.\n",
      "  warnings.warn(\"`use_label_encoder` is deprecated in 1.7.0.\")\n",
      "d:\\Programs\\Anaconda\\envs\\ML-finance\\lib\\site-packages\\xgboost\\sklearn.py:1395: UserWarning: `use_label_encoder` is deprecated in 1.7.0.\n",
      "  warnings.warn(\"`use_label_encoder` is deprecated in 1.7.0.\")\n"
     ]
    }
   ],
   "source": [
    "# Training results \n",
    "train_results = cross_val_score(classifier, X_train, y_train , cv=cv , n_jobs=1 )"
   ]
  },
  {
   "cell_type": "markdown",
   "metadata": {},
   "source": [
    "# EVALUTION METRICS - Loss & Overfitting"
   ]
  },
  {
   "cell_type": "code",
   "execution_count": 19,
   "metadata": {},
   "outputs": [],
   "source": [
    "# Retrieve performance metrics\n",
    "results = classifier.evals_result()\n",
    "epochs = len(results[\"validation_0\"][\"error\"])\n",
    "x_axis = range(0,epochs)"
   ]
  },
  {
   "cell_type": "code",
   "execution_count": 20,
   "metadata": {},
   "outputs": [
    {
     "data": {
      "text/plain": [
       "Text(0.5, 1.0, 'XGB LogLoss')"
      ]
     },
     "execution_count": 20,
     "metadata": {},
     "output_type": "execute_result"
    },
    {
     "data": {
      "image/png": "[encoded data removed]",
      "text/plain": [
       "<Figure size 640x480 with 1 Axes>"
      ]
     },
     "metadata": {},
     "output_type": "display_data"
    }
   ],
   "source": [
    "# Plot log loss\n",
    "fig,axis = plt.subplots()\n",
    "axis.plot(x_axis , results[\"validation_0\"][\"logloss\"], label=\"Train\")\n",
    "axis.plot(x_axis , results[\"validation_1\"][\"logloss\"], label=\"Test\")\n",
    "axis.legend()\n",
    "plt.ylabel(\"LogLoss\")\n",
    "plt.title(\"XGB LogLoss\")"
   ]
  },
  {
   "cell_type": "code",
   "execution_count": 21,
   "metadata": {},
   "outputs": [
    {
     "data": {
      "text/plain": [
       "Text(0.5, 1.0, 'XGB Error')"
      ]
     },
     "execution_count": 21,
     "metadata": {},
     "output_type": "execute_result"
    },
    {
     "data": {
      "image/png": "[encoded data removed]",
      "text/plain": [
       "<Figure size 640x480 with 1 Axes>"
      ]
     },
     "metadata": {},
     "output_type": "display_data"
    }
   ],
   "source": [
    "# Plot error\n",
    "fig,axis = plt.subplots()\n",
    "axis.plot(x_axis , results[\"validation_0\"][\"error\"], label=\"Train\")\n",
    "axis.plot(x_axis , results[\"validation_1\"][\"error\"], label=\"Test\")\n",
    "axis.legend()\n",
    "plt.ylabel(\"Error\")\n",
    "plt.title(\"XGB Error\")"
   ]
  },
  {
   "cell_type": "markdown",
   "metadata": {},
   "source": [
    "# Evaluate ROC Curve"
   ]
  },
  {
   "cell_type": "code",
   "execution_count": 22,
   "metadata": {},
   "outputs": [
    {
     "data": {
      "text/plain": [
       "<sklearn.metrics._plot.roc_curve.RocCurveDisplay at 0x1cbe9b1f5b0>"
      ]
     },
     "execution_count": 22,
     "metadata": {},
     "output_type": "execute_result"
    },
    {
     "data": {
      "image/png": "[encoded data removed]",
      "text/plain": [
       "<Figure size 640x480 with 1 Axes>"
      ]
     },
     "metadata": {},
     "output_type": "display_data"
    }
   ],
   "source": [
    "# Plot Training ROC Curve\n",
    "RocCurveDisplay.from_estimator(classifier, X_train, y_train)"
   ]
  },
  {
   "cell_type": "code",
   "execution_count": 23,
   "metadata": {},
   "outputs": [
    {
     "data": {
      "text/plain": [
       "<sklearn.metrics._plot.roc_curve.RocCurveDisplay at 0x1cbe97fe580>"
      ]
     },
     "execution_count": 23,
     "metadata": {},
     "output_type": "execute_result"
    },
    {
     "data": {
      "image/png": "[encoded data removed]",
      "text/plain": [
       "<Figure size 640x480 with 1 Axes>"
      ]
     },
     "metadata": {},
     "output_type": "display_data"
    }
   ],
   "source": [
    "# Plot Test ROC Curve\n",
    "RocCurveDisplay.from_estimator(classifier, X_test, y_test)"
   ]
  },
  {
   "cell_type": "markdown",
   "metadata": {},
   "source": [
    "# Performance Evaluation Comparison"
   ]
  },
  {
   "cell_type": "code",
   "execution_count": 24,
   "metadata": {},
   "outputs": [],
   "source": [
    "# Set K-Fold cross validation \n",
    "cv = RepeatedStratifiedKFold(n_splits=5 , n_repeats=1, random_state=1)"
   ]
  },
  {
   "cell_type": "code",
   "execution_count": 25,
   "metadata": {},
   "outputs": [
    {
     "name": "stderr",
     "output_type": "stream",
     "text": [
      "d:\\Programs\\Anaconda\\envs\\ML-finance\\lib\\site-packages\\xgboost\\sklearn.py:1395: UserWarning: `use_label_encoder` is deprecated in 1.7.0.\n",
      "  warnings.warn(\"`use_label_encoder` is deprecated in 1.7.0.\")\n",
      "d:\\Programs\\Anaconda\\envs\\ML-finance\\lib\\site-packages\\xgboost\\sklearn.py:1395: UserWarning: `use_label_encoder` is deprecated in 1.7.0.\n",
      "  warnings.warn(\"`use_label_encoder` is deprecated in 1.7.0.\")\n"
     ]
    }
   ],
   "source": [
    "# training results\n",
    "train_results  =  cross_val_score(classifier , X_train, y_train, scoring=scoring, cv=cv , n_jobs=-1)\n",
    "test_results  =  cross_val_score(classifier , X_test, y_test, scoring=scoring, cv=cv , n_jobs=-1)"
   ]
  },
  {
   "cell_type": "code",
   "execution_count": 26,
   "metadata": {},
   "outputs": [
    {
     "name": "stdout",
     "output_type": "stream",
     "text": [
      "TRAIN:\n",
      "\tAverage Accuracy k-Fold 0.54\n",
      "\tStandard Deviation k-Fold 0.09\n",
      "\tPrecision Score 0: 0.954\n",
      "\tPrecision Score 1: 0.977\n",
      "\n",
      "-----------------------------------------------------------------------------\n",
      "\n",
      "TEST:\n",
      "\tAverage Accuracy k-Fold 0.66\n",
      "\tStandard Deviation k-Fold 0.19\n",
      "\tPrecision Score 0: 0.725\n",
      "\tPrecision Score 1: 0.618\n",
      "\n",
      "-----------------------------------------------------------------------------\n",
      "\n"
     ]
    }
   ],
   "source": [
    "# Comparison of results \n",
    "print(\"TRAIN:\", )\n",
    "print(\"\\tAverage Accuracy k-Fold\",round(train_results.mean(),2) )\n",
    "print(\"\\tStandard Deviation k-Fold\",round(train_results.std(),2) )\n",
    "print(\"\\tPrecision Score 0:\", round(precision_score(y_train, next_day_target_predictions, average=None)[0] , 3) )\n",
    "print(\"\\tPrecision Score 1:\", round(precision_score(y_train, next_day_target_predictions, average=None)[1] , 3) )\n",
    "print(\"\\n-----------------------------------------------------------------------------\\n\")\n",
    "print(\"TEST:\", )\n",
    "print(\"\\tAverage Accuracy k-Fold\",round(test_results.mean(),2) )\n",
    "print(\"\\tStandard Deviation k-Fold\",round(test_results.std(),2) )\n",
    "print(\"\\tPrecision Score 0:\", round(precision_score(y_test, test_next_day_target_predictions, average=None)[0] , 3) )\n",
    "print(\"\\tPrecision Score 1:\", round(precision_score(y_test, test_next_day_target_predictions, average=None)[1] , 3) )\n",
    "print(\"\\n-----------------------------------------------------------------------------\\n\")"
   ]
  },
  {
   "cell_type": "markdown",
   "metadata": {},
   "source": [
    "# Evalutation Metrics - Summary Report\n",
    "- looking at  `training` data prediction accuracy"
   ]
  },
  {
   "cell_type": "code",
   "execution_count": 27,
   "metadata": {},
   "outputs": [
    {
     "name": "stdout",
     "output_type": "stream",
     "text": [
      "              precision    recall  f1-score   support\n",
      "\n",
      "         0.0       0.95      0.99      0.97       146\n",
      "         1.0       0.98      0.92      0.95        92\n",
      "\n",
      "    accuracy                           0.96       238\n",
      "   macro avg       0.97      0.96      0.96       238\n",
      "weighted avg       0.96      0.96      0.96       238\n",
      "\n"
     ]
    }
   ],
   "source": [
    "print (classification_report(y_train, next_day_target_predictions))"
   ]
  },
  {
   "cell_type": "markdown",
   "metadata": {},
   "source": [
    "- looking at `testing` data prediction accuracy"
   ]
  },
  {
   "cell_type": "code",
   "execution_count": 28,
   "metadata": {},
   "outputs": [
    {
     "name": "stdout",
     "output_type": "stream",
     "text": [
      "              precision    recall  f1-score   support\n",
      "\n",
      "         0.0       0.72      0.79      0.76        63\n",
      "         1.0       0.62      0.53      0.57        40\n",
      "\n",
      "    accuracy                           0.69       103\n",
      "   macro avg       0.67      0.66      0.66       103\n",
      "weighted avg       0.68      0.69      0.68       103\n",
      "\n"
     ]
    }
   ],
   "source": [
    "print (classification_report(y_test, test_next_day_target_predictions))"
   ]
  },
  {
   "cell_type": "markdown",
   "metadata": {},
   "source": [
    "# Performance Evaluation - Confusion Matrix"
   ]
  },
  {
   "cell_type": "code",
   "execution_count": 29,
   "metadata": {},
   "outputs": [
    {
     "data": {
      "text/plain": [
       "<sklearn.metrics._plot.confusion_matrix.ConfusionMatrixDisplay at 0x1cbe97fe8e0>"
      ]
     },
     "execution_count": 29,
     "metadata": {},
     "output_type": "execute_result"
    },
    {
     "data": {
      "image/png": "[encoded data removed]",
      "text/plain": [
       "<Figure size 640x480 with 2 Axes>"
      ]
     },
     "metadata": {},
     "output_type": "display_data"
    }
   ],
   "source": [
    "# Training Confusion Matrix\n",
    "cm_train = confusion_matrix(y_train, next_day_target_predictions)\n",
    "ConfusionMatrixDisplay(cm_train).plot()"
   ]
  },
  {
   "cell_type": "code",
   "execution_count": 30,
   "metadata": {},
   "outputs": [
    {
     "data": {
      "text/plain": [
       "<sklearn.metrics._plot.confusion_matrix.ConfusionMatrixDisplay at 0x1cbf142c550>"
      ]
     },
     "execution_count": 30,
     "metadata": {},
     "output_type": "execute_result"
    },
    {
     "data": {
      "image/png": "[encoded data removed]",
      "text/plain": [
       "<Figure size 640x480 with 2 Axes>"
      ]
     },
     "metadata": {},
     "output_type": "display_data"
    }
   ],
   "source": [
    "# Testing Confusion Matrix\n",
    "cm_test = confusion_matrix(y_test, test_next_day_target_predictions)\n",
    "ConfusionMatrixDisplay(cm_test).plot()"
   ]
  },
  {
   "cell_type": "markdown",
   "metadata": {},
   "source": [
    "# Feature Importance\n",
    "- most influential features on decision making"
   ]
  },
  {
   "cell_type": "code",
   "execution_count": 31,
   "metadata": {},
   "outputs": [
    {
     "data": {
      "image/png": "[encoded data removed]",
      "text/plain": [
       "<Figure size 2200x500 with 1 Axes>"
      ]
     },
     "metadata": {},
     "output_type": "display_data"
    }
   ],
   "source": [
    "# Plot Feature Importance \n",
    "fig = plt.figure(figsize=(22,5))\n",
    "importance_labels = X.columns\n",
    "importance_features = classifier.feature_importances_\n",
    "plt.bar(importance_labels, importance_features)\n",
    "plt.show()"
   ]
  },
  {
   "cell_type": "markdown",
   "metadata": {},
   "source": [
    "### XG BOOST TREE"
   ]
  },
  {
   "cell_type": "code",
   "execution_count": 32,
   "metadata": {},
   "outputs": [],
   "source": [
    "# # Plot Decision Tree\n",
    "# import os\n",
    "# os.environ[\"PATH\"] += os.pathsep + 'D:/Program Files (x86)/Graphviz2.38/bin/'\n",
    "# rcParams[\"figure.figsize\"] = 80,50\n",
    "# plot_tree(classifier)"
   ]
  }
 ],
 "metadata": {
  "kernelspec": {
   "display_name": "ML-finance",
   "language": "python",
   "name": "python3"
  },
  "language_info": {
   "codemirror_mode": {
    "name": "ipython",
    "version": 3
   },
   "file_extension": ".py",
   "mimetype": "text/x-python",
   "name": "python",
   "nbconvert_exporter": "python",
   "pygments_lexer": "ipython3",
   "version": "3.9.17"
  },
  "orig_nbformat": 4
 },
 "nbformat": 4,
 "nbformat_minor": 2
}
