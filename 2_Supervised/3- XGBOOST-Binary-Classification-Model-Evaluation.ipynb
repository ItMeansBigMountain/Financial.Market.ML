{
 "cells": [
  {
   "cell_type": "markdown",
   "metadata": {},
   "source": [
    "# Feature Selecection"
   ]
  },
  {
   "cell_type": "code",
   "execution_count": 2,
   "metadata": {},
   "outputs": [],
   "source": [
    "import json\n",
    "\n",
    "\n",
    "# Remove Future Warnings\n",
    "import warnings\n",
    "warnings.simplefilter(action='ignore', category=FutureWarning)\n",
    "\n",
    "\n",
    "# General\n",
    "import numpy as np\n",
    "\n",
    "\n",
    "# Data Management\n",
    "import pandas as pd\n",
    "from sklearn.model_selection import train_test_split\n",
    "\n",
    "\n",
    "# Machine Learning\n",
    "from xgboost import XGBClassifier\n",
    "from sklearn.model_selection import RandomizedSearchCV, cross_val_score\n",
    "from sklearn.model_selection import RepeatedStratifiedKFold\n",
    "\n",
    "\n",
    "# BINARY CLASSIFICATION METRICS\n",
    "from sklearn.metrics import RocCurveDisplay\n",
    "\n",
    "\n",
    "# Evaluation\n",
    "from sklearn.metrics import accuracy_score\n",
    "from sklearn.metrics import classification_report\n",
    "from sklearn.metrics import precision_score\n",
    "from sklearn.metrics import confusion_matrix\n",
    "from sklearn.metrics import ConfusionMatrixDisplay\n",
    "\n",
    "\n",
    "# Reporting\n",
    "import matplotlib.pyplot as plt\n",
    "from matplotlib.pylab import rcParams\n",
    "from xgboost import plot_tree"
   ]
  },
  {
   "cell_type": "markdown",
   "metadata": {},
   "source": [
    "# Import Processed Data"
   ]
  },
  {
   "cell_type": "code",
   "execution_count": 3,
   "metadata": {},
   "outputs": [],
   "source": [
    "# FETCH DATA\n",
    "df = pd.read_csv(\"data/BTC-USD.csv\")\n",
    "df.set_index(\"Date\" , inplace=True)"
   ]
  },
  {
   "cell_type": "markdown",
   "metadata": {},
   "source": [
    "# Specify Prediction Target"
   ]
  },
  {
   "cell_type": "code",
   "execution_count": 4,
   "metadata": {},
   "outputs": [
    {
     "data": {
      "text/html": [
       "<div>\n",
       "<style scoped>\n",
       "    .dataframe tbody tr th:only-of-type {\n",
       "        vertical-align: middle;\n",
       "    }\n",
       "\n",
       "    .dataframe tbody tr th {\n",
       "        vertical-align: top;\n",
       "    }\n",
       "\n",
       "    .dataframe thead th {\n",
       "        text-align: right;\n",
       "    }\n",
       "</style>\n",
       "<table border=\"1\" class=\"dataframe\">\n",
       "  <thead>\n",
       "    <tr style=\"text-align: right;\">\n",
       "      <th></th>\n",
       "      <th>Open</th>\n",
       "      <th>High</th>\n",
       "      <th>Low</th>\n",
       "      <th>Close</th>\n",
       "      <th>Volume</th>\n",
       "      <th>Returns</th>\n",
       "      <th>Range</th>\n",
       "      <th>Bench_C_Rets</th>\n",
       "      <th>RSI</th>\n",
       "      <th>RSI_Return</th>\n",
       "      <th>...</th>\n",
       "      <th>DOW</th>\n",
       "      <th>Rolling_rets</th>\n",
       "      <th>AVG_Range</th>\n",
       "      <th>Returns_T1</th>\n",
       "      <th>Range_T1</th>\n",
       "      <th>Rolling_rets_T1</th>\n",
       "      <th>Returns_T2</th>\n",
       "      <th>Range_T2</th>\n",
       "      <th>Rolling_rets_T2</th>\n",
       "      <th>TARGET</th>\n",
       "    </tr>\n",
       "    <tr>\n",
       "      <th>Date</th>\n",
       "      <th></th>\n",
       "      <th></th>\n",
       "      <th></th>\n",
       "      <th></th>\n",
       "      <th></th>\n",
       "      <th></th>\n",
       "      <th></th>\n",
       "      <th></th>\n",
       "      <th></th>\n",
       "      <th></th>\n",
       "      <th></th>\n",
       "      <th></th>\n",
       "      <th></th>\n",
       "      <th></th>\n",
       "      <th></th>\n",
       "      <th></th>\n",
       "      <th></th>\n",
       "      <th></th>\n",
       "      <th></th>\n",
       "      <th></th>\n",
       "      <th></th>\n",
       "    </tr>\n",
       "  </thead>\n",
       "  <tbody>\n",
       "    <tr>\n",
       "      <th>2023-10-04</th>\n",
       "      <td>-0.002878</td>\n",
       "      <td>0.005764</td>\n",
       "      <td>0.001180</td>\n",
       "      <td>27799.394531</td>\n",
       "      <td>-0.023182</td>\n",
       "      <td>0.013468</td>\n",
       "      <td>0.021233</td>\n",
       "      <td>3.217869</td>\n",
       "      <td>62.254248</td>\n",
       "      <td>1.064449</td>\n",
       "      <td>...</td>\n",
       "      <td>2</td>\n",
       "      <td>0.077047</td>\n",
       "      <td>0.022348</td>\n",
       "      <td>-0.003662</td>\n",
       "      <td>0.016578</td>\n",
       "      <td>0.057528</td>\n",
       "      <td>-0.016187</td>\n",
       "      <td>0.041929</td>\n",
       "      <td>0.065085</td>\n",
       "      <td>1.0</td>\n",
       "    </tr>\n",
       "    <tr>\n",
       "      <th>2023-10-05</th>\n",
       "      <td>0.013474</td>\n",
       "      <td>0.009531</td>\n",
       "      <td>0.004679</td>\n",
       "      <td>27415.912109</td>\n",
       "      <td>0.065860</td>\n",
       "      <td>-0.013795</td>\n",
       "      <td>0.026164</td>\n",
       "      <td>3.159110</td>\n",
       "      <td>56.517654</td>\n",
       "      <td>0.907852</td>\n",
       "      <td>...</td>\n",
       "      <td>3</td>\n",
       "      <td>0.064509</td>\n",
       "      <td>0.022871</td>\n",
       "      <td>0.013468</td>\n",
       "      <td>0.021233</td>\n",
       "      <td>0.077047</td>\n",
       "      <td>-0.003662</td>\n",
       "      <td>0.016578</td>\n",
       "      <td>0.057528</td>\n",
       "      <td>1.0</td>\n",
       "    </tr>\n",
       "    <tr>\n",
       "      <th>2023-10-06</th>\n",
       "      <td>-0.013904</td>\n",
       "      <td>0.005720</td>\n",
       "      <td>-0.005846</td>\n",
       "      <td>27946.597656</td>\n",
       "      <td>0.135986</td>\n",
       "      <td>0.019357</td>\n",
       "      <td>0.038103</td>\n",
       "      <td>3.239645</td>\n",
       "      <td>61.768008</td>\n",
       "      <td>1.092898</td>\n",
       "      <td>...</td>\n",
       "      <td>4</td>\n",
       "      <td>0.084904</td>\n",
       "      <td>0.023421</td>\n",
       "      <td>-0.013795</td>\n",
       "      <td>0.026164</td>\n",
       "      <td>0.064509</td>\n",
       "      <td>0.013468</td>\n",
       "      <td>0.021233</td>\n",
       "      <td>0.077047</td>\n",
       "      <td>0.0</td>\n",
       "    </tr>\n",
       "    <tr>\n",
       "      <th>2023-10-07</th>\n",
       "      <td>0.019504</td>\n",
       "      <td>-0.007944</td>\n",
       "      <td>0.024062</td>\n",
       "      <td>27968.839844</td>\n",
       "      <td>-0.514316</td>\n",
       "      <td>0.000796</td>\n",
       "      <td>0.005657</td>\n",
       "      <td>3.243450</td>\n",
       "      <td>61.975244</td>\n",
       "      <td>1.003355</td>\n",
       "      <td>...</td>\n",
       "      <td>5</td>\n",
       "      <td>0.066791</td>\n",
       "      <td>0.022567</td>\n",
       "      <td>0.019357</td>\n",
       "      <td>0.038103</td>\n",
       "      <td>0.084904</td>\n",
       "      <td>-0.013795</td>\n",
       "      <td>0.026164</td>\n",
       "      <td>0.064509</td>\n",
       "      <td>0.0</td>\n",
       "    </tr>\n",
       "    <tr>\n",
       "      <th>2023-10-08</th>\n",
       "      <td>0.000891</td>\n",
       "      <td>0.002643</td>\n",
       "      <td>-0.004656</td>\n",
       "      <td>27935.089844</td>\n",
       "      <td>0.208122</td>\n",
       "      <td>-0.001207</td>\n",
       "      <td>0.013032</td>\n",
       "      <td>3.238235</td>\n",
       "      <td>61.431106</td>\n",
       "      <td>0.991220</td>\n",
       "      <td>...</td>\n",
       "      <td>6</td>\n",
       "      <td>0.078333</td>\n",
       "      <td>0.022045</td>\n",
       "      <td>0.000796</td>\n",
       "      <td>0.005657</td>\n",
       "      <td>0.066791</td>\n",
       "      <td>0.019357</td>\n",
       "      <td>0.038103</td>\n",
       "      <td>0.084904</td>\n",
       "      <td>0.0</td>\n",
       "    </tr>\n",
       "  </tbody>\n",
       "</table>\n",
       "<p>5 rows × 22 columns</p>\n",
       "</div>"
      ],
      "text/plain": [
       "                Open      High       Low         Close    Volume   Returns  \\\n",
       "Date                                                                         \n",
       "2023-10-04 -0.002878  0.005764  0.001180  27799.394531 -0.023182  0.013468   \n",
       "2023-10-05  0.013474  0.009531  0.004679  27415.912109  0.065860 -0.013795   \n",
       "2023-10-06 -0.013904  0.005720 -0.005846  27946.597656  0.135986  0.019357   \n",
       "2023-10-07  0.019504 -0.007944  0.024062  27968.839844 -0.514316  0.000796   \n",
       "2023-10-08  0.000891  0.002643 -0.004656  27935.089844  0.208122 -0.001207   \n",
       "\n",
       "               Range  Bench_C_Rets        RSI  RSI_Return  ...  DOW  \\\n",
       "Date                                                       ...        \n",
       "2023-10-04  0.021233      3.217869  62.254248    1.064449  ...    2   \n",
       "2023-10-05  0.026164      3.159110  56.517654    0.907852  ...    3   \n",
       "2023-10-06  0.038103      3.239645  61.768008    1.092898  ...    4   \n",
       "2023-10-07  0.005657      3.243450  61.975244    1.003355  ...    5   \n",
       "2023-10-08  0.013032      3.238235  61.431106    0.991220  ...    6   \n",
       "\n",
       "            Rolling_rets  AVG_Range  Returns_T1  Range_T1  Rolling_rets_T1  \\\n",
       "Date                                                                         \n",
       "2023-10-04      0.077047   0.022348   -0.003662  0.016578         0.057528   \n",
       "2023-10-05      0.064509   0.022871    0.013468  0.021233         0.077047   \n",
       "2023-10-06      0.084904   0.023421   -0.013795  0.026164         0.064509   \n",
       "2023-10-07      0.066791   0.022567    0.019357  0.038103         0.084904   \n",
       "2023-10-08      0.078333   0.022045    0.000796  0.005657         0.066791   \n",
       "\n",
       "            Returns_T2  Range_T2  Rolling_rets_T2  TARGET  \n",
       "Date                                                       \n",
       "2023-10-04   -0.016187  0.041929         0.065085     1.0  \n",
       "2023-10-05   -0.003662  0.016578         0.057528     1.0  \n",
       "2023-10-06    0.013468  0.021233         0.077047     0.0  \n",
       "2023-10-07   -0.013795  0.026164         0.064509     0.0  \n",
       "2023-10-08    0.019357  0.038103         0.084904     0.0  \n",
       "\n",
       "[5 rows x 22 columns]"
      ]
     },
     "execution_count": 4,
     "metadata": {},
     "output_type": "execute_result"
    }
   ],
   "source": [
    "# Specify Target     (if yesterdays range was greater than the average range)\n",
    "df.loc[df[\"Range\"].shift(-1) > df[\"AVG_Range\"] , \"TARGET\"] = 1\n",
    "df.loc[df[\"Range\"].shift(-1) <= df[\"AVG_Range\"] , \"TARGET\"] = 0\n",
    "\n",
    "# Check for NAN\n",
    "nan_location = np.where(np.isnan(df))\n",
    "\n",
    "# Fill NaNs\n",
    "df[\"TARGET\"].fillna(0,inplace=True)\n",
    "df.tail()"
   ]
  },
  {
   "cell_type": "markdown",
   "metadata": {},
   "source": [
    "# TRAIN TEST SPLIT"
   ]
  },
  {
   "cell_type": "code",
   "execution_count": 5,
   "metadata": {},
   "outputs": [
    {
     "data": {
      "text/plain": [
       "['Returns', 'Range', 'RSI', 'RSI_Return', 'DOW', 'AVG_Range', 'TARGET']"
      ]
     },
     "execution_count": 5,
     "metadata": {},
     "output_type": "execute_result"
    }
   ],
   "source": [
    "# FETCH RECOMMENDED FEATURES FROM FEATURE SELECTION\n",
    "with open('./data/feature_selection_output.json', 'r') as f:\n",
    "    recommended_labels = json.load(f)\n",
    "recommended_labels.append(\"TARGET\")\n",
    "recommended_labels"
   ]
  },
  {
   "cell_type": "code",
   "execution_count": 6,
   "metadata": {},
   "outputs": [],
   "source": [
    "# REMOVE UNWANTED COLUMNS (dont put information about the future in your data other than the target)\n",
    "df_tts = df.copy()\n",
    "df_tts = df_tts[recommended_labels]"
   ]
  },
  {
   "cell_type": "code",
   "execution_count": 7,
   "metadata": {},
   "outputs": [
    {
     "data": {
      "text/html": [
       "<div>\n",
       "<style scoped>\n",
       "    .dataframe tbody tr th:only-of-type {\n",
       "        vertical-align: middle;\n",
       "    }\n",
       "\n",
       "    .dataframe tbody tr th {\n",
       "        vertical-align: top;\n",
       "    }\n",
       "\n",
       "    .dataframe thead th {\n",
       "        text-align: right;\n",
       "    }\n",
       "</style>\n",
       "<table border=\"1\" class=\"dataframe\">\n",
       "  <thead>\n",
       "    <tr style=\"text-align: right;\">\n",
       "      <th></th>\n",
       "      <th>Returns</th>\n",
       "      <th>Range</th>\n",
       "      <th>RSI</th>\n",
       "      <th>RSI_Return</th>\n",
       "      <th>DOW</th>\n",
       "      <th>AVG_Range</th>\n",
       "      <th>TARGET</th>\n",
       "    </tr>\n",
       "    <tr>\n",
       "      <th>Date</th>\n",
       "      <th></th>\n",
       "      <th></th>\n",
       "      <th></th>\n",
       "      <th></th>\n",
       "      <th></th>\n",
       "      <th></th>\n",
       "      <th></th>\n",
       "    </tr>\n",
       "  </thead>\n",
       "  <tbody>\n",
       "    <tr>\n",
       "      <th>2020-02-02</th>\n",
       "      <td>-0.005165</td>\n",
       "      <td>0.027227</td>\n",
       "      <td>68.352715</td>\n",
       "      <td>0.975766</td>\n",
       "      <td>6</td>\n",
       "      <td>0.033705</td>\n",
       "      <td>0.0</td>\n",
       "    </tr>\n",
       "    <tr>\n",
       "      <th>2020-02-03</th>\n",
       "      <td>-0.005441</td>\n",
       "      <td>0.031544</td>\n",
       "      <td>66.532818</td>\n",
       "      <td>0.973375</td>\n",
       "      <td>0</td>\n",
       "      <td>0.034219</td>\n",
       "      <td>0.0</td>\n",
       "    </tr>\n",
       "    <tr>\n",
       "      <th>2020-02-04</th>\n",
       "      <td>-0.012112</td>\n",
       "      <td>0.023972</td>\n",
       "      <td>62.561591</td>\n",
       "      <td>0.940312</td>\n",
       "      <td>1</td>\n",
       "      <td>0.034370</td>\n",
       "      <td>1.0</td>\n",
       "    </tr>\n",
       "    <tr>\n",
       "      <th>2020-02-05</th>\n",
       "      <td>0.047104</td>\n",
       "      <td>0.058666</td>\n",
       "      <td>69.976461</td>\n",
       "      <td>1.118521</td>\n",
       "      <td>2</td>\n",
       "      <td>0.034649</td>\n",
       "      <td>0.0</td>\n",
       "    </tr>\n",
       "    <tr>\n",
       "      <th>2020-02-06</th>\n",
       "      <td>0.012106</td>\n",
       "      <td>0.029854</td>\n",
       "      <td>71.606200</td>\n",
       "      <td>1.023290</td>\n",
       "      <td>3</td>\n",
       "      <td>0.033885</td>\n",
       "      <td>0.0</td>\n",
       "    </tr>\n",
       "    <tr>\n",
       "      <th>...</th>\n",
       "      <td>...</td>\n",
       "      <td>...</td>\n",
       "      <td>...</td>\n",
       "      <td>...</td>\n",
       "      <td>...</td>\n",
       "      <td>...</td>\n",
       "      <td>...</td>\n",
       "    </tr>\n",
       "    <tr>\n",
       "      <th>2023-10-04</th>\n",
       "      <td>0.013468</td>\n",
       "      <td>0.021233</td>\n",
       "      <td>62.254248</td>\n",
       "      <td>1.064449</td>\n",
       "      <td>2</td>\n",
       "      <td>0.022348</td>\n",
       "      <td>1.0</td>\n",
       "    </tr>\n",
       "    <tr>\n",
       "      <th>2023-10-05</th>\n",
       "      <td>-0.013795</td>\n",
       "      <td>0.026164</td>\n",
       "      <td>56.517654</td>\n",
       "      <td>0.907852</td>\n",
       "      <td>3</td>\n",
       "      <td>0.022871</td>\n",
       "      <td>1.0</td>\n",
       "    </tr>\n",
       "    <tr>\n",
       "      <th>2023-10-06</th>\n",
       "      <td>0.019357</td>\n",
       "      <td>0.038103</td>\n",
       "      <td>61.768008</td>\n",
       "      <td>1.092898</td>\n",
       "      <td>4</td>\n",
       "      <td>0.023421</td>\n",
       "      <td>0.0</td>\n",
       "    </tr>\n",
       "    <tr>\n",
       "      <th>2023-10-07</th>\n",
       "      <td>0.000796</td>\n",
       "      <td>0.005657</td>\n",
       "      <td>61.975244</td>\n",
       "      <td>1.003355</td>\n",
       "      <td>5</td>\n",
       "      <td>0.022567</td>\n",
       "      <td>0.0</td>\n",
       "    </tr>\n",
       "    <tr>\n",
       "      <th>2023-10-08</th>\n",
       "      <td>-0.001207</td>\n",
       "      <td>0.013032</td>\n",
       "      <td>61.431106</td>\n",
       "      <td>0.991220</td>\n",
       "      <td>6</td>\n",
       "      <td>0.022045</td>\n",
       "      <td>0.0</td>\n",
       "    </tr>\n",
       "  </tbody>\n",
       "</table>\n",
       "<p>1345 rows × 7 columns</p>\n",
       "</div>"
      ],
      "text/plain": [
       "             Returns     Range        RSI  RSI_Return  DOW  AVG_Range  TARGET\n",
       "Date                                                                         \n",
       "2020-02-02 -0.005165  0.027227  68.352715    0.975766    6   0.033705     0.0\n",
       "2020-02-03 -0.005441  0.031544  66.532818    0.973375    0   0.034219     0.0\n",
       "2020-02-04 -0.012112  0.023972  62.561591    0.940312    1   0.034370     1.0\n",
       "2020-02-05  0.047104  0.058666  69.976461    1.118521    2   0.034649     0.0\n",
       "2020-02-06  0.012106  0.029854  71.606200    1.023290    3   0.033885     0.0\n",
       "...              ...       ...        ...         ...  ...        ...     ...\n",
       "2023-10-04  0.013468  0.021233  62.254248    1.064449    2   0.022348     1.0\n",
       "2023-10-05 -0.013795  0.026164  56.517654    0.907852    3   0.022871     1.0\n",
       "2023-10-06  0.019357  0.038103  61.768008    1.092898    4   0.023421     0.0\n",
       "2023-10-07  0.000796  0.005657  61.975244    1.003355    5   0.022567     0.0\n",
       "2023-10-08 -0.001207  0.013032  61.431106    0.991220    6   0.022045     0.0\n",
       "\n",
       "[1345 rows x 7 columns]"
      ]
     },
     "execution_count": 7,
     "metadata": {},
     "output_type": "execute_result"
    }
   ],
   "source": [
    "# EVERYTHING EXCEPT TARGET (x)\n",
    "X = df_tts.iloc[: , : -1]\n",
    "\n",
    "# TARGET (y)\n",
    "y = df_tts.iloc[: , -1]\n",
    "df_tts "
   ]
  },
  {
   "cell_type": "code",
   "execution_count": 8,
   "metadata": {},
   "outputs": [],
   "source": [
    "# TRAIN TEST SPLIT (time series)\n",
    "\n",
    "\n",
    "# 70% OF THE HISTORICAL DATA GOES TO TRAINING THE MODEL\n",
    "train_amount_percent = 0.7\n",
    "train_size = int(len(X) * train_amount_percent)\n",
    "X_train = X.head(train_size)\n",
    "y_train = y.head(train_size)\n",
    "\n",
    "\n",
    "# THE REST GOES TO TESTING THE MODEL FOR ACCURACY\n",
    "test_size = len(X) - train_size\n",
    "X_test = X.tail(test_size)\n",
    "y_test = y.tail(test_size)"
   ]
  },
  {
   "cell_type": "code",
   "execution_count": 9,
   "metadata": {},
   "outputs": [
    {
     "name": "stdout",
     "output_type": "stream",
     "text": [
      "Shape of X_train: (941, 6)\n",
      "Shape of y_train: (941,)\n",
      "\n",
      "Shape of X_test: (404, 6)\n",
      "Shape of y_test: (404,)\n",
      "\n",
      "Testing data size check: True\n"
     ]
    }
   ],
   "source": [
    "size_check = len(y_test) + len(y_train) == len(X)\n",
    "print(f\"Shape of X_train: {X_train.shape}\")\n",
    "print(f\"Shape of y_train: {y_train.shape}\")\n",
    "print()\n",
    "print(f\"Shape of X_test: {X_test.shape}\")\n",
    "print(f\"Shape of y_test: {y_test.shape}\")\n",
    "print()\n",
    "print(f\"Testing data size check: {size_check}\")"
   ]
  },
  {
   "cell_type": "markdown",
   "metadata": {},
   "source": [
    "# BUILD MODEL"
   ]
  },
  {
   "cell_type": "code",
   "execution_count": 10,
   "metadata": {},
   "outputs": [],
   "source": [
    "# Select type of model to optimize for\n",
    "is_binary = True\n",
    "is_optimize_for_precision = True\n"
   ]
  },
  {
   "cell_type": "code",
   "execution_count": 11,
   "metadata": {},
   "outputs": [],
   "source": [
    "# Determine Objective and Eval Metrics\n",
    "if is_binary:\n",
    "    objective = \"binary:logistic\"\n",
    "    eval_metric = \"logloss\"\n",
    "    eval_metric_list = [\"error\",\"logloss\",eval_metric]\n",
    "else:\n",
    "    objective = \"multi:softmax\"\n",
    "    eval_metric = \"mlogloss\"\n",
    "    eval_metric_list = [\"merror\",\"mlogloss\",eval_metric]"
   ]
  },
  {
   "cell_type": "code",
   "execution_count": 12,
   "metadata": {},
   "outputs": [],
   "source": [
    "# Refine Eval Metric\n",
    "if is_binary and is_optimize_for_precision:\n",
    "    eval_metric = \"aucpr\"\n",
    "    scoring = \"precision\"\n",
    "elif is_binary and not is_optimize_for_precision:\n",
    "    eval_metric = \"auc\"\n",
    "    scoring = \"f1\"\n",
    "else:\n",
    "    scoring = \"accuracy\""
   ]
  },
  {
   "cell_type": "code",
   "execution_count": 13,
   "metadata": {},
   "outputs": [],
   "source": [
    "# hyperparameters generated in feature selection\n",
    "\n",
    "\n",
    "with open('./data/hyperparametertuning.json', 'r') as f:\n",
    "    data = json.load(f)\n",
    "    ne = data['ne']\n",
    "    lr = data['lr']\n",
    "    md = data['md']\n",
    "    gm = data['gm']\n",
    "\n"
   ]
  },
  {
   "cell_type": "code",
   "execution_count": 14,
   "metadata": {},
   "outputs": [
    {
     "name": "stderr",
     "output_type": "stream",
     "text": [
      "d:\\Programs\\Anaconda\\envs\\ML-finance\\lib\\site-packages\\xgboost\\sklearn.py:1395: UserWarning: `use_label_encoder` is deprecated in 1.7.0.\n",
      "  warnings.warn(\"`use_label_encoder` is deprecated in 1.7.0.\")\n"
     ]
    }
   ],
   "source": [
    "# Build First Classifier Model\n",
    "classifier = XGBClassifier(\n",
    "    objective=objective,\n",
    "    booster=\"gbtree\",\n",
    "    # eval_metric=eval_metric,\n",
    "    subsample = 0.8,\n",
    "    colsample_bytree=1,\n",
    "    random_state=1,\n",
    "    use_label_encoder=False,\n",
    "\n",
    "    n_estimators=ne,\n",
    "    learning_rate=lr,\n",
    "    max_depth=md,\n",
    "    gamma=gm,\n",
    ")"
   ]
  },
  {
   "cell_type": "code",
   "execution_count": 15,
   "metadata": {},
   "outputs": [
    {
     "name": "stderr",
     "output_type": "stream",
     "text": [
      "d:\\Programs\\Anaconda\\envs\\ML-finance\\lib\\site-packages\\xgboost\\sklearn.py:835: UserWarning: `eval_metric` in `fit` method is deprecated for better compatibility with scikit-learn, use `eval_metric` in constructor or`set_params` instead.\n",
      "  warnings.warn(\n"
     ]
    },
    {
     "data": {
      "text/html": [
       "<style>#sk-container-id-1 {color: black;}#sk-container-id-1 pre{padding: 0;}#sk-container-id-1 div.sk-toggleable {background-color: white;}#sk-container-id-1 label.sk-toggleable__label {cursor: pointer;display: block;width: 100%;margin-bottom: 0;padding: 0.3em;box-sizing: border-box;text-align: center;}#sk-container-id-1 label.sk-toggleable__label-arrow:before {content: \"▸\";float: left;margin-right: 0.25em;color: #696969;}#sk-container-id-1 label.sk-toggleable__label-arrow:hover:before {color: black;}#sk-container-id-1 div.sk-estimator:hover label.sk-toggleable__label-arrow:before {color: black;}#sk-container-id-1 div.sk-toggleable__content {max-height: 0;max-width: 0;overflow: hidden;text-align: left;background-color: #f0f8ff;}#sk-container-id-1 div.sk-toggleable__content pre {margin: 0.2em;color: black;border-radius: 0.25em;background-color: #f0f8ff;}#sk-container-id-1 input.sk-toggleable__control:checked~div.sk-toggleable__content {max-height: 200px;max-width: 100%;overflow: auto;}#sk-container-id-1 input.sk-toggleable__control:checked~label.sk-toggleable__label-arrow:before {content: \"▾\";}#sk-container-id-1 div.sk-estimator input.sk-toggleable__control:checked~label.sk-toggleable__label {background-color: #d4ebff;}#sk-container-id-1 div.sk-label input.sk-toggleable__control:checked~label.sk-toggleable__label {background-color: #d4ebff;}#sk-container-id-1 input.sk-hidden--visually {border: 0;clip: rect(1px 1px 1px 1px);clip: rect(1px, 1px, 1px, 1px);height: 1px;margin: -1px;overflow: hidden;padding: 0;position: absolute;width: 1px;}#sk-container-id-1 div.sk-estimator {font-family: monospace;background-color: #f0f8ff;border: 1px dotted black;border-radius: 0.25em;box-sizing: border-box;margin-bottom: 0.5em;}#sk-container-id-1 div.sk-estimator:hover {background-color: #d4ebff;}#sk-container-id-1 div.sk-parallel-item::after {content: \"\";width: 100%;border-bottom: 1px solid gray;flex-grow: 1;}#sk-container-id-1 div.sk-label:hover label.sk-toggleable__label {background-color: #d4ebff;}#sk-container-id-1 div.sk-serial::before {content: \"\";position: absolute;border-left: 1px solid gray;box-sizing: border-box;top: 0;bottom: 0;left: 50%;z-index: 0;}#sk-container-id-1 div.sk-serial {display: flex;flex-direction: column;align-items: center;background-color: white;padding-right: 0.2em;padding-left: 0.2em;position: relative;}#sk-container-id-1 div.sk-item {position: relative;z-index: 1;}#sk-container-id-1 div.sk-parallel {display: flex;align-items: stretch;justify-content: center;background-color: white;position: relative;}#sk-container-id-1 div.sk-item::before, #sk-container-id-1 div.sk-parallel-item::before {content: \"\";position: absolute;border-left: 1px solid gray;box-sizing: border-box;top: 0;bottom: 0;left: 50%;z-index: -1;}#sk-container-id-1 div.sk-parallel-item {display: flex;flex-direction: column;z-index: 1;position: relative;background-color: white;}#sk-container-id-1 div.sk-parallel-item:first-child::after {align-self: flex-end;width: 50%;}#sk-container-id-1 div.sk-parallel-item:last-child::after {align-self: flex-start;width: 50%;}#sk-container-id-1 div.sk-parallel-item:only-child::after {width: 0;}#sk-container-id-1 div.sk-dashed-wrapped {border: 1px dashed gray;margin: 0 0.4em 0.5em 0.4em;box-sizing: border-box;padding-bottom: 0.4em;background-color: white;}#sk-container-id-1 div.sk-label label {font-family: monospace;font-weight: bold;display: inline-block;line-height: 1.2em;}#sk-container-id-1 div.sk-label-container {text-align: center;}#sk-container-id-1 div.sk-container {/* jupyter's `normalize.less` sets `[hidden] { display: none; }` but bootstrap.min.css set `[hidden] { display: none !important; }` so we also need the `!important` here to be able to override the default hidden behavior on the sphinx rendered scikit-learn.org. See: https://github.com/scikit-learn/scikit-learn/issues/21755 */display: inline-block !important;position: relative;}#sk-container-id-1 div.sk-text-repr-fallback {display: none;}</style><div id=\"sk-container-id-1\" class=\"sk-top-container\"><div class=\"sk-text-repr-fallback\"><pre>XGBClassifier(base_score=None, booster=&#x27;gbtree&#x27;, callbacks=None,\n",
       "              colsample_bylevel=None, colsample_bynode=None, colsample_bytree=1,\n",
       "              early_stopping_rounds=None, enable_categorical=False,\n",
       "              eval_metric=None, feature_types=None, gamma=2, gpu_id=None,\n",
       "              grow_policy=None, importance_type=None,\n",
       "              interaction_constraints=None, learning_rate=0.01, max_bin=None,\n",
       "              max_cat_threshold=None, max_cat_to_onehot=None,\n",
       "              max_delta_step=None, max_depth=5, max_leaves=None,\n",
       "              min_child_weight=None, missing=nan, monotone_constraints=None,\n",
       "              n_estimators=200, n_jobs=None, num_parallel_tree=None,\n",
       "              predictor=None, random_state=1, ...)</pre><b>In a Jupyter environment, please rerun this cell to show the HTML representation or trust the notebook. <br />On GitHub, the HTML representation is unable to render, please try loading this page with nbviewer.org.</b></div><div class=\"sk-container\" hidden><div class=\"sk-item\"><div class=\"sk-estimator sk-toggleable\"><input class=\"sk-toggleable__control sk-hidden--visually\" id=\"sk-estimator-id-1\" type=\"checkbox\" checked><label for=\"sk-estimator-id-1\" class=\"sk-toggleable__label sk-toggleable__label-arrow\">XGBClassifier</label><div class=\"sk-toggleable__content\"><pre>XGBClassifier(base_score=None, booster=&#x27;gbtree&#x27;, callbacks=None,\n",
       "              colsample_bylevel=None, colsample_bynode=None, colsample_bytree=1,\n",
       "              early_stopping_rounds=None, enable_categorical=False,\n",
       "              eval_metric=None, feature_types=None, gamma=2, gpu_id=None,\n",
       "              grow_policy=None, importance_type=None,\n",
       "              interaction_constraints=None, learning_rate=0.01, max_bin=None,\n",
       "              max_cat_threshold=None, max_cat_to_onehot=None,\n",
       "              max_delta_step=None, max_depth=5, max_leaves=None,\n",
       "              min_child_weight=None, missing=nan, monotone_constraints=None,\n",
       "              n_estimators=200, n_jobs=None, num_parallel_tree=None,\n",
       "              predictor=None, random_state=1, ...)</pre></div></div></div></div></div>"
      ],
      "text/plain": [
       "XGBClassifier(base_score=None, booster='gbtree', callbacks=None,\n",
       "              colsample_bylevel=None, colsample_bynode=None, colsample_bytree=1,\n",
       "              early_stopping_rounds=None, enable_categorical=False,\n",
       "              eval_metric=None, feature_types=None, gamma=2, gpu_id=None,\n",
       "              grow_policy=None, importance_type=None,\n",
       "              interaction_constraints=None, learning_rate=0.01, max_bin=None,\n",
       "              max_cat_threshold=None, max_cat_to_onehot=None,\n",
       "              max_delta_step=None, max_depth=5, max_leaves=None,\n",
       "              min_child_weight=None, missing=nan, monotone_constraints=None,\n",
       "              n_estimators=200, n_jobs=None, num_parallel_tree=None,\n",
       "              predictor=None, random_state=1, ...)"
      ]
     },
     "execution_count": 15,
     "metadata": {},
     "output_type": "execute_result"
    }
   ],
   "source": [
    "# Fit the model\n",
    "eval_set = [(X_train,y_train) , (X_test,y_test)]\n",
    "\n",
    "classifier.fit(\n",
    "    X_train,\n",
    "    y_train,\n",
    "    eval_metric=eval_metric_list,\n",
    "    eval_set=eval_set,\n",
    "    verbose=False\n",
    ")\n"
   ]
  },
  {
   "cell_type": "markdown",
   "metadata": {},
   "source": [
    "# MAKE PREDICTIONS\n",
    "- binary if the next day will be up (1) or down (0) the next day "
   ]
  },
  {
   "cell_type": "code",
   "execution_count": 16,
   "metadata": {},
   "outputs": [
    {
     "name": "stdout",
     "output_type": "stream",
     "text": [
      "Predcition \t|\t Binary Confidence (zero or one)\n",
      "___________________________________________________\n",
      "\n",
      "1 \t\t|\t [0.39909166 0.60090834]\n",
      "0 \t\t|\t [0.51642835 0.48357162]\n",
      "0 \t\t|\t [0.5279808 0.4720192]\n",
      "0 \t\t|\t [0.56746304 0.43253696]\n",
      "0 \t\t|\t [0.5103311 0.4896689]\n",
      "0 \t\t|\t [0.64726585 0.35273415]\n",
      "0 \t\t|\t [0.64503396 0.354966  ]\n",
      "1 \t\t|\t [0.27291536 0.72708464]\n",
      "1 \t\t|\t [0.31392497 0.68607503]\n",
      "0 \t\t|\t [0.5034349  0.49656513]\n"
     ]
    }
   ],
   "source": [
    "# training data\n",
    "next_day_target_predictions = classifier.predict(X_train)\n",
    "train_yhat_probability = classifier.predict_proba(X_train)\n",
    "\n",
    "\n",
    "# OUTPUT\n",
    "prediction_probabilities = zip(next_day_target_predictions , train_yhat_probability)\n",
    "print(\"Predcition \\t|\\t Binary Confidence (zero or one)\")\n",
    "print(\"___________________________________________________\\n\")\n",
    "for prediction , probability_confidence in list(prediction_probabilities)[:10]:\n",
    "    print(prediction, \"\\t\\t|\\t\",  probability_confidence)"
   ]
  },
  {
   "cell_type": "markdown",
   "metadata": {},
   "source": [
    "# TEST MODEL ACCURACY"
   ]
  },
  {
   "cell_type": "code",
   "execution_count": 17,
   "metadata": {},
   "outputs": [
    {
     "name": "stdout",
     "output_type": "stream",
     "text": [
      "Predcition \t|\t Binary Confidence (zero or one)\n",
      "___________________________________________________\n",
      "\n",
      "0 \t\t|\t [0.5097092  0.49029082]\n",
      "0 \t\t|\t [0.56083035 0.43916962]\n",
      "0 \t\t|\t [0.7105509 0.2894491]\n",
      "0 \t\t|\t [0.7355319  0.26446804]\n",
      "1 \t\t|\t [0.46239537 0.53760463]\n",
      "0 \t\t|\t [0.6150646 0.3849354]\n",
      "1 \t\t|\t [0.39460874 0.60539126]\n",
      "1 \t\t|\t [0.4803142 0.5196858]\n",
      "0 \t\t|\t [0.5715755  0.42842445]\n",
      "0 \t\t|\t [0.75144935 0.24855064]\n"
     ]
    }
   ],
   "source": [
    "# TEST Y HAT\n",
    "test_next_day_target_predictions = classifier.predict(X_test)\n",
    "test_yhat_probability = classifier.predict_proba(X_test)\n",
    "\n",
    "\n",
    "# OUTPUT\n",
    "prediction_probabilities = zip(test_next_day_target_predictions , test_yhat_probability)\n",
    "print(\"Predcition \\t|\\t Binary Confidence (zero or one)\")\n",
    "print(\"___________________________________________________\\n\")\n",
    "for prediction , probability_confidence in list(prediction_probabilities)[:10]:\n",
    "    print(prediction, \"\\t\\t|\\t\",  probability_confidence)"
   ]
  },
  {
   "cell_type": "markdown",
   "metadata": {},
   "source": [
    "# K FOLD CROSS VALIDATION"
   ]
  },
  {
   "cell_type": "code",
   "execution_count": 18,
   "metadata": {},
   "outputs": [],
   "source": [
    "# KFOLD CROSS VALIDATION\n",
    "cv = RepeatedStratifiedKFold(n_splits=5 , n_repeats=1, random_state=1)"
   ]
  },
  {
   "cell_type": "code",
   "execution_count": 19,
   "metadata": {},
   "outputs": [
    {
     "name": "stderr",
     "output_type": "stream",
     "text": [
      "d:\\Programs\\Anaconda\\envs\\ML-finance\\lib\\site-packages\\xgboost\\sklearn.py:1395: UserWarning: `use_label_encoder` is deprecated in 1.7.0.\n",
      "  warnings.warn(\"`use_label_encoder` is deprecated in 1.7.0.\")\n",
      "d:\\Programs\\Anaconda\\envs\\ML-finance\\lib\\site-packages\\xgboost\\sklearn.py:1395: UserWarning: `use_label_encoder` is deprecated in 1.7.0.\n",
      "  warnings.warn(\"`use_label_encoder` is deprecated in 1.7.0.\")\n",
      "d:\\Programs\\Anaconda\\envs\\ML-finance\\lib\\site-packages\\xgboost\\sklearn.py:1395: UserWarning: `use_label_encoder` is deprecated in 1.7.0.\n",
      "  warnings.warn(\"`use_label_encoder` is deprecated in 1.7.0.\")\n",
      "d:\\Programs\\Anaconda\\envs\\ML-finance\\lib\\site-packages\\xgboost\\sklearn.py:1395: UserWarning: `use_label_encoder` is deprecated in 1.7.0.\n",
      "  warnings.warn(\"`use_label_encoder` is deprecated in 1.7.0.\")\n",
      "d:\\Programs\\Anaconda\\envs\\ML-finance\\lib\\site-packages\\xgboost\\sklearn.py:1395: UserWarning: `use_label_encoder` is deprecated in 1.7.0.\n",
      "  warnings.warn(\"`use_label_encoder` is deprecated in 1.7.0.\")\n"
     ]
    }
   ],
   "source": [
    "# Training results \n",
    "train_results = cross_val_score(classifier, X_train, y_train , cv=cv , n_jobs=1 )"
   ]
  },
  {
   "cell_type": "markdown",
   "metadata": {},
   "source": [
    "# EVALUTION METRICS - Loss & Overfitting"
   ]
  },
  {
   "cell_type": "code",
   "execution_count": 20,
   "metadata": {},
   "outputs": [],
   "source": [
    "# Retrieve performance metrics\n",
    "results = classifier.evals_result()\n",
    "epochs = len(results[\"validation_0\"][\"error\"])\n",
    "x_axis = range(0,epochs)"
   ]
  },
  {
   "cell_type": "code",
   "execution_count": 21,
   "metadata": {},
   "outputs": [
    {
     "data": {
      "text/plain": [
       "Text(0.5, 1.0, 'XGB LogLoss')"
      ]
     },
     "execution_count": 21,
     "metadata": {},
     "output_type": "execute_result"
    },
    {
     "data": {
      "image/png": "[encoded data removed]",
      "text/plain": [
       "<Figure size 640x480 with 1 Axes>"
      ]
     },
     "metadata": {},
     "output_type": "display_data"
    }
   ],
   "source": [
    "# Plot log loss\n",
    "fig,axis = plt.subplots()\n",
    "axis.plot(x_axis , results[\"validation_0\"][\"logloss\"], label=\"Train\")\n",
    "axis.plot(x_axis , results[\"validation_1\"][\"logloss\"], label=\"Test\")\n",
    "axis.legend()\n",
    "plt.ylabel(\"LogLoss\")\n",
    "plt.title(\"XGB LogLoss\")"
   ]
  },
  {
   "cell_type": "code",
   "execution_count": 22,
   "metadata": {},
   "outputs": [
    {
     "data": {
      "text/plain": [
       "Text(0.5, 1.0, 'XGB Error')"
      ]
     },
     "execution_count": 22,
     "metadata": {},
     "output_type": "execute_result"
    },
    {
     "data": {
      "image/png": "[encoded data removed]",
      "text/plain": [
       "<Figure size 640x480 with 1 Axes>"
      ]
     },
     "metadata": {},
     "output_type": "display_data"
    }
   ],
   "source": [
    "# Plot error\n",
    "fig,axis = plt.subplots()\n",
    "axis.plot(x_axis , results[\"validation_0\"][\"error\"], label=\"Train\")\n",
    "axis.plot(x_axis , results[\"validation_1\"][\"error\"], label=\"Test\")\n",
    "axis.legend()\n",
    "plt.ylabel(\"Error\")\n",
    "plt.title(\"XGB Error\")"
   ]
  },
  {
   "cell_type": "markdown",
   "metadata": {},
   "source": [
    "# Evaluate ROC Curve"
   ]
  },
  {
   "cell_type": "code",
   "execution_count": 23,
   "metadata": {},
   "outputs": [
    {
     "data": {
      "text/plain": [
       "<sklearn.metrics._plot.roc_curve.RocCurveDisplay at 0x12510726d90>"
      ]
     },
     "execution_count": 23,
     "metadata": {},
     "output_type": "execute_result"
    },
    {
     "data": {
      "image/png": "[encoded data removed]",
      "text/plain": [
       "<Figure size 640x480 with 1 Axes>"
      ]
     },
     "metadata": {},
     "output_type": "display_data"
    }
   ],
   "source": [
    "# Plot Training ROC Curve\n",
    "RocCurveDisplay.from_estimator(classifier, X_train, y_train)"
   ]
  },
  {
   "cell_type": "code",
   "execution_count": 24,
   "metadata": {},
   "outputs": [
    {
     "data": {
      "text/plain": [
       "<sklearn.metrics._plot.roc_curve.RocCurveDisplay at 0x125108306a0>"
      ]
     },
     "execution_count": 24,
     "metadata": {},
     "output_type": "execute_result"
    },
    {
     "data": {
      "image/png": "[encoded data removed]",
      "text/plain": [
       "<Figure size 640x480 with 1 Axes>"
      ]
     },
     "metadata": {},
     "output_type": "display_data"
    }
   ],
   "source": [
    "# Plot Test ROC Curve\n",
    "RocCurveDisplay.from_estimator(classifier, X_test, y_test)"
   ]
  },
  {
   "cell_type": "markdown",
   "metadata": {},
   "source": [
    "# Performance Evaluation Comparison"
   ]
  },
  {
   "cell_type": "code",
   "execution_count": 25,
   "metadata": {},
   "outputs": [],
   "source": [
    "# Set K-Fold cross validation \n",
    "cv = RepeatedStratifiedKFold(n_splits=5 , n_repeats=1, random_state=1)"
   ]
  },
  {
   "cell_type": "code",
   "execution_count": 27,
   "metadata": {},
   "outputs": [
    {
     "name": "stderr",
     "output_type": "stream",
     "text": [
      "d:\\Programs\\Anaconda\\envs\\ML-finance\\lib\\site-packages\\xgboost\\sklearn.py:1395: UserWarning: `use_label_encoder` is deprecated in 1.7.0.\n",
      "  warnings.warn(\"`use_label_encoder` is deprecated in 1.7.0.\")\n",
      "d:\\Programs\\Anaconda\\envs\\ML-finance\\lib\\site-packages\\xgboost\\sklearn.py:1395: UserWarning: `use_label_encoder` is deprecated in 1.7.0.\n",
      "  warnings.warn(\"`use_label_encoder` is deprecated in 1.7.0.\")\n"
     ]
    }
   ],
   "source": [
    "# training results\n",
    "train_results  =  cross_val_score(classifier , X_train, y_train, scoring=scoring, cv=cv , n_jobs=-1)\n",
    "test_results  =  cross_val_score(classifier , X_test, y_test, scoring=scoring, cv=cv , n_jobs=-1)"
   ]
  },
  {
   "cell_type": "code",
   "execution_count": 33,
   "metadata": {},
   "outputs": [
    {
     "name": "stdout",
     "output_type": "stream",
     "text": [
      "TRAIN:\n",
      "\tAverage Accuracy k-Fold 0.62\n",
      "\tStandard Deviation k-Fold 0.07\n",
      "\tPrecision Score 0: 0.761\n",
      "\tPrecision Score 1: 0.86\n",
      "\n",
      "-----------------------------------------------------------------------------\n",
      "\n",
      "TEST:\n",
      "\tAverage Accuracy k-Fold 0.6\n",
      "\tStandard Deviation k-Fold 0.04\n",
      "\tPrecision Score 0: 0.689\n",
      "\tPrecision Score 1: 0.576\n",
      "\n",
      "-----------------------------------------------------------------------------\n",
      "\n"
     ]
    }
   ],
   "source": [
    "# Comparison of results \n",
    "print(\"TRAIN:\", )\n",
    "print(\"\\tAverage Accuracy k-Fold\",round(train_results.mean(),2) )\n",
    "print(\"\\tStandard Deviation k-Fold\",round(train_results.std(),2) )\n",
    "print(\"\\tPrecision Score 0:\", round(precision_score(y_train, next_day_target_predictions, average=None)[0] , 3) )\n",
    "print(\"\\tPrecision Score 1:\", round(precision_score(y_train, next_day_target_predictions, average=None)[1] , 3) )\n",
    "print(\"\\n-----------------------------------------------------------------------------\\n\")\n",
    "print(\"TEST:\", )\n",
    "print(\"\\tAverage Accuracy k-Fold\",round(test_results.mean(),2) )\n",
    "print(\"\\tStandard Deviation k-Fold\",round(test_results.std(),2) )\n",
    "print(\"\\tPrecision Score 0:\", round(precision_score(y_test, test_next_day_target_predictions, average=None)[0] , 3) )\n",
    "print(\"\\tPrecision Score 1:\", round(precision_score(y_test, test_next_day_target_predictions, average=None)[1] , 3) )\n",
    "print(\"\\n-----------------------------------------------------------------------------\\n\")"
   ]
  },
  {
   "cell_type": "markdown",
   "metadata": {},
   "source": [
    "# Evalutation Metrics - Summary Report\n",
    "- looking at  `training` data prediction accuracy"
   ]
  },
  {
   "cell_type": "code",
   "execution_count": 34,
   "metadata": {},
   "outputs": [
    {
     "name": "stdout",
     "output_type": "stream",
     "text": [
      "              precision    recall  f1-score   support\n",
      "\n",
      "         0.0       0.76      0.95      0.85       592\n",
      "         1.0       0.86      0.49      0.63       349\n",
      "\n",
      "    accuracy                           0.78       941\n",
      "   macro avg       0.81      0.72      0.74       941\n",
      "weighted avg       0.80      0.78      0.76       941\n",
      "\n"
     ]
    }
   ],
   "source": [
    "print (classification_report(y_train, next_day_target_predictions))"
   ]
  },
  {
   "cell_type": "markdown",
   "metadata": {},
   "source": [
    "- looking at `testing` data prediction accuracy"
   ]
  },
  {
   "cell_type": "code",
   "execution_count": 38,
   "metadata": {},
   "outputs": [
    {
     "name": "stdout",
     "output_type": "stream",
     "text": [
      "              precision    recall  f1-score   support\n",
      "\n",
      "         0.0       0.69      0.85      0.76       254\n",
      "         1.0       0.58      0.35      0.44       150\n",
      "\n",
      "    accuracy                           0.66       404\n",
      "   macro avg       0.63      0.60      0.60       404\n",
      "weighted avg       0.65      0.66      0.64       404\n",
      "\n"
     ]
    }
   ],
   "source": [
    "print (classification_report(y_test, test_next_day_target_predictions))"
   ]
  },
  {
   "cell_type": "markdown",
   "metadata": {},
   "source": [
    "# Performance Evaluation - Confusion Matrix"
   ]
  },
  {
   "cell_type": "code",
   "execution_count": 39,
   "metadata": {},
   "outputs": [
    {
     "data": {
      "text/plain": [
       "<sklearn.metrics._plot.confusion_matrix.ConfusionMatrixDisplay at 0x12512bf9c10>"
      ]
     },
     "execution_count": 39,
     "metadata": {},
     "output_type": "execute_result"
    },
    {
     "data": {
      "image/png": "[encoded data removed]",
      "text/plain": [
       "<Figure size 640x480 with 2 Axes>"
      ]
     },
     "metadata": {},
     "output_type": "display_data"
    }
   ],
   "source": [
    "# Training Confusion Matrix\n",
    "cm_train = confusion_matrix(y_train, next_day_target_predictions)\n",
    "ConfusionMatrixDisplay(cm_train).plot()"
   ]
  },
  {
   "cell_type": "code",
   "execution_count": 40,
   "metadata": {},
   "outputs": [
    {
     "data": {
      "text/plain": [
       "<sklearn.metrics._plot.confusion_matrix.ConfusionMatrixDisplay at 0x12512d2ac40>"
      ]
     },
     "execution_count": 40,
     "metadata": {},
     "output_type": "execute_result"
    },
    {
     "data": {
      "image/png": "[encoded data removed]",
      "text/plain": [
       "<Figure size 640x480 with 2 Axes>"
      ]
     },
     "metadata": {},
     "output_type": "display_data"
    }
   ],
   "source": [
    "# Testing Confusion Matrix\n",
    "cm_test = confusion_matrix(y_test, test_next_day_target_predictions)\n",
    "ConfusionMatrixDisplay(cm_test).plot()"
   ]
  },
  {
   "cell_type": "markdown",
   "metadata": {},
   "source": [
    "# Feature Importance"
   ]
  }
 ],
 "metadata": {
  "kernelspec": {
   "display_name": "ML-finance",
   "language": "python",
   "name": "python3"
  },
  "language_info": {
   "codemirror_mode": {
    "name": "ipython",
    "version": 3
   },
   "file_extension": ".py",
   "mimetype": "text/x-python",
   "name": "python",
   "nbconvert_exporter": "python",
   "pygments_lexer": "ipython3",
   "version": "3.9.17"
  },
  "orig_nbformat": 4
 },
 "nbformat": 4,
 "nbformat_minor": 2
}
