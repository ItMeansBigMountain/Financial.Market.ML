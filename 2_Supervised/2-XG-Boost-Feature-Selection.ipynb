{
 "cells": [
  {
   "attachments": {},
   "cell_type": "markdown",
   "metadata": {},
   "source": [
    "# Feature Selecection"
   ]
  },
  {
   "cell_type": "code",
   "execution_count": 1,
   "metadata": {},
   "outputs": [],
   "source": [
    "# Remove Future Warnings\n",
    "import warnings\n",
    "warnings.simplefilter(action='ignore', category=FutureWarning)\n",
    "warnings.filterwarnings(\"ignore\", message=\".*use_label_encoder.*\")\n",
    "\n",
    "# General\n",
    "import numpy as np\n",
    "\n",
    "# Data Management\n",
    "import pandas as pd\n",
    "from sklearn.model_selection import train_test_split\n",
    "\n",
    "# Machine Learning\n",
    "from xgboost import XGBClassifier\n",
    "from sklearn.model_selection import RandomizedSearchCV, cross_val_score\n",
    "from sklearn.model_selection import RepeatedStratifiedKFold\n",
    "\n",
    "# Evaluation\n",
    "from sklearn.metrics import precision_score\n",
    "\n",
    "# Reporting\n",
    "import matplotlib.pyplot as plt"
   ]
  },
  {
   "attachments": {},
   "cell_type": "markdown",
   "metadata": {},
   "source": [
    "# Import Preporcessed Data"
   ]
  },
  {
   "cell_type": "code",
   "execution_count": 2,
   "metadata": {},
   "outputs": [],
   "source": [
    "df = pd.read_csv(\"data/BTC-USD.csv\")\n",
    "df.set_index(\"Date\" , inplace=True)"
   ]
  },
  {
   "attachments": {},
   "cell_type": "markdown",
   "metadata": {},
   "source": [
    "# Add prediction target"
   ]
  },
  {
   "cell_type": "code",
   "execution_count": 3,
   "metadata": {},
   "outputs": [],
   "source": [
    "# Specify Target\n",
    "df.loc[df[\"Range\"].shift(-1) > df[\"AVG_Range\"] , \"TARGET\"] = 1\n",
    "df.loc[df[\"Range\"].shift(-1) <= df[\"AVG_Range\"] , \"TARGET\"] = 0"
   ]
  },
  {
   "cell_type": "code",
   "execution_count": 4,
   "metadata": {},
   "outputs": [],
   "source": [
    "# Check for NAN\n",
    "nan_location = np.where(np.isnan(df))"
   ]
  },
  {
   "cell_type": "code",
   "execution_count": 5,
   "metadata": {},
   "outputs": [
    {
     "data": {
      "text/html": [
       "<div>\n",
       "<style scoped>\n",
       "    .dataframe tbody tr th:only-of-type {\n",
       "        vertical-align: middle;\n",
       "    }\n",
       "\n",
       "    .dataframe tbody tr th {\n",
       "        vertical-align: top;\n",
       "    }\n",
       "\n",
       "    .dataframe thead th {\n",
       "        text-align: right;\n",
       "    }\n",
       "</style>\n",
       "<table border=\"1\" class=\"dataframe\">\n",
       "  <thead>\n",
       "    <tr style=\"text-align: right;\">\n",
       "      <th></th>\n",
       "      <th>Open</th>\n",
       "      <th>High</th>\n",
       "      <th>Low</th>\n",
       "      <th>Close</th>\n",
       "      <th>Volume</th>\n",
       "      <th>Returns</th>\n",
       "      <th>Range</th>\n",
       "      <th>Bench_C_Rets</th>\n",
       "      <th>RSI</th>\n",
       "      <th>RSI_Return</th>\n",
       "      <th>...</th>\n",
       "      <th>DOW</th>\n",
       "      <th>Rolling_rets</th>\n",
       "      <th>AVG_Range</th>\n",
       "      <th>Returns_T1</th>\n",
       "      <th>Range_T1</th>\n",
       "      <th>Rolling_rets_T1</th>\n",
       "      <th>Returns_T2</th>\n",
       "      <th>Range_T2</th>\n",
       "      <th>Rolling_rets_T2</th>\n",
       "      <th>TARGET</th>\n",
       "    </tr>\n",
       "    <tr>\n",
       "      <th>Date</th>\n",
       "      <th></th>\n",
       "      <th></th>\n",
       "      <th></th>\n",
       "      <th></th>\n",
       "      <th></th>\n",
       "      <th></th>\n",
       "      <th></th>\n",
       "      <th></th>\n",
       "      <th></th>\n",
       "      <th></th>\n",
       "      <th></th>\n",
       "      <th></th>\n",
       "      <th></th>\n",
       "      <th></th>\n",
       "      <th></th>\n",
       "      <th></th>\n",
       "      <th></th>\n",
       "      <th></th>\n",
       "      <th></th>\n",
       "      <th></th>\n",
       "      <th></th>\n",
       "    </tr>\n",
       "  </thead>\n",
       "  <tbody>\n",
       "    <tr>\n",
       "      <th>2023-09-22</th>\n",
       "      <td>-0.020855</td>\n",
       "      <td>-0.015721</td>\n",
       "      <td>0.004026</td>\n",
       "      <td>26579.568359</td>\n",
       "      <td>-0.208855</td>\n",
       "      <td>0.000449</td>\n",
       "      <td>0.008701</td>\n",
       "      <td>3.038692</td>\n",
       "      <td>50.019039</td>\n",
       "      <td>1.003172</td>\n",
       "      <td>...</td>\n",
       "      <td>4</td>\n",
       "      <td>0.010507</td>\n",
       "      <td>0.023995</td>\n",
       "      <td>-0.020801</td>\n",
       "      <td>0.028937</td>\n",
       "      <td>0.025423</td>\n",
       "      <td>-0.002907</td>\n",
       "      <td>0.019186</td>\n",
       "      <td>0.042684</td>\n",
       "      <td>0.0</td>\n",
       "    </tr>\n",
       "    <tr>\n",
       "      <th>2023-09-23</th>\n",
       "      <td>0.000546</td>\n",
       "      <td>-0.003438</td>\n",
       "      <td>0.000943</td>\n",
       "      <td>26579.390625</td>\n",
       "      <td>-0.300040</td>\n",
       "      <td>-0.000007</td>\n",
       "      <td>0.004286</td>\n",
       "      <td>3.038662</td>\n",
       "      <td>50.016509</td>\n",
       "      <td>0.999949</td>\n",
       "      <td>...</td>\n",
       "      <td>5</td>\n",
       "      <td>0.020687</td>\n",
       "      <td>0.023315</td>\n",
       "      <td>0.000449</td>\n",
       "      <td>0.008701</td>\n",
       "      <td>0.010507</td>\n",
       "      <td>-0.020801</td>\n",
       "      <td>0.028937</td>\n",
       "      <td>0.025423</td>\n",
       "      <td>0.0</td>\n",
       "    </tr>\n",
       "    <tr>\n",
       "      <th>2023-09-24</th>\n",
       "      <td>0.000031</td>\n",
       "      <td>0.003074</td>\n",
       "      <td>-0.011292</td>\n",
       "      <td>26256.826172</td>\n",
       "      <td>0.106441</td>\n",
       "      <td>-0.012136</td>\n",
       "      <td>0.018878</td>\n",
       "      <td>2.989186</td>\n",
       "      <td>45.516063</td>\n",
       "      <td>0.910021</td>\n",
       "      <td>...</td>\n",
       "      <td>6</td>\n",
       "      <td>0.012936</td>\n",
       "      <td>0.023347</td>\n",
       "      <td>-0.000007</td>\n",
       "      <td>0.004286</td>\n",
       "      <td>0.020687</td>\n",
       "      <td>0.000449</td>\n",
       "      <td>0.008701</td>\n",
       "      <td>0.010507</td>\n",
       "      <td>0.0</td>\n",
       "    </tr>\n",
       "    <tr>\n",
       "      <th>2023-09-25</th>\n",
       "      <td>-0.012250</td>\n",
       "      <td>-0.011025</td>\n",
       "      <td>-0.007993</td>\n",
       "      <td>26298.480469</td>\n",
       "      <td>0.464424</td>\n",
       "      <td>0.001586</td>\n",
       "      <td>0.015764</td>\n",
       "      <td>2.994949</td>\n",
       "      <td>46.189409</td>\n",
       "      <td>1.014794</td>\n",
       "      <td>...</td>\n",
       "      <td>0</td>\n",
       "      <td>0.016027</td>\n",
       "      <td>0.023715</td>\n",
       "      <td>-0.012136</td>\n",
       "      <td>0.018878</td>\n",
       "      <td>0.012936</td>\n",
       "      <td>-0.000007</td>\n",
       "      <td>0.004286</td>\n",
       "      <td>0.020687</td>\n",
       "      <td>0.0</td>\n",
       "    </tr>\n",
       "    <tr>\n",
       "      <th>2023-09-26</th>\n",
       "      <td>0.001561</td>\n",
       "      <td>-0.001197</td>\n",
       "      <td>0.003047</td>\n",
       "      <td>26217.250000</td>\n",
       "      <td>-0.167725</td>\n",
       "      <td>-0.003089</td>\n",
       "      <td>0.011467</td>\n",
       "      <td>2.981431</td>\n",
       "      <td>45.020912</td>\n",
       "      <td>0.974702</td>\n",
       "      <td>...</td>\n",
       "      <td>1</td>\n",
       "      <td>0.009815</td>\n",
       "      <td>0.023840</td>\n",
       "      <td>0.001586</td>\n",
       "      <td>0.015764</td>\n",
       "      <td>0.016027</td>\n",
       "      <td>-0.012136</td>\n",
       "      <td>0.018878</td>\n",
       "      <td>0.012936</td>\n",
       "      <td>0.0</td>\n",
       "    </tr>\n",
       "  </tbody>\n",
       "</table>\n",
       "<p>5 rows × 22 columns</p>\n",
       "</div>"
      ],
      "text/plain": [
       "                Open      High       Low         Close    Volume   Returns  \\\n",
       "Date                                                                         \n",
       "2023-09-22 -0.020855 -0.015721  0.004026  26579.568359 -0.208855  0.000449   \n",
       "2023-09-23  0.000546 -0.003438  0.000943  26579.390625 -0.300040 -0.000007   \n",
       "2023-09-24  0.000031  0.003074 -0.011292  26256.826172  0.106441 -0.012136   \n",
       "2023-09-25 -0.012250 -0.011025 -0.007993  26298.480469  0.464424  0.001586   \n",
       "2023-09-26  0.001561 -0.001197  0.003047  26217.250000 -0.167725 -0.003089   \n",
       "\n",
       "               Range  Bench_C_Rets        RSI  RSI_Return  ...  DOW  \\\n",
       "Date                                                       ...        \n",
       "2023-09-22  0.008701      3.038692  50.019039    1.003172  ...    4   \n",
       "2023-09-23  0.004286      3.038662  50.016509    0.999949  ...    5   \n",
       "2023-09-24  0.018878      2.989186  45.516063    0.910021  ...    6   \n",
       "2023-09-25  0.015764      2.994949  46.189409    1.014794  ...    0   \n",
       "2023-09-26  0.011467      2.981431  45.020912    0.974702  ...    1   \n",
       "\n",
       "            Rolling_rets  AVG_Range  Returns_T1  Range_T1  Rolling_rets_T1  \\\n",
       "Date                                                                         \n",
       "2023-09-22      0.010507   0.023995   -0.020801  0.028937         0.025423   \n",
       "2023-09-23      0.020687   0.023315    0.000449  0.008701         0.010507   \n",
       "2023-09-24      0.012936   0.023347   -0.000007  0.004286         0.020687   \n",
       "2023-09-25      0.016027   0.023715   -0.012136  0.018878         0.012936   \n",
       "2023-09-26      0.009815   0.023840    0.001586  0.015764         0.016027   \n",
       "\n",
       "            Returns_T2  Range_T2  Rolling_rets_T2  TARGET  \n",
       "Date                                                       \n",
       "2023-09-22   -0.002907  0.019186         0.042684     0.0  \n",
       "2023-09-23   -0.020801  0.028937         0.025423     0.0  \n",
       "2023-09-24    0.000449  0.008701         0.010507     0.0  \n",
       "2023-09-25   -0.000007  0.004286         0.020687     0.0  \n",
       "2023-09-26   -0.012136  0.018878         0.012936     0.0  \n",
       "\n",
       "[5 rows x 22 columns]"
      ]
     },
     "execution_count": 5,
     "metadata": {},
     "output_type": "execute_result"
    }
   ],
   "source": [
    "# Fill NaNs\n",
    "df[\"TARGET\"].fillna(0,inplace=True)\n",
    "df.tail()"
   ]
  },
  {
   "attachments": {},
   "cell_type": "markdown",
   "metadata": {},
   "source": [
    "# Train - Test SPLIT"
   ]
  },
  {
   "cell_type": "code",
   "execution_count": 6,
   "metadata": {},
   "outputs": [],
   "source": [
    "# REMOVE UNWANTED COLUMNS (dont put information about the future in your data other than the target)\n",
    "df_tts = df.copy()\n",
    "df_tts.drop(columns=[\"Close\", \"Bench_C_Rets\" , \"Open\", \"High\", \"Low\"], inplace=True)"
   ]
  },
  {
   "cell_type": "code",
   "execution_count": 7,
   "metadata": {},
   "outputs": [],
   "source": [
    "# Split into Learning (X) and Target (y) data\n",
    "X = df_tts.iloc[: , : -1 ]\n",
    "y = df_tts.iloc[: ,   -1 ]"
   ]
  },
  {
   "cell_type": "code",
   "execution_count": 8,
   "metadata": {},
   "outputs": [
    {
     "name": "stdout",
     "output_type": "stream",
     "text": [
      "Shape of X_train: (1066, 16)\n",
      "Shape of y_train: (1066,)\n"
     ]
    }
   ],
   "source": [
    "# Train Test Split\n",
    "X_train , X_test , y_train , y_test = train_test_split(X,y, test_size=0.2 , random_state=42)\n",
    "print(f\"Shape of X_train: {X_train.shape}\")\n",
    "print(f\"Shape of y_train: {y_train.shape}\")"
   ]
  },
  {
   "attachments": {},
   "cell_type": "markdown",
   "metadata": {},
   "source": [
    "# Build Initial Model\n",
    "- find the useful features"
   ]
  },
  {
   "cell_type": "code",
   "execution_count": 9,
   "metadata": {},
   "outputs": [],
   "source": [
    "# Select type of model to optimize for\n",
    "is_binary = True\n",
    "is_optimize_for_precision = True"
   ]
  },
  {
   "cell_type": "code",
   "execution_count": 10,
   "metadata": {},
   "outputs": [],
   "source": [
    "# Determine Objective and Eval Metrics\n",
    "if is_binary:\n",
    "    objective = \"binary:logistic\"\n",
    "    eval_metric = \"logloss\"\n",
    "    eval_metric_list = [\"error\",\"logloss\",eval_metric]\n",
    "else:\n",
    "    objective = \"multi:softmax\"\n",
    "    eval_metric = \"mlogloss\"\n",
    "    eval_metric_list = [\"merror\",\"mlogloss\",eval_metric]"
   ]
  },
  {
   "cell_type": "code",
   "execution_count": 11,
   "metadata": {},
   "outputs": [],
   "source": [
    "# Refine Eval Metric\n",
    "if is_binary and is_optimize_for_precision:\n",
    "    eval_metric = \"aucpr\"\n",
    "    scoring = \"precision\"\n",
    "elif is_binary and not is_optimize_for_precision:\n",
    "    eval_metric = \"auc\"\n",
    "    scoring = \"f1\"\n",
    "else:\n",
    "    scoring = \"accuracy\""
   ]
  },
  {
   "cell_type": "code",
   "execution_count": 12,
   "metadata": {},
   "outputs": [],
   "source": [
    "# Build First Classifier Model\n",
    "classifier_0 = XGBClassifier(\n",
    "    objective=objective,\n",
    "    booster=\"gbtree\",\n",
    "    eval_metric=eval_metric,\n",
    "    subsample = 0.8,\n",
    "    colsample_bytree=1,\n",
    "    random_state=1,\n",
    "    use_label_encoder=False\n",
    ")"
   ]
  },
  {
   "attachments": {},
   "cell_type": "markdown",
   "metadata": {},
   "source": [
    "# Find Hyper-Parameters\n",
    "- find optimal\n",
    "    - estimators \n",
    "    - learning rate \n",
    "    - maximum depth\n",
    "    - gamma"
   ]
  },
  {
   "cell_type": "code",
   "execution_count": 13,
   "metadata": {},
   "outputs": [],
   "source": [
    "# Provide Grid for Hyper-Parameterss\n",
    "param_grid = {\n",
    "    \"gamma\": [0, 0.1, 0.2, 0.5, 1, 1.5, 2, 3, 12, 20],\n",
    "    \"learning_rate\": [0.01, 0.02, 0.03, 0.05, 0.1, 0.2, 0.3, 0.5, 0.7, 0.8],\n",
    "    \"max_depth\": [1, 2, 3, 4, 5, 6, 8, 12],\n",
    "    \"n_estimators\": [25, 50, 65, 80, 100, 115, 200]\n",
    "}"
   ]
  },
  {
   "cell_type": "code",
   "execution_count": 14,
   "metadata": {},
   "outputs": [
    {
     "name": "stdout",
     "output_type": "stream",
     "text": [
      "Recommended params >> ne: 200 lr: 0.01 md: 3 gm: 0\n"
     ]
    }
   ],
   "source": [
    "# preform Random Search for Best Hyper Params\n",
    "grid_search = RandomizedSearchCV(estimator=classifier_0, param_distributions=param_grid, scoring=scoring)\n",
    "best_model = grid_search.fit(X_train,y_train)\n",
    "hyperparams = best_model.best_params_\n",
    "ne = hyperparams[\"n_estimators\"]\n",
    "lr = hyperparams[\"learning_rate\"]\n",
    "md = hyperparams[\"max_depth\"]\n",
    "gm = hyperparams[\"gamma\"]\n",
    "\n",
    "\n",
    "# DISPLAY RESULTS\n",
    "print(\"Recommended params >>\" , f\"ne: {ne}\", f\"lr: {lr}\", f\"md: {md}\", f\"gm: {gm}\")\n",
    "\n",
    "\n",
    "\n",
    "# SAVE TO JSON FOR XGBOOST\n",
    "import json\n",
    "data = { \"ne\": ne, \"lr\": lr, \"md\": md, \"gm\": gm}\n",
    "with open('./data/hyperparametertuning.json', 'w') as f:\n",
    "    json.dump(data, f)"
   ]
  },
  {
   "attachments": {},
   "cell_type": "markdown",
   "metadata": {},
   "source": [
    "# Train Model (xg-boost)"
   ]
  },
  {
   "cell_type": "code",
   "execution_count": 15,
   "metadata": {},
   "outputs": [],
   "source": [
    "# Build First Classifier Model\n",
    "classifier_1 = XGBClassifier(\n",
    "    n_estimators = ne,\n",
    "    learning_rate = lr,\n",
    "    max_depth = md ,\n",
    "    gamma = gm,\n",
    "    objective=objective,\n",
    "    booster=\"gbtree\",\n",
    "    # eval_metric=eval_metric,\n",
    "    subsample = 0.8,\n",
    "    colsample_bytree=1,\n",
    "    random_state=1,\n",
    "    use_label_encoder=False\n",
    ")"
   ]
  },
  {
   "attachments": {},
   "cell_type": "markdown",
   "metadata": {},
   "source": [
    "# Fit Model with Data"
   ]
  },
  {
   "cell_type": "code",
   "execution_count": 16,
   "metadata": {},
   "outputs": [
    {
     "name": "stderr",
     "output_type": "stream",
     "text": [
      "d:\\Programs\\Anaconda\\envs\\ML-finance\\lib\\site-packages\\xgboost\\sklearn.py:835: UserWarning: `eval_metric` in `fit` method is deprecated for better compatibility with scikit-learn, use `eval_metric` in constructor or`set_params` instead.\n",
      "  warnings.warn(\n"
     ]
    },
    {
     "data": {
      "text/html": [
       "<style>#sk-container-id-1 {color: black;}#sk-container-id-1 pre{padding: 0;}#sk-container-id-1 div.sk-toggleable {background-color: white;}#sk-container-id-1 label.sk-toggleable__label {cursor: pointer;display: block;width: 100%;margin-bottom: 0;padding: 0.3em;box-sizing: border-box;text-align: center;}#sk-container-id-1 label.sk-toggleable__label-arrow:before {content: \"▸\";float: left;margin-right: 0.25em;color: #696969;}#sk-container-id-1 label.sk-toggleable__label-arrow:hover:before {color: black;}#sk-container-id-1 div.sk-estimator:hover label.sk-toggleable__label-arrow:before {color: black;}#sk-container-id-1 div.sk-toggleable__content {max-height: 0;max-width: 0;overflow: hidden;text-align: left;background-color: #f0f8ff;}#sk-container-id-1 div.sk-toggleable__content pre {margin: 0.2em;color: black;border-radius: 0.25em;background-color: #f0f8ff;}#sk-container-id-1 input.sk-toggleable__control:checked~div.sk-toggleable__content {max-height: 200px;max-width: 100%;overflow: auto;}#sk-container-id-1 input.sk-toggleable__control:checked~label.sk-toggleable__label-arrow:before {content: \"▾\";}#sk-container-id-1 div.sk-estimator input.sk-toggleable__control:checked~label.sk-toggleable__label {background-color: #d4ebff;}#sk-container-id-1 div.sk-label input.sk-toggleable__control:checked~label.sk-toggleable__label {background-color: #d4ebff;}#sk-container-id-1 input.sk-hidden--visually {border: 0;clip: rect(1px 1px 1px 1px);clip: rect(1px, 1px, 1px, 1px);height: 1px;margin: -1px;overflow: hidden;padding: 0;position: absolute;width: 1px;}#sk-container-id-1 div.sk-estimator {font-family: monospace;background-color: #f0f8ff;border: 1px dotted black;border-radius: 0.25em;box-sizing: border-box;margin-bottom: 0.5em;}#sk-container-id-1 div.sk-estimator:hover {background-color: #d4ebff;}#sk-container-id-1 div.sk-parallel-item::after {content: \"\";width: 100%;border-bottom: 1px solid gray;flex-grow: 1;}#sk-container-id-1 div.sk-label:hover label.sk-toggleable__label {background-color: #d4ebff;}#sk-container-id-1 div.sk-serial::before {content: \"\";position: absolute;border-left: 1px solid gray;box-sizing: border-box;top: 0;bottom: 0;left: 50%;z-index: 0;}#sk-container-id-1 div.sk-serial {display: flex;flex-direction: column;align-items: center;background-color: white;padding-right: 0.2em;padding-left: 0.2em;position: relative;}#sk-container-id-1 div.sk-item {position: relative;z-index: 1;}#sk-container-id-1 div.sk-parallel {display: flex;align-items: stretch;justify-content: center;background-color: white;position: relative;}#sk-container-id-1 div.sk-item::before, #sk-container-id-1 div.sk-parallel-item::before {content: \"\";position: absolute;border-left: 1px solid gray;box-sizing: border-box;top: 0;bottom: 0;left: 50%;z-index: -1;}#sk-container-id-1 div.sk-parallel-item {display: flex;flex-direction: column;z-index: 1;position: relative;background-color: white;}#sk-container-id-1 div.sk-parallel-item:first-child::after {align-self: flex-end;width: 50%;}#sk-container-id-1 div.sk-parallel-item:last-child::after {align-self: flex-start;width: 50%;}#sk-container-id-1 div.sk-parallel-item:only-child::after {width: 0;}#sk-container-id-1 div.sk-dashed-wrapped {border: 1px dashed gray;margin: 0 0.4em 0.5em 0.4em;box-sizing: border-box;padding-bottom: 0.4em;background-color: white;}#sk-container-id-1 div.sk-label label {font-family: monospace;font-weight: bold;display: inline-block;line-height: 1.2em;}#sk-container-id-1 div.sk-label-container {text-align: center;}#sk-container-id-1 div.sk-container {/* jupyter's `normalize.less` sets `[hidden] { display: none; }` but bootstrap.min.css set `[hidden] { display: none !important; }` so we also need the `!important` here to be able to override the default hidden behavior on the sphinx rendered scikit-learn.org. See: https://github.com/scikit-learn/scikit-learn/issues/21755 */display: inline-block !important;position: relative;}#sk-container-id-1 div.sk-text-repr-fallback {display: none;}</style><div id=\"sk-container-id-1\" class=\"sk-top-container\"><div class=\"sk-text-repr-fallback\"><pre>XGBClassifier(base_score=None, booster=&#x27;gbtree&#x27;, callbacks=None,\n",
       "              colsample_bylevel=None, colsample_bynode=None, colsample_bytree=1,\n",
       "              early_stopping_rounds=None, enable_categorical=False,\n",
       "              eval_metric=None, feature_types=None, gamma=0, gpu_id=None,\n",
       "              grow_policy=None, importance_type=None,\n",
       "              interaction_constraints=None, learning_rate=0.01, max_bin=None,\n",
       "              max_cat_threshold=None, max_cat_to_onehot=None,\n",
       "              max_delta_step=None, max_depth=3, max_leaves=None,\n",
       "              min_child_weight=None, missing=nan, monotone_constraints=None,\n",
       "              n_estimators=200, n_jobs=None, num_parallel_tree=None,\n",
       "              predictor=None, random_state=1, ...)</pre><b>In a Jupyter environment, please rerun this cell to show the HTML representation or trust the notebook. <br />On GitHub, the HTML representation is unable to render, please try loading this page with nbviewer.org.</b></div><div class=\"sk-container\" hidden><div class=\"sk-item\"><div class=\"sk-estimator sk-toggleable\"><input class=\"sk-toggleable__control sk-hidden--visually\" id=\"sk-estimator-id-1\" type=\"checkbox\" checked><label for=\"sk-estimator-id-1\" class=\"sk-toggleable__label sk-toggleable__label-arrow\">XGBClassifier</label><div class=\"sk-toggleable__content\"><pre>XGBClassifier(base_score=None, booster=&#x27;gbtree&#x27;, callbacks=None,\n",
       "              colsample_bylevel=None, colsample_bynode=None, colsample_bytree=1,\n",
       "              early_stopping_rounds=None, enable_categorical=False,\n",
       "              eval_metric=None, feature_types=None, gamma=0, gpu_id=None,\n",
       "              grow_policy=None, importance_type=None,\n",
       "              interaction_constraints=None, learning_rate=0.01, max_bin=None,\n",
       "              max_cat_threshold=None, max_cat_to_onehot=None,\n",
       "              max_delta_step=None, max_depth=3, max_leaves=None,\n",
       "              min_child_weight=None, missing=nan, monotone_constraints=None,\n",
       "              n_estimators=200, n_jobs=None, num_parallel_tree=None,\n",
       "              predictor=None, random_state=1, ...)</pre></div></div></div></div></div>"
      ],
      "text/plain": [
       "XGBClassifier(base_score=None, booster='gbtree', callbacks=None,\n",
       "              colsample_bylevel=None, colsample_bynode=None, colsample_bytree=1,\n",
       "              early_stopping_rounds=None, enable_categorical=False,\n",
       "              eval_metric=None, feature_types=None, gamma=0, gpu_id=None,\n",
       "              grow_policy=None, importance_type=None,\n",
       "              interaction_constraints=None, learning_rate=0.01, max_bin=None,\n",
       "              max_cat_threshold=None, max_cat_to_onehot=None,\n",
       "              max_delta_step=None, max_depth=3, max_leaves=None,\n",
       "              min_child_weight=None, missing=nan, monotone_constraints=None,\n",
       "              n_estimators=200, n_jobs=None, num_parallel_tree=None,\n",
       "              predictor=None, random_state=1, ...)"
      ]
     },
     "execution_count": 16,
     "metadata": {},
     "output_type": "execute_result"
    }
   ],
   "source": [
    "eval_set = [(X_train,y_train)]\n",
    "\n",
    "classifier_1.fit(\n",
    "    X_train,\n",
    "    y_train ,\n",
    "    eval_metric = eval_metric_list,\n",
    "    eval_set = eval_set,\n",
    "    verbose = False\n",
    ")"
   ]
  },
  {
   "attachments": {},
   "cell_type": "markdown",
   "metadata": {},
   "source": [
    "# Performance Evaluation (quick overview)"
   ]
  },
  {
   "cell_type": "code",
   "execution_count": 17,
   "metadata": {},
   "outputs": [
    {
     "data": {
      "text/plain": [
       "array([0, 1, 0, 0, 0])"
      ]
     },
     "execution_count": 17,
     "metadata": {},
     "output_type": "execute_result"
    }
   ],
   "source": [
    "# Get predictions for training data\n",
    "train_yhat = classifier_1.predict(X_train)\n",
    "\n",
    "train_yhat[:5]"
   ]
  },
  {
   "cell_type": "code",
   "execution_count": 18,
   "metadata": {},
   "outputs": [],
   "source": [
    "# Cross validate\n",
    "crossValidation  = RepeatedStratifiedKFold(n_splits=5,n_repeats=3,random_state=1)"
   ]
  },
  {
   "cell_type": "code",
   "execution_count": 19,
   "metadata": {},
   "outputs": [],
   "source": [
    "# Training Results \n",
    "train_results = cross_val_score(\n",
    "    classifier_1,X_train,y_train,scoring=scoring,cv=crossValidation , n_jobs= 1\n",
    ")"
   ]
  },
  {
   "cell_type": "code",
   "execution_count": 20,
   "metadata": {},
   "outputs": [
    {
     "name": "stdout",
     "output_type": "stream",
     "text": [
      "Average Accuracy K-Fold:  0.68\n",
      "STD Deviation K-Fold:  0.07\n",
      "Precision score 0:  0.7237569060773481\n",
      "Precision score 1:  0.8944099378881988\n"
     ]
    }
   ],
   "source": [
    "# Review Results \n",
    "print(\"Average Accuracy K-Fold: \", round(train_results.mean() , 2))\n",
    "print(\"STD Deviation K-Fold: \"   , round(train_results.std() , 2))\n",
    "print(\"Precision score 0: \"      , precision_score(y_train , train_yhat , average=None)[0])\n",
    "print(\"Precision score 1: \"      , precision_score(y_train , train_yhat , average=None)[1])"
   ]
  },
  {
   "attachments": {},
   "cell_type": "markdown",
   "metadata": {},
   "source": [
    "# Feature Seletion\n",
    "- a feature about xg-boost is that it can tell you wht features helped with making predictions"
   ]
  },
  {
   "cell_type": "code",
   "execution_count": 21,
   "metadata": {},
   "outputs": [
    {
     "data": {
      "image/png": "[encoded data removed]",
      "text/plain": [
       "<Figure size 2200x500 with 1 Axes>"
      ]
     },
     "metadata": {},
     "output_type": "display_data"
    }
   ],
   "source": [
    "# RELEVANCY - features that influenced ai decisions \n",
    "fig = plt.figure(figsize=(22,5))\n",
    "importance_labels = X.columns\n",
    "importance_features = classifier_1.feature_importances_\n",
    "plt.bar(importance_labels , importance_features)\n",
    "plt.show()"
   ]
  },
  {
   "cell_type": "code",
   "execution_count": 22,
   "metadata": {},
   "outputs": [],
   "source": [
    "# SELECT BEST FEATURES\n",
    "mean_of_feature_importance = importance_features.mean()\n",
    "recommended_feature_labels = []\n",
    "recommended_feature_score = []\n",
    "for i in range(0, len(importance_features) , 1) :\n",
    "    if importance_features[i] > mean_of_feature_importance:\n",
    "        recommended_feature_labels.append(importance_labels[i])\n",
    "        recommended_feature_score.append(importance_features[i])\n",
    "\n",
    "\n",
    "# save output for future reference\n",
    "with open('./data/feature_selection_output.json', 'w') as f:\n",
    "    json.dump(recommended_feature_labels, f)"
   ]
  },
  {
   "cell_type": "code",
   "execution_count": 23,
   "metadata": {},
   "outputs": [
    {
     "data": {
      "image/png": "[encoded data removed]",
      "text/plain": [
       "<Figure size 1500x500 with 1 Axes>"
      ]
     },
     "metadata": {},
     "output_type": "display_data"
    }
   ],
   "source": [
    "# plot recommended features\n",
    "fig = plt.figure(figsize=(15,5))\n",
    "plt.bar(recommended_feature_labels , recommended_feature_score)\n",
    "plt.show()"
   ]
  },
  {
   "cell_type": "markdown",
   "metadata": {},
   "source": [
    "*These features had the most influence on the ai*"
   ]
  }
 ],
 "metadata": {
  "kernelspec": {
   "display_name": "ML-finance",
   "language": "python",
   "name": "python3"
  },
  "language_info": {
   "codemirror_mode": {
    "name": "ipython",
    "version": 3
   },
   "file_extension": ".py",
   "mimetype": "text/x-python",
   "name": "python",
   "nbconvert_exporter": "python",
   "pygments_lexer": "ipython3",
   "version": "3.9.17"
  },
  "orig_nbformat": 4
 },
 "nbformat": 4,
 "nbformat_minor": 2
}
